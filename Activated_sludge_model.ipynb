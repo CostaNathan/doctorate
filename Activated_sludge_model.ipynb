{
  "nbformat": 4,
  "nbformat_minor": 0,
  "metadata": {
    "colab": {
      "name": "Activated sludge model.ipynb",
      "provenance": [],
      "authorship_tag": "ABX9TyMxNq4M7hgvJbdnL/NYD0SN",
      "include_colab_link": true
    },
    "kernelspec": {
      "name": "python3",
      "display_name": "Python 3"
    },
    "language_info": {
      "name": "python"
    }
  },
  "cells": [
    {
      "cell_type": "markdown",
      "metadata": {
        "id": "view-in-github",
        "colab_type": "text"
      },
      "source": [
        "<a href=\"https://colab.research.google.com/github/CostaNathan/doctorate/blob/Activated-sludge-model/Activated_sludge_model.ipynb\" target=\"_parent\"><img src=\"https://colab.research.google.com/assets/colab-badge.svg\" alt=\"Open In Colab\"/></a>"
      ]
    },
    {
      "cell_type": "code",
      "execution_count": null,
      "metadata": {
        "id": "j57204YMu-c5"
      },
      "outputs": [],
      "source": [
        "# Importando as bibliotecas\n",
        "import numpy\n",
        "import matplotlib.pyplot as plt \n",
        "%matplotlib inline"
      ]
    },
    {
      "cell_type": "code",
      "source": [
        "# units represented as fundamental units of dimensions  [M, L, T]\n",
        "\n",
        "mu_H = 6.0 # [T^-1] (Maximun specific growth rate of the heterotrophic organisms)\n",
        "mu_A = 0.8 # [T^-1] (Maximun specific growth rate of the autotrophic organisms)\n",
        "K_S  = 20.0 # [M COD / L^3] (Saturation constant for readily biodegradable material, Ss)\n",
        "K_OH = 0.2 # [M O2 / L^3] (Saturation constant for dissolved oxygen, DO)\n",
        "K_NO = 0.5 # [M NO3-N / L^3] (Saturation constant for nitrate nitrogen)\n",
        "K_NH = 1.0 # [M NO3-N / L^3] (Saturation constant for the sum of the ionized -ammonium- and un-ionized -ammonia- forms)\n",
        "K_OA = 0.4 # [M O2 / L^3] (Saturation constant for nitrifiers)\n",
        "K_X = 0.03 # [M of slowly biodegradable COD / M of cell COD] (Saturation constant for particulate COD)\n",
        "b_A  = 0.5 # conferir valor []\n",
        "b_H  = 0.62 # [T^-1]\n",
        "eta_g = 0.8 # [dimensionless]\n",
        "kappa_a = 0.08 # [L^3 COD / M*T]\n",
        "kappa_h = 1.0 # [M of slowly biodegradable COD / M of cell COD * T]\n",
        "eta_h = 0.4 # [dimensionless]\n",
        "\n",
        "SI = 30.0 # converir valor e unidade # [M(COD)L^-3] (Soluble inert organic matter) \n",
        "Y_H = 0.67 # [g cell COD formed / (g COD oxidized)] (Heterotrophic Yield)\n",
        "Y_A = 0.24 # [g cell COD formed / (g N oxidized)] (Autotrophic Yield)\n",
        "f_p = 0.08 # [dimensionless] (Fraction of biomass yielding particulate products)\n",
        "i_XB = 0.086 # [g N / g COD in biomass] (Mass N/ Mass COD in biomass)\n",
        "i_XP = 0.06 # [g N / g COD in endogenous biomass] (Mass N/ Mass COD in products from biomass)\n",
        "\n",
        "# constantes das taxas de reação\n",
        "tmax = 10\n",
        "dt = 0.001\n",
        "\n",
        "# concentração inicial de cada componente química\n",
        "SSold = 1.0 # [M(COD)L^-3] (Readily biodegradable substrate)\n",
        "XIold = 1.0 # [M(COD)L^-3] (Particulate inert organic matter)\n",
        "XSold = 1.0 # [M(COD)L^-3] (Slowly biodegradable substrate)\n",
        "XBHold = 1.0 # [M(COD)L^-3] (Active heterotrophic biomass)\n",
        "XBAold = 1.0 # [M(COD)L^-3] (Active autotrophic biomass)\n",
        "XPold  = 1.0 # [M(COD)L^-3] (Particulate products arising from biomass decay)\n",
        "SOold  = 1.0 # [M(-COD)L^-3] (Oxygen (negative COD))\n",
        "SNOold = 1.0 # [M(N)L^-3] (Nitrate nitrogen)\n",
        "SNHold = 1.0 # [M(N)L^-3] (Ammonia - bnoth the free compound and its salts)\n",
        "SNDold = 1.0 # [M(N)L^-3] (Soluble biodegradable organic nitrogen)\n",
        "XNDold = 1.0 # [M(N)L^-3] (Particulate organic nitrogen)\n",
        "SALKold = 1.0 # [Molar units] (Alkalinity)\n",
        "\n",
        "tempo = numpy.arange(0,tmax,dt)\n",
        "\n",
        "t = 0\n",
        "\n",
        "SS = []\n",
        "XI = []\n",
        "XS = []\n",
        "XAB = []\n",
        "XP = []\n",
        "SO = []\n",
        "SNO = []\n",
        "SNH = []\n",
        "XND = []\n",
        "SALK = []\n",
        "\n",
        "\n",
        "soma = []\n",
        "\n",
        "def proc1(SS_old, SO_old):\n",
        "  return mu_H * (SSold/(K_S+SSold)) * (SOold/(K_OH+SOold)) * XBHold\n",
        "\n",
        "def proc2(SS_old):\n",
        "  return (mu_H * (SSold/(K_S+SSold)) * (K_OH/(K_OH+SOold))) * ((SNOold/(K_NO+SNOold)) * eta_g * XBHold) \n",
        "\n",
        "def proc3(SS_old):\n",
        "  return mu_A * (SNHold/(K_NH+SNHold)) * (SOold/(K_OA+SOold)) * XBAold\n",
        "\n",
        "def proc4(SS_old):\n",
        "  return b_H * XBHold \n",
        "\n",
        "def proc5(SS_old):\n",
        "  return b_A * XBAold\n",
        "\n",
        "def proc6(SS_old):\n",
        "  return kappa_a * SNDold * XBHold\n",
        "\n",
        "def proc7(SS_old):\n",
        "  return kappa_b * ((XSold/XBHold)/(K_X + (XSold/XBHold)))*((SOold/(K_OH + SOold))+(eta_h*(K_OH/(K_OH+SOold))*(SNOold/(K_NO + SNOold)))) * XBHold\n",
        "\n",
        "def proc8(SS_old):\n",
        "  return (kappa_b * ((XSold/XBHold)/(K_X + (XSold/XBHold)))*((SOold/(K_OH + SOold))+(eta_h*(K_OH/(K_OH+SOold))*(SNOold/(K_NO + SNOold)))) * XBHold) * (XNDold/XSold)mu_H "
      ],
      "metadata": {
        "id": "peKzuE8qvGkR"
      },
      "execution_count": null,
      "outputs": []
    },
    {
      "cell_type": "code",
      "source": [
        "while t < tmax:\n",
        "\n",
        "  RSS=-(1/Y_H)*proc1(SS_old, SO_old)-(1/Y_H)*proc2(SS_old, SO_old)\n",
        "  RB=-k1 * aold * bold\n",
        "  RC=k1 * aold * bold - k2 * cold\n",
        "  RD=k3/2 * aold**2\n",
        "  RE=2 * k2 * cold\n",
        "\n",
        "  RSSnew=RSSold + dt * RSS\n",
        "  bnew=bold + dt * RB\n",
        "  cnew=cold + dt * RC\n",
        "  dnew=dold + dt * RD\n",
        "  enew=eold + dt * RE\n",
        "\n",
        "  t=t+dt\n",
        "\n",
        "  RSSold=RSSnew\n",
        "  bold=bnew\n",
        "  cold=cnew\n",
        "  dold=dnew\n",
        "  eold=enew\n",
        "  Sum = aold+bold+cold+dold+eold\n",
        "\n",
        "  RSS.append(anew)\n",
        "  b.append(bnew)\n",
        "  c.append(cnew)\n",
        "  d.append(dnew)\n",
        "  e.append(enew)\n",
        "\n",
        "# Imprime o passo do tempo e o valor das concentrações no tempo máximo (t = 1)\n",
        "print(\"%.8f   %.4f %.4f %.4f %.4f %.4f %.4f\" % (dt, anew, bnew, cnew, dnew, enew,Sum))"
      ],
      "metadata": {
        "id": "zAHwW1edvK7u"
      },
      "execution_count": null,
      "outputs": []
    },
    {
      "cell_type": "code",
      "source": [
        ""
      ],
      "metadata": {
        "id": "r5psrgCavRK8"
      },
      "execution_count": null,
      "outputs": []
    }
  ]
}