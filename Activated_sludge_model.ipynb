{
  "nbformat": 4,
  "nbformat_minor": 0,
  "metadata": {
    "colab": {
      "name": "Activated sludge model.ipynb",
      "provenance": [],
      "authorship_tag": "ABX9TyMZ3JOxbAYEi6SwBa5whdVv",
      "include_colab_link": true
    },
    "kernelspec": {
      "name": "python3",
      "display_name": "Python 3"
    },
    "language_info": {
      "name": "python"
    }
  },
  "cells": [
    {
      "cell_type": "markdown",
      "metadata": {
        "id": "view-in-github",
        "colab_type": "text"
      },
      "source": [
        "<a href=\"https://colab.research.google.com/github/CostaNathan/doctorate/blob/main/Activated_sludge_model.ipynb\" target=\"_parent\"><img src=\"https://colab.research.google.com/assets/colab-badge.svg\" alt=\"Open In Colab\"/></a>"
      ]
    },
    {
      "cell_type": "code",
      "execution_count": null,
      "metadata": {
        "id": "j57204YMu-c5"
      },
      "outputs": [],
      "source": [
        "# Importando as bibliotecas\n",
        "import numpy\n",
        "import matplotlib.pyplot as plt \n",
        "%matplotlib inline"
      ]
    },
    {
      "cell_type": "code",
      "source": [
        "mu_H = 6.0 # unidade (significado)\n",
        "K_S  = 20.0\n",
        "K_OH = 0.2\n",
        "K_NO = 0.5\n",
        "b_H  = 0.62\n",
        "mu_A = 0.8\n",
        "K_NH = 1.0\n",
        "K_OA = 0.4\n",
        "b_A  = 0.5 # converir valor\n",
        "eta_g = 0.8\n",
        "kappa_a = 0.08\n",
        "kappa_h = 1.0\n",
        "K_X     = 0.03\n",
        "eta_h   = 0.4\n",
        "\n",
        "SI = 30.0 # converir valor e unidade # [M(COD)L^-3] (Soluble inert organic matter) \n",
        "Y_H = 0.67\n",
        "Y_A = 0.24\n",
        "f_p = 0.08\n",
        "i_XB = 0.086\n",
        "i_XE = 0.06\n",
        "\n",
        "# constantes das taxas de reação\n",
        "tmax = 10\n",
        "dt = 0.001\n",
        "\n",
        "# concentração inicial de cada componente química\n",
        "SSold = 1.0 # [M(COD)L^-3] (Readily biodegradable substrate)\n",
        "XIold = 1.0\n",
        "XSold = 1.0\n",
        "XBAold = 1.0\n",
        "XPold  = 1.0\n",
        "SOold  = 1.0\n",
        "SNOold = 1.0\n",
        "SNHold = 1.0\n",
        "SNDold = 1.0\n",
        "XNDold = 1.0\n",
        "SALKold = 1.0\n",
        "\n",
        "tempo = numpy.arange(0,tmax,dt)\n",
        "\n",
        "t = 0\n",
        "\n",
        "SS = []\n",
        "XI = []\n",
        "XS = []\n",
        "XAB = []\n",
        "XP = []\n",
        "SO = []\n",
        "SNO = []\n",
        "SNH = []\n",
        "XND = []\n",
        "SALK = []\n",
        "\n",
        "\n",
        "soma = []\n",
        "\n",
        "def proc1(SS_old, SO_old):\n",
        "  return mu_H * (SSold/(K_S+SSold)) * (SOold/(K_OH+SOld)) * X_BH\n",
        "\n",
        "def proc2(SS_old):\n",
        "  return mu_H * (SSold/(K_S+SSold)) * (SOold/(K_OH+SOld)) * X_BH"
      ],
      "metadata": {
        "id": "peKzuE8qvGkR"
      },
      "execution_count": null,
      "outputs": []
    },
    {
      "cell_type": "code",
      "source": [
        "while t < tmax:\n",
        "\n",
        "  RSS=-(1/Y_H)*proc1(SS_old, SO_old)-(1/Y_H)*proc2(SS_old, SO_old)\n",
        "  RB=-k1 * aold * bold\n",
        "  RC=k1 * aold * bold - k2 * cold\n",
        "  RD=k3/2 * aold**2\n",
        "  RE=2 * k2 * cold\n",
        "\n",
        "  RSSnew=RSSold + dt * RSS\n",
        "  bnew=bold + dt * RB\n",
        "  cnew=cold + dt * RC\n",
        "  dnew=dold + dt * RD\n",
        "  enew=eold + dt * RE\n",
        "\n",
        "  t=t+dt\n",
        "\n",
        "  RSSold=RSSnew\n",
        "  bold=bnew\n",
        "  cold=cnew\n",
        "  dold=dnew\n",
        "  eold=enew\n",
        "  Sum = aold+bold+cold+dold+eold\n",
        "\n",
        "  RSS.append(anew)\n",
        "  b.append(bnew)\n",
        "  c.append(cnew)\n",
        "  d.append(dnew)\n",
        "  e.append(enew)\n",
        "\n",
        "# Imprime o passo do tempo e o valor das concentrações no tempo máximo (t = 1)\n",
        "print(\"%.8f   %.4f %.4f %.4f %.4f %.4f %.4f\" % (dt, anew, bnew, cnew, dnew, enew,Sum))"
      ],
      "metadata": {
        "id": "zAHwW1edvK7u"
      },
      "execution_count": null,
      "outputs": []
    },
    {
      "cell_type": "code",
      "source": [
        ""
      ],
      "metadata": {
        "id": "r5psrgCavRK8"
      },
      "execution_count": null,
      "outputs": []
    }
  ]
}