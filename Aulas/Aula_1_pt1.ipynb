{
  "nbformat": 4,
  "nbformat_minor": 0,
  "metadata": {
    "colab": {
      "provenance": [],
      "authorship_tag": "ABX9TyOozM3efDEgIlUIy23/KNdi",
      "include_colab_link": true
    },
    "kernelspec": {
      "name": "python3",
      "display_name": "Python 3"
    },
    "language_info": {
      "name": "python"
    }
  },
  "cells": [
    {
      "cell_type": "markdown",
      "metadata": {
        "id": "view-in-github",
        "colab_type": "text"
      },
      "source": [
        "<a href=\"https://colab.research.google.com/github/CostaNathan/doctorate/blob/Introdu%C3%A7%C3%A3o_Python/Aula_1_pt1.ipynb\" target=\"_parent\"><img src=\"https://colab.research.google.com/assets/colab-badge.svg\" alt=\"Open In Colab\"/></a>"
      ]
    },
    {
      "cell_type": "markdown",
      "source": [
        "## Introdução à Python - Aula 1\n"
      ],
      "metadata": {
        "id": "AERWusSJcj1m"
      }
    },
    {
      "cell_type": "code",
      "execution_count": 1,
      "metadata": {
        "id": "bws--a8JZrTD"
      },
      "outputs": [],
      "source": [
        "# imprtar as bibliotecas\n",
        "\n",
        "import numpy as np\n",
        "import matplotlib.pyplot as plt"
      ]
    },
    {
      "cell_type": "code",
      "source": [
        "vetor = np.linspace(0,5,10)\n",
        "vetor"
      ],
      "metadata": {
        "colab": {
          "base_uri": "https://localhost:8080/"
        },
        "id": "ZatwkqjheaZ8",
        "outputId": "19fb2496-a6cf-46ca-92d9-065359338b4c"
      },
      "execution_count": 2,
      "outputs": [
        {
          "output_type": "execute_result",
          "data": {
            "text/plain": [
              "array([0.        , 0.55555556, 1.11111111, 1.66666667, 2.22222222,\n",
              "       2.77777778, 3.33333333, 3.88888889, 4.44444444, 5.        ])"
            ]
          },
          "metadata": {},
          "execution_count": 2
        }
      ]
    },
    {
      "cell_type": "code",
      "source": [
        "b = np.ones(2)\n",
        "b"
      ],
      "metadata": {
        "colab": {
          "base_uri": "https://localhost:8080/"
        },
        "id": "sMFSiq9qf6Pa",
        "outputId": "4b756094-3581-48ad-ee38-13cbed8319b1"
      },
      "execution_count": 3,
      "outputs": [
        {
          "output_type": "execute_result",
          "data": {
            "text/plain": [
              "array([1., 1.])"
            ]
          },
          "metadata": {},
          "execution_count": 3
        }
      ]
    },
    {
      "cell_type": "markdown",
      "source": [
        "### Variáveis"
      ],
      "metadata": {
        "id": "RFcau5HAi7_r"
      }
    },
    {
      "cell_type": "code",
      "source": [
        "a = 5\n",
        "b = 'cinco'\n",
        "c = 5.0"
      ],
      "metadata": {
        "id": "C0JGJr2ThgHv"
      },
      "execution_count": 4,
      "outputs": []
    },
    {
      "cell_type": "markdown",
      "source": [
        "### Espaços brancos"
      ],
      "metadata": {
        "id": "m5AS-0oPkZfn"
      }
    },
    {
      "cell_type": "code",
      "source": [
        "for i in range (5):\n",
        "  if i < 5:\n",
        "    print('Olá')\n",
        "    print('Seja bem vindo', i)\n",
        "    print(i*10) \n"
      ],
      "metadata": {
        "colab": {
          "base_uri": "https://localhost:8080/"
        },
        "id": "kuMxU9grjCt4",
        "outputId": "b136d844-8c2c-48d2-fe2f-0d03a712b6f8"
      },
      "execution_count": 6,
      "outputs": [
        {
          "output_type": "stream",
          "name": "stdout",
          "text": [
            "Olá\n",
            "Seja bem vindo 0\n",
            "0\n",
            "Olá\n",
            "Seja bem vindo 1\n",
            "10\n",
            "Olá\n",
            "Seja bem vindo 2\n",
            "20\n",
            "Olá\n",
            "Seja bem vindo 3\n",
            "30\n",
            "Olá\n",
            "Seja bem vindo 4\n",
            "40\n"
          ]
        }
      ]
    },
    {
      "cell_type": "markdown",
      "source": [
        "Cortando arrays"
      ],
      "metadata": {
        "id": "jgt9I5sPqwmL"
      }
    },
    {
      "cell_type": "code",
      "source": [
        "lista = [0, 1. , 'texto'] # criar lista \n",
        "myvals = np.array([1, 2, 3, 4]) # transforma lista em array\n",
        "myvals[1:3] # filtra as posições dos elementos desejados"
      ],
      "metadata": {
        "colab": {
          "base_uri": "https://localhost:8080/"
        },
        "id": "eteydmzslhw0",
        "outputId": "5b7fa31e-8be5-4057-fbe4-bf5707bde2bf"
      },
      "execution_count": 8,
      "outputs": [
        {
          "output_type": "execute_result",
          "data": {
            "text/plain": [
              "array([2, 3])"
            ]
          },
          "metadata": {},
          "execution_count": 8
        }
      ]
    },
    {
      "cell_type": "markdown",
      "source": [
        "### Atribuição de variável array"
      ],
      "metadata": {
        "id": "bwgRGIwospAu"
      }
    },
    {
      "cell_type": "code",
      "source": [
        "a = np.linspace(1,5,5)\n",
        "b = a # cria um espelho\n",
        "b[4] = 1 # modifica tanto b quanto a por ser um espelho\n",
        "print(a, b)\n",
        "\n",
        "c = a.copy() # cria uma copia estática \n",
        "c[4] = 4\n",
        "print(a,b,c)"
      ],
      "metadata": {
        "colab": {
          "base_uri": "https://localhost:8080/"
        },
        "id": "A3-mwA7MsF8O",
        "outputId": "21ceb1ef-f726-4909-9a26-8cef6677b290"
      },
      "execution_count": 10,
      "outputs": [
        {
          "output_type": "stream",
          "name": "stdout",
          "text": [
            "[1. 2. 3. 4. 1.] [1. 2. 3. 4. 1.]\n",
            "[1. 2. 3. 4. 1.] [1. 2. 3. 4. 1.] [1. 2. 3. 4. 4.]\n"
          ]
        }
      ]
    },
    {
      "cell_type": "code",
      "source": [],
      "metadata": {
        "id": "I2RD7Krtu2cZ"
      },
      "execution_count": null,
      "outputs": []
    }
  ]
}