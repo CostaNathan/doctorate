{
  "nbformat": 4,
  "nbformat_minor": 0,
  "metadata": {
    "colab": {
      "provenance": [],
      "authorship_tag": "ABX9TyOB/kdrFGNO0DGKln1KGD2h",
      "include_colab_link": true
    },
    "kernelspec": {
      "name": "python3",
      "display_name": "Python 3"
    },
    "language_info": {
      "name": "python"
    }
  },
  "cells": [
    {
      "cell_type": "markdown",
      "metadata": {
        "id": "view-in-github",
        "colab_type": "text"
      },
      "source": [
        "<a href=\"https://colab.research.google.com/github/CostaNathan/doctorate/blob/Introdu%C3%A7%C3%A3o_Python/Aula_5_pt1.ipynb\" target=\"_parent\"><img src=\"https://colab.research.google.com/assets/colab-badge.svg\" alt=\"Open In Colab\"/></a>"
      ]
    },
    {
      "cell_type": "markdown",
      "source": [
        "## Exposição humana a substâncias tóxicas\n",
        "\n",
        "- Estatística descritiva\n"
      ],
      "metadata": {
        "id": "-IJdWFKYijt9"
      }
    },
    {
      "cell_type": "markdown",
      "source": [
        "### Dados do FDA\n",
        "\n",
        "Localizamos uma página da web da US Food and Drug Administration, intitulada Limiting Lead in Lipstick and Other Cosmetics\n",
        "\n",
        "https://www.fda.gov/cosmetics/cosmetic-products/limiting-lead-lipstick-and-other-cosmetics#reference1\n",
        "\n",
        "No sítio da internet está descrito os esforços para avaliar as preocupações de segurança contra as impurezas de chumbo nos cosméticos. A página da web inclui tabelas de dados para o estudo inicial em 2009, com 22 batons, e o estudo ampliado em 2012, com 400 batons.\n"
      ],
      "metadata": {
        "id": "QbVefAaLj_y1"
      }
    },
    {
      "cell_type": "code",
      "source": [
        "import pandas as pd\n",
        "import numpy as np\n",
        "import matplotlib.pyplot as plt\n"
      ],
      "metadata": {
        "id": "qw3i_QUXl-Uk"
      },
      "execution_count": 1,
      "outputs": []
    },
    {
      "cell_type": "code",
      "execution_count": 7,
      "metadata": {
        "colab": {
          "base_uri": "https://localhost:8080/"
        },
        "id": "cjPcRPE9igRd",
        "outputId": "b11ab1ea-052e-4b1f-9d30-823378c741bc"
      },
      "outputs": [
        {
          "output_type": "stream",
          "name": "stdout",
          "text": [
            "    count Sample         Brand    Parent company  Pb ppm\n",
            "0       1     1a    Cover Girl  Procter & Gamble    3.06\n",
            "1       2     1b    Cover Girl  Procter & Gamble    3.05\n",
            "2       3      2        Revlon            Revlon    2.38\n",
            "3       4      3    Cover Girl  Procter & Gamble    2.24\n",
            "4       5      4     Body Shop           L'Oreal    1.79\n",
            "5       6      5    Cover Girl  Procter & Gamble    1.76\n",
            "6       7      6       L'Oreal           L'Oreal    1.47\n",
            "7       8      7        Revlon            Revlon    1.37\n",
            "8       9      8    Maybelline           L'Oreal    1.21\n",
            "9      10      9        Revlon            Revlon    1.04\n",
            "10     11    10a       L'Oreal           L'Oreal    0.79\n",
            "11     12    10b       L'Oreal           L'Oreal    0.67\n",
            "12     13     11      Clinique      Estee Lauder    0.55\n",
            "13     14     12      Clinique      Estee Lauder    0.48\n",
            "14     15     13  Estee Lauder      Estee Lauder    0.43\n",
            "15     16     14   Burt's Bees    Clorox Company    0.33\n",
            "16     17     15    Maybelline           L'Oreal    0.23\n",
            "17     18     16   PeaceKeeper       PeaceKeeper    0.17\n",
            "18     19     17          Dior              LVMH    0.15\n",
            "19     20     18          Dior              LVMH    0.12\n",
            "20     21     19         M.A.C      Estee Lauder    0.10\n",
            "21     22     20          Avon              Avon    0.09\n",
            "     Sample #             Brand          Parent company  Lead (ppm)\n",
            "0           1        Maybelline             L'Oreal USA       7.190\n",
            "1           2           L'Oreal             L'Oreal USA       7.000\n",
            "2           3              NARS                Shiseido       4.930\n",
            "3           4  Cover Girl Queen        Procter & Gamble       4.920\n",
            "4           5              NARS                Shiseido       4.890\n",
            "..        ...               ...                     ...         ...\n",
            "395       396             M.A.C            Estee Lauder       0.030\n",
            "396       397         Lori Anne              Mood Magic       0.030\n",
            "397       398          Clinique            Estee Lauder       0.026\n",
            "398       399           L'Oreal             L'Oreal USA       0.026\n",
            "399       400        Wet'n'Wild  Markwins International       0.026\n",
            "\n",
            "[400 rows x 4 columns]\n"
          ]
        }
      ],
      "source": [
        "URL = 'https://www.dropbox.com/s/i1uho13bh7ubcje/FDA2009-lipstickdata.csv?dl=1' # Estudo de 2009\n",
        "leadlips2009 = pd.read_csv(URL) # csv foi lido corretamente, pois nao possui cabeçalho além das colunas\n",
        "\n",
        "\n",
        "URL = 'https://www.dropbox.com/s/w182bbuvifkjdyj/FDA2012-lipstickdata.csv?dl=1'\n",
        "leadlips2012 = pd.read_csv(URL)\n"
      ]
    },
    {
      "cell_type": "code",
      "source": [
        "# Fazer histograma, media, mediana, desvio padrao, maximo, minimo, boxplot\n",
        "# Qual a melhor, pior marca; Qual a concentração mediana de chumbo; Qual a exposição a chumbo; \n",
        "\n",
        "leadlips2009.hist(column = 'Pb ppm', bins = 8, edgecolor = 'white',grid=False) # Função interna do pandas para gerar um histograma - determinar a coluna a ser usada \n",
        "plt.xlabel('Concentração de chumbo em ppm')\n",
        "plt.ylabel('Contagem da amostra')\n",
        "\n",
        "leadlips2009.hist(column = 'Pb ppm', bins = range(8), edgecolor = 'white',grid=False) # range(8) delimita o comprimento do eixo x\n",
        "plt.xlabel('Concentração de chumbo em ppm')\n",
        "plt.ylabel('Contagem da amostra')\n",
        "\n"
      ],
      "metadata": {
        "colab": {
          "base_uri": "https://localhost:8080/",
          "height": 590
        },
        "id": "X6Lq7ZXKmMqu",
        "outputId": "b8323c74-593a-41e8-9d03-f1ad61b0aec1"
      },
      "execution_count": 11,
      "outputs": [
        {
          "output_type": "execute_result",
          "data": {
            "text/plain": [
              "Text(0, 0.5, 'Contagem da amostra')"
            ]
          },
          "metadata": {},
          "execution_count": 11
        },
        {
          "output_type": "display_data",
          "data": {
            "text/plain": [
              "<Figure size 432x288 with 1 Axes>"
            ],
            "image/png": "[encoded data removed]"
          },
          "metadata": {
            "needs_background": "light"
          }
        },
        {
          "output_type": "display_data",
          "data": {
            "text/plain": [
              "<Figure size 432x288 with 1 Axes>"
            ],
            "image/png": "[encoded data removed]"
          },
          "metadata": {
            "needs_background": "light"
          }
        }
      ]
    },
    {
      "cell_type": "code",
      "source": [
        "leadlips2012.hist(column = 'Lead (ppm)', bins = 8, edgecolor = 'white',grid=False) # Função interna do pandas para gerar um histograma - determinar a coluna a ser usada \n",
        "plt.xlabel('Concentração de chumbo em ppm')\n",
        "plt.ylabel('Contagem da amostra')"
      ],
      "metadata": {
        "colab": {
          "base_uri": "https://localhost:8080/",
          "height": 312
        },
        "id": "vWx48v9dnom6",
        "outputId": "a4c8f79c-fe68-44c3-fb00-7a9bd8febbf8"
      },
      "execution_count": 13,
      "outputs": [
        {
          "output_type": "execute_result",
          "data": {
            "text/plain": [
              "Text(0, 0.5, 'Contagem da amostra')"
            ]
          },
          "metadata": {},
          "execution_count": 13
        },
        {
          "output_type": "display_data",
          "data": {
            "text/plain": [
              "<Figure size 432x288 with 1 Axes>"
            ],
            "image/png": "[encoded data removed]"
          },
          "metadata": {
            "needs_background": "light"
          }
        }
      ]
    },
    {
      "cell_type": "code",
      "source": [
        "lead2009 = leadlips2009['Pb ppm'].values\n",
        "lead2012 = leadlips2012['Lead (ppm)'].values\n",
        "\n",
        "lead2009, lead2012"
      ],
      "metadata": {
        "colab": {
          "base_uri": "https://localhost:8080/"
        },
        "id": "nRsSvloxofBH",
        "outputId": "10511063-ef54-4225-873f-7ea74f7ed9c3"
      },
      "execution_count": 14,
      "outputs": [
        {
          "output_type": "execute_result",
          "data": {
            "text/plain": [
              "(array([3.06, 3.05, 2.38, 2.24, 1.79, 1.76, 1.47, 1.37, 1.21, 1.04, 0.79,\n",
              "        0.67, 0.55, 0.48, 0.43, 0.33, 0.23, 0.17, 0.15, 0.12, 0.1 , 0.09]),\n",
              " array([7.19 , 7.   , 4.93 , 4.92 , 4.89 , 4.45 , 4.41 , 4.28 , 4.23 ,\n",
              "        4.12 , 4.06 , 3.32 , 3.12 , 3.08 , 2.87 , 2.84 , 2.81 , 2.81 ,\n",
              "        2.8  , 2.77 , 2.74 , 2.71 , 2.68 , 2.59 , 2.56 , 2.52 , 2.52 ,\n",
              "        2.44 , 2.42 , 2.4  , 2.28 , 2.28 , 2.28 , 2.27 , 2.27 , 2.26 ,\n",
              "        2.25 , 2.24 , 2.24 , 2.23 , 2.22 , 2.21 , 2.18 , 2.12 , 2.09 ,\n",
              "        2.08 , 2.08 , 2.07 , 2.   , 2.   , 2.   , 1.98 , 1.98 , 1.96 ,\n",
              "        1.95 , 1.94 , 1.94 , 1.93 , 1.92 , 1.91 , 1.88 , 1.88 , 1.88 ,\n",
              "        1.86 , 1.85 , 1.84 , 1.84 , 1.82 , 1.82 , 1.81 , 1.8  , 1.8  ,\n",
              "        1.78 , 1.78 , 1.76 , 1.76 , 1.75 , 1.75 , 1.74 , 1.73 , 1.72 ,\n",
              "        1.71 , 1.7  , 1.69 , 1.69 , 1.69 , 1.69 , 1.69 , 1.69 , 1.63 ,\n",
              "        1.61 , 1.61 , 1.57 , 1.57 , 1.56 , 1.55 , 1.54 , 1.53 , 1.53 ,\n",
              "        1.5  , 1.49 , 1.49 , 1.48 , 1.47 , 1.46 , 1.46 , 1.45 , 1.45 ,\n",
              "        1.44 , 1.41 , 1.4  , 1.39 , 1.39 , 1.38 , 1.38 , 1.38 , 1.37 ,\n",
              "        1.37 , 1.36 , 1.35 , 1.34 , 1.34 , 1.34 , 1.33 , 1.32 , 1.32 ,\n",
              "        1.31 , 1.31 , 1.3  , 1.28 , 1.27 , 1.26 , 1.26 , 1.24 , 1.24 ,\n",
              "        1.23 , 1.22 , 1.21 , 1.2  , 1.2  , 1.19 , 1.18 , 1.18 , 1.18 ,\n",
              "        1.18 , 1.17 , 1.17 , 1.15 , 1.15 , 1.15 , 1.13 , 1.13 , 1.12 ,\n",
              "        1.11 , 1.1  , 1.1  , 1.08 , 1.08 , 1.08 , 1.07 , 1.07 , 1.07 ,\n",
              "        1.06 , 1.05 , 1.04 , 1.04 , 1.04 , 1.03 , 1.03 , 1.03 , 1.02 ,\n",
              "        1.02 , 1.02 , 1.01 , 1.   , 1.   , 1.   , 0.97 , 0.96 , 0.96 ,\n",
              "        0.95 , 0.95 , 0.95 , 0.95 , 0.95 , 0.95 , 0.94 , 0.93 , 0.93 ,\n",
              "        0.93 , 0.92 , 0.92 , 0.92 , 0.91 , 0.91 , 0.91 , 0.91 , 0.9  ,\n",
              "        0.9  , 0.89 , 0.89 , 0.88 , 0.88 , 0.86 , 0.86 , 0.86 , 0.86 ,\n",
              "        0.85 , 0.84 , 0.84 , 0.84 , 0.83 , 0.83 , 0.82 , 0.82 , 0.82 ,\n",
              "        0.82 , 0.81 , 0.81 , 0.8  , 0.8  , 0.8  , 0.8  , 0.79 , 0.78 ,\n",
              "        0.78 , 0.78 , 0.77 , 0.76 , 0.76 , 0.76 , 0.75 , 0.75 , 0.75 ,\n",
              "        0.74 , 0.74 , 0.74 , 0.74 , 0.73 , 0.73 , 0.72 , 0.72 , 0.7  ,\n",
              "        0.7  , 0.7  , 0.69 , 0.69 , 0.69 , 0.69 , 0.68 , 0.68 , 0.67 ,\n",
              "        0.66 , 0.66 , 0.64 , 0.63 , 0.63 , 0.62 , 0.62 , 0.61 , 0.61 ,\n",
              "        0.6  , 0.6  , 0.6  , 0.6  , 0.59 , 0.59 , 0.59 , 0.58 , 0.58 ,\n",
              "        0.58 , 0.58 , 0.57 , 0.57 , 0.56 , 0.56 , 0.55 , 0.55 , 0.54 ,\n",
              "        0.53 , 0.53 , 0.52 , 0.52 , 0.52 , 0.52 , 0.52 , 0.51 , 0.5  ,\n",
              "        0.5  , 0.5  , 0.49 , 0.49 , 0.48 , 0.48 , 0.47 , 0.47 , 0.47 ,\n",
              "        0.46 , 0.45 , 0.45 , 0.44 , 0.44 , 0.43 , 0.43 , 0.43 , 0.43 ,\n",
              "        0.41 , 0.41 , 0.4  , 0.4  , 0.4  , 0.4  , 0.39 , 0.39 , 0.39 ,\n",
              "        0.39 , 0.39 , 0.39 , 0.38 , 0.37 , 0.37 , 0.37 , 0.35 , 0.35 ,\n",
              "        0.33 , 0.32 , 0.32 , 0.32 , 0.31 , 0.31 , 0.31 , 0.3  , 0.3  ,\n",
              "        0.3  , 0.3  , 0.29 , 0.29 , 0.29 , 0.29 , 0.28 , 0.28 , 0.28 ,\n",
              "        0.27 , 0.27 , 0.27 , 0.26 , 0.25 , 0.25 , 0.24 , 0.23 , 0.23 ,\n",
              "        0.23 , 0.23 , 0.23 , 0.22 , 0.22 , 0.22 , 0.21 , 0.2  , 0.2  ,\n",
              "        0.2  , 0.2  , 0.2  , 0.18 , 0.18 , 0.17 , 0.17 , 0.16 , 0.16 ,\n",
              "        0.15 , 0.15 , 0.15 , 0.14 , 0.13 , 0.13 , 0.13 , 0.12 , 0.12 ,\n",
              "        0.12 , 0.11 , 0.08 , 0.08 , 0.08 , 0.08 , 0.07 , 0.07 , 0.07 ,\n",
              "        0.06 , 0.06 , 0.06 , 0.05 , 0.05 , 0.05 , 0.05 , 0.04 , 0.03 ,\n",
              "        0.03 , 0.026, 0.026, 0.026]))"
            ]
          },
          "metadata": {},
          "execution_count": 14
        }
      ]
    },
    {
      "cell_type": "code",
      "source": [
        "plt.hist(lead2009,  bins = 8, edgecolor = 'white')\n",
        "plt.xlabel('Concentração de chumbo em ppm')\n",
        "plt.ylabel('Contagem da amostra')\n"
      ],
      "metadata": {
        "colab": {
          "base_uri": "https://localhost:8080/",
          "height": 296
        },
        "id": "ddP8IokbpAPK",
        "outputId": "6c2f3f9a-6018-4b26-8585-6cc233a88567"
      },
      "execution_count": 18,
      "outputs": [
        {
          "output_type": "execute_result",
          "data": {
            "text/plain": [
              "Text(0, 0.5, 'Contagem da amostra')"
            ]
          },
          "metadata": {},
          "execution_count": 18
        },
        {
          "output_type": "display_data",
          "data": {
            "text/plain": [
              "<Figure size 432x288 with 1 Axes>"
            ],
            "image/png": "[encoded data removed]"
          },
          "metadata": {
            "needs_background": "light"
          }
        }
      ]
    },
    {
      "cell_type": "code",
      "source": [
        "plt.hist(lead2012,  bins = 8, edgecolor = 'white')\n",
        "plt.xlabel('Concentração de chumbo em ppm')\n",
        "plt.ylabel('Contagem da amostra')"
      ],
      "metadata": {
        "colab": {
          "base_uri": "https://localhost:8080/",
          "height": 296
        },
        "id": "TCb_Z8kopKlv",
        "outputId": "d7b30eab-b4a8-4637-d5ae-85dfdeadcf70"
      },
      "execution_count": 19,
      "outputs": [
        {
          "output_type": "execute_result",
          "data": {
            "text/plain": [
              "Text(0, 0.5, 'Contagem da amostra')"
            ]
          },
          "metadata": {},
          "execution_count": 19
        },
        {
          "output_type": "display_data",
          "data": {
            "text/plain": [
              "<Figure size 432x288 with 1 Axes>"
            ],
            "image/png": "[encoded data removed]"
          },
          "metadata": {
            "needs_background": "light"
          }
        }
      ]
    },
    {
      "cell_type": "code",
      "source": [
        "\n",
        "print(leadlips2009.describe())\n",
        "print(leadlips2012.describe()) # Achar os valores de estatistica descritiva\n",
        "\n",
        "print('O valor máximo de 2009 é {:.2f}'.format(leadlips2009['Pb ppm'].max()))\n",
        "print('O valor máximo de 2012 é {:.2f}'.format(leadlips2012['Lead (ppm)'].max()))\n"
      ],
      "metadata": {
        "colab": {
          "base_uri": "https://localhost:8080/"
        },
        "id": "hlWS9Dt_pbXj",
        "outputId": "f44dbda9-2f38-441e-ce8c-1b585e87e0dd"
      },
      "execution_count": 30,
      "outputs": [
        {
          "output_type": "stream",
          "name": "stdout",
          "text": [
            "           count     Pb ppm\n",
            "count  22.000000  22.000000\n",
            "mean   11.500000   1.067273\n",
            "std     6.493587   0.956438\n",
            "min     1.000000   0.090000\n",
            "25%     6.250000   0.255000\n",
            "50%    11.500000   0.730000\n",
            "75%    16.750000   1.687500\n",
            "max    22.000000   3.060000\n",
            "         Sample #  Lead (ppm)\n",
            "count  400.000000  400.000000\n",
            "mean   200.500000    1.109945\n",
            "std    115.614301    0.968626\n",
            "min      1.000000    0.026000\n",
            "25%    100.750000    0.447500\n",
            "50%    200.500000    0.890000\n",
            "75%    300.250000    1.492500\n",
            "max    400.000000    7.190000\n",
            "O valor máximo de 2009 é 3.06\n",
            "O valor máximo de 2012 é 7.19\n"
          ]
        }
      ]
    },
    {
      "cell_type": "markdown",
      "source": [
        "### Melhor e pior marcas\n",
        "\n",
        "2 opções:\n",
        "- pd.DataFrame.where()\n",
        "- np.where()"
      ],
      "metadata": {
        "id": "_Xg6XNYErDTl"
      }
    },
    {
      "cell_type": "code",
      "source": [
        "lead2009 = leadlips2009['Pb ppm'].values\n",
        "lead2012 = leadlips2012['Lead (ppm)'].values\n",
        "\n",
        "np.where(lead2009 == np.min(lead2009))\n",
        "np.where(lead2012 == 7.19)"
      ],
      "metadata": {
        "colab": {
          "base_uri": "https://localhost:8080/"
        },
        "id": "VhzU2jmTqO5c",
        "outputId": "92cd0725-4e5f-41a3-b7fa-e2689e482e13"
      },
      "execution_count": 28,
      "outputs": [
        {
          "output_type": "execute_result",
          "data": {
            "text/plain": [
              "(array([0]),)"
            ]
          },
          "metadata": {},
          "execution_count": 28
        }
      ]
    },
    {
      "cell_type": "code",
      "source": [
        "plt.boxplot([lead2009, lead2012]) # Mostra 2 boxplot um no lado do outro a partir de uma lista como variáveis\n"
      ],
      "metadata": {
        "colab": {
          "base_uri": "https://localhost:8080/",
          "height": 580
        },
        "id": "fYNteXGGrW6o",
        "outputId": "820740bc-8472-4d5f-bac7-2f4cf9818553"
      },
      "execution_count": 25,
      "outputs": [
        {
          "output_type": "stream",
          "name": "stderr",
          "text": [
            "/usr/local/lib/python3.7/dist-packages/matplotlib/cbook/__init__.py:1376: VisibleDeprecationWarning: Creating an ndarray from ragged nested sequences (which is a list-or-tuple of lists-or-tuples-or ndarrays with different lengths or shapes) is deprecated. If you meant to do this, you must specify 'dtype=object' when creating the ndarray.\n",
            "  X = np.atleast_1d(X.T if isinstance(X, np.ndarray) else np.asarray(X))\n"
          ]
        },
        {
          "output_type": "execute_result",
          "data": {
            "text/plain": [
              "{'whiskers': [<matplotlib.lines.Line2D at 0x7f4dc17b7e10>,\n",
              "  <matplotlib.lines.Line2D at 0x7f4dc078e310>,\n",
              "  <matplotlib.lines.Line2D at 0x7f4dc0ddcb50>,\n",
              "  <matplotlib.lines.Line2D at 0x7f4dc0ddc1d0>],\n",
              " 'caps': [<matplotlib.lines.Line2D at 0x7f4dc078ead0>,\n",
              "  <matplotlib.lines.Line2D at 0x7f4dc11f8150>,\n",
              "  <matplotlib.lines.Line2D at 0x7f4dc17f6e90>,\n",
              "  <matplotlib.lines.Line2D at 0x7f4dc08dac10>],\n",
              " 'boxes': [<matplotlib.lines.Line2D at 0x7f4dc0af49d0>,\n",
              "  <matplotlib.lines.Line2D at 0x7f4dc1266990>],\n",
              " 'medians': [<matplotlib.lines.Line2D at 0x7f4dc0795dd0>,\n",
              "  <matplotlib.lines.Line2D at 0x7f4dc08da590>],\n",
              " 'fliers': [<matplotlib.lines.Line2D at 0x7f4dc0795690>,\n",
              "  <matplotlib.lines.Line2D at 0x7f4dc0861390>],\n",
              " 'means': []}"
            ]
          },
          "metadata": {},
          "execution_count": 25
        },
        {
          "output_type": "display_data",
          "data": {
            "text/plain": [
              "<Figure size 432x288 with 1 Axes>"
            ],
            "image/png": "[encoded data removed]"
          },
          "metadata": {
            "needs_background": "light"
          }
        }
      ]
    },
    {
      "cell_type": "markdown",
      "source": [
        "### Atividade 2 \n",
        "\n",
        "# Atividade 2\n",
        "\n",
        "\n",
        "Um estudo europeu de exposição a vários produtos cosméticos [Ref. 2] oferece algumas estatísticas úteis sobre o uso de batom. Na figura 6, o artigo mostra um histograma de batom aplicado pelos participantes do estudo. A distribuição é assimétrica à direita: a maioria dos usuários aplica uma quantidade moderada de batom diariamente, mas existem alguns usuários que usam bastante quantidade no final da distribuição. O número de participantes foi 30.000 e as estatísticas resumidas são:\n",
        "\n",
        "* média = 24.61 mg/day,\n",
        "* mediana = 17.11 mg/day,\n",
        "* mínimo = 0.13 mg/day,\n",
        "* máximo = 217.53 mg/day\n",
        "* percentil 95 = 72.51 mg/day\n",
        "\n",
        "Suponha que os usuários ingestem metade do batom que eles aplicam diariamente como uma estimativa conservadora. Dado que alguns batons acabam em xícaras, guardanapos e em outras pessoas. Rs.\n",
        "\n",
        "### Atividade, calcular:\n",
        "\n",
        "1. a exposição típica ao chumbo do batom, usando a mediana\n",
        "2. a maior exposição diária ao chumbo do batom, usando o máximo\n",
        "3. qual a probabilidade de um usuário ter a exposição máxima?\n",
        "\n",
        "Do estudo de chumbo no batom da FDA de 2012: a mediana é de 0,89 ppm (µg/g) e a máxima é de 7,19 ppm. A partir do estudo europeu sobre exposição a cosméticos, o uso diário médio de batom é de 17,11 mg e o máximo é de 217,53. Agora ... mantenha suas unidades em ordem!\n",
        "\n",
        "$ 1 \\mu\\text{g} = 10^{-3} \\text{mg} = 10^{-6} \\text{g}$"
      ],
      "metadata": {
        "id": "qtLAYUpYsFpT"
      }
    },
    {
      "cell_type": "code",
      "source": [
        "# Typical user: 0.89 µg/g * 17.11 mg/day (divide by 1000 to get µg)\n",
        "\n",
        "print('A exposição diária típica ao chumbo nos batons é {:.4f} µg/day.'.format(0.89 *17.11/1000)) # valores de mediana (0.89 e 17.11)\n",
        "print('Metade desta quantidade é ingerida: {:.4f} µg/day.'.format(0.89 *17.11/1000/2))\n",
        "\n",
        "# Maximum usage: 7.19 µg/g * 217.53 mg/day / 1000 to get µg\n",
        "\n",
        "print('A exposição diária máxima ao chumbo nos batons é {:.2f} µg/day.'.format(7.19 *217.53/1000)) # valores de máximo (7.19 e 217,53)\n",
        "print('Metade desta quantidade é ingerida: {:.2f} µg/day.'.format(7.19 *217.53/1000/2))"
      ],
      "metadata": {
        "colab": {
          "base_uri": "https://localhost:8080/"
        },
        "id": "I4gmcg31rhxF",
        "outputId": "36299e06-b80f-4260-e278-15b035034462"
      },
      "execution_count": 29,
      "outputs": [
        {
          "output_type": "stream",
          "name": "stdout",
          "text": [
            "A exposição diária típica ao chumbo nos batons é 0.0152 µg/day.\n",
            "Metade desta quantidade é ingerida: 0.0076 µg/day.\n",
            "A exposição diária máxima ao chumbo nos batons é 1.56 µg/day.\n",
            "Metade desta quantidade é ingerida: 0.78 µg/day.\n"
          ]
        }
      ]
    },
    {
      "cell_type": "markdown",
      "source": [
        "A exposição diária máxima é **100 vezes maior que a exposição típica**, com base na mediana. Observe que esse máximo ocorre para um usuário dentre 30.000 (o tamanho da amostra do estudo) e para um batom dentre 400 - portanto, é uma chance de um em 12 milhões!"
      ],
      "metadata": {
        "id": "hn8WqDh7vtdM"
      }
    },
    {
      "cell_type": "code",
      "source": [
        "print(f'A probabilidade da ingestão máxima é : {1/30000 * 400}')"
      ],
      "metadata": {
        "colab": {
          "base_uri": "https://localhost:8080/"
        },
        "id": "Xpr-cGIZvRSW",
        "outputId": "206070e4-cb89-4034-d92b-dca71629b68d"
      },
      "execution_count": 34,
      "outputs": [
        {
          "output_type": "stream",
          "name": "stdout",
          "text": [
            "A probabilidade da ingestão máxima é : 0.013333333333333334\n"
          ]
        }
      ]
    },
    {
      "cell_type": "markdown",
      "source": [
        "## Isso é ruim?\n",
        "\n",
        "O FDA/EUA fornece um **nível máximo recomendado de chumbo de 0,1 ppm em doces** a serem consumidos por crianças pequenas [3]. \n",
        "\n",
        "Mas a maioria dos produtos alimentares está bem abaixo do máximo.\n",
        "Por exemplo, os dados da FDA em 40 amostras de chocolate ao leite nos anos 1991-2002 mostraram um nível médio de chumbo de 0,025 ppm [4]. Naturalmente, é muito menor que a concentração de chumbo no batom, mas o consumo de chocolate é muito maior! A Forbes relatou que o americano em média come cerca de 4,3 kg de chocolate por ano [5].\n",
        "\n",
        "\n",
        "* Concentração média de Chumbo no chocolate: 0,025 ppm\n",
        "* O americano em média come cerca de 4,3 kg de chocolate por ano "
      ],
      "metadata": {
        "id": "s5x6bDUDxfNM"
      }
    },
    {
      "cell_type": "code",
      "source": [
        "print('Um americano em média consume {:.1f} gramas de chocolate por dia.'.format(4.3*1000/365))\n",
        "print('Isso representa {:.2f} µg de exposição diária ao chumbo do chocolate (média dos dados do FDA).'.format(4.3*1000/365*0.025))"
      ],
      "metadata": {
        "id": "KSeGVLnwv-Wt"
      },
      "execution_count": null,
      "outputs": []
    },
    {
      "cell_type": "markdown",
      "source": [
        "Comparada à exposição mediana ao chumbo de 0,0076 µg por dia, a exposição do chocolate é quase 40 vezes maior!\n",
        "\n",
        "Claramente, o grupo de consumidores que gerou todas essas manchetes era assustador. E agora você tem as ferramentas para checar muitas dessas \"notícias falsas\" assustadoras relacionadas à saúde."
      ],
      "metadata": {
        "id": "IAc7qRo0xj4Q"
      }
    },
    {
      "cell_type": "code",
      "source": [],
      "metadata": {
        "id": "j0hBfgJhxldf"
      },
      "execution_count": null,
      "outputs": []
    }
  ]
}