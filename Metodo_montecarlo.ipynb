{
  "nbformat": 4,
  "nbformat_minor": 0,
  "metadata": {
    "colab": {
      "provenance": [],
      "authorship_tag": "ABX9TyMja0h90bAjBtqn4fRZuC8U",
      "include_colab_link": true
    },
    "kernelspec": {
      "name": "python3",
      "display_name": "Python 3"
    },
    "language_info": {
      "name": "python"
    }
  },
  "cells": [
    {
      "cell_type": "markdown",
      "metadata": {
        "id": "view-in-github",
        "colab_type": "text"
      },
      "source": [
        "<a href=\"https://colab.research.google.com/github/CostaNathan/doctorate/blob/Introdu%C3%A7%C3%A3o_Python/Metodo_montecarlo.ipynb\" target=\"_parent\"><img src=\"https://colab.research.google.com/assets/colab-badge.svg\" alt=\"Open In Colab\"/></a>"
      ]
    },
    {
      "cell_type": "markdown",
      "source": [
        "# Método de monte carlo\n",
        "\n",
        "- É uma familia de métodos estatisticos que dependem da amostragem aleatoria de maneira iterativa para obter resultados numéricos\n",
        "\n",
        "- Pertence a classe de métodos heuristicos\n",
        "\n"
      ],
      "metadata": {
        "id": "HU0UiWm3_eLF"
      }
    },
    {
      "cell_type": "markdown",
      "source": [
        "### Número pi na pria de Monte Carlo\n",
        "\n",
        "Acerto -> Dentro do círculo\n",
        "\n",
        "Tentativa -> Dentro do quadrado\n",
        "\n",
        "Area do circulo com raio = 1 -> 1\n",
        "\n",
        "Area do quadrado com lado=2 ->4\n",
        "\n",
        "%/frac{N_acertos}{N_tentativas} = /frac{area_circulo}{area_quadrado} = /frac{pi}{4}%"
      ],
      "metadata": {
        "id": "18Kj4dO4BZtu"
      }
    },
    {
      "cell_type": "code",
      "execution_count": 2,
      "metadata": {
        "id": "XXf2L6GT_Zoz"
      },
      "outputs": [],
      "source": [
        "## Calcular o número pi na praia de Monte Carlo\n",
        "import numpy as np\n",
        "import matplotlib.pyplot as plt\n",
        "import random"
      ]
    },
    {
      "cell_type": "code",
      "source": [
        "# random.uniform() # Retorna um numero pseudo-aleatorio dentro do range a,b\n",
        "\n",
        "n_tentativas = 100000\n",
        "n_acertos = 0\n",
        "\n",
        "for i in range(n_tentativas):\n",
        "  # Sistema de eixos x,y no centro do circulo\n",
        "  x = random.uniform(-1,1)\n",
        "  y = random.uniform(-1,1)\n",
        "  # print(x,y)\n",
        "  if x**2 + y**2 < 1.0:\n",
        "    n_acertos += 1\n",
        "\n",
        "print(4*n_acertos/n_tentativas)\n",
        "\n"
      ],
      "metadata": {
        "colab": {
          "base_uri": "https://localhost:8080/"
        },
        "id": "WHwf1wSOBWnN",
        "outputId": "59a78b76-d7f7-4310-9d8c-99c6b9a3db76"
      },
      "execution_count": 5,
      "outputs": [
        {
          "output_type": "stream",
          "name": "stdout",
          "text": [
            "3.136\n"
          ]
        }
      ]
    },
    {
      "cell_type": "code",
      "source": [
        "np.pi"
      ],
      "metadata": {
        "colab": {
          "base_uri": "https://localhost:8080/"
        },
        "id": "L07Uxd4yDmk1",
        "outputId": "bf12cf0c-c2ad-42b7-a79e-1f6004d04d02"
      },
      "execution_count": 6,
      "outputs": [
        {
          "output_type": "execute_result",
          "data": {
            "text/plain": [
              "3.141592653589793"
            ]
          },
          "metadata": {},
          "execution_count": 6
        }
      ]
    },
    {
      "cell_type": "code",
      "source": [],
      "metadata": {
        "id": "kBAu74lIEAkM"
      },
      "execution_count": null,
      "outputs": []
    }
  ]
}