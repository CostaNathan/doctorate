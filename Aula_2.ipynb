{
  "nbformat": 4,
  "nbformat_minor": 0,
  "metadata": {
    "colab": {
      "provenance": [],
      "authorship_tag": "ABX9TyO9xq8tuW/w2CV6PmFqxzkl",
      "include_colab_link": true
    },
    "kernelspec": {
      "name": "python3",
      "display_name": "Python 3"
    },
    "language_info": {
      "name": "python"
    }
  },
  "cells": [
    {
      "cell_type": "markdown",
      "metadata": {
        "id": "view-in-github",
        "colab_type": "text"
      },
      "source": [
        "<a href=\"https://colab.research.google.com/github/CostaNathan/doctorate/blob/Introdu%C3%A7%C3%A3o_Python/Aula_2.ipynb\" target=\"_parent\"><img src=\"https://colab.research.google.com/assets/colab-badge.svg\" alt=\"Open In Colab\"/></a>"
      ]
    },
    {
      "cell_type": "markdown",
      "source": [
        "### Variáveis\n"
      ],
      "metadata": {
        "id": "KCBPNz4zcofi"
      }
    },
    {
      "cell_type": "code",
      "execution_count": null,
      "metadata": {
        "id": "5067WMGsbEif"
      },
      "outputs": [],
      "source": [
        "# Variável complexa \n",
        "\n",
        "a = 1.2 + 2j # O j é equivalente ao i nas variáveis complexas\n",
        "type(a)"
      ]
    },
    {
      "cell_type": "markdown",
      "source": [
        "#### Regras paea nomear objetos/variáveis\n",
        "\n",
        "\n",
        "  - Não podem começar com um número\n",
        "  - Python é keysensitive\n",
        "  - Não é permitido utilizar as keywords da linguagem para definir uma variável/objeto\n",
        "  "
      ],
      "metadata": {
        "id": "SA0fNQ3Gc8ci"
      }
    },
    {
      "cell_type": "markdown",
      "source": [
        "#### Resto da divisão\n",
        "\n",
        "  - O resto da divisão é determinado utilizando o comando % "
      ],
      "metadata": {
        "id": "briiYaZodkSU"
      }
    },
    {
      "cell_type": "code",
      "source": [
        "3 % 2 # resto da divisão é 1"
      ],
      "metadata": {
        "colab": {
          "base_uri": "https://localhost:8080/"
        },
        "id": "1J6hwfJocsn5",
        "outputId": "c497bf69-56ff-49ac-ebf4-4a316aa44652"
      },
      "execution_count": null,
      "outputs": [
        {
          "output_type": "execute_result",
          "data": {
            "text/plain": [
              "1"
            ]
          },
          "metadata": {},
          "execution_count": 1
        }
      ]
    },
    {
      "cell_type": "markdown",
      "source": [
        "#### Concatenação de strings\n"
      ],
      "metadata": {
        "id": "WN6tZ9GYd3Tu"
      }
    },
    {
      "cell_type": "code",
      "source": [
        "nome1 = 'Meu nome é'\n",
        "nome2 = 'Nathan'\n",
        "\n",
        "concat = nome1 + ' ' + nome2\n",
        "concat"
      ],
      "metadata": {
        "colab": {
          "base_uri": "https://localhost:8080/",
          "height": 35
        },
        "id": "1x-ehTkFdy9g",
        "outputId": "600778c6-3f19-477e-b6bc-11a6fc840e25"
      },
      "execution_count": null,
      "outputs": [
        {
          "output_type": "execute_result",
          "data": {
            "text/plain": [
              "'Meu nome é Nathan'"
            ],
            "application/vnd.google.colaboratory.intrinsic+json": {
              "type": "string"
            }
          },
          "metadata": {},
          "execution_count": 2
        }
      ]
    },
    {
      "cell_type": "markdown",
      "source": [
        "#### Coleções nativas em Python \n",
        "\n",
        "  - Listas\n",
        "  - Tuplas\n",
        "  - Dicionários\n"
      ],
      "metadata": {
        "id": "kS-0HsQWeV_6"
      }
    },
    {
      "cell_type": "markdown",
      "source": [
        "#### Listas\n",
        "\n",
        "  - Listas podem ser indexadas\n",
        "  - O primeiro item da lista tem indice 0\n",
        "  - A sintaxe é definida por [], e separados por ','\n",
        "  - .append() - adiciona um elemento ao final da lista\n",
        "  - .insert() - adiciona um elemento na posição desejada da lista\n",
        "  - .remove() - remove um elemento da lista. Utiliza o nome do elemento\n",
        "  - .pop() - remove um elemento da lista. Utiliza o indice do elemento"
      ],
      "metadata": {
        "id": "k1HloOpPeyW5"
      }
    },
    {
      "cell_type": "markdown",
      "source": [
        "#### Tuplas\n",
        "\n",
        "  - Estrutura semelhante à lista, porém é imutável\n",
        "  - A sinaxe é definida por (), e separados por ','\n",
        "  - Built-in function para criação de tupla = tuple()\n",
        "  - O primeiro item da tupla tem indice 0"
      ],
      "metadata": {
        "id": "cjiFHUKhhptE"
      }
    },
    {
      "cell_type": "markdown",
      "source": [
        "#### Dicionários \n",
        "\n",
        "  - Representam dados que contém na sua esturutra um conjunto de pares chave/valor\n",
        "  - A sintaxe é definida por {}\n",
        "  "
      ],
      "metadata": {
        "id": "ujKNEkaxihqE"
      }
    },
    {
      "cell_type": "code",
      "source": [
        "# Dicionários - Chave: Valor\n",
        "\n",
        "dados = {\n",
        "    'Nome': ['Jorge', 'Paulo'],\n",
        "    'Endereço': ['Rua Santos Drummond', 'Rua São João de Meriti'],\n",
        "    'Telefone': ['99999-9999', '99999-9999']\n",
        "\n",
        "}\n",
        "\n",
        "dados['Idade'] = [25, 42]\n",
        "\n",
        "dados"
      ],
      "metadata": {
        "colab": {
          "base_uri": "https://localhost:8080/"
        },
        "id": "RMPN3ZYLeI2k",
        "outputId": "76243f7e-b21e-47d3-92f9-8e32ebc3968c"
      },
      "execution_count": null,
      "outputs": [
        {
          "output_type": "execute_result",
          "data": {
            "text/plain": [
              "{'Nome': ['Jorge', 'Paulo'],\n",
              " 'Endereço': ['Rua Santos Drummond', 'Rua São João de Meriti'],\n",
              " 'Telefone': ['99999-9999', '99999-9999'],\n",
              " 'Idade': [25, 42]}"
            ]
          },
          "metadata": {},
          "execution_count": 3
        }
      ]
    },
    {
      "cell_type": "markdown",
      "source": [
        "#### Operações \n",
        "\n",
        "  - .min() - Define o valor mínimo. Caso sejam str, ele retorna de acordo com a ordem alfabética\n",
        "  - .max() - Define o valor máximo. Caso sejam str, ele retorna de acordo com a ordem alfabética\n",
        "  - .sum() - Soma os valores do elemento.\n",
        "  - .sort() - Função para listas que modifica a posição dos elementos \n",
        "  - .sorted() - Função para modificar a posição dos elementos para qualquer iterável"
      ],
      "metadata": {
        "id": "__mixTdpkseR"
      }
    },
    {
      "cell_type": "markdown",
      "source": [
        "#### Condicionais e Laços\n",
        "\n",
        "  - If; Elif; Else\n",
        "  - For\n",
        "  - While"
      ],
      "metadata": {
        "id": "kPc0-L-ZpUjs"
      }
    },
    {
      "cell_type": "markdown",
      "source": [
        "#### Condicional\n",
        "\n",
        "  - if\n",
        "  - elif\n",
        "  - else\n",
        "  "
      ],
      "metadata": {
        "id": "o7yZWFXrpesh"
      }
    },
    {
      "cell_type": "code",
      "source": [
        "if 5>2 :\n",
        "  print('É maior')\n",
        "else:\n",
        "  print('É menor')"
      ],
      "metadata": {
        "colab": {
          "base_uri": "https://localhost:8080/"
        },
        "id": "5kVuzE93jlgp",
        "outputId": "b08071c6-e11e-4500-e935-20ef257a35fa"
      },
      "execution_count": null,
      "outputs": [
        {
          "output_type": "stream",
          "name": "stdout",
          "text": [
            "É maior\n"
          ]
        }
      ]
    },
    {
      "cell_type": "markdown",
      "source": [
        "#### For loop"
      ],
      "metadata": {
        "id": "t0vreb0ErsKt"
      }
    },
    {
      "cell_type": "code",
      "source": [
        "tp = (2,3,4)\n",
        "\n",
        "for i in tp:\n",
        "  print(i)\n",
        "\n",
        "lista = ['Banana', 'Maça', 42]\n",
        "\n",
        "for i in lista:\n",
        "  print(i)\n",
        "\n",
        "for caracter in 'Python':\n",
        "  print(caracter)"
      ],
      "metadata": {
        "colab": {
          "base_uri": "https://localhost:8080/"
        },
        "id": "z7-YlLfZpvwG",
        "outputId": "a5cc437a-debb-43ee-dd77-b1b69fc2a725"
      },
      "execution_count": null,
      "outputs": [
        {
          "output_type": "stream",
          "name": "stdout",
          "text": [
            "2\n",
            "3\n",
            "4\n",
            "Banana\n",
            "Maça\n",
            "42\n",
            "P\n",
            "y\n",
            "t\n",
            "h\n",
            "o\n",
            "n\n"
          ]
        }
      ]
    },
    {
      "cell_type": "markdown",
      "source": [
        "#### While loop\n"
      ],
      "metadata": {
        "id": "OGsBTcoWswjd"
      }
    },
    {
      "cell_type": "code",
      "source": [
        "cont = 0 \n",
        "\n",
        "while cont < 5:\n",
        "  print(cont)\n",
        "  cont +=1\n",
        "\n",
        "else:\n",
        "  print('Loop finalizado')"
      ],
      "metadata": {
        "colab": {
          "base_uri": "https://localhost:8080/"
        },
        "id": "YwitzYNkr-wF",
        "outputId": "d17242e6-0c71-403a-cc0f-851e2a1b4b58"
      },
      "execution_count": null,
      "outputs": [
        {
          "output_type": "stream",
          "name": "stdout",
          "text": [
            "0\n",
            "1\n",
            "2\n",
            "3\n",
            "4\n",
            "Loop finalizado\n"
          ]
        }
      ]
    },
    {
      "cell_type": "markdown",
      "source": [
        "#### Pass, Break, Continue\n",
        "\n",
        "  - Nada acontece quando Pass é executado\n",
        "  - Break permite que o usuário saia do loop fod ou while prematuramente\n",
        "  - Continue ignora o restante das instruções dentro de um loop e continua com a próxima iteração. Não interrompe o loop como o break, mas pula e continua a próxima iteração\n",
        "  "
      ],
      "metadata": {
        "id": "S5f2mn9St1-k"
      }
    },
    {
      "cell_type": "code",
      "source": [
        "def nada ():\n",
        "  pass\n",
        "\n",
        "nada()"
      ],
      "metadata": {
        "id": "DgmZ2WLIs5KT"
      },
      "execution_count": null,
      "outputs": []
    },
    {
      "cell_type": "code",
      "source": [
        "count = 0\n",
        "\n",
        "while count < 100:\n",
        "  if count == 4:\n",
        "    break\n",
        "  else:\n",
        "    pass\n",
        "  print(count)\n",
        "  count +=1"
      ],
      "metadata": {
        "colab": {
          "base_uri": "https://localhost:8080/"
        },
        "id": "exIUSJEyuW27",
        "outputId": "4aad452e-7cc3-436c-954a-80820a5d573c"
      },
      "execution_count": null,
      "outputs": [
        {
          "output_type": "stream",
          "name": "stdout",
          "text": [
            "0\n",
            "1\n",
            "2\n",
            "3\n"
          ]
        }
      ]
    },
    {
      "cell_type": "code",
      "source": [
        "for verificador in 'Python':\n",
        "  if verificador == 'h':\n",
        "    continue\n",
        "  print(verificador)"
      ],
      "metadata": {
        "colab": {
          "base_uri": "https://localhost:8080/"
        },
        "id": "Bh6zkyebulqj",
        "outputId": "510b5439-0159-48f4-f486-1b72586eefec"
      },
      "execution_count": null,
      "outputs": [
        {
          "output_type": "stream",
          "name": "stdout",
          "text": [
            "P\n",
            "y\n",
            "t\n",
            "o\n",
            "n\n"
          ]
        }
      ]
    },
    {
      "cell_type": "markdown",
      "source": [
        "Exercício: Escreva um programa em Python para classificar um corpo hídrico (agua doce) de acordo com a concentração de DBO nas classes d Resolução CONAMA 375/05.\n",
        "\n",
        "  - Classe 1: OD > 6; DBO <= 3\n",
        "  - Classe 2: OD > 5; DBO <= 5\n",
        "  - Classe 3: OD > 3; DBO <= 10\n",
        "  - Classe 4: OD > 2; DBO > 10"
      ],
      "metadata": {
        "id": "TJgW4g7ewRKm"
      }
    },
    {
      "cell_type": "code",
      "source": [
        "def conama ():\n",
        "\n",
        "  DBO = input('Insira o valor de DBO: ')\n",
        "\n",
        "  if int(DBO) <= 3 & int(DBO) > 0:\n",
        "    print('Classe 1')\n",
        "  \n",
        "  if int(DBO) <= 5 & int(DBO) > 3:\n",
        "    print('Classe 2')\n",
        "  \n",
        "  if int(DBO) <= 10 & int(DBO) > 5:\n",
        "    print('Classe 3')\n",
        "  \n",
        "  if int(DBO) > 10:\n",
        "    print ('Classe 4')\n",
        "  \n",
        "\n",
        "conama()"
      ],
      "metadata": {
        "colab": {
          "base_uri": "https://localhost:8080/"
        },
        "id": "zPVnrO78vll_",
        "outputId": "65e43022-d18f-4115-eafe-a288dd31cf4a"
      },
      "execution_count": null,
      "outputs": [
        {
          "output_type": "stream",
          "name": "stdout",
          "text": [
            "Insira o valor de DBO: 4\n",
            "Classe 2\n"
          ]
        }
      ]
    },
    {
      "cell_type": "code",
      "source": [
        "## Exercício 3 - lista 1\n",
        "\n",
        "import random\n",
        "\n",
        "\n",
        "def guessing_game():\n",
        "\n",
        "  a = input('Please define an entry: ')\n",
        "\n",
        "  b = random.randint(1,9)\n",
        "  if a == b:\n",
        "    print('Correct guess')\n",
        "  else:\n",
        "    print('Try again')\n",
        "\n",
        "guessing_game()\n"
      ],
      "metadata": {
        "colab": {
          "base_uri": "https://localhost:8080/"
        },
        "id": "67L3LyRmzaVb",
        "outputId": "fd1c4117-8fd5-4cde-86d2-dd0ca61dea12"
      },
      "execution_count": null,
      "outputs": [
        {
          "output_type": "stream",
          "name": "stdout",
          "text": [
            "Please define an entry: 2\n",
            "Try again\n"
          ]
        }
      ]
    },
    {
      "cell_type": "markdown",
      "source": [
        "#### Bibliotecas numpy e matplotlib\n"
      ],
      "metadata": {
        "id": "wWa6JQXf3q-V"
      }
    },
    {
      "cell_type": "code",
      "source": [
        "import numpy as np\n",
        "import matplotlib.pyplot as plt\n",
        "%matplotlib inline\n"
      ],
      "metadata": {
        "id": "knp6eWg026qR"
      },
      "execution_count": null,
      "outputs": []
    },
    {
      "cell_type": "markdown",
      "source": [
        "#### Operação com matrizes\n"
      ],
      "metadata": {
        "id": "Hyi1ytXo4FL1"
      }
    },
    {
      "cell_type": "code",
      "source": [
        "X = np.array([[1,2], [3,4]])\n",
        "Y = np.array([[1,-1], [0,1]])\n",
        "\n",
        "X * Y # multiplicação de elementos\n",
        "X @ Y # multiplicação matricial\n",
        "np.dot(X,Y) # Produto interno dos vetores\n",
        "inverso = np.linalg.inv(X) # Matriz inversa\n",
        "transposta = np.transpose(X) # Matriz transposta\n",
        "diag_princ = X.diagonal # Diagonal principal"
      ],
      "metadata": {
        "id": "F0-DTw344DGe"
      },
      "execution_count": null,
      "outputs": []
    },
    {
      "cell_type": "markdown",
      "source": [
        "#### Matplotlib "
      ],
      "metadata": {
        "id": "vO-cK5ru51B_"
      }
    },
    {
      "cell_type": "code",
      "source": [
        "xarray = np.linspace(0, 2, 41)\n",
        "xarray\n",
        "\n",
        "potencia2 = xarray**2\n",
        "potencia3 = xarray**3\n",
        "potenciameio = xarray**1/2"
      ],
      "metadata": {
        "id": "46ifE3t_5HyT"
      },
      "execution_count": null,
      "outputs": []
    },
    {
      "cell_type": "code",
      "source": [
        "plt.plot(xarray, potencia2, 'black', linestyle = '-', label = '$x^{2}$')\n",
        "plt.plot(xarray, potencia3, 'blue', linestyle = '-', label = '$x^{3}$')\n",
        "plt.plot(xarray, potenciameio, 'green', linestyle = '-', label = '$x^{1/2}$')\n",
        "plt.title('Comparação de potencias')\n",
        "plt.xlabel('x')\n",
        "plt.ylabel('y')\n",
        "plt.legend(loc = 'best')"
      ],
      "metadata": {
        "colab": {
          "base_uri": "https://localhost:8080/",
          "height": 312
        },
        "id": "5rtIt79V59Qy",
        "outputId": "a4b342d6-29f1-4e25-de4c-8b56a7dc577a"
      },
      "execution_count": null,
      "outputs": [
        {
          "output_type": "execute_result",
          "data": {
            "text/plain": [
              "<matplotlib.legend.Legend at 0x7f66e40ab610>"
            ]
          },
          "metadata": {},
          "execution_count": 38
        },
        {
          "output_type": "display_data",
          "data": {
            "text/plain": [
              "<Figure size 432x288 with 1 Axes>"
            ],
            "image/png": "[encoded data removed]"
          },
          "metadata": {
            "needs_background": "light"
          }
        }
      ]
    },
    {
      "cell_type": "code",
      "source": [],
      "metadata": {
        "id": "3CSb8no96vm9"
      },
      "execution_count": null,
      "outputs": []
    }
  ]
}