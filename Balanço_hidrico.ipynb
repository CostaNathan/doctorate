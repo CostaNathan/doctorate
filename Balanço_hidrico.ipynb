{
  "nbformat": 4,
  "nbformat_minor": 0,
  "metadata": {
    "colab": {
      "name": "Balanço_hidrico.ipynb",
      "provenance": [],
      "include_colab_link": true
    },
    "kernelspec": {
      "name": "python3",
      "display_name": "Python 3"
    },
    "language_info": {
      "name": "python"
    }
  },
  "cells": [
    {
      "cell_type": "markdown",
      "metadata": {
        "id": "view-in-github",
        "colab_type": "text"
      },
      "source": [
        "<a href=\"https://colab.research.google.com/github/CostaNathan/doctorate/blob/Modelos-de-dispers%C3%A3o-e-qualidade-da-%C3%A1gua/Balan%C3%A7o_hidrico.ipynb\" target=\"_parent\"><img src=\"https://colab.research.google.com/assets/colab-badge.svg\" alt=\"Open In Colab\"/></a>"
      ]
    },
    {
      "cell_type": "markdown",
      "source": [
        "Variação do volume do sistema a partir do balanço hídrico, tem informações no thomman.\n",
        "\n",
        "Conferir chapra e outras refs"
      ],
      "metadata": {
        "id": "zxGcfogED6ce"
      }
    },
    {
      "cell_type": "markdown",
      "source": [
        "- Inserir informações do QGIS em relação ao volume/área do reservatório (fazer seguindo as dicas do Diego)\n",
        "- Verificar a altura/altitude de referência do reservatório\n",
        "- Fazer um mapa da área de estudo no QGIS\n",
        "\n"
      ],
      "metadata": {
        "id": "Tf5mxUHFD6ia"
      }
    }
  ]
}