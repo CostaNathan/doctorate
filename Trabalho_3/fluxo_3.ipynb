{
 "cells": [
  {
   "cell_type": "markdown",
   "metadata": {},
   "source": [
    "\\begin{equation}\n",
    "C_{j+1}^{n+1}*(\\alpha_{j}^{n} - \\beta_{j}^{n}) + C_{j}^{n+1}* (1 +2*\\beta_{j}^{n}) + C_{j-1}^{n+1} *(-\\beta_{j}^{n} - \\alpha_{j}^{n}) = C_{j+1}^{n}*(\\beta_{j}^{n+1} - \\alpha_{j}^{n+1}) + C_{j}^{n}* (1- 2*\\beta_{j}^{n+1}) + C_{j-1}^{n} *(\\beta_{j}^{n+1} +\\alpha_{j}^{n+1})\n",
    "\\end{equation}\n"
   ]
  },
  {
   "cell_type": "markdown",
   "metadata": {},
   "source": [
    "Com as seguintes condições iniciais e de contorno:\n",
    "\n",
    "\\begin{equation}\n",
    "    C(x,t=0) = C_{0}\n",
    "\\end{equation}\n",
    "\n",
    "Condição de contorno:\n",
    "\n",
    "\\begin{equation}\n",
    "c(0, t)= 35 psu\n",
    "\\end{equation}\n",
    "\n",
    "\\begin{equation}\n",
    "c(L, t)= 0\n",
    "\\end{equation}\n"
   ]
  },
  {
   "cell_type": "code",
   "execution_count": 5,
   "metadata": {},
   "outputs": [],
   "source": [
    "import numpy as np\n",
    "import matplotlib.pyplot as plt\n",
    "import matplotlib as mpl\n",
    "import scipy.sparse as sp\n",
    "import scipy.sparse.linalg \n",
    "import scipy.linalg as la\n",
    "from numpy import zeros\n",
    "import pandas as pd"
   ]
  },
  {
   "cell_type": "code",
   "execution_count": 6,
   "metadata": {},
   "outputs": [],
   "source": [
    "# #===============================================================\n",
    "# # Definir velocidades interpoladas no tempo e espaço\n",
    "# #===============================================================\n",
    "\n",
    "df = pd.read_excel('https://github.com/CostaNathan/doctorate/blob/7dbd8277cc8b4aaeb6603073b4e97ce76a35175d/Trabalho_3/Arquivos_base/dominio_1_corrigido.xlsx?raw=true' ,sheet_name= 'interpolado_10_25')\n",
    "df.drop(labels = [df.columns[6],df.columns[7],df.columns[8],df.columns[9]], axis = 1, inplace=True)\n",
    "\n",
    "# # organizar os dataframes para cada hora a se interpolar\n",
    "\n",
    "df_h1 = df.iloc[:,0:8]\n",
    "df_h1= df_h1.drop(['0_elev', '1_elev'], axis = 1) # primeira hora para interpolar\n",
    "\n",
    "df_h2 = df.iloc[:,0:10]\n",
    "dummy = df_h2['1_vel']\n",
    "df_h2= df_h2.drop(['0_elev','0_vel', '1_elev','1_vel','2_elev'], axis = 1) \n",
    "df_h2.insert(0,'1_vel', dummy)\n",
    "\n",
    "df_h3 = df.iloc[:,0:12]\n",
    "dummy = df_h3['2_vel']\n",
    "df_h3= df_h3.drop(['0_elev','0_vel', '1_elev','1_vel','2_elev','2_vel','3_elev'], axis = 1) \n",
    "df_h3.insert(0,'2_vel', dummy)\n",
    "\n",
    "\n",
    "df_h4 = df.iloc[:,0:14]\n",
    "dummy = df_h4['3_vel']\n",
    "df_h4= df_h4.drop(['0_elev','0_vel', '1_elev','1_vel','2_elev','2_vel','3_elev','3_vel','4_elev'], axis = 1) \n",
    "df_h4.insert(0,'3_vel', dummy)\n",
    "\n",
    "df_h5 = df.iloc[:,0:16]\n",
    "dummy = df_h5['4_vel']\n",
    "df_h5= df_h5.drop(['0_elev','0_vel', '1_elev','1_vel','2_elev','2_vel','3_elev','3_vel','4_elev','4_vel','5_elev'], axis = 1) \n",
    "df_h5.insert(0,'4_vel', dummy)\n",
    "\n",
    "df_h6 = df.iloc[:,0:18]\n",
    "dummy = df_h6['5_vel']\n",
    "df_h6= df_h6.drop(['0_elev','0_vel', '1_elev','1_vel','2_elev','2_vel','3_elev','3_vel','4_elev','4_vel','5_elev','5_vel','6_elev'], axis = 1) \n",
    "df_h6.insert(0,'5_vel', dummy)\n",
    "\n",
    "df_h7 = df.iloc[:,0:20]\n",
    "dummy = df_h7['6_vel']\n",
    "df_h7= df_h7.drop(['0_elev','0_vel', '1_elev','1_vel','2_elev','2_vel','3_elev','3_vel','4_elev','4_vel','5_elev','5_vel','6_elev','6_vel', '7_elev'], axis = 1) \n",
    "df_h7.insert(0,'6_vel', dummy)\n",
    "\n",
    "df_h8 = df.iloc[:,0:22]\n",
    "dummy = df_h8['7_vel']\n",
    "df_h8= df_h8.drop(['0_elev','0_vel', '1_elev','1_vel','2_elev','2_vel','3_elev','3_vel','4_elev','4_vel','5_elev','5_vel','6_elev','6_vel', '7_elev', '7_vel', '8_elev'], axis = 1) \n",
    "df_h8.insert(0,'7_vel', dummy)\n",
    "\n",
    "df_h9 = df.iloc[:,0:24]\n",
    "dummy = df_h9['8_vel']\n",
    "df_h9= df_h9.drop(['0_elev','0_vel', '1_elev','1_vel','2_elev','2_vel','3_elev','3_vel','4_elev','4_vel','5_elev','5_vel','6_elev','6_vel', '7_elev', '7_vel', '8_elev', '8_vel', '9_elev'], axis = 1) \n",
    "df_h9.insert(0,'8_vel', dummy)\n",
    "\n",
    "df_h10 = df.iloc[:,0:26]\n",
    "dummy = df_h10['9_vel']\n",
    "df_h10= df_h10.drop(['0_elev','0_vel', '1_elev','1_vel','2_elev','2_vel','3_elev','3_vel','4_elev','4_vel','5_elev','5_vel','6_elev','6_vel', '7_elev', '7_vel', '8_elev', '8_vel', '9_elev', '9_vel', '10_elev'], axis = 1) \n",
    "df_h10.insert(0,'9_vel', dummy)\n",
    "\n",
    "df_h11 = df.iloc[:,0:28]\n",
    "dummy = df_h11['10_vel']\n",
    "df_h11= df_h11.drop(['0_elev','0_vel', '1_elev','1_vel','2_elev','2_vel','3_elev','3_vel','4_elev','4_vel','5_elev','5_vel','6_elev','6_vel', '7_elev', '7_vel', '8_elev', '8_vel', '9_elev', '9_vel', '10_elev', '10_vel', '11_elev'], axis = 1) \n",
    "df_h11.insert(0,'10_vel', dummy)\n",
    "\n",
    "df_h12 = df.iloc[:,0:30]\n",
    "dummy = df_h12['11_vel']\n",
    "df_h12= df_h12.drop(['0_elev','0_vel', '1_elev','1_vel','2_elev','2_vel','3_elev','3_vel','4_elev','4_vel','5_elev','5_vel','6_elev','6_vel', '7_elev', '7_vel', '8_elev', '8_vel', '9_elev', '9_vel', '10_elev', '10_vel', '11_elev', '11_vel', '12_elev'], axis = 1) \n",
    "df_h12.insert(0,'11_vel', dummy)\n",
    "\n",
    "df_h13 = df.iloc[:,0:32]\n",
    "dummy = df_h13['12_vel']\n",
    "df_h13= df_h13.drop(['0_elev','0_vel', '1_elev','1_vel','2_elev','2_vel','3_elev','3_vel','4_elev','4_vel','5_elev','5_vel','6_elev','6_vel', '7_elev', '7_vel', '8_elev', '8_vel', '9_elev', '9_vel', '10_elev', '10_vel', '11_elev', '11_vel', '12_elev', '12_vel', '13_elev'], axis = 1) \n",
    "df_h13.insert(0,'12_vel', dummy)\n",
    "\n",
    "interpolacao = pd.DataFrame(df_h1).interpolate()\n",
    "interpolacao = interpolacao.interpolate(axis=1)\n",
    "df = interpolacao\n",
    "\n",
    "interpolacao = pd.DataFrame(df_h2).interpolate()\n",
    "interpolacao = interpolacao.interpolate(axis=1)\n",
    "interpolacao.drop(labels= [interpolacao.columns[0]], axis=1, inplace=True)\n",
    "interpolacao.columns = ['1.1', '2.1', '3.1', '4.1', '2_vel']\n",
    "df = df.join(interpolacao)\n",
    "\n",
    "interpolacao = pd.DataFrame(df_h3).interpolate()\n",
    "interpolacao = interpolacao.interpolate(axis=1)\n",
    "interpolacao.drop(labels= [interpolacao.columns[0]], axis=1, inplace=True)\n",
    "interpolacao.columns = ['1.2', '2.2', '3.2', '4.2', '3_vel']\n",
    "df = df.join(interpolacao)\n",
    "\n",
    "interpolacao = pd.DataFrame(df_h4).interpolate()\n",
    "interpolacao = interpolacao.interpolate(axis=1)\n",
    "interpolacao.drop(labels= [interpolacao.columns[0]], axis=1, inplace=True)\n",
    "interpolacao.columns = ['1.3', '2.3', '3.3', '4.3', '4_vel']\n",
    "df = df.join(interpolacao)\n",
    "\n",
    "interpolacao = pd.DataFrame(df_h5).interpolate()\n",
    "interpolacao = interpolacao.interpolate(axis=1)\n",
    "interpolacao.drop(labels= [interpolacao.columns[0]], axis=1, inplace=True)\n",
    "interpolacao.columns = ['1.4', '2.4', '3.4', '4.4', '5_vel']\n",
    "df = df.join(interpolacao)\n",
    "\n",
    "interpolacao = pd.DataFrame(df_h6).interpolate()\n",
    "interpolacao = interpolacao.interpolate(axis=1)\n",
    "interpolacao.drop(labels= [interpolacao.columns[0]], axis=1, inplace=True)\n",
    "interpolacao.columns = ['1.5', '2.5', '3.5', '4.5',  '6_vel']\n",
    "df = df.join(interpolacao) \n",
    "\n",
    "interpolacao = pd.DataFrame(df_h7).interpolate()\n",
    "interpolacao = interpolacao.interpolate(axis=1)\n",
    "interpolacao.drop(labels= [interpolacao.columns[0]], axis=1, inplace=True)\n",
    "interpolacao.columns = ['1.6', '2.6', '3.6', '4.6', '7_vel']\n",
    "df = df.join(interpolacao) \n",
    "\n",
    "interpolacao = pd.DataFrame(df_h8).interpolate()\n",
    "interpolacao = interpolacao.interpolate(axis=1)\n",
    "interpolacao.drop(labels= [interpolacao.columns[0]], axis=1, inplace=True)\n",
    "interpolacao.columns = ['1.7', '2.7', '3.7', '4.7',  '8_vel']\n",
    "df = df.join(interpolacao) \n",
    "\n",
    "interpolacao = pd.DataFrame(df_h9).interpolate()\n",
    "interpolacao = interpolacao.interpolate(axis=1)\n",
    "interpolacao.drop(labels= [interpolacao.columns[0]], axis=1, inplace=True)\n",
    "interpolacao.columns = ['1.8', '2.8', '3.8', '4.8', '9_vel']\n",
    "df = df.join(interpolacao) \n",
    "\n",
    "interpolacao = pd.DataFrame(df_h10).interpolate()\n",
    "interpolacao = interpolacao.interpolate(axis=1)\n",
    "interpolacao.drop(labels= [interpolacao.columns[0]], axis=1, inplace=True)\n",
    "interpolacao.columns = ['1.9', '2.9', '3.9', '4.9', '10_vel']\n",
    "df = df.join(interpolacao) \n",
    "\n",
    "interpolacao = pd.DataFrame(df_h11).interpolate()\n",
    "interpolacao = interpolacao.interpolate(axis=1)\n",
    "interpolacao.drop(labels= [interpolacao.columns[0]], axis=1, inplace=True)\n",
    "interpolacao.columns = ['1.10', '2.10', '3.10', '4.10', '11_vel']\n",
    "df = df.join(interpolacao) \n",
    "\n",
    "interpolacao = pd.DataFrame(df_h12).interpolate()\n",
    "interpolacao = interpolacao.interpolate(axis=1)\n",
    "interpolacao.drop(labels= [interpolacao.columns[0]], axis=1, inplace=True)\n",
    "interpolacao.columns = ['1.11', '2.11', '3.11', '4.11',  '12_vel']\n",
    "df = df.join(interpolacao) \n",
    "\n",
    "interpolacao = pd.DataFrame(df_h13).interpolate()\n",
    "interpolacao = interpolacao.interpolate(axis=1)\n",
    "interpolacao.drop(labels= [interpolacao.columns[0]], axis=1, inplace=True)\n",
    "interpolacao.columns = ['1.12', '2.12', '3.12', '4.12', '13_vel']\n",
    "df = df.join(interpolacao) \n"
   ]
  },
  {
   "cell_type": "code",
   "execution_count": 7,
   "metadata": {},
   "outputs": [
    {
     "name": "stdout",
     "output_type": "stream",
     "text": [
      "Courant: OK\n",
      "Neumann: OK\n"
     ]
    }
   ],
   "source": [
    "#===============================================================\n",
    "# Defining parameters\n",
    "#===============================================================\n",
    "\n",
    "tmin = 0.\n",
    "tmax = 660.0 # Tempo total de análise - 24 hrs = 1440 min\n",
    "dt = 10.0 # Passo no tempo dt = 10min\n",
    "nt = int(tmax/dt) # Número de iterações no tempo\n",
    "t = np.arange(tmin, tmax, dt) # vetor tempo para plotar\n",
    "\n",
    "xmin = 0.\n",
    "xmax = 100900.0 # Distância total percorrida\n",
    "dx = 25.0 # Passo no espaço\n",
    "nx = int(xmax/dx) # Número de pontos em x, considera x=0 e x=xmax\n",
    "x = np.arange(xmin, xmax, dx)\n",
    "\n",
    "H = 4.0 # m\n",
    "#===============================================================\n",
    "# Stability check\n",
    "#===============================================================\n",
    "\n",
    "courant = 1.6*dt/dx                 # Número de Courant <= 1\n",
    "if courant <= 1:\n",
    "  print('Courant: OK')\n",
    "else:\n",
    "  print('Courant: Corrigir')\n",
    "\n",
    "neumann = (0.1*1.6*H) *dt/dx**2             # Von Neumann <= 1/2\n",
    "if neumann <= 0.5:\n",
    "  print('Neumann: OK')\n",
    "else:\n",
    "  print('Neumann: Corrigir')\n",
    "  \n",
    "#===============================================================\n",
    "# Definir componentes da matriz tridiagonal (A*u = b) -> vetor b\n",
    "#===============================================================\n",
    "\n",
    "b = np.zeros(nx)\n",
    "\n",
    "# Aplicar condição inicial \n",
    "\n",
    "ci = 0 # c(x.t=0) = 0\n",
    "\n",
    "def CI(x):                                                 # define a condição inicial\n",
    "    if xmin <= x <= xmax:\n",
    "        return ci          \n",
    "\n",
    "for i in range(nx):                                         # monta a condição inicial\n",
    "   xi = i*dx\n",
    "   b[i] = CI(xi)\n",
    "\n",
    "# Aplicar as condições de contorno \n",
    "\n",
    "b[0] = 35.0 # c(x=1, t) = 35\n",
    "b[nx-1] =  0 # c(x=xmax, t) = 0 \n",
    "\n",
    "#===============================================================\n",
    "# # Definir matriz tridiagonal de solução (A)\n",
    "#===============================================================\n",
    "\n",
    "# celeridade proveniente do data frame\n",
    "u_estrela = np.zeros(nx)\n",
    "D = np.zeros(nx)\n",
    "\n",
    "alfa = np.zeros(nx)\n",
    "beta = np.zeros(nx)\n",
    "\n",
    "k1 = np.zeros(nx)\n",
    "k2 = np.zeros(nx)\n",
    "k3 = np.zeros(nx)\n",
    "\n",
    "A = (sp.eye(nx, k=-1) + sp.eye(nx) + sp.eye(nx, k=1)) # Matriz de solução (A)\n",
    "A = sp.csr_matrix(A)\n"
   ]
  },
  {
   "cell_type": "code",
   "execution_count": 8,
   "metadata": {},
   "outputs": [
    {
     "name": "stdout",
     "output_type": "stream",
     "text": [
      "[ 3.50000000e+01 -1.57646341e-01  7.10118874e-04 ...  0.00000000e+00\n",
      "  0.00000000e+00  0.00000000e+00]\n",
      "[ 3.50000000e+01 -2.70850024e-01  1.72488143e-03 ...  0.00000000e+00\n",
      "  0.00000000e+00  0.00000000e+00]\n",
      "[ 3.50000000e+01 -3.52333901e-01  2.81543927e-03 ...  0.00000000e+00\n",
      "  0.00000000e+00  0.00000000e+00]\n",
      "[ 3.50000000e+01 -4.11128197e-01  3.86011930e-03 ...  0.00000000e+00\n",
      "  0.00000000e+00  0.00000000e+00]\n",
      "[ 3.50000000e+01 -4.53655501e-01  4.80093545e-03 ...  0.00000000e+00\n",
      "  0.00000000e+00  0.00000000e+00]\n",
      "[ 3.50000000e+01 -4.84493422e-01  5.61662576e-03 ...  0.00000000e+00\n",
      "  0.00000000e+00  0.00000000e+00]\n",
      "[ 3.50000000e+01 -5.06059274e-01  6.27640017e-03 ...  0.00000000e+00\n",
      "  0.00000000e+00  0.00000000e+00]\n",
      "[ 3.50000000e+01 -5.21319950e-01  6.80357058e-03 ...  0.00000000e+00\n",
      "  0.00000000e+00  0.00000000e+00]\n",
      "[ 3.50000000e+01 -5.32243637e-01  7.22191138e-03 ...  0.00000000e+00\n",
      "  0.00000000e+00  0.00000000e+00]\n",
      "[ 3.50000000e+01 -5.40149161e-01  7.55269984e-03 ...  0.00000000e+00\n",
      "  0.00000000e+00  0.00000000e+00]\n",
      "[ 3.50000000e+01 -5.45928997e-01  7.81380187e-03 ...  0.00000000e+00\n",
      "  0.00000000e+00  0.00000000e+00]\n",
      "[ 3.50000000e+01 -5.49991385e-01  8.00959752e-03 ...  0.00000000e+00\n",
      "  0.00000000e+00  0.00000000e+00]\n",
      "[ 3.50000000e+01 -5.52841697e-01  8.15464699e-03 ...  0.00000000e+00\n",
      "  0.00000000e+00  0.00000000e+00]\n",
      "[ 3.50000000e+01 -5.54809387e-01  8.25951405e-03 ...  0.00000000e+00\n",
      "  0.00000000e+00  0.00000000e+00]\n",
      "[ 3.50000000e+01 -5.56106755e-01  8.33161601e-03 ...  0.00000000e+00\n",
      "  0.00000000e+00  0.00000000e+00]\n",
      "[ 3.50000000e+01 -5.56864637e-01  8.37585654e-03 ...  0.00000000e+00\n",
      "  0.00000000e+00  0.00000000e+00]\n",
      "[ 3.50000000e+01 -5.57077030e-01  8.39235366e-03 ...  0.00000000e+00\n",
      "  0.00000000e+00  0.00000000e+00]\n",
      "[ 3.50000000e+01 -5.56754858e-01  8.38191719e-03 ...  0.00000000e+00\n",
      "  0.00000000e+00  0.00000000e+00]\n",
      "[ 3.50000000e+01 -5.55842882e-01  8.34321121e-03 ...  0.00000000e+00\n",
      "  0.00000000e+00  0.00000000e+00]\n",
      "[ 3.50000000e+01 -5.54203896e-01  8.27260338e-03 ...  0.00000000e+00\n",
      "  0.00000000e+00  0.00000000e+00]\n",
      "[ 3.50000000e+01 -5.51582550e-01  8.16386825e-03 ...  0.00000000e+00\n",
      "  0.00000000e+00  0.00000000e+00]\n",
      "[ 3.50000000e+01 -5.47734272e-01  8.01460551e-03 ...  0.00000000e+00\n",
      "  0.00000000e+00  0.00000000e+00]\n",
      "[ 3.50000000e+01 -5.42056365e-01  7.81532996e-03 ...  0.00000000e+00\n",
      "  0.00000000e+00  0.00000000e+00]\n",
      "[ 3.50000000e+01 -5.33548299e-01  7.55597765e-03 ...  0.00000000e+00\n",
      "  0.00000000e+00  0.00000000e+00]\n",
      "[ 3.50000000e+01 -5.20511450e-01  7.23058891e-03 ...  0.00000000e+00\n",
      "  0.00000000e+00  0.00000000e+00]\n",
      "[ 3.50000000e+01 -4.99985188e-01  6.85079758e-03 ...  0.00000000e+00\n",
      "  0.00000000e+00  0.00000000e+00]\n",
      "[ 3.50000000e+01 -4.68829352e-01  6.49107279e-03 ...  0.00000000e+00\n",
      "  0.00000000e+00  0.00000000e+00]\n",
      "[ 3.50000000e+01 -4.20614181e-01  6.29557562e-03 ...  0.00000000e+00\n",
      "  0.00000000e+00  0.00000000e+00]\n",
      "[ 3.50000000e+01 -3.44548062e-01  6.60016717e-03 ...  0.00000000e+00\n",
      "  0.00000000e+00  0.00000000e+00]\n",
      "[ 3.50000000e+01 -2.22230770e-01  8.15118267e-03 ...  0.00000000e+00\n",
      "  0.00000000e+00  0.00000000e+00]\n",
      "[ 3.50000000e+01 -2.18032977e-02  1.25687948e-02 ...  0.00000000e+00\n",
      "  0.00000000e+00  0.00000000e+00]\n",
      "[3.50000000e+01 2.88020532e-01 2.23000067e-02 ... 0.00000000e+00\n",
      " 0.00000000e+00 0.00000000e+00]\n",
      "[35.          0.76355561  0.04172186 ...  0.          0.\n",
      "  0.        ]\n",
      "Metade concluido\n",
      "[35.          1.48827108  0.07824213 ...  0.          0.\n",
      "  0.        ]\n",
      "[35.          2.58491053  0.14416635 ...  0.          0.\n",
      "  0.        ]\n",
      "[35.          4.23251216  0.25960983 ...  0.          0.\n",
      "  0.        ]\n",
      "[35.          6.51113971  0.44089661 ...  0.          0.\n",
      "  0.        ]\n",
      "[35.          9.56064406  0.71112073 ...  0.          0.\n",
      "  0.        ]\n",
      "[35.         13.51443956  1.09560029 ...  0.          0.\n",
      "  0.        ]\n",
      "[35.        18.485283   1.6198157 ...  0.         0.         0.       ]\n",
      "[35.         24.54964473  2.30663391 ...  0.          0.\n",
      "  0.        ]\n",
      "[35.         31.24402411  3.11051734 ...  0.          0.\n",
      "  0.        ]\n",
      "[35.         38.22795384  3.99015846 ...  0.          0.\n",
      "  0.        ]\n",
      "[35.         45.07915394  4.88669497 ...  0.          0.\n",
      "  0.        ]\n",
      "[35.         51.33711309  5.73031768 ...  0.          0.\n",
      "  0.        ]\n",
      "[35.         56.55552511  6.44954636 ...  0.          0.\n",
      "  0.        ]\n",
      "[35.         60.05734529  6.93883598 ...  0.          0.\n",
      "  0.        ]\n",
      "[35.         61.56822922  7.15153776 ...  0.          0.\n",
      "  0.        ]\n",
      "[35.         61.0085105   7.07395478 ...  0.          0.\n",
      "  0.        ]\n",
      "[35.         58.49531373  6.72581219 ...  0.          0.\n",
      "  0.        ]\n",
      "[35.         54.31570595  6.15478096 ...  0.          0.\n",
      "  0.        ]\n",
      "[35.         49.04964821  5.44936535 ...  0.          0.\n",
      "  0.        ]\n",
      "[35.         43.09591123  4.67144961 ...  0.          0.\n",
      "  0.        ]\n",
      "[35.         36.85197424  3.8796004  ...  0.          0.\n",
      "  0.        ]\n",
      "[35.         30.67539909  3.12294814 ...  0.          0.\n",
      "  0.        ]\n",
      "[35.         24.85632707  2.43758002 ...  0.          0.\n",
      "  0.        ]\n",
      "[35.         19.78981176  1.86566341 ...  0.          0.\n",
      "  0.        ]\n",
      "[35.         15.47314309  1.40017179 ...  0.          0.\n",
      "  0.        ]\n",
      "[35.         11.87120872  1.03038489 ...  0.          0.\n",
      "  0.        ]\n",
      "[35.          8.92563973  0.74353707 ...  0.          0.\n",
      "  0.        ]\n",
      "[35.          6.56354105  0.52620065 ...  0.          0.\n",
      "  0.        ]\n",
      "[35.          4.77129135  0.37072819 ...  0.          0.\n",
      "  0.        ]\n",
      "[35.          3.41614168  0.26016835 ...  0.          0.\n",
      "  0.        ]\n",
      "[35.          2.3950355   0.18203898 ...  0.          0.\n",
      "  0.        ]\n",
      "[35.          1.62828298  0.12719543 ...  0.          0.\n",
      "  0.        ]\n"
     ]
    }
   ],
   "source": [
    "#===============================================================\n",
    "# Iterações no tempo e no espaço\n",
    "#===============================================================\n",
    "\n",
    "rows,cols = A.nonzero() # define as coordenadas dos valores não nulos\n",
    "\n",
    "temp_resposta = np.zeros(nt) # define os tempos a se armazenar as respostas\n",
    "for i in range(nt):\n",
    "    if i%5 == 0:\n",
    "        temp_resposta[i] = i\n",
    "\n",
    "dummy_answer = zeros([nt, nx])\n",
    "cont = 0\n",
    "\n",
    "for n in range(0,nt-1):\n",
    "    \n",
    "    if n == nt/2:\n",
    "        print('Metade concluido')\n",
    "    \n",
    "    for i in range(0, nx):\n",
    "        \n",
    "        u_estrela[i] = 0.1 *  df.iloc[i,n] \n",
    "        D[i] = u_estrela[i] * H  \n",
    "        alfa[i]  =  df.iloc[i,n]*dt/dx                           # Stability condition - Udt/dx\n",
    "        beta[i]  = D[i]*dt/(dx**2)                               # Stability condition - Ddt/dx^2\n",
    "\n",
    "        k1[i]    =     - beta[i]                                        # Diagonal inferior \n",
    "        k2[i]    = 1 - alfa[i] + 2*beta[i]                                 # Diagonal meio\n",
    "        k3[i]    =     alfa[i] - beta[i]                            # Diagonal superior\n",
    "        \n",
    "        \n",
    "    for row, col in zip(rows, cols):\n",
    "        if row == col:\n",
    "            A[row, col] = k2[row]\n",
    "        if row > col:\n",
    "            A[row,col] = k1[col]\n",
    "        if row < col:\n",
    "            A[row,col] = k3[row]\n",
    "        \n",
    "    A[0,0] = 1\n",
    "    A[0,1] = 0\n",
    "    A[nx-1,nx-1] = 1\n",
    "    A[nx-1,nx-2] = 0\n",
    "\n",
    "    \n",
    "    u = sp.linalg.spsolve(A, b)\n",
    "    print(u)\n",
    "    \n",
    "    if cont == temp_resposta[n]:\n",
    "        dummy_answer[n,:] = u\n",
    "    \n",
    "    b = u\n",
    "    cont +=1"
   ]
  },
  {
   "cell_type": "code",
   "execution_count": 9,
   "metadata": {},
   "outputs": [
    {
     "name": "stderr",
     "output_type": "stream",
     "text": [
      "C:\\Users\\Nathan\\AppData\\Local\\Temp\\ipykernel_17072\\2276377503.py:2: RuntimeWarning: More than 20 figures have been opened. Figures created through the pyplot interface (`matplotlib.pyplot.figure`) are retained until explicitly closed and may consume too much memory. (To control this warning, see the rcParam `figure.max_open_warning`).\n",
      "  plt.figure(figsize=(7, 5), dpi=50)\n"
     ]
    },
    {
     "data": {
      "image/png": "[encoded data removed]",
      "text/plain": [
       "<Figure size 350x250 with 1 Axes>"
      ]
     },
     "metadata": {
      "needs_background": "light"
     },
     "output_type": "display_data"
    },
    {
     "data": {
      "text/plain": [
       "<Figure size 350x250 with 0 Axes>"
      ]
     },
     "metadata": {},
     "output_type": "display_data"
    },
    {
     "data": {
      "text/plain": [
       "<Figure size 350x250 with 0 Axes>"
      ]
     },
     "metadata": {},
     "output_type": "display_data"
    },
    {
     "data": {
      "text/plain": [
       "<Figure size 350x250 with 0 Axes>"
      ]
     },
     "metadata": {},
     "output_type": "display_data"
    },
    {
     "data": {
      "text/plain": [
       "<Figure size 350x250 with 0 Axes>"
      ]
     },
     "metadata": {},
     "output_type": "display_data"
    },
    {
     "data": {
      "image/png": "[encoded data removed]",
      "text/plain": [
       "<Figure size 350x250 with 1 Axes>"
      ]
     },
     "metadata": {
      "needs_background": "light"
     },
     "output_type": "display_data"
    },
    {
     "data": {
      "text/plain": [
       "<Figure size 350x250 with 0 Axes>"
      ]
     },
     "metadata": {},
     "output_type": "display_data"
    },
    {
     "data": {
      "text/plain": [
       "<Figure size 350x250 with 0 Axes>"
      ]
     },
     "metadata": {},
     "output_type": "display_data"
    },
    {
     "data": {
      "text/plain": [
       "<Figure size 350x250 with 0 Axes>"
      ]
     },
     "metadata": {},
     "output_type": "display_data"
    },
    {
     "data": {
      "text/plain": [
       "<Figure size 350x250 with 0 Axes>"
      ]
     },
     "metadata": {},
     "output_type": "display_data"
    },
    {
     "data": {
      "image/png": "[encoded data removed]",
      "text/plain": [
       "<Figure size 350x250 with 1 Axes>"
      ]
     },
     "metadata": {
      "needs_background": "light"
     },
     "output_type": "display_data"
    },
    {
     "data": {
      "text/plain": [
       "<Figure size 350x250 with 0 Axes>"
      ]
     },
     "metadata": {},
     "output_type": "display_data"
    },
    {
     "data": {
      "text/plain": [
       "<Figure size 350x250 with 0 Axes>"
      ]
     },
     "metadata": {},
     "output_type": "display_data"
    },
    {
     "data": {
      "text/plain": [
       "<Figure size 350x250 with 0 Axes>"
      ]
     },
     "metadata": {},
     "output_type": "display_data"
    },
    {
     "data": {
      "text/plain": [
       "<Figure size 350x250 with 0 Axes>"
      ]
     },
     "metadata": {},
     "output_type": "display_data"
    },
    {
     "data": {
      "image/png": "[encoded data removed]",
      "text/plain": [
       "<Figure size 350x250 with 1 Axes>"
      ]
     },
     "metadata": {
      "needs_background": "light"
     },
     "output_type": "display_data"
    },
    {
     "data": {
      "text/plain": [
       "<Figure size 350x250 with 0 Axes>"
      ]
     },
     "metadata": {},
     "output_type": "display_data"
    },
    {
     "data": {
      "text/plain": [
       "<Figure size 350x250 with 0 Axes>"
      ]
     },
     "metadata": {},
     "output_type": "display_data"
    },
    {
     "data": {
      "text/plain": [
       "<Figure size 350x250 with 0 Axes>"
      ]
     },
     "metadata": {},
     "output_type": "display_data"
    },
    {
     "data": {
      "text/plain": [
       "<Figure size 350x250 with 0 Axes>"
      ]
     },
     "metadata": {},
     "output_type": "display_data"
    },
    {
     "data": {
      "image/png": "[encoded data removed]",
      "text/plain": [
       "<Figure size 350x250 with 1 Axes>"
      ]
     },
     "metadata": {
      "needs_background": "light"
     },
     "output_type": "display_data"
    },
    {
     "data": {
      "text/plain": [
       "<Figure size 350x250 with 0 Axes>"
      ]
     },
     "metadata": {},
     "output_type": "display_data"
    },
    {
     "data": {
      "text/plain": [
       "<Figure size 350x250 with 0 Axes>"
      ]
     },
     "metadata": {},
     "output_type": "display_data"
    },
    {
     "data": {
      "text/plain": [
       "<Figure size 350x250 with 0 Axes>"
      ]
     },
     "metadata": {},
     "output_type": "display_data"
    },
    {
     "data": {
      "text/plain": [
       "<Figure size 350x250 with 0 Axes>"
      ]
     },
     "metadata": {},
     "output_type": "display_data"
    },
    {
     "data": {
      "image/png": "[encoded data removed]",
      "text/plain": [
       "<Figure size 350x250 with 1 Axes>"
      ]
     },
     "metadata": {
      "needs_background": "light"
     },
     "output_type": "display_data"
    },
    {
     "data": {
      "text/plain": [
       "<Figure size 350x250 with 0 Axes>"
      ]
     },
     "metadata": {},
     "output_type": "display_data"
    },
    {
     "data": {
      "text/plain": [
       "<Figure size 350x250 with 0 Axes>"
      ]
     },
     "metadata": {},
     "output_type": "display_data"
    },
    {
     "data": {
      "text/plain": [
       "<Figure size 350x250 with 0 Axes>"
      ]
     },
     "metadata": {},
     "output_type": "display_data"
    },
    {
     "data": {
      "text/plain": [
       "<Figure size 350x250 with 0 Axes>"
      ]
     },
     "metadata": {},
     "output_type": "display_data"
    },
    {
     "data": {
      "image/png": "[encoded data removed]",
      "text/plain": [
       "<Figure size 350x250 with 1 Axes>"
      ]
     },
     "metadata": {
      "needs_background": "light"
     },
     "output_type": "display_data"
    },
    {
     "data": {
      "text/plain": [
       "<Figure size 350x250 with 0 Axes>"
      ]
     },
     "metadata": {},
     "output_type": "display_data"
    },
    {
     "data": {
      "text/plain": [
       "<Figure size 350x250 with 0 Axes>"
      ]
     },
     "metadata": {},
     "output_type": "display_data"
    },
    {
     "data": {
      "text/plain": [
       "<Figure size 350x250 with 0 Axes>"
      ]
     },
     "metadata": {},
     "output_type": "display_data"
    },
    {
     "data": {
      "text/plain": [
       "<Figure size 350x250 with 0 Axes>"
      ]
     },
     "metadata": {},
     "output_type": "display_data"
    },
    {
     "data": {
      "image/png": "[encoded data removed]",
      "text/plain": [
       "<Figure size 350x250 with 1 Axes>"
      ]
     },
     "metadata": {
      "needs_background": "light"
     },
     "output_type": "display_data"
    },
    {
     "data": {
      "text/plain": [
       "<Figure size 350x250 with 0 Axes>"
      ]
     },
     "metadata": {},
     "output_type": "display_data"
    },
    {
     "data": {
      "text/plain": [
       "<Figure size 350x250 with 0 Axes>"
      ]
     },
     "metadata": {},
     "output_type": "display_data"
    },
    {
     "data": {
      "text/plain": [
       "<Figure size 350x250 with 0 Axes>"
      ]
     },
     "metadata": {},
     "output_type": "display_data"
    },
    {
     "data": {
      "text/plain": [
       "<Figure size 350x250 with 0 Axes>"
      ]
     },
     "metadata": {},
     "output_type": "display_data"
    },
    {
     "data": {
      "image/png": "[encoded data removed]",
      "text/plain": [
       "<Figure size 350x250 with 1 Axes>"
      ]
     },
     "metadata": {
      "needs_background": "light"
     },
     "output_type": "display_data"
    },
    {
     "data": {
      "text/plain": [
       "<Figure size 350x250 with 0 Axes>"
      ]
     },
     "metadata": {},
     "output_type": "display_data"
    },
    {
     "data": {
      "text/plain": [
       "<Figure size 350x250 with 0 Axes>"
      ]
     },
     "metadata": {},
     "output_type": "display_data"
    },
    {
     "data": {
      "text/plain": [
       "<Figure size 350x250 with 0 Axes>"
      ]
     },
     "metadata": {},
     "output_type": "display_data"
    },
    {
     "data": {
      "text/plain": [
       "<Figure size 350x250 with 0 Axes>"
      ]
     },
     "metadata": {},
     "output_type": "display_data"
    },
    {
     "data": {
      "image/png": "[encoded data removed]",
      "text/plain": [
       "<Figure size 350x250 with 1 Axes>"
      ]
     },
     "metadata": {
      "needs_background": "light"
     },
     "output_type": "display_data"
    },
    {
     "data": {
      "text/plain": [
       "<Figure size 350x250 with 0 Axes>"
      ]
     },
     "metadata": {},
     "output_type": "display_data"
    },
    {
     "data": {
      "text/plain": [
       "<Figure size 350x250 with 0 Axes>"
      ]
     },
     "metadata": {},
     "output_type": "display_data"
    },
    {
     "data": {
      "text/plain": [
       "<Figure size 350x250 with 0 Axes>"
      ]
     },
     "metadata": {},
     "output_type": "display_data"
    },
    {
     "data": {
      "text/plain": [
       "<Figure size 350x250 with 0 Axes>"
      ]
     },
     "metadata": {},
     "output_type": "display_data"
    },
    {
     "data": {
      "image/png": "[encoded data removed]",
      "text/plain": [
       "<Figure size 350x250 with 1 Axes>"
      ]
     },
     "metadata": {
      "needs_background": "light"
     },
     "output_type": "display_data"
    },
    {
     "data": {
      "text/plain": [
       "<Figure size 350x250 with 0 Axes>"
      ]
     },
     "metadata": {},
     "output_type": "display_data"
    },
    {
     "data": {
      "text/plain": [
       "<Figure size 350x250 with 0 Axes>"
      ]
     },
     "metadata": {},
     "output_type": "display_data"
    },
    {
     "data": {
      "text/plain": [
       "<Figure size 350x250 with 0 Axes>"
      ]
     },
     "metadata": {},
     "output_type": "display_data"
    },
    {
     "data": {
      "text/plain": [
       "<Figure size 350x250 with 0 Axes>"
      ]
     },
     "metadata": {},
     "output_type": "display_data"
    },
    {
     "data": {
      "image/png": "[encoded data removed]",
      "text/plain": [
       "<Figure size 350x250 with 1 Axes>"
      ]
     },
     "metadata": {
      "needs_background": "light"
     },
     "output_type": "display_data"
    },
    {
     "data": {
      "text/plain": [
       "<Figure size 350x250 with 0 Axes>"
      ]
     },
     "metadata": {},
     "output_type": "display_data"
    },
    {
     "data": {
      "text/plain": [
       "<Figure size 350x250 with 0 Axes>"
      ]
     },
     "metadata": {},
     "output_type": "display_data"
    },
    {
     "data": {
      "text/plain": [
       "<Figure size 350x250 with 0 Axes>"
      ]
     },
     "metadata": {},
     "output_type": "display_data"
    },
    {
     "data": {
      "text/plain": [
       "<Figure size 350x250 with 0 Axes>"
      ]
     },
     "metadata": {},
     "output_type": "display_data"
    },
    {
     "data": {
      "image/png": "[encoded data removed]",
      "text/plain": [
       "<Figure size 350x250 with 1 Axes>"
      ]
     },
     "metadata": {
      "needs_background": "light"
     },
     "output_type": "display_data"
    },
    {
     "data": {
      "text/plain": [
       "<Figure size 350x250 with 0 Axes>"
      ]
     },
     "metadata": {},
     "output_type": "display_data"
    },
    {
     "data": {
      "text/plain": [
       "<Figure size 350x250 with 0 Axes>"
      ]
     },
     "metadata": {},
     "output_type": "display_data"
    },
    {
     "data": {
      "text/plain": [
       "<Figure size 350x250 with 0 Axes>"
      ]
     },
     "metadata": {},
     "output_type": "display_data"
    },
    {
     "data": {
      "text/plain": [
       "<Figure size 350x250 with 0 Axes>"
      ]
     },
     "metadata": {},
     "output_type": "display_data"
    },
    {
     "data": {
      "image/png": "[encoded data removed]",
      "text/plain": [
       "<Figure size 350x250 with 1 Axes>"
      ]
     },
     "metadata": {
      "needs_background": "light"
     },
     "output_type": "display_data"
    }
   ],
   "source": [
    "for i in range(nt):\n",
    "    plt.figure(figsize=(7, 5), dpi=50)\n",
    "    if i%5==0:\n",
    "        plt.plot(x[0:1000], dummy_answer[i,0:1000])"
   ]
  },
  {
   "cell_type": "code",
   "execution_count": null,
   "metadata": {},
   "outputs": [],
   "source": []
  }
 ],
 "metadata": {
  "kernelspec": {
   "display_name": "Python 3.9.10 64-bit",
   "language": "python",
   "name": "python3"
  },
  "language_info": {
   "codemirror_mode": {
    "name": "ipython",
    "version": 3
   },
   "file_extension": ".py",
   "mimetype": "text/x-python",
   "name": "python",
   "nbconvert_exporter": "python",
   "pygments_lexer": "ipython3",
   "version": "3.9.10"
  },
  "orig_nbformat": 4,
  "vscode": {
   "interpreter": {
    "hash": "e6188657b764ebd2e2049ca165f00f1f1826e7e744e1718aa90a1b75ebf0a7c8"
   }
  }
 },
 "nbformat": 4,
 "nbformat_minor": 2
}
