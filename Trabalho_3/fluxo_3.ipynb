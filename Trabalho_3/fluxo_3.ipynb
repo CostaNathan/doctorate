{
 "cells": [
  {
   "cell_type": "markdown",
   "metadata": {},
   "source": [
    "\\begin{equation}\n",
    "C_{j+1}^{n+1}*(\\alpha_{j}^{n} - \\beta_{j}^{n}) + C_{j}^{n+1}* (1 +2*\\beta_{j}^{n}) + C_{j-1}^{n+1} *(-\\beta_{j}^{n} - \\alpha_{j}^{n}) = C_{j+1}^{n}*(\\beta_{j}^{n+1} - \\alpha_{j}^{n+1}) + C_{j}^{n}* (1- 2*\\beta_{j}^{n+1}) + C_{j-1}^{n} *(\\beta_{j}^{n+1} +\\alpha_{j}^{n+1})\n",
    "\\end{equation}\n"
   ]
  },
  {
   "cell_type": "markdown",
   "metadata": {},
   "source": [
    "Com as seguintes condições iniciais e de contorno:\n",
    "\n",
    "\\begin{equation}\n",
    "    C(x,t=0) = C_{0}\n",
    "\\end{equation}\n",
    "\n",
    "Condição de contorno:\n",
    "\n",
    "\\begin{equation}\n",
    "c(0, t)= 35 psu\n",
    "\\end{equation}\n",
    "\n",
    "\\begin{equation}\n",
    "c(L, t)= 0\n",
    "\\end{equation}\n"
   ]
  },
  {
   "cell_type": "code",
   "execution_count": 1,
   "metadata": {},
   "outputs": [],
   "source": [
    "import numpy as np\n",
    "import matplotlib.pyplot as plt\n",
    "import matplotlib as mpl\n",
    "import scipy.sparse as sp\n",
    "import scipy.sparse.linalg \n",
    "import scipy.linalg as la\n",
    "from numpy import zeros\n",
    "import pandas as pd"
   ]
  },
  {
   "cell_type": "code",
   "execution_count": 2,
   "metadata": {},
   "outputs": [],
   "source": [
    "# #===============================================================\n",
    "# # Definir velocidades interpoladas no tempo e espaço\n",
    "# #===============================================================\n",
    "\n",
    "df = pd.read_excel('https://github.com/CostaNathan/doctorate/blob/68e89c45fa0fb09166efee46afa40b885cb9fb26/Trabalho_3/Arquivos_base/dominio_1_corrigido.xlsx?raw=true' ,sheet_name= 'interpolado_10_25')\n",
    "df.drop(labels = [df.columns[6],df.columns[7],df.columns[8],df.columns[9]], axis = 1, inplace=True)\n",
    "\n",
    "# # organizar os dataframes para cada hora a se interpolar\n",
    "\n",
    "df_h1 = df.iloc[:,0:8]\n",
    "df_h1= df_h1.drop(['0_elev', '1_elev'], axis = 1) # primeira hora para interpolar\n",
    "\n",
    "df_h2 = df.iloc[:,0:10]\n",
    "dummy = df_h2['1_vel']\n",
    "df_h2= df_h2.drop(['0_elev','0_vel', '1_elev','1_vel','2_elev'], axis = 1) \n",
    "df_h2.insert(0,'1_vel', dummy)\n",
    "\n",
    "df_h3 = df.iloc[:,0:12]\n",
    "dummy = df_h3['2_vel']\n",
    "df_h3= df_h3.drop(['0_elev','0_vel', '1_elev','1_vel','2_elev','2_vel','3_elev'], axis = 1) \n",
    "df_h3.insert(0,'2_vel', dummy)\n",
    "\n",
    "\n",
    "df_h4 = df.iloc[:,0:14]\n",
    "dummy = df_h4['3_vel']\n",
    "df_h4= df_h4.drop(['0_elev','0_vel', '1_elev','1_vel','2_elev','2_vel','3_elev','3_vel','4_elev'], axis = 1) \n",
    "df_h4.insert(0,'3_vel', dummy)\n",
    "\n",
    "df_h5 = df.iloc[:,0:16]\n",
    "dummy = df_h5['4_vel']\n",
    "df_h5= df_h5.drop(['0_elev','0_vel', '1_elev','1_vel','2_elev','2_vel','3_elev','3_vel','4_elev','4_vel','5_elev'], axis = 1) \n",
    "df_h5.insert(0,'4_vel', dummy)\n",
    "\n",
    "df_h6 = df.iloc[:,0:18]\n",
    "dummy = df_h6['5_vel']\n",
    "df_h6= df_h6.drop(['0_elev','0_vel', '1_elev','1_vel','2_elev','2_vel','3_elev','3_vel','4_elev','4_vel','5_elev','5_vel','6_elev'], axis = 1) \n",
    "df_h6.insert(0,'5_vel', dummy)\n",
    "\n",
    "df_h7 = df.iloc[:,0:20]\n",
    "dummy = df_h7['6_vel']\n",
    "df_h7= df_h7.drop(['0_elev','0_vel', '1_elev','1_vel','2_elev','2_vel','3_elev','3_vel','4_elev','4_vel','5_elev','5_vel','6_elev','6_vel', '7_elev'], axis = 1) \n",
    "df_h7.insert(0,'6_vel', dummy)\n",
    "\n",
    "df_h8 = df.iloc[:,0:22]\n",
    "dummy = df_h8['7_vel']\n",
    "df_h8= df_h8.drop(['0_elev','0_vel', '1_elev','1_vel','2_elev','2_vel','3_elev','3_vel','4_elev','4_vel','5_elev','5_vel','6_elev','6_vel', '7_elev', '7_vel', '8_elev'], axis = 1) \n",
    "df_h8.insert(0,'7_vel', dummy)\n",
    "\n",
    "df_h9 = df.iloc[:,0:24]\n",
    "dummy = df_h9['8_vel']\n",
    "df_h9= df_h9.drop(['0_elev','0_vel', '1_elev','1_vel','2_elev','2_vel','3_elev','3_vel','4_elev','4_vel','5_elev','5_vel','6_elev','6_vel', '7_elev', '7_vel', '8_elev', '8_vel', '9_elev'], axis = 1) \n",
    "df_h9.insert(0,'8_vel', dummy)\n",
    "\n",
    "df_h10 = df.iloc[:,0:26]\n",
    "dummy = df_h10['9_vel']\n",
    "df_h10= df_h10.drop(['0_elev','0_vel', '1_elev','1_vel','2_elev','2_vel','3_elev','3_vel','4_elev','4_vel','5_elev','5_vel','6_elev','6_vel', '7_elev', '7_vel', '8_elev', '8_vel', '9_elev', '9_vel', '10_elev'], axis = 1) \n",
    "df_h10.insert(0,'9_vel', dummy)\n",
    "\n",
    "df_h11 = df.iloc[:,0:28]\n",
    "dummy = df_h11['10_vel']\n",
    "df_h11= df_h11.drop(['0_elev','0_vel', '1_elev','1_vel','2_elev','2_vel','3_elev','3_vel','4_elev','4_vel','5_elev','5_vel','6_elev','6_vel', '7_elev', '7_vel', '8_elev', '8_vel', '9_elev', '9_vel', '10_elev', '10_vel', '11_elev'], axis = 1) \n",
    "df_h11.insert(0,'10_vel', dummy)\n",
    "\n",
    "df_h12 = df.iloc[:,0:30]\n",
    "dummy = df_h12['11_vel']\n",
    "df_h12= df_h12.drop(['0_elev','0_vel', '1_elev','1_vel','2_elev','2_vel','3_elev','3_vel','4_elev','4_vel','5_elev','5_vel','6_elev','6_vel', '7_elev', '7_vel', '8_elev', '8_vel', '9_elev', '9_vel', '10_elev', '10_vel', '11_elev', '11_vel', '12_elev'], axis = 1) \n",
    "df_h12.insert(0,'11_vel', dummy)\n",
    "\n",
    "df_h13 = df.iloc[:,0:32]\n",
    "dummy = df_h13['12_vel']\n",
    "df_h13= df_h13.drop(['0_elev','0_vel', '1_elev','1_vel','2_elev','2_vel','3_elev','3_vel','4_elev','4_vel','5_elev','5_vel','6_elev','6_vel', '7_elev', '7_vel', '8_elev', '8_vel', '9_elev', '9_vel', '10_elev', '10_vel', '11_elev', '11_vel', '12_elev', '12_vel', '13_elev'], axis = 1) \n",
    "df_h13.insert(0,'12_vel', dummy)\n",
    "\n",
    "interpolacao = pd.DataFrame(df_h1).interpolate()\n",
    "interpolacao = interpolacao.interpolate(axis=1)\n",
    "df = interpolacao\n",
    "\n",
    "interpolacao = pd.DataFrame(df_h2).interpolate()\n",
    "interpolacao = interpolacao.interpolate(axis=1)\n",
    "interpolacao.drop(labels= [interpolacao.columns[0]], axis=1, inplace=True)\n",
    "interpolacao.columns = ['1.1', '2.1', '3.1', '4.1', '2_vel']\n",
    "df = df.join(interpolacao)\n",
    "\n",
    "interpolacao = pd.DataFrame(df_h3).interpolate()\n",
    "interpolacao = interpolacao.interpolate(axis=1)\n",
    "interpolacao.drop(labels= [interpolacao.columns[0]], axis=1, inplace=True)\n",
    "interpolacao.columns = ['1.2', '2.2', '3.2', '4.2', '3_vel']\n",
    "df = df.join(interpolacao)\n",
    "\n",
    "interpolacao = pd.DataFrame(df_h4).interpolate()\n",
    "interpolacao = interpolacao.interpolate(axis=1)\n",
    "interpolacao.drop(labels= [interpolacao.columns[0]], axis=1, inplace=True)\n",
    "interpolacao.columns = ['1.3', '2.3', '3.3', '4.3', '4_vel']\n",
    "df = df.join(interpolacao)\n",
    "\n",
    "interpolacao = pd.DataFrame(df_h5).interpolate()\n",
    "interpolacao = interpolacao.interpolate(axis=1)\n",
    "interpolacao.drop(labels= [interpolacao.columns[0]], axis=1, inplace=True)\n",
    "interpolacao.columns = ['1.4', '2.4', '3.4', '4.4', '5_vel']\n",
    "df = df.join(interpolacao)\n",
    "\n",
    "interpolacao = pd.DataFrame(df_h6).interpolate()\n",
    "interpolacao = interpolacao.interpolate(axis=1)\n",
    "interpolacao.drop(labels= [interpolacao.columns[0]], axis=1, inplace=True)\n",
    "interpolacao.columns = ['1.5', '2.5', '3.5', '4.5',  '6_vel']\n",
    "df = df.join(interpolacao) \n",
    "\n",
    "interpolacao = pd.DataFrame(df_h7).interpolate()\n",
    "interpolacao = interpolacao.interpolate(axis=1)\n",
    "interpolacao.drop(labels= [interpolacao.columns[0]], axis=1, inplace=True)\n",
    "interpolacao.columns = ['1.6', '2.6', '3.6', '4.6', '7_vel']\n",
    "df = df.join(interpolacao) \n",
    "\n",
    "interpolacao = pd.DataFrame(df_h8).interpolate()\n",
    "interpolacao = interpolacao.interpolate(axis=1)\n",
    "interpolacao.drop(labels= [interpolacao.columns[0]], axis=1, inplace=True)\n",
    "interpolacao.columns = ['1.7', '2.7', '3.7', '4.7',  '8_vel']\n",
    "df = df.join(interpolacao) \n",
    "\n",
    "interpolacao = pd.DataFrame(df_h9).interpolate()\n",
    "interpolacao = interpolacao.interpolate(axis=1)\n",
    "interpolacao.drop(labels= [interpolacao.columns[0]], axis=1, inplace=True)\n",
    "interpolacao.columns = ['1.8', '2.8', '3.8', '4.8', '9_vel']\n",
    "df = df.join(interpolacao) \n",
    "\n",
    "interpolacao = pd.DataFrame(df_h10).interpolate()\n",
    "interpolacao = interpolacao.interpolate(axis=1)\n",
    "interpolacao.drop(labels= [interpolacao.columns[0]], axis=1, inplace=True)\n",
    "interpolacao.columns = ['1.9', '2.9', '3.9', '4.9', '10_vel']\n",
    "df = df.join(interpolacao) \n",
    "\n",
    "interpolacao = pd.DataFrame(df_h11).interpolate()\n",
    "interpolacao = interpolacao.interpolate(axis=1)\n",
    "interpolacao.drop(labels= [interpolacao.columns[0]], axis=1, inplace=True)\n",
    "interpolacao.columns = ['1.10', '2.10', '3.10', '4.10', '11_vel']\n",
    "df = df.join(interpolacao) \n",
    "\n",
    "interpolacao = pd.DataFrame(df_h12).interpolate()\n",
    "interpolacao = interpolacao.interpolate(axis=1)\n",
    "interpolacao.drop(labels= [interpolacao.columns[0]], axis=1, inplace=True)\n",
    "interpolacao.columns = ['1.11', '2.11', '3.11', '4.11',  '12_vel']\n",
    "df = df.join(interpolacao) \n",
    "\n",
    "interpolacao = pd.DataFrame(df_h13).interpolate()\n",
    "interpolacao = interpolacao.interpolate(axis=1)\n",
    "interpolacao.drop(labels= [interpolacao.columns[0]], axis=1, inplace=True)\n",
    "interpolacao.columns = ['1.12', '2.12', '3.12', '4.12', '13_vel']\n",
    "df = df.join(interpolacao) \n"
   ]
  },
  {
   "cell_type": "code",
   "execution_count": 3,
   "metadata": {},
   "outputs": [
    {
     "data": {
      "text/html": [
       "<div>\n",
       "<style scoped>\n",
       "    .dataframe tbody tr th:only-of-type {\n",
       "        vertical-align: middle;\n",
       "    }\n",
       "\n",
       "    .dataframe tbody tr th {\n",
       "        vertical-align: top;\n",
       "    }\n",
       "\n",
       "    .dataframe thead th {\n",
       "        text-align: right;\n",
       "    }\n",
       "</style>\n",
       "<table border=\"1\" class=\"dataframe\">\n",
       "  <thead>\n",
       "    <tr style=\"text-align: right;\">\n",
       "      <th></th>\n",
       "      <th>0_vel</th>\n",
       "      <th>1</th>\n",
       "      <th>2</th>\n",
       "      <th>3</th>\n",
       "      <th>4</th>\n",
       "      <th>1_vel</th>\n",
       "      <th>1.1</th>\n",
       "      <th>2.1</th>\n",
       "      <th>3.1</th>\n",
       "      <th>4.1</th>\n",
       "      <th>...</th>\n",
       "      <th>1.11</th>\n",
       "      <th>2.11</th>\n",
       "      <th>3.11</th>\n",
       "      <th>4.11</th>\n",
       "      <th>12_vel</th>\n",
       "      <th>1.12</th>\n",
       "      <th>2.12</th>\n",
       "      <th>3.12</th>\n",
       "      <th>4.12</th>\n",
       "      <th>13_vel</th>\n",
       "    </tr>\n",
       "  </thead>\n",
       "  <tbody>\n",
       "    <tr>\n",
       "      <th>0</th>\n",
       "      <td>-0.969095</td>\n",
       "      <td>-0.955821</td>\n",
       "      <td>-0.942547</td>\n",
       "      <td>-0.929274</td>\n",
       "      <td>-0.916000</td>\n",
       "      <td>-0.902726</td>\n",
       "      <td>-0.844227</td>\n",
       "      <td>-0.785728</td>\n",
       "      <td>-0.727229</td>\n",
       "      <td>-0.668730</td>\n",
       "      <td>...</td>\n",
       "      <td>-0.708421</td>\n",
       "      <td>-0.762133</td>\n",
       "      <td>-0.815846</td>\n",
       "      <td>-0.869559</td>\n",
       "      <td>-0.923271</td>\n",
       "      <td>-0.930730</td>\n",
       "      <td>-0.938188</td>\n",
       "      <td>-0.945646</td>\n",
       "      <td>-0.953105</td>\n",
       "      <td>-0.960563</td>\n",
       "    </tr>\n",
       "    <tr>\n",
       "      <th>1</th>\n",
       "      <td>-0.969192</td>\n",
       "      <td>-0.955929</td>\n",
       "      <td>-0.942667</td>\n",
       "      <td>-0.929405</td>\n",
       "      <td>-0.916143</td>\n",
       "      <td>-0.902881</td>\n",
       "      <td>-0.844390</td>\n",
       "      <td>-0.785900</td>\n",
       "      <td>-0.727409</td>\n",
       "      <td>-0.668919</td>\n",
       "      <td>...</td>\n",
       "      <td>-0.708375</td>\n",
       "      <td>-0.762110</td>\n",
       "      <td>-0.815845</td>\n",
       "      <td>-0.869580</td>\n",
       "      <td>-0.923315</td>\n",
       "      <td>-0.930792</td>\n",
       "      <td>-0.938269</td>\n",
       "      <td>-0.945746</td>\n",
       "      <td>-0.953222</td>\n",
       "      <td>-0.960699</td>\n",
       "    </tr>\n",
       "    <tr>\n",
       "      <th>2</th>\n",
       "      <td>-0.969288</td>\n",
       "      <td>-0.956037</td>\n",
       "      <td>-0.942787</td>\n",
       "      <td>-0.929536</td>\n",
       "      <td>-0.916286</td>\n",
       "      <td>-0.903035</td>\n",
       "      <td>-0.844553</td>\n",
       "      <td>-0.786071</td>\n",
       "      <td>-0.727589</td>\n",
       "      <td>-0.669107</td>\n",
       "      <td>...</td>\n",
       "      <td>-0.708330</td>\n",
       "      <td>-0.762087</td>\n",
       "      <td>-0.815844</td>\n",
       "      <td>-0.869602</td>\n",
       "      <td>-0.923359</td>\n",
       "      <td>-0.930854</td>\n",
       "      <td>-0.938350</td>\n",
       "      <td>-0.945845</td>\n",
       "      <td>-0.953340</td>\n",
       "      <td>-0.960835</td>\n",
       "    </tr>\n",
       "    <tr>\n",
       "      <th>3</th>\n",
       "      <td>-0.969384</td>\n",
       "      <td>-0.956145</td>\n",
       "      <td>-0.942907</td>\n",
       "      <td>-0.929668</td>\n",
       "      <td>-0.916429</td>\n",
       "      <td>-0.903190</td>\n",
       "      <td>-0.844717</td>\n",
       "      <td>-0.786243</td>\n",
       "      <td>-0.727769</td>\n",
       "      <td>-0.669296</td>\n",
       "      <td>...</td>\n",
       "      <td>-0.708284</td>\n",
       "      <td>-0.762064</td>\n",
       "      <td>-0.815844</td>\n",
       "      <td>-0.869623</td>\n",
       "      <td>-0.923403</td>\n",
       "      <td>-0.930916</td>\n",
       "      <td>-0.938430</td>\n",
       "      <td>-0.945944</td>\n",
       "      <td>-0.953458</td>\n",
       "      <td>-0.960972</td>\n",
       "    </tr>\n",
       "    <tr>\n",
       "      <th>4</th>\n",
       "      <td>-0.969480</td>\n",
       "      <td>-0.956253</td>\n",
       "      <td>-0.943026</td>\n",
       "      <td>-0.929799</td>\n",
       "      <td>-0.916572</td>\n",
       "      <td>-0.903345</td>\n",
       "      <td>-0.844880</td>\n",
       "      <td>-0.786415</td>\n",
       "      <td>-0.727950</td>\n",
       "      <td>-0.669484</td>\n",
       "      <td>...</td>\n",
       "      <td>-0.708239</td>\n",
       "      <td>-0.762041</td>\n",
       "      <td>-0.815843</td>\n",
       "      <td>-0.869645</td>\n",
       "      <td>-0.923446</td>\n",
       "      <td>-0.930979</td>\n",
       "      <td>-0.938511</td>\n",
       "      <td>-0.946043</td>\n",
       "      <td>-0.953575</td>\n",
       "      <td>-0.961108</td>\n",
       "    </tr>\n",
       "    <tr>\n",
       "      <th>...</th>\n",
       "      <td>...</td>\n",
       "      <td>...</td>\n",
       "      <td>...</td>\n",
       "      <td>...</td>\n",
       "      <td>...</td>\n",
       "      <td>...</td>\n",
       "      <td>...</td>\n",
       "      <td>...</td>\n",
       "      <td>...</td>\n",
       "      <td>...</td>\n",
       "      <td>...</td>\n",
       "      <td>...</td>\n",
       "      <td>...</td>\n",
       "      <td>...</td>\n",
       "      <td>...</td>\n",
       "      <td>...</td>\n",
       "      <td>...</td>\n",
       "      <td>...</td>\n",
       "      <td>...</td>\n",
       "      <td>...</td>\n",
       "      <td>...</td>\n",
       "    </tr>\n",
       "    <tr>\n",
       "      <th>4135</th>\n",
       "      <td>0.437833</td>\n",
       "      <td>0.400575</td>\n",
       "      <td>0.363318</td>\n",
       "      <td>0.326061</td>\n",
       "      <td>0.288803</td>\n",
       "      <td>0.251546</td>\n",
       "      <td>0.229637</td>\n",
       "      <td>0.207728</td>\n",
       "      <td>0.185819</td>\n",
       "      <td>0.163911</td>\n",
       "      <td>...</td>\n",
       "      <td>0.410614</td>\n",
       "      <td>0.420868</td>\n",
       "      <td>0.431122</td>\n",
       "      <td>0.441377</td>\n",
       "      <td>0.451631</td>\n",
       "      <td>0.431144</td>\n",
       "      <td>0.410656</td>\n",
       "      <td>0.390169</td>\n",
       "      <td>0.369681</td>\n",
       "      <td>0.349194</td>\n",
       "    </tr>\n",
       "    <tr>\n",
       "      <th>4136</th>\n",
       "      <td>0.437833</td>\n",
       "      <td>0.400575</td>\n",
       "      <td>0.363318</td>\n",
       "      <td>0.326061</td>\n",
       "      <td>0.288803</td>\n",
       "      <td>0.251546</td>\n",
       "      <td>0.229637</td>\n",
       "      <td>0.207728</td>\n",
       "      <td>0.185819</td>\n",
       "      <td>0.163911</td>\n",
       "      <td>...</td>\n",
       "      <td>0.410614</td>\n",
       "      <td>0.420868</td>\n",
       "      <td>0.431122</td>\n",
       "      <td>0.441377</td>\n",
       "      <td>0.451631</td>\n",
       "      <td>0.431144</td>\n",
       "      <td>0.410656</td>\n",
       "      <td>0.390169</td>\n",
       "      <td>0.369681</td>\n",
       "      <td>0.349194</td>\n",
       "    </tr>\n",
       "    <tr>\n",
       "      <th>4137</th>\n",
       "      <td>0.437833</td>\n",
       "      <td>0.400575</td>\n",
       "      <td>0.363318</td>\n",
       "      <td>0.326061</td>\n",
       "      <td>0.288803</td>\n",
       "      <td>0.251546</td>\n",
       "      <td>0.229637</td>\n",
       "      <td>0.207728</td>\n",
       "      <td>0.185819</td>\n",
       "      <td>0.163911</td>\n",
       "      <td>...</td>\n",
       "      <td>0.410614</td>\n",
       "      <td>0.420868</td>\n",
       "      <td>0.431122</td>\n",
       "      <td>0.441377</td>\n",
       "      <td>0.451631</td>\n",
       "      <td>0.431144</td>\n",
       "      <td>0.410656</td>\n",
       "      <td>0.390169</td>\n",
       "      <td>0.369681</td>\n",
       "      <td>0.349194</td>\n",
       "    </tr>\n",
       "    <tr>\n",
       "      <th>4138</th>\n",
       "      <td>0.437833</td>\n",
       "      <td>0.400575</td>\n",
       "      <td>0.363318</td>\n",
       "      <td>0.326061</td>\n",
       "      <td>0.288803</td>\n",
       "      <td>0.251546</td>\n",
       "      <td>0.229637</td>\n",
       "      <td>0.207728</td>\n",
       "      <td>0.185819</td>\n",
       "      <td>0.163911</td>\n",
       "      <td>...</td>\n",
       "      <td>0.410614</td>\n",
       "      <td>0.420868</td>\n",
       "      <td>0.431122</td>\n",
       "      <td>0.441377</td>\n",
       "      <td>0.451631</td>\n",
       "      <td>0.431144</td>\n",
       "      <td>0.410656</td>\n",
       "      <td>0.390169</td>\n",
       "      <td>0.369681</td>\n",
       "      <td>0.349194</td>\n",
       "    </tr>\n",
       "    <tr>\n",
       "      <th>4139</th>\n",
       "      <td>0.437833</td>\n",
       "      <td>0.400575</td>\n",
       "      <td>0.363318</td>\n",
       "      <td>0.326061</td>\n",
       "      <td>0.288803</td>\n",
       "      <td>0.251546</td>\n",
       "      <td>0.229637</td>\n",
       "      <td>0.207728</td>\n",
       "      <td>0.185819</td>\n",
       "      <td>0.163911</td>\n",
       "      <td>...</td>\n",
       "      <td>0.410614</td>\n",
       "      <td>0.420868</td>\n",
       "      <td>0.431122</td>\n",
       "      <td>0.441377</td>\n",
       "      <td>0.451631</td>\n",
       "      <td>0.431144</td>\n",
       "      <td>0.410656</td>\n",
       "      <td>0.390169</td>\n",
       "      <td>0.369681</td>\n",
       "      <td>0.349194</td>\n",
       "    </tr>\n",
       "  </tbody>\n",
       "</table>\n",
       "<p>4140 rows × 66 columns</p>\n",
       "</div>"
      ],
      "text/plain": [
       "         0_vel         1         2         3         4     1_vel       1.1  \\\n",
       "0    -0.969095 -0.955821 -0.942547 -0.929274 -0.916000 -0.902726 -0.844227   \n",
       "1    -0.969192 -0.955929 -0.942667 -0.929405 -0.916143 -0.902881 -0.844390   \n",
       "2    -0.969288 -0.956037 -0.942787 -0.929536 -0.916286 -0.903035 -0.844553   \n",
       "3    -0.969384 -0.956145 -0.942907 -0.929668 -0.916429 -0.903190 -0.844717   \n",
       "4    -0.969480 -0.956253 -0.943026 -0.929799 -0.916572 -0.903345 -0.844880   \n",
       "...        ...       ...       ...       ...       ...       ...       ...   \n",
       "4135  0.437833  0.400575  0.363318  0.326061  0.288803  0.251546  0.229637   \n",
       "4136  0.437833  0.400575  0.363318  0.326061  0.288803  0.251546  0.229637   \n",
       "4137  0.437833  0.400575  0.363318  0.326061  0.288803  0.251546  0.229637   \n",
       "4138  0.437833  0.400575  0.363318  0.326061  0.288803  0.251546  0.229637   \n",
       "4139  0.437833  0.400575  0.363318  0.326061  0.288803  0.251546  0.229637   \n",
       "\n",
       "           2.1       3.1       4.1  ...      1.11      2.11      3.11  \\\n",
       "0    -0.785728 -0.727229 -0.668730  ... -0.708421 -0.762133 -0.815846   \n",
       "1    -0.785900 -0.727409 -0.668919  ... -0.708375 -0.762110 -0.815845   \n",
       "2    -0.786071 -0.727589 -0.669107  ... -0.708330 -0.762087 -0.815844   \n",
       "3    -0.786243 -0.727769 -0.669296  ... -0.708284 -0.762064 -0.815844   \n",
       "4    -0.786415 -0.727950 -0.669484  ... -0.708239 -0.762041 -0.815843   \n",
       "...        ...       ...       ...  ...       ...       ...       ...   \n",
       "4135  0.207728  0.185819  0.163911  ...  0.410614  0.420868  0.431122   \n",
       "4136  0.207728  0.185819  0.163911  ...  0.410614  0.420868  0.431122   \n",
       "4137  0.207728  0.185819  0.163911  ...  0.410614  0.420868  0.431122   \n",
       "4138  0.207728  0.185819  0.163911  ...  0.410614  0.420868  0.431122   \n",
       "4139  0.207728  0.185819  0.163911  ...  0.410614  0.420868  0.431122   \n",
       "\n",
       "          4.11    12_vel      1.12      2.12      3.12      4.12    13_vel  \n",
       "0    -0.869559 -0.923271 -0.930730 -0.938188 -0.945646 -0.953105 -0.960563  \n",
       "1    -0.869580 -0.923315 -0.930792 -0.938269 -0.945746 -0.953222 -0.960699  \n",
       "2    -0.869602 -0.923359 -0.930854 -0.938350 -0.945845 -0.953340 -0.960835  \n",
       "3    -0.869623 -0.923403 -0.930916 -0.938430 -0.945944 -0.953458 -0.960972  \n",
       "4    -0.869645 -0.923446 -0.930979 -0.938511 -0.946043 -0.953575 -0.961108  \n",
       "...        ...       ...       ...       ...       ...       ...       ...  \n",
       "4135  0.441377  0.451631  0.431144  0.410656  0.390169  0.369681  0.349194  \n",
       "4136  0.441377  0.451631  0.431144  0.410656  0.390169  0.369681  0.349194  \n",
       "4137  0.441377  0.451631  0.431144  0.410656  0.390169  0.369681  0.349194  \n",
       "4138  0.441377  0.451631  0.431144  0.410656  0.390169  0.369681  0.349194  \n",
       "4139  0.441377  0.451631  0.431144  0.410656  0.390169  0.369681  0.349194  \n",
       "\n",
       "[4140 rows x 66 columns]"
      ]
     },
     "execution_count": 3,
     "metadata": {},
     "output_type": "execute_result"
    }
   ],
   "source": [
    "df"
   ]
  },
  {
   "cell_type": "code",
   "execution_count": 4,
   "metadata": {},
   "outputs": [
    {
     "name": "stdout",
     "output_type": "stream",
     "text": [
      "Courant: OK\n",
      "Neumann: OK\n"
     ]
    }
   ],
   "source": [
    "#===============================================================\n",
    "# Defining parameters\n",
    "#===============================================================\n",
    "\n",
    "tmin = 0.\n",
    "tmax = 660.0 # Tempo total de análise - 24 hrs = 1440 min\n",
    "dt = 10.0 # Passo no tempo dt = 10min\n",
    "nt = int(tmax/dt) # Número de iterações no tempo\n",
    "t = np.arange(tmin, tmax, dt) # vetor tempo para plotar\n",
    "\n",
    "xmin = 0.\n",
    "xmax = 100900.0 # Distância total percorrida - m\n",
    "dx = 25.0 # Passo no espaço - m\n",
    "nx = int(xmax/dx) # Número de pontos em x, considera x=0 e x=xmax\n",
    "x = np.arange(xmin, xmax, dx)\n",
    "\n",
    "H = 4.0 # m\n",
    "#===============================================================\n",
    "# Stability check\n",
    "#===============================================================\n",
    "\n",
    "courant = 1.6*dt/dx                 # Número de Courant <= 1\n",
    "if courant <= 1:\n",
    "  print('Courant: OK')\n",
    "else:\n",
    "  print('Courant: Corrigir')\n",
    "\n",
    "neumann = (0.1*1.6*H) *dt/dx**2             # Von Neumann <= 1/2\n",
    "if neumann <= 0.5:\n",
    "  print('Neumann: OK')\n",
    "else:\n",
    "  print('Neumann: Corrigir')\n",
    "  \n",
    "#===============================================================\n",
    "# Definir componentes da matriz tridiagonal (A*u = b) -> vetor b\n",
    "#===============================================================\n",
    "\n",
    "b = np.zeros(nx)\n",
    "\n",
    "# Aplicar condição inicial \n",
    "\n",
    "ci = 0 # c(x.t=0) = 0\n",
    "\n",
    "def CI(x):                                                 # define a condição inicial\n",
    "    if xmin <= x <= xmax:\n",
    "        return ci          \n",
    "\n",
    "for i in range(nx):                                         # monta a condição inicial\n",
    "   xi = i*dx\n",
    "   b[i] = CI(xi)\n",
    "\n",
    "# Aplicar as condições de contorno \n",
    "\n",
    "b[0] = 35.0 # c(x=1, t) = 35\n",
    "b[nx-1] =  0 # c(x=xmax, t) = 0 \n",
    "\n",
    "#===============================================================\n",
    "# # Definir matriz tridiagonal de solução (A)\n",
    "#===============================================================\n",
    "\n",
    "# celeridade proveniente do data frame\n",
    "u_estrela = np.zeros(nx)\n",
    "u_estrela_new = np.zeros(nx)\n",
    "D = np.zeros(nx)\n",
    "D_new = np.zeros(nx)\n",
    "\n",
    "alfa = np.zeros(nx)\n",
    "alfa_new = np.zeros(nx)\n",
    "beta = np.zeros(nx)\n",
    "beta_new = np.zeros(nx)\n",
    "\n",
    "k1 = np.zeros(nx)\n",
    "k2 = np.zeros(nx)\n",
    "k3 = np.zeros(nx)\n",
    "\n",
    "A = (sp.eye(nx, k=-1) + sp.eye(nx) + sp.eye(nx, k=1)) # Matriz de solução (A)\n",
    "A = sp.csr_matrix(A)\n"
   ]
  },
  {
   "cell_type": "code",
   "execution_count": 5,
   "metadata": {},
   "outputs": [
    {
     "name": "stdout",
     "output_type": "stream",
     "text": [
      "[35.          3.27298014  0.30609859 ...  0.          0.\n",
      "  0.        ]\n",
      "[35.          3.11340353  0.60526701 ...  0.          0.\n",
      "  0.        ]\n",
      "[35.          2.95320652  0.89765341 ...  0.          0.\n",
      "  0.        ]\n",
      "[35.          2.79250445  1.18339924 ...  0.          0.\n",
      "  0.        ]\n",
      "[35.          2.63141275  1.46263957 ...  0.          0.\n",
      "  0.        ]\n",
      "[35.          2.62749005  1.73191887 ...  0.          0.\n",
      "  0.        ]\n",
      "[35.          2.63668747  1.96915418 ...  0.          0.\n",
      "  0.        ]\n",
      "[35.          2.65910347  2.17659581 ...  0.          0.\n",
      "  0.        ]\n",
      "[35.          2.69479183  2.35645822 ...  0.          0.\n",
      "  0.        ]\n",
      "[35.          2.74376308  2.51093296 ...  0.          0.\n",
      "  0.        ]\n",
      "[35.          2.90864318  2.64402131 ...  0.          0.\n",
      "  0.        ]\n",
      "[35.          3.09386491  2.74742087 ...  0.          0.\n",
      "  0.        ]\n",
      "[35.          3.29883747  2.82640397 ...  0.          0.\n",
      "  0.        ]\n",
      "[35.          3.52293533  2.88628357 ...  0.          0.\n",
      "  0.        ]\n",
      "[35.          3.7655137   2.93242447 ...  0.          0.\n",
      "  0.        ]\n",
      "[35.          4.05264066  2.97293711 ...  0.          0.\n",
      "  0.        ]\n",
      "[35.          4.35790252  3.01107716 ...  0.          0.\n",
      "  0.        ]\n",
      "[35.          4.68058918  3.05338836 ...  0.          0.\n",
      "  0.        ]\n",
      "[35.          5.02006205  3.10642771 ...  0.          0.\n",
      "  0.        ]\n",
      "[35.          5.37577294  3.17672728 ...  0.          0.\n",
      "  0.        ]\n",
      "[35.          5.69469357  3.26003066 ...  0.          0.\n",
      "  0.        ]\n",
      "[35.          6.02679251  3.3671524  ...  0.          0.\n",
      "  0.        ]\n",
      "[35.          6.37189107  3.50237214 ...  0.          0.\n",
      "  0.        ]\n",
      "[35.         6.7298873  3.6697977 ...  0.         0.         0.       ]\n",
      "[35.          7.10075668  3.87331959 ...  0.          0.\n",
      "  0.        ]\n",
      "[35.          7.36671076  4.08191719 ...  0.          0.\n",
      "  0.        ]\n",
      "[35.          7.64005856  4.31210306 ...  0.          0.\n",
      "  0.        ]\n",
      "[35.          7.92080881  4.56457939 ...  0.          0.\n",
      "  0.        ]\n",
      "[35.          8.20897753  4.83994715 ...  0.          0.\n",
      "  0.        ]\n",
      "[35.          8.50458617  5.13870046 ...  0.          0.\n",
      "  0.        ]\n",
      "[35.          8.6572198   5.40811527 ...  0.          0.\n",
      "  0.        ]\n",
      "[35.          8.80867561  5.67176383 ...  0.          0.\n",
      "  0.        ]\n",
      "[35.          8.95895155  5.92980451 ...  0.          0.\n",
      "  0.        ]\n",
      "Metade concluido\n",
      "[35.          9.10804613  6.18239049 ...  0.          0.\n",
      "  0.        ]\n",
      "[35.          9.25595841  6.42966998 ...  0.          0.\n",
      "  0.        ]\n",
      "[35.          9.26170016  6.62087212 ...  0.          0.\n",
      "  0.        ]\n",
      "[35.         9.2593717  6.7841144 ...  0.         0.         0.       ]\n",
      "[35.          9.24914425  6.92177368 ...  0.          0.\n",
      "  0.        ]\n",
      "[35.          9.23117257  7.03606519 ...  0.          0.\n",
      "  0.        ]\n",
      "[35.          9.20559599  7.12906417 ...  0.          0.\n",
      "  0.        ]\n",
      "[35.          9.07174017  7.17003239 ...  0.          0.\n",
      "  0.        ]\n",
      "[35.          8.92492681  7.18430703 ...  0.          0.\n",
      "  0.        ]\n",
      "[35.          8.76529373  7.1765205  ...  0.          0.\n",
      "  0.        ]\n",
      "[35.          8.59290252  7.15114676 ...  0.          0.\n",
      "  0.        ]\n",
      "[35.          8.40773498  7.11255083 ...  0.          0.\n",
      "  0.        ]\n",
      "[35.          8.17078198  7.05549196 ...  0.          0.\n",
      "  0.        ]\n",
      "[35.          7.91801254  6.99408977 ...  0.          0.\n",
      "  0.        ]\n",
      "[35.          7.64897728  6.93411602 ...  0.          0.\n",
      "  0.        ]\n",
      "[35.          7.36305328  6.88138807 ...  0.          0.\n",
      "  0.        ]\n",
      "[35.          7.0594247   6.84179643 ...  0.          0.\n",
      "  0.        ]\n",
      "[35.          6.76935882  6.82582205 ...  0.          0.\n",
      "  0.        ]\n",
      "[35.          6.46169608  6.83130307 ...  0.          0.\n",
      "  0.        ]\n",
      "[35.          6.13523404  6.8631089  ...  0.          0.\n",
      "  0.        ]\n",
      "[35.          5.78855691  6.92618584 ...  0.          0.\n",
      "  0.        ]\n",
      "[35.          5.42001525  7.02554927 ...  0.          0.\n",
      "  0.        ]\n",
      "[35.          5.12291245  7.16981304 ...  0.          0.\n",
      "  0.        ]\n",
      "[35.          4.80930742  7.34177999 ...  0.          0.\n",
      "  0.        ]\n",
      "[35.          4.47804536  7.54354716 ...  0.          0.\n",
      "  0.        ]\n",
      "[35.          4.12785899  7.7772204  ...  0.          0.\n",
      "  0.        ]\n",
      "[35.          3.75736109  8.04490996 ...  0.          0.\n",
      "  0.        ]\n",
      "[35.          3.496322    8.34284193 ...  0.          0.\n",
      "  0.        ]\n",
      "[35.          3.22784908  8.64808893 ...  0.          0.\n",
      "  0.        ]\n",
      "[35.          2.95170788  8.96079866 ...  0.          0.\n",
      "  0.        ]\n",
      "[35.          2.66765627  9.2811231  ...  0.          0.\n",
      "  0.        ]\n",
      "[35.          2.37544421  9.60921872 ...  0.          0.\n",
      "  0.        ]\n"
     ]
    }
   ],
   "source": [
    "#===============================================================\n",
    "# Iterações no tempo e no espaço\n",
    "#===============================================================\n",
    "\n",
    "rows,cols = A.nonzero() # define as coordenadas dos valores não nulos\n",
    "\n",
    "temp_resposta = np.zeros(nt) # define os tempos a se armazenar as respostas\n",
    "for i in range(nt):\n",
    "    if i%5 == 0:\n",
    "        temp_resposta[i] = i\n",
    "\n",
    "dummy_answer = zeros([nt, nx])\n",
    "cont = 0\n",
    "\n",
    "for n in range(0,nt-1):\n",
    "    \n",
    "    if n == nt/2:\n",
    "        print('Metade concluido')\n",
    "    \n",
    "    for i in range(0, nx):\n",
    "        \n",
    "        u_estrela[i] = 0.1 *  df.iloc[i,n] \n",
    "        D[i] = u_estrela[i] * H  \n",
    "        alfa[i]  =  (df.iloc[i,n]*dt)/(4*dx)                           # Stability condition - Udt/dx\n",
    "        beta[i]  = (D[i]*dt)/(2*dx**2)                               # Stability condition - Ddt/dx^2\n",
    "\n",
    "        k1[i]    =     alfa[i] - beta[i]                                      # Diagonal inferior \n",
    "        k2[i]    = 1 + 2*beta[i]                                 # Diagonal meio\n",
    "        k3[i]    =  - alfa[i] - beta[i]                            # Diagonal superior\n",
    " \n",
    "    for row, col in zip(rows, cols):\n",
    "        if row == col:\n",
    "            A[row, col] = k2[row]\n",
    "        if row > col:\n",
    "            A[row,col] = k1[col]\n",
    "        if row < col:\n",
    "            A[row,col] = k3[row]\n",
    "        \n",
    "    A[0,0] = 1\n",
    "    A[0,1] = 0\n",
    "    A[nx-1,nx-1] = 1\n",
    "    A[nx-1,nx-2] = 0\n",
    "  \n",
    "    \n",
    "    if n > 0:\n",
    "        for i in range (1,nx-1):\n",
    "            \n",
    "            u_estrela_new[i] = 0.1 *  df.iloc[i,n+1] \n",
    "            D_new[i] = u_estrela_new[i] * H  \n",
    "            alfa_new[i]  =  (df.iloc[i,n+1]*dt)/(4*dx)                    # Stability condition - Udt/dx\n",
    "            beta_new[i]  = (D_new[i]*dt)/(2*dx**2)                           # Stability condition - Ddt/dx^2\n",
    "            \n",
    "            b[i] = u[i]*(1-2*beta_new[i]) + u[i+1]*(beta_new[i] - alfa_new[i]) + u[i-1]*(beta_new[i]+alfa_new[i])  \n",
    "    \n",
    "    u = sp.linalg.spsolve(A, b)\n",
    "    print(u)\n",
    "    \n",
    "    b = u\n",
    "    \n",
    "    if cont == temp_resposta[n]:\n",
    "        dummy_answer[n,:] = u\n",
    "          \n",
    "    cont +=1"
   ]
  },
  {
   "cell_type": "code",
   "execution_count": 6,
   "metadata": {},
   "outputs": [
    {
     "name": "stderr",
     "output_type": "stream",
     "text": [
      "C:\\Users\\Nathan\\AppData\\Local\\Temp\\ipykernel_17132\\2276377503.py:2: RuntimeWarning: More than 20 figures have been opened. Figures created through the pyplot interface (`matplotlib.pyplot.figure`) are retained until explicitly closed and may consume too much memory. (To control this warning, see the rcParam `figure.max_open_warning`).\n",
      "  plt.figure(figsize=(7, 5), dpi=50)\n"
     ]
    },
    {
     "data": {
      "image/png": "[encoded data removed]",
      "text/plain": [
       "<Figure size 350x250 with 1 Axes>"
      ]
     },
     "metadata": {
      "needs_background": "light"
     },
     "output_type": "display_data"
    },
    {
     "data": {
      "text/plain": [
       "<Figure size 350x250 with 0 Axes>"
      ]
     },
     "metadata": {},
     "output_type": "display_data"
    },
    {
     "data": {
      "text/plain": [
       "<Figure size 350x250 with 0 Axes>"
      ]
     },
     "metadata": {},
     "output_type": "display_data"
    },
    {
     "data": {
      "text/plain": [
       "<Figure size 350x250 with 0 Axes>"
      ]
     },
     "metadata": {},
     "output_type": "display_data"
    },
    {
     "data": {
      "text/plain": [
       "<Figure size 350x250 with 0 Axes>"
      ]
     },
     "metadata": {},
     "output_type": "display_data"
    },
    {
     "data": {
      "image/png": "[encoded data removed]",
      "text/plain": [
       "<Figure size 350x250 with 1 Axes>"
      ]
     },
     "metadata": {
      "needs_background": "light"
     },
     "output_type": "display_data"
    },
    {
     "data": {
      "text/plain": [
       "<Figure size 350x250 with 0 Axes>"
      ]
     },
     "metadata": {},
     "output_type": "display_data"
    },
    {
     "data": {
      "text/plain": [
       "<Figure size 350x250 with 0 Axes>"
      ]
     },
     "metadata": {},
     "output_type": "display_data"
    },
    {
     "data": {
      "text/plain": [
       "<Figure size 350x250 with 0 Axes>"
      ]
     },
     "metadata": {},
     "output_type": "display_data"
    },
    {
     "data": {
      "text/plain": [
       "<Figure size 350x250 with 0 Axes>"
      ]
     },
     "metadata": {},
     "output_type": "display_data"
    },
    {
     "data": {
      "image/png": "[encoded data removed]",
      "text/plain": [
       "<Figure size 350x250 with 1 Axes>"
      ]
     },
     "metadata": {
      "needs_background": "light"
     },
     "output_type": "display_data"
    },
    {
     "data": {
      "text/plain": [
       "<Figure size 350x250 with 0 Axes>"
      ]
     },
     "metadata": {},
     "output_type": "display_data"
    },
    {
     "data": {
      "text/plain": [
       "<Figure size 350x250 with 0 Axes>"
      ]
     },
     "metadata": {},
     "output_type": "display_data"
    },
    {
     "data": {
      "text/plain": [
       "<Figure size 350x250 with 0 Axes>"
      ]
     },
     "metadata": {},
     "output_type": "display_data"
    },
    {
     "data": {
      "text/plain": [
       "<Figure size 350x250 with 0 Axes>"
      ]
     },
     "metadata": {},
     "output_type": "display_data"
    },
    {
     "data": {
      "image/png": "[encoded data removed]",
      "text/plain": [
       "<Figure size 350x250 with 1 Axes>"
      ]
     },
     "metadata": {
      "needs_background": "light"
     },
     "output_type": "display_data"
    },
    {
     "data": {
      "text/plain": [
       "<Figure size 350x250 with 0 Axes>"
      ]
     },
     "metadata": {},
     "output_type": "display_data"
    },
    {
     "data": {
      "text/plain": [
       "<Figure size 350x250 with 0 Axes>"
      ]
     },
     "metadata": {},
     "output_type": "display_data"
    },
    {
     "data": {
      "text/plain": [
       "<Figure size 350x250 with 0 Axes>"
      ]
     },
     "metadata": {},
     "output_type": "display_data"
    },
    {
     "data": {
      "text/plain": [
       "<Figure size 350x250 with 0 Axes>"
      ]
     },
     "metadata": {},
     "output_type": "display_data"
    },
    {
     "data": {
      "image/png": "[encoded data removed]",
      "text/plain": [
       "<Figure size 350x250 with 1 Axes>"
      ]
     },
     "metadata": {
      "needs_background": "light"
     },
     "output_type": "display_data"
    },
    {
     "data": {
      "text/plain": [
       "<Figure size 350x250 with 0 Axes>"
      ]
     },
     "metadata": {},
     "output_type": "display_data"
    },
    {
     "data": {
      "text/plain": [
       "<Figure size 350x250 with 0 Axes>"
      ]
     },
     "metadata": {},
     "output_type": "display_data"
    },
    {
     "data": {
      "text/plain": [
       "<Figure size 350x250 with 0 Axes>"
      ]
     },
     "metadata": {},
     "output_type": "display_data"
    },
    {
     "data": {
      "text/plain": [
       "<Figure size 350x250 with 0 Axes>"
      ]
     },
     "metadata": {},
     "output_type": "display_data"
    },
    {
     "data": {
      "image/png": "[encoded data removed]",
      "text/plain": [
       "<Figure size 350x250 with 1 Axes>"
      ]
     },
     "metadata": {
      "needs_background": "light"
     },
     "output_type": "display_data"
    },
    {
     "data": {
      "text/plain": [
       "<Figure size 350x250 with 0 Axes>"
      ]
     },
     "metadata": {},
     "output_type": "display_data"
    },
    {
     "data": {
      "text/plain": [
       "<Figure size 350x250 with 0 Axes>"
      ]
     },
     "metadata": {},
     "output_type": "display_data"
    },
    {
     "data": {
      "text/plain": [
       "<Figure size 350x250 with 0 Axes>"
      ]
     },
     "metadata": {},
     "output_type": "display_data"
    },
    {
     "data": {
      "text/plain": [
       "<Figure size 350x250 with 0 Axes>"
      ]
     },
     "metadata": {},
     "output_type": "display_data"
    },
    {
     "data": {
      "image/png": "[encoded data removed]",
      "text/plain": [
       "<Figure size 350x250 with 1 Axes>"
      ]
     },
     "metadata": {
      "needs_background": "light"
     },
     "output_type": "display_data"
    },
    {
     "data": {
      "text/plain": [
       "<Figure size 350x250 with 0 Axes>"
      ]
     },
     "metadata": {},
     "output_type": "display_data"
    },
    {
     "data": {
      "text/plain": [
       "<Figure size 350x250 with 0 Axes>"
      ]
     },
     "metadata": {},
     "output_type": "display_data"
    },
    {
     "data": {
      "text/plain": [
       "<Figure size 350x250 with 0 Axes>"
      ]
     },
     "metadata": {},
     "output_type": "display_data"
    },
    {
     "data": {
      "text/plain": [
       "<Figure size 350x250 with 0 Axes>"
      ]
     },
     "metadata": {},
     "output_type": "display_data"
    },
    {
     "data": {
      "image/png": "[encoded data removed]",
      "text/plain": [
       "<Figure size 350x250 with 1 Axes>"
      ]
     },
     "metadata": {
      "needs_background": "light"
     },
     "output_type": "display_data"
    },
    {
     "data": {
      "text/plain": [
       "<Figure size 350x250 with 0 Axes>"
      ]
     },
     "metadata": {},
     "output_type": "display_data"
    },
    {
     "data": {
      "text/plain": [
       "<Figure size 350x250 with 0 Axes>"
      ]
     },
     "metadata": {},
     "output_type": "display_data"
    },
    {
     "data": {
      "text/plain": [
       "<Figure size 350x250 with 0 Axes>"
      ]
     },
     "metadata": {},
     "output_type": "display_data"
    },
    {
     "data": {
      "text/plain": [
       "<Figure size 350x250 with 0 Axes>"
      ]
     },
     "metadata": {},
     "output_type": "display_data"
    },
    {
     "data": {
      "image/png": "[encoded data removed]",
      "text/plain": [
       "<Figure size 350x250 with 1 Axes>"
      ]
     },
     "metadata": {
      "needs_background": "light"
     },
     "output_type": "display_data"
    },
    {
     "data": {
      "text/plain": [
       "<Figure size 350x250 with 0 Axes>"
      ]
     },
     "metadata": {},
     "output_type": "display_data"
    },
    {
     "data": {
      "text/plain": [
       "<Figure size 350x250 with 0 Axes>"
      ]
     },
     "metadata": {},
     "output_type": "display_data"
    },
    {
     "data": {
      "text/plain": [
       "<Figure size 350x250 with 0 Axes>"
      ]
     },
     "metadata": {},
     "output_type": "display_data"
    },
    {
     "data": {
      "text/plain": [
       "<Figure size 350x250 with 0 Axes>"
      ]
     },
     "metadata": {},
     "output_type": "display_data"
    },
    {
     "data": {
      "image/png": "[encoded data removed]",
      "text/plain": [
       "<Figure size 350x250 with 1 Axes>"
      ]
     },
     "metadata": {
      "needs_background": "light"
     },
     "output_type": "display_data"
    },
    {
     "data": {
      "text/plain": [
       "<Figure size 350x250 with 0 Axes>"
      ]
     },
     "metadata": {},
     "output_type": "display_data"
    },
    {
     "data": {
      "text/plain": [
       "<Figure size 350x250 with 0 Axes>"
      ]
     },
     "metadata": {},
     "output_type": "display_data"
    },
    {
     "data": {
      "text/plain": [
       "<Figure size 350x250 with 0 Axes>"
      ]
     },
     "metadata": {},
     "output_type": "display_data"
    },
    {
     "data": {
      "text/plain": [
       "<Figure size 350x250 with 0 Axes>"
      ]
     },
     "metadata": {},
     "output_type": "display_data"
    },
    {
     "data": {
      "image/png": "[encoded data removed]",
      "text/plain": [
       "<Figure size 350x250 with 1 Axes>"
      ]
     },
     "metadata": {
      "needs_background": "light"
     },
     "output_type": "display_data"
    },
    {
     "data": {
      "text/plain": [
       "<Figure size 350x250 with 0 Axes>"
      ]
     },
     "metadata": {},
     "output_type": "display_data"
    },
    {
     "data": {
      "text/plain": [
       "<Figure size 350x250 with 0 Axes>"
      ]
     },
     "metadata": {},
     "output_type": "display_data"
    },
    {
     "data": {
      "text/plain": [
       "<Figure size 350x250 with 0 Axes>"
      ]
     },
     "metadata": {},
     "output_type": "display_data"
    },
    {
     "data": {
      "text/plain": [
       "<Figure size 350x250 with 0 Axes>"
      ]
     },
     "metadata": {},
     "output_type": "display_data"
    },
    {
     "data": {
      "image/png": "[encoded data removed]",
      "text/plain": [
       "<Figure size 350x250 with 1 Axes>"
      ]
     },
     "metadata": {
      "needs_background": "light"
     },
     "output_type": "display_data"
    },
    {
     "data": {
      "text/plain": [
       "<Figure size 350x250 with 0 Axes>"
      ]
     },
     "metadata": {},
     "output_type": "display_data"
    },
    {
     "data": {
      "text/plain": [
       "<Figure size 350x250 with 0 Axes>"
      ]
     },
     "metadata": {},
     "output_type": "display_data"
    },
    {
     "data": {
      "text/plain": [
       "<Figure size 350x250 with 0 Axes>"
      ]
     },
     "metadata": {},
     "output_type": "display_data"
    },
    {
     "data": {
      "text/plain": [
       "<Figure size 350x250 with 0 Axes>"
      ]
     },
     "metadata": {},
     "output_type": "display_data"
    },
    {
     "data": {
      "image/png": "[encoded data removed]",
      "text/plain": [
       "<Figure size 350x250 with 1 Axes>"
      ]
     },
     "metadata": {
      "needs_background": "light"
     },
     "output_type": "display_data"
    },
    {
     "data": {
      "text/plain": [
       "<Figure size 350x250 with 0 Axes>"
      ]
     },
     "metadata": {},
     "output_type": "display_data"
    },
    {
     "data": {
      "text/plain": [
       "<Figure size 350x250 with 0 Axes>"
      ]
     },
     "metadata": {},
     "output_type": "display_data"
    },
    {
     "data": {
      "text/plain": [
       "<Figure size 350x250 with 0 Axes>"
      ]
     },
     "metadata": {},
     "output_type": "display_data"
    },
    {
     "data": {
      "text/plain": [
       "<Figure size 350x250 with 0 Axes>"
      ]
     },
     "metadata": {},
     "output_type": "display_data"
    },
    {
     "data": {
      "image/png": "[encoded data removed]",
      "text/plain": [
       "<Figure size 350x250 with 1 Axes>"
      ]
     },
     "metadata": {
      "needs_background": "light"
     },
     "output_type": "display_data"
    }
   ],
   "source": [
    "for i in range(nt):\n",
    "    plt.figure(figsize=(7, 5), dpi=50)\n",
    "    if i%5==0:\n",
    "        plt.plot(x[0:1000], dummy_answer[i,0:1000])"
   ]
  },
  {
   "cell_type": "code",
   "execution_count": null,
   "metadata": {},
   "outputs": [],
   "source": []
  }
 ],
 "metadata": {
  "kernelspec": {
   "display_name": "Python 3.9.10 64-bit",
   "language": "python",
   "name": "python3"
  },
  "language_info": {
   "codemirror_mode": {
    "name": "ipython",
    "version": 3
   },
   "file_extension": ".py",
   "mimetype": "text/x-python",
   "name": "python",
   "nbconvert_exporter": "python",
   "pygments_lexer": "ipython3",
   "version": "3.9.10"
  },
  "orig_nbformat": 4,
  "vscode": {
   "interpreter": {
    "hash": "e6188657b764ebd2e2049ca165f00f1f1826e7e744e1718aa90a1b75ebf0a7c8"
   }
  }
 },
 "nbformat": 4,
 "nbformat_minor": 2
}
