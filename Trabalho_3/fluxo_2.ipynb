{
 "cells": [
  {
   "cell_type": "markdown",
   "metadata": {},
   "source": [
    "####  Solução numérica \n",
    "\n",
    "Para U < 0 :\n",
    "\n",
    "\\begin{equation}\n",
    "C_{j+1}^{n+1}*(\\alpha - \\beta) + C_{j}^{n+1}* (1- \\alpha +2*\\beta) + C_{j-1}^{n+1} *(-\\beta) = C_{j}^{n} \n",
    "\\end{equation}\n",
    "\n",
    "Para U > 0 :\n",
    "\n",
    "\\begin{equation}\n",
    "C_{j+1}^{n+1}*(- \\beta) + C_{j}^{n+1}* (1 + \\alpha +2*\\beta) + C_{j-1}^{n+1} *(-\\alpha -\\beta) = C_{j}^{n} \n",
    "\\end{equation}"
   ]
  },
  {
   "cell_type": "markdown",
   "metadata": {},
   "source": [
    "Com as seguintes condições iniciais e de contorno:\n",
    "\n",
    "\\begin{equation}\n",
    "    C(x,t=0) = C_{0}\n",
    "\\end{equation}\n",
    "\n",
    "Condição de contorno:\n",
    "\n",
    "\\begin{equation}\n",
    "c(0, t)=\\left\\{\\begin{array}{lc}c_{0} & 0 < t < t_{0} \\\\\n",
    "0 & t>t_{o}\\end{array}\\right.\n",
    "\\end{equation}\n",
    "\n",
    "\\begin{equation}\n",
    "\\frac{\\partial c}{\\partial x}(\\infty, t)=0\n",
    "\\end{equation}\n"
   ]
  },
  {
   "cell_type": "code",
   "execution_count": 1,
   "metadata": {},
   "outputs": [],
   "source": [
    "import numpy as np\n",
    "import matplotlib.pyplot as plt\n",
    "import matplotlib as mpl\n",
    "import scipy.sparse as sp\n",
    "import scipy.sparse.linalg \n",
    "import scipy.linalg as la\n",
    "from numpy import zeros\n",
    "import pandas as pd"
   ]
  },
  {
   "cell_type": "code",
   "execution_count": 2,
   "metadata": {},
   "outputs": [
    {
     "name": "stdout",
     "output_type": "stream",
     "text": [
      "Courant: Corrigir\n",
      "Pèclet: OK\n",
      "Neumann: Corrigir\n"
     ]
    }
   ],
   "source": [
    "#===============================================================\n",
    "# Defining parameters\n",
    "#===============================================================\n",
    "\n",
    "tmin = 0.\n",
    "tmax = 780.0 # Tempo total de análise - 24 hrs = 1440 min\n",
    "dt = 10.0 # Passo no tempo dt = 10min\n",
    "nt = int(tmax/dt) # Número de iterações no tempo\n",
    "t = np.arange(tmin, tmax, dt) # vetor tempo para plotar\n",
    "\n",
    "xmin = 0.\n",
    "xmax = 100900.0 # Distância total percorrida\n",
    "dx = 0.5 # Passo no espaço\n",
    "nx = int(xmax/dx) # Número de pontos em x, considera x=0 e x=xmax\n",
    "x = np.arange(xmin, xmax, dx)\n",
    "\n",
    "H = 4.0 # m\n",
    "# c = 0.5 # Celeridade do fluxo - valor máximo em x = 1.53 m/s\n",
    "# u_estrela = 0.1 * c \n",
    "# D = u_estrela * H # Difusão = u* * H\n",
    "\n",
    "#===============================================================\n",
    "# Stability check\n",
    "#===============================================================\n",
    "\n",
    "courant = 1.6*dt/dx                 # Número de Courant <= 1\n",
    "if courant <= 1:\n",
    "  print('Courant: OK')\n",
    "else:\n",
    "  print('Courant: Corrigir')\n",
    "\n",
    "pe = 1.6 * dx /(0.1*1.6*H)                    # Núemro de pèclet <= 2\n",
    "if pe <= 2:\n",
    "  print('Pèclet: OK')\n",
    "else:\n",
    "  print('Pèclet: Corrigir')\n",
    "\n",
    "neumann = (0.1*1.6*H) *dt/dx**2             # Von Neumann <= 1/2\n",
    "if neumann <= 0.5:\n",
    "  print('Neumann: OK')\n",
    "else:\n",
    "  print('Neumann: Corrigir')\n",
    "\n"
   ]
  },
  {
   "cell_type": "code",
   "execution_count": 9,
   "metadata": {},
   "outputs": [],
   "source": [
    "# #===============================================================\n",
    "# # Definir matriz tridiagonal de solução (A)\n",
    "# #===============================================================\n",
    "\n",
    "# # Diagonais inferior, central e superior (k1,k2,k3)\n",
    "\n",
    "# alfa  = c*dt/dx                                             # Stability condition - Udt/dx\n",
    "# beta  = D*dt/(dx**2)                                        # Stability condition - Ddt/dx^2\n",
    "\n",
    "# k1    =     - beta                                          # Diagonal inferior \n",
    "# k2    = 1 - alfa + 2*beta                                   # Diagonal meio\n",
    "# k3    =     alfa - beta                                     # Diagonal superior\n",
    "\n",
    "# # A = (np.eye(nx, k=-1)*k1 + np.eye(nx)*k2 + np.eye(nx, k=1)*k3) # Matriz de solução (A)\n",
    "# A = (sp.eye(nx, k=-1)*k1 + sp.eye(nx)*k2 + sp.eye(nx, k=1)*k3) # Matriz de solução (A)\n",
    "# A = sp.csr_matrix(A)\n",
    "# A[0,0] = 1\n",
    "# A[0,1] = 0\n",
    "# A[nx-1,nx-1] = 1\n",
    "# A[nx-1,nx-2] = 0\n",
    "\n"
   ]
  },
  {
   "cell_type": "code",
   "execution_count": 4,
   "metadata": {},
   "outputs": [],
   "source": [
    "df = pd.read_excel('https://github.com/CostaNathan/doctorate/blob/8cb17733fd8f2466c8fe780a1b04c1497652b92e/Trabalho_3/Arquivos_base/dominio_1_corrigido.xlsx?raw=true', header=1 ,sheet_name= 'interpolado_10')\n",
    "df.drop(labels = [df.columns[7],df.columns[8],df.columns[9]], axis = 1, inplace=True)\n",
    "\n",
    "# organizar os dataframes para cada hora a se interpolar\n",
    "\n",
    "df_h1 = df.iloc[:,0:9]\n",
    "df_h1= df_h1.drop(['0_elev', '1_elev'], axis = 1) # primeira hora para interpolar\n",
    "\n",
    "df_h2 = df.iloc[:,0:11]\n",
    "dummy = df_h2['1_vel']\n",
    "df_h2= df_h2.drop(['0_elev','0_vel', '1_elev','1_vel','2_elev'], axis = 1) \n",
    "df_h2.insert(1,'1_vel', dummy)\n",
    "\n",
    "df_h3 = df.iloc[:,0:13]\n",
    "dummy = df_h3['2_vel']\n",
    "df_h3= df_h3.drop(['0_elev','0_vel', '1_elev','1_vel','2_elev','2_vel','3_elev'], axis = 1) \n",
    "df_h3.insert(1,'2_vel', dummy)\n",
    "\n",
    "df_h4 = df.iloc[:,0:15]\n",
    "dummy = df_h4['3_vel']\n",
    "df_h4= df_h4.drop(['0_elev','0_vel', '1_elev','1_vel','2_elev','2_vel','3_elev','3_vel','4_elev'], axis = 1) \n",
    "df_h4.insert(1,'3_vel', dummy)\n",
    "\n",
    "df_h5 = df.iloc[:,0:17]\n",
    "dummy = df_h5['4_vel']\n",
    "df_h5= df_h5.drop(['0_elev','0_vel', '1_elev','1_vel','2_elev','2_vel','3_elev','3_vel','4_elev','4_vel','5_elev'], axis = 1) \n",
    "df_h5.insert(1,'4_vel', dummy)\n",
    "\n",
    "df_h6 = df.iloc[:,0:19]\n",
    "dummy = df_h6['5_vel']\n",
    "df_h6= df_h6.drop(['0_elev','0_vel', '1_elev','1_vel','2_elev','2_vel','3_elev','3_vel','4_elev','4_vel','5_elev','5_vel','6_elev'], axis = 1) \n",
    "df_h6.insert(1,'5_vel', dummy)\n",
    "\n",
    "df_h7 = df.iloc[:,0:21]\n",
    "dummy = df_h7['6_vel']\n",
    "df_h7= df_h7.drop(['0_elev','0_vel', '1_elev','1_vel','2_elev','2_vel','3_elev','3_vel','4_elev','4_vel','5_elev','5_vel','6_elev','6_vel', '7_elev'], axis = 1) \n",
    "df_h7.insert(1,'6_vel', dummy)\n",
    "\n",
    "df_h8 = df.iloc[:,0:23]\n",
    "dummy = df_h8['7_vel']\n",
    "df_h8= df_h8.drop(['0_elev','0_vel', '1_elev','1_vel','2_elev','2_vel','3_elev','3_vel','4_elev','4_vel','5_elev','5_vel','6_elev','6_vel', '7_elev', '7_vel', '8_elev'], axis = 1) \n",
    "df_h8.insert(1,'7_vel', dummy)\n",
    "\n",
    "df_h9 = df.iloc[:,0:25]\n",
    "dummy = df_h9['8_vel']\n",
    "df_h9= df_h9.drop(['0_elev','0_vel', '1_elev','1_vel','2_elev','2_vel','3_elev','3_vel','4_elev','4_vel','5_elev','5_vel','6_elev','6_vel', '7_elev', '7_vel', '8_elev', '8_vel', '9_elev'], axis = 1) \n",
    "df_h9.insert(1,'8_vel', dummy)\n",
    "\n",
    "df_h10 = df.iloc[:,0:27]\n",
    "dummy = df_h10['9_vel']\n",
    "df_h10= df_h10.drop(['0_elev','0_vel', '1_elev','1_vel','2_elev','2_vel','3_elev','3_vel','4_elev','4_vel','5_elev','5_vel','6_elev','6_vel', '7_elev', '7_vel', '8_elev', '8_vel', '9_elev', '9_vel', '10_elev'], axis = 1) \n",
    "df_h10.insert(1,'9_vel', dummy)\n",
    "\n",
    "df_h11 = df.iloc[:,0:29]\n",
    "dummy = df_h11['10_vel']\n",
    "df_h11= df_h11.drop(['0_elev','0_vel', '1_elev','1_vel','2_elev','2_vel','3_elev','3_vel','4_elev','4_vel','5_elev','5_vel','6_elev','6_vel', '7_elev', '7_vel', '8_elev', '8_vel', '9_elev', '9_vel', '10_elev', '10_vel', '11_elev'], axis = 1) \n",
    "df_h11.insert(1,'10_vel', dummy)\n",
    "\n",
    "df_h12 = df.iloc[:,0:31]\n",
    "dummy = df_h12['11_vel']\n",
    "df_h12= df_h12.drop(['0_elev','0_vel', '1_elev','1_vel','2_elev','2_vel','3_elev','3_vel','4_elev','4_vel','5_elev','5_vel','6_elev','6_vel', '7_elev', '7_vel', '8_elev', '8_vel', '9_elev', '9_vel', '10_elev', '10_vel', '11_elev', '11_vel', '12_elev'], axis = 1) \n",
    "df_h12.insert(1,'11_vel', dummy)\n",
    "\n",
    "df_h13 = df.iloc[:,0:33]\n",
    "dummy = df_h13['12_vel']\n",
    "df_h13= df_h13.drop(['0_elev','0_vel', '1_elev','1_vel','2_elev','2_vel','3_elev','3_vel','4_elev','4_vel','5_elev','5_vel','6_elev','6_vel', '7_elev', '7_vel', '8_elev', '8_vel', '9_elev', '9_vel', '10_elev', '10_vel', '11_elev', '11_vel', '12_elev', '12_vel', '13_elev'], axis = 1) \n",
    "df_h13.insert(1,'12_vel', dummy)\n",
    "\n",
    "interpolacao = pd.DataFrame(df_h1).interpolate()\n",
    "interpolacao = interpolacao.interpolate(axis=1)\n",
    "df = interpolacao\n",
    "interpolacao = pd.DataFrame(df_h2).interpolate()\n",
    "interpolacao = interpolacao.interpolate(axis=1)\n",
    "interpolacao.drop(labels= [interpolacao.columns[0]], axis=1, inplace=True)\n",
    "interpolacao.columns = ['1.1', '2.1', '3.1', '4.1', '5.1', '2_vel']\n",
    "df = df.join(interpolacao)\n",
    "interpolacao = pd.DataFrame(df_h3).interpolate()\n",
    "interpolacao = interpolacao.interpolate(axis=1)\n",
    "interpolacao.drop(labels= [interpolacao.columns[0]], axis=1, inplace=True)\n",
    "interpolacao.columns = ['1.2', '2.2', '3.2', '4.2', '5.2', '3_vel']\n",
    "df = df.join(interpolacao)\n",
    "interpolacao = pd.DataFrame(df_h4).interpolate()\n",
    "interpolacao = interpolacao.interpolate(axis=1)\n",
    "interpolacao.drop(labels= [interpolacao.columns[0]], axis=1, inplace=True)\n",
    "interpolacao.columns = ['1.3', '2.3', '3.3', '4.3', '5.3', '4_vel']\n",
    "df = df.join(interpolacao)\n",
    "interpolacao = pd.DataFrame(df_h5).interpolate()\n",
    "interpolacao = interpolacao.interpolate(axis=1)\n",
    "interpolacao.drop(labels= [interpolacao.columns[0]], axis=1, inplace=True)\n",
    "interpolacao.columns = ['1.4', '2.4', '3.4', '4.4', '5.4', '5_vel']\n",
    "df = df.join(interpolacao)\n",
    "interpolacao = pd.DataFrame(df_h6).interpolate()\n",
    "interpolacao = interpolacao.interpolate(axis=1)\n",
    "interpolacao.drop(labels= [interpolacao.columns[0]], axis=1, inplace=True)\n",
    "interpolacao.columns = ['1.5', '2.5', '3.5', '4.5', '5.5', '6_vel']\n",
    "df = df.join(interpolacao) \n",
    "interpolacao = pd.DataFrame(df_h7).interpolate()\n",
    "interpolacao = interpolacao.interpolate(axis=1)\n",
    "interpolacao.drop(labels= [interpolacao.columns[0]], axis=1, inplace=True)\n",
    "interpolacao.columns = ['1.6', '2.6', '3.6', '4.6', '5.6', '7_vel']\n",
    "df = df.join(interpolacao) \n",
    "interpolacao = pd.DataFrame(df_h8).interpolate()\n",
    "interpolacao = interpolacao.interpolate(axis=1)\n",
    "interpolacao.drop(labels= [interpolacao.columns[0]], axis=1, inplace=True)\n",
    "interpolacao.columns = ['1.7', '2.7', '3.7', '4.7', '5.7', '8_vel']\n",
    "df = df.join(interpolacao) \n",
    "interpolacao = pd.DataFrame(df_h9).interpolate()\n",
    "interpolacao = interpolacao.interpolate(axis=1)\n",
    "interpolacao.drop(labels= [interpolacao.columns[0]], axis=1, inplace=True)\n",
    "interpolacao.columns = ['1.8', '2.8', '3.8', '4.8', '5.8', '9_vel']\n",
    "df = df.join(interpolacao) \n",
    "interpolacao = pd.DataFrame(df_h10).interpolate()\n",
    "interpolacao = interpolacao.interpolate(axis=1)\n",
    "interpolacao.drop(labels= [interpolacao.columns[0]], axis=1, inplace=True)\n",
    "interpolacao.columns = ['1.9', '2.9', '3.9', '4.9', '5.9', '10_vel']\n",
    "df = df.join(interpolacao) \n",
    "interpolacao = pd.DataFrame(df_h11).interpolate()\n",
    "interpolacao = interpolacao.interpolate(axis=1)\n",
    "interpolacao.drop(labels= [interpolacao.columns[0]], axis=1, inplace=True)\n",
    "interpolacao.columns = ['1.10', '2.10', '3.10', '4.10', '5.10', '11_vel']\n",
    "df = df.join(interpolacao) \n",
    "interpolacao = pd.DataFrame(df_h12).interpolate()\n",
    "interpolacao = interpolacao.interpolate(axis=1)\n",
    "interpolacao.drop(labels= [interpolacao.columns[0]], axis=1, inplace=True)\n",
    "interpolacao.columns = ['1.11', '2.11', '3.11', '4.11', '5.11', '12_vel']\n",
    "df = df.join(interpolacao) \n",
    "interpolacao = pd.DataFrame(df_h13).interpolate()\n",
    "interpolacao = interpolacao.interpolate(axis=1)\n",
    "interpolacao.drop(labels= [interpolacao.columns[0]], axis=1, inplace=True)\n",
    "interpolacao.columns = ['1.12', '2.12', '3.12', '4.12', '5.12', '13_vel']\n",
    "df = df.join(interpolacao) \n"
   ]
  },
  {
   "cell_type": "code",
   "execution_count": 5,
   "metadata": {},
   "outputs": [],
   "source": [
    "#===============================================================\n",
    "# # Definir matriz tridiagonal de solução (A)\n",
    "#===============================================================\n",
    "\n",
    "u_estrela = np.zeros(nx)\n",
    "D = np.zeros(nx)\n",
    "\n",
    "alfa = np.zeros(nx)\n",
    "beta = np.zeros(nx)\n",
    "\n",
    "k1 = np.zeros(nx)\n",
    "k2 = np.zeros(nx)\n",
    "k3 = np.zeros(nx)\n",
    "\n",
    "A = (sp.eye(nx, k=-1) + sp.eye(nx) + sp.eye(nx, k=1)) # Matriz de solução (A)\n",
    "A = sp.csr_matrix(A)\n",
    "# A[0,0] = 1\n",
    "# A[0,1] = 0\n",
    "# A[nx-1,nx-1] = 1\n",
    "# A[nx-1,nx-2] = 0\n",
    "\n",
    "#===============================================================\n",
    "# Definir vertor resposta (b)\n",
    "#===============================================================\n",
    "\n",
    "b = np.zeros(nx)\n",
    "\n",
    "# Aplicar condição inicial \n",
    "\n",
    "ci = 0 # c(x.t=0) = 0\n",
    "\n",
    "def CI(x):                                                 # define a condição inicial\n",
    "    if xmin <= x <= xmax:\n",
    "        return ci          \n",
    "\n",
    "for i in range(nx):                                         # monta a condição inicial\n",
    "   xi = i*dx\n",
    "   b[i] = CI(xi)\n",
    "\n",
    "# Aplicar as condições de contorno \n",
    "\n",
    "b[0] = 35.0 # c(x=1, t) = 35\n",
    "b[nx-1] =  0 # c(x=xmax, t) = 0 \n",
    "    \n",
    "\n",
    "#===============================================================\n",
    "# Iterações no tempo e no espaço\n",
    "#===============================================================\n",
    "\n",
    "temp_resposta = np.zeros(nt)\n",
    "for i in range(nt):\n",
    "    if i%5 == 0:\n",
    "        temp_resposta[i] = i\n",
    "\n",
    "dummy_answer = zeros([nt, nx])\n",
    "cont = 0\n",
    "\n",
    "rows,cols = A.nonzero()\n",
    "for n in range(0, nt):\n",
    "    \n",
    "    if n == nt/2:\n",
    "        print('Halfway through')\n",
    "        \n",
    "    for i in range(0, nx):\n",
    "       \n",
    "        u_estrela[i] = 0.1 *  df.iloc[i,n] \n",
    "        D[i] = u_estrela[i] * H  \n",
    "        alfa[i]  =  df.iloc[i,n]*dt/dx                           # Stability condition - Udt/dx\n",
    "        beta[i]  = D[i]*dt/(dx**2)                               # Stability condition - Ddt/dx^2\n",
    "\n",
    "        k1[i]    =     - beta[i]                                        # Diagonal inferior \n",
    "        k2[i]    = 1 - alfa[i] + 2*beta[i]                                 # Diagonal meio\n",
    "        k3[i]    =     alfa[i] - beta[i]                            # Diagonal superior\n",
    " \n",
    "    for row, col in zip(rows, cols):\n",
    "        if row == col:\n",
    "            A[row, col] = k2[row]\n",
    "        if row > col:\n",
    "            A[row,col] = k1[col]\n",
    "        if row < col:\n",
    "            A[row,col] = k3[row]\n",
    "    \n",
    "    A[0,0] = 1\n",
    "    A[0,1] = 0\n",
    "    A[nx-1,nx-1] = 1\n",
    "    A[nx-1,nx-2] = 0\n",
    "            \n",
    "\n",
    "    u = sp.linalg.spsolve(A, b)\n",
    "\n",
    "    if cont == temp_resposta[n]:\n",
    "        dummy_answer[n,:] = u\n",
    "    b = u    \n",
    "    cont +=1"
   ]
  },
  {
   "cell_type": "code",
   "execution_count": 38,
   "metadata": {},
   "outputs": [
    {
     "data": {
      "text/plain": [
       "<201800x201800 sparse matrix of type '<class 'numpy.float64'>'\n",
       "\twith 605398 stored elements in Compressed Sparse Row format>"
      ]
     },
     "execution_count": 38,
     "metadata": {},
     "output_type": "execute_result"
    }
   ],
   "source": [
    "# Teste sem interação no tempo \n",
    "\n",
    "A = (sp.eye(nx, k=-1) + sp.eye(nx) + sp.eye(nx, k=1)) # Matriz de solução (A)\n",
    "A = sp.csr_matrix(A)\n",
    "\n",
    "#===============================================================\n",
    "# Definir vertor resposta (b)\n",
    "#===============================================================\n",
    "\n",
    "b = np.zeros(nx)\n",
    "\n",
    "# Aplicar condição inicial \n",
    "\n",
    "ci = 0 # c(x.t=0) = 0\n",
    "\n",
    "def CI(x):                                                 # define a condição inicial\n",
    "    if xmin <= x <= xmax:\n",
    "        return ci          \n",
    "\n",
    "for i in range(nx):                                         # monta a condição inicial\n",
    "   xi = i*dx\n",
    "   b[i] = CI(xi)\n",
    "\n",
    "# Aplicar as condições de contorno \n",
    "\n",
    "b[0] = 35.0 # c(x=1, t) = 35\n",
    "b[nx-1] =  0 # c(x=xmax, t) = 0 \n",
    "\n",
    "rows,cols = A.nonzero()\n",
    "\n",
    "alfa = np.zeros(nx)\n",
    "beta = np.zeros(nx)\n",
    "\n",
    "k1 = np.zeros(nx)\n",
    "k2 = np.zeros(nx)\n",
    "k3 = np.zeros(nx)\n",
    "\n",
    "for i in range(0, nx):\n",
    "     \n",
    "    u_estrela[i] = 0.1 *  df.iloc[i,0] \n",
    "    D[i] = u_estrela[i] * H  \n",
    "    alfa[i]  =  df.iloc[i,n]*dt/dx                           # Stability condition - Udt/dx\n",
    "    beta[i]  = D[i]*dt/(dx**2)                               # Stability condition - Ddt/dx^2\n",
    "\n",
    "    k1[i]    =     - beta[i]                                        # Diagonal inferior \n",
    "    k2[i]    = 1 - alfa[i] + 2*beta[i]                                 # Diagonal meio\n",
    "    k3[i]    =     alfa[i] - beta[i]                            # Diagonal superior\n",
    "\n",
    "for row, col in zip(rows, cols):\n",
    "    if row == col:\n",
    "        A[row, col] = k2[row]\n",
    "    if row > col:\n",
    "        A[row,col] = k1[col]\n",
    "    if row < col:\n",
    "        A[row,col] = k3[row]\n",
    "    \n",
    "A[0,0] = 1\n",
    "A[0,1] = 0\n",
    "A[nx-1,nx-1] = 1\n",
    "A[nx-1,nx-2] = 0\n",
    "\n",
    "# u = sp.linalg.spsolve(A, b)\n",
    "\n",
    "# u\n",
    "A"
   ]
  },
  {
   "cell_type": "code",
   "execution_count": 60,
   "metadata": {},
   "outputs": [
    {
     "data": {
      "text/plain": [
       "<201800x1 sparse matrix of type '<class 'numpy.float64'>'\n",
       "\twith 2 stored elements in Compressed Sparse Row format>"
      ]
     },
     "execution_count": 60,
     "metadata": {},
     "output_type": "execute_result"
    }
   ],
   "source": [
    "A[:,0]"
   ]
  },
  {
   "cell_type": "code",
   "execution_count": 6,
   "metadata": {},
   "outputs": [
    {
     "name": "stderr",
     "output_type": "stream",
     "text": [
      "C:\\Users\\Nathan\\AppData\\Local\\Temp\\ipykernel_6384\\3225480771.py:2: RuntimeWarning: More than 20 figures have been opened. Figures created through the pyplot interface (`matplotlib.pyplot.figure`) are retained until explicitly closed and may consume too much memory. (To control this warning, see the rcParam `figure.max_open_warning`).\n",
      "  plt.figure(figsize=(7, 5), dpi=50)\n"
     ]
    },
    {
     "data": {
      "image/png": "[encoded data removed]",
      "text/plain": [
       "<Figure size 350x250 with 1 Axes>"
      ]
     },
     "metadata": {
      "needs_background": "light"
     },
     "output_type": "display_data"
    },
    {
     "data": {
      "text/plain": [
       "<Figure size 350x250 with 0 Axes>"
      ]
     },
     "metadata": {},
     "output_type": "display_data"
    },
    {
     "data": {
      "text/plain": [
       "<Figure size 350x250 with 0 Axes>"
      ]
     },
     "metadata": {},
     "output_type": "display_data"
    },
    {
     "data": {
      "text/plain": [
       "<Figure size 350x250 with 0 Axes>"
      ]
     },
     "metadata": {},
     "output_type": "display_data"
    },
    {
     "data": {
      "text/plain": [
       "<Figure size 350x250 with 0 Axes>"
      ]
     },
     "metadata": {},
     "output_type": "display_data"
    },
    {
     "data": {
      "image/png": "[encoded data removed]",
      "text/plain": [
       "<Figure size 350x250 with 1 Axes>"
      ]
     },
     "metadata": {
      "needs_background": "light"
     },
     "output_type": "display_data"
    },
    {
     "data": {
      "text/plain": [
       "<Figure size 350x250 with 0 Axes>"
      ]
     },
     "metadata": {},
     "output_type": "display_data"
    },
    {
     "data": {
      "text/plain": [
       "<Figure size 350x250 with 0 Axes>"
      ]
     },
     "metadata": {},
     "output_type": "display_data"
    },
    {
     "data": {
      "text/plain": [
       "<Figure size 350x250 with 0 Axes>"
      ]
     },
     "metadata": {},
     "output_type": "display_data"
    },
    {
     "data": {
      "text/plain": [
       "<Figure size 350x250 with 0 Axes>"
      ]
     },
     "metadata": {},
     "output_type": "display_data"
    },
    {
     "data": {
      "image/png": "[encoded data removed]",
      "text/plain": [
       "<Figure size 350x250 with 1 Axes>"
      ]
     },
     "metadata": {
      "needs_background": "light"
     },
     "output_type": "display_data"
    },
    {
     "data": {
      "text/plain": [
       "<Figure size 350x250 with 0 Axes>"
      ]
     },
     "metadata": {},
     "output_type": "display_data"
    },
    {
     "data": {
      "text/plain": [
       "<Figure size 350x250 with 0 Axes>"
      ]
     },
     "metadata": {},
     "output_type": "display_data"
    },
    {
     "data": {
      "text/plain": [
       "<Figure size 350x250 with 0 Axes>"
      ]
     },
     "metadata": {},
     "output_type": "display_data"
    },
    {
     "data": {
      "text/plain": [
       "<Figure size 350x250 with 0 Axes>"
      ]
     },
     "metadata": {},
     "output_type": "display_data"
    },
    {
     "data": {
      "image/png": "[encoded data removed]",
      "text/plain": [
       "<Figure size 350x250 with 1 Axes>"
      ]
     },
     "metadata": {
      "needs_background": "light"
     },
     "output_type": "display_data"
    },
    {
     "data": {
      "text/plain": [
       "<Figure size 350x250 with 0 Axes>"
      ]
     },
     "metadata": {},
     "output_type": "display_data"
    },
    {
     "data": {
      "text/plain": [
       "<Figure size 350x250 with 0 Axes>"
      ]
     },
     "metadata": {},
     "output_type": "display_data"
    },
    {
     "data": {
      "text/plain": [
       "<Figure size 350x250 with 0 Axes>"
      ]
     },
     "metadata": {},
     "output_type": "display_data"
    },
    {
     "data": {
      "text/plain": [
       "<Figure size 350x250 with 0 Axes>"
      ]
     },
     "metadata": {},
     "output_type": "display_data"
    },
    {
     "data": {
      "image/png": "[encoded data removed]",
      "text/plain": [
       "<Figure size 350x250 with 1 Axes>"
      ]
     },
     "metadata": {
      "needs_background": "light"
     },
     "output_type": "display_data"
    },
    {
     "data": {
      "text/plain": [
       "<Figure size 350x250 with 0 Axes>"
      ]
     },
     "metadata": {},
     "output_type": "display_data"
    },
    {
     "data": {
      "text/plain": [
       "<Figure size 350x250 with 0 Axes>"
      ]
     },
     "metadata": {},
     "output_type": "display_data"
    },
    {
     "data": {
      "text/plain": [
       "<Figure size 350x250 with 0 Axes>"
      ]
     },
     "metadata": {},
     "output_type": "display_data"
    },
    {
     "data": {
      "text/plain": [
       "<Figure size 350x250 with 0 Axes>"
      ]
     },
     "metadata": {},
     "output_type": "display_data"
    },
    {
     "data": {
      "image/png": "[encoded data removed]",
      "text/plain": [
       "<Figure size 350x250 with 1 Axes>"
      ]
     },
     "metadata": {
      "needs_background": "light"
     },
     "output_type": "display_data"
    },
    {
     "data": {
      "text/plain": [
       "<Figure size 350x250 with 0 Axes>"
      ]
     },
     "metadata": {},
     "output_type": "display_data"
    },
    {
     "data": {
      "text/plain": [
       "<Figure size 350x250 with 0 Axes>"
      ]
     },
     "metadata": {},
     "output_type": "display_data"
    },
    {
     "data": {
      "text/plain": [
       "<Figure size 350x250 with 0 Axes>"
      ]
     },
     "metadata": {},
     "output_type": "display_data"
    },
    {
     "data": {
      "text/plain": [
       "<Figure size 350x250 with 0 Axes>"
      ]
     },
     "metadata": {},
     "output_type": "display_data"
    },
    {
     "data": {
      "image/png": "[encoded data removed]",
      "text/plain": [
       "<Figure size 350x250 with 1 Axes>"
      ]
     },
     "metadata": {
      "needs_background": "light"
     },
     "output_type": "display_data"
    },
    {
     "data": {
      "text/plain": [
       "<Figure size 350x250 with 0 Axes>"
      ]
     },
     "metadata": {},
     "output_type": "display_data"
    },
    {
     "data": {
      "text/plain": [
       "<Figure size 350x250 with 0 Axes>"
      ]
     },
     "metadata": {},
     "output_type": "display_data"
    },
    {
     "data": {
      "text/plain": [
       "<Figure size 350x250 with 0 Axes>"
      ]
     },
     "metadata": {},
     "output_type": "display_data"
    },
    {
     "data": {
      "text/plain": [
       "<Figure size 350x250 with 0 Axes>"
      ]
     },
     "metadata": {},
     "output_type": "display_data"
    },
    {
     "data": {
      "image/png": "[encoded data removed]",
      "text/plain": [
       "<Figure size 350x250 with 1 Axes>"
      ]
     },
     "metadata": {
      "needs_background": "light"
     },
     "output_type": "display_data"
    },
    {
     "data": {
      "text/plain": [
       "<Figure size 350x250 with 0 Axes>"
      ]
     },
     "metadata": {},
     "output_type": "display_data"
    },
    {
     "data": {
      "text/plain": [
       "<Figure size 350x250 with 0 Axes>"
      ]
     },
     "metadata": {},
     "output_type": "display_data"
    },
    {
     "data": {
      "text/plain": [
       "<Figure size 350x250 with 0 Axes>"
      ]
     },
     "metadata": {},
     "output_type": "display_data"
    },
    {
     "data": {
      "text/plain": [
       "<Figure size 350x250 with 0 Axes>"
      ]
     },
     "metadata": {},
     "output_type": "display_data"
    },
    {
     "data": {
      "image/png": "[encoded data removed]",
      "text/plain": [
       "<Figure size 350x250 with 1 Axes>"
      ]
     },
     "metadata": {
      "needs_background": "light"
     },
     "output_type": "display_data"
    },
    {
     "data": {
      "text/plain": [
       "<Figure size 350x250 with 0 Axes>"
      ]
     },
     "metadata": {},
     "output_type": "display_data"
    },
    {
     "data": {
      "text/plain": [
       "<Figure size 350x250 with 0 Axes>"
      ]
     },
     "metadata": {},
     "output_type": "display_data"
    },
    {
     "data": {
      "text/plain": [
       "<Figure size 350x250 with 0 Axes>"
      ]
     },
     "metadata": {},
     "output_type": "display_data"
    },
    {
     "data": {
      "text/plain": [
       "<Figure size 350x250 with 0 Axes>"
      ]
     },
     "metadata": {},
     "output_type": "display_data"
    },
    {
     "data": {
      "image/png": "[encoded data removed]",
      "text/plain": [
       "<Figure size 350x250 with 1 Axes>"
      ]
     },
     "metadata": {
      "needs_background": "light"
     },
     "output_type": "display_data"
    },
    {
     "data": {
      "text/plain": [
       "<Figure size 350x250 with 0 Axes>"
      ]
     },
     "metadata": {},
     "output_type": "display_data"
    },
    {
     "data": {
      "text/plain": [
       "<Figure size 350x250 with 0 Axes>"
      ]
     },
     "metadata": {},
     "output_type": "display_data"
    },
    {
     "data": {
      "text/plain": [
       "<Figure size 350x250 with 0 Axes>"
      ]
     },
     "metadata": {},
     "output_type": "display_data"
    },
    {
     "data": {
      "text/plain": [
       "<Figure size 350x250 with 0 Axes>"
      ]
     },
     "metadata": {},
     "output_type": "display_data"
    },
    {
     "data": {
      "image/png": "[encoded data removed]",
      "text/plain": [
       "<Figure size 350x250 with 1 Axes>"
      ]
     },
     "metadata": {
      "needs_background": "light"
     },
     "output_type": "display_data"
    },
    {
     "data": {
      "text/plain": [
       "<Figure size 350x250 with 0 Axes>"
      ]
     },
     "metadata": {},
     "output_type": "display_data"
    },
    {
     "data": {
      "text/plain": [
       "<Figure size 350x250 with 0 Axes>"
      ]
     },
     "metadata": {},
     "output_type": "display_data"
    },
    {
     "data": {
      "text/plain": [
       "<Figure size 350x250 with 0 Axes>"
      ]
     },
     "metadata": {},
     "output_type": "display_data"
    },
    {
     "data": {
      "text/plain": [
       "<Figure size 350x250 with 0 Axes>"
      ]
     },
     "metadata": {},
     "output_type": "display_data"
    },
    {
     "data": {
      "image/png": "[encoded data removed]",
      "text/plain": [
       "<Figure size 350x250 with 1 Axes>"
      ]
     },
     "metadata": {
      "needs_background": "light"
     },
     "output_type": "display_data"
    },
    {
     "data": {
      "text/plain": [
       "<Figure size 350x250 with 0 Axes>"
      ]
     },
     "metadata": {},
     "output_type": "display_data"
    },
    {
     "data": {
      "text/plain": [
       "<Figure size 350x250 with 0 Axes>"
      ]
     },
     "metadata": {},
     "output_type": "display_data"
    },
    {
     "data": {
      "text/plain": [
       "<Figure size 350x250 with 0 Axes>"
      ]
     },
     "metadata": {},
     "output_type": "display_data"
    },
    {
     "data": {
      "text/plain": [
       "<Figure size 350x250 with 0 Axes>"
      ]
     },
     "metadata": {},
     "output_type": "display_data"
    },
    {
     "data": {
      "image/png": "[encoded data removed]",
      "text/plain": [
       "<Figure size 350x250 with 1 Axes>"
      ]
     },
     "metadata": {
      "needs_background": "light"
     },
     "output_type": "display_data"
    },
    {
     "data": {
      "text/plain": [
       "<Figure size 350x250 with 0 Axes>"
      ]
     },
     "metadata": {},
     "output_type": "display_data"
    },
    {
     "data": {
      "text/plain": [
       "<Figure size 350x250 with 0 Axes>"
      ]
     },
     "metadata": {},
     "output_type": "display_data"
    },
    {
     "data": {
      "text/plain": [
       "<Figure size 350x250 with 0 Axes>"
      ]
     },
     "metadata": {},
     "output_type": "display_data"
    },
    {
     "data": {
      "text/plain": [
       "<Figure size 350x250 with 0 Axes>"
      ]
     },
     "metadata": {},
     "output_type": "display_data"
    },
    {
     "data": {
      "image/png": "[encoded data removed]",
      "text/plain": [
       "<Figure size 350x250 with 1 Axes>"
      ]
     },
     "metadata": {
      "needs_background": "light"
     },
     "output_type": "display_data"
    },
    {
     "data": {
      "text/plain": [
       "<Figure size 350x250 with 0 Axes>"
      ]
     },
     "metadata": {},
     "output_type": "display_data"
    },
    {
     "data": {
      "text/plain": [
       "<Figure size 350x250 with 0 Axes>"
      ]
     },
     "metadata": {},
     "output_type": "display_data"
    },
    {
     "data": {
      "text/plain": [
       "<Figure size 350x250 with 0 Axes>"
      ]
     },
     "metadata": {},
     "output_type": "display_data"
    },
    {
     "data": {
      "text/plain": [
       "<Figure size 350x250 with 0 Axes>"
      ]
     },
     "metadata": {},
     "output_type": "display_data"
    },
    {
     "data": {
      "image/png": "[encoded data removed]",
      "text/plain": [
       "<Figure size 350x250 with 1 Axes>"
      ]
     },
     "metadata": {
      "needs_background": "light"
     },
     "output_type": "display_data"
    },
    {
     "data": {
      "text/plain": [
       "<Figure size 350x250 with 0 Axes>"
      ]
     },
     "metadata": {},
     "output_type": "display_data"
    },
    {
     "data": {
      "text/plain": [
       "<Figure size 350x250 with 0 Axes>"
      ]
     },
     "metadata": {},
     "output_type": "display_data"
    },
    {
     "data": {
      "text/plain": [
       "<Figure size 350x250 with 0 Axes>"
      ]
     },
     "metadata": {},
     "output_type": "display_data"
    },
    {
     "data": {
      "text/plain": [
       "<Figure size 350x250 with 0 Axes>"
      ]
     },
     "metadata": {},
     "output_type": "display_data"
    },
    {
     "data": {
      "image/png": "[encoded data removed]",
      "text/plain": [
       "<Figure size 350x250 with 1 Axes>"
      ]
     },
     "metadata": {
      "needs_background": "light"
     },
     "output_type": "display_data"
    },
    {
     "data": {
      "text/plain": [
       "<Figure size 350x250 with 0 Axes>"
      ]
     },
     "metadata": {},
     "output_type": "display_data"
    },
    {
     "data": {
      "text/plain": [
       "<Figure size 350x250 with 0 Axes>"
      ]
     },
     "metadata": {},
     "output_type": "display_data"
    }
   ],
   "source": [
    "\n",
    "for i in range(nt):\n",
    "    plt.figure(figsize=(7, 5), dpi=50)\n",
    "    if i%5==0:\n",
    "        plt.plot(x[0:1000], dummy_answer[i,0:1000])\n",
    "#   plt.plot(x[0:1000], dummy_answer[5,0:1000])\n",
    "#   plt.plot(x[0:1000], dummy_answer[10,0:1000])\n",
    "# # dummy_answer\n",
    "# for i in range (1,nt):\n",
    "#     if temp_resposta[i] != 0:\n",
    "#         plt.plot(x, dummy_answer[i,:])\n",
    "        "
   ]
  },
  {
   "cell_type": "code",
   "execution_count": null,
   "metadata": {},
   "outputs": [],
   "source": []
  }
 ],
 "metadata": {
  "kernelspec": {
   "display_name": "Python 3.9.10 64-bit",
   "language": "python",
   "name": "python3"
  },
  "language_info": {
   "codemirror_mode": {
    "name": "ipython",
    "version": 3
   },
   "file_extension": ".py",
   "mimetype": "text/x-python",
   "name": "python",
   "nbconvert_exporter": "python",
   "pygments_lexer": "ipython3",
   "version": "3.9.10"
  },
  "orig_nbformat": 4,
  "vscode": {
   "interpreter": {
    "hash": "e6188657b764ebd2e2049ca165f00f1f1826e7e744e1718aa90a1b75ebf0a7c8"
   }
  }
 },
 "nbformat": 4,
 "nbformat_minor": 2
}
