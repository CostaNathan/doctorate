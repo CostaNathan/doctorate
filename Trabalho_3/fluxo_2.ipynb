{
 "cells": [
  {
   "cell_type": "markdown",
   "metadata": {},
   "source": [
    "####  Solução numérica \n",
    "\n",
    "Para U < 0 :\n",
    "\n",
    "\\begin{equation}\n",
    "C_{j+1}^{n+1}*(\\alpha - \\beta) + C_{j}^{n+1}* (1- \\alpha +2*\\beta) + C_{j-1}^{n+1} *(-\\beta) = C_{j}^{n} \n",
    "\\end{equation}\n",
    "\n",
    "Para U > 0 :\n",
    "\n",
    "\\begin{equation}\n",
    "C_{j+1}^{n+1}*(- \\beta) + C_{j}^{n+1}* (1 + \\alpha +2*\\beta) + C_{j-1}^{n+1} *(-\\alpha -\\beta) = C_{j}^{n} \n",
    "\\end{equation}"
   ]
  },
  {
   "cell_type": "markdown",
   "metadata": {},
   "source": [
    "Com as seguintes condições iniciais e de contorno:\n",
    "\n",
    "\\begin{equation}\n",
    "    C(x,t=0) = C_{0}\n",
    "\\end{equation}\n",
    "\n",
    "Condição de contorno:\n",
    "\n",
    "\\begin{equation}\n",
    "c(0, t)=\\left\\{\\begin{array}{lc}c_{0} & 0 < t < t_{0} \\\\\n",
    "0 & t>t_{o}\\end{array}\\right.\n",
    "\\end{equation}\n",
    "\n",
    "\\begin{equation}\n",
    "\\frac{\\partial c}{\\partial x}(\\infty, t)=0\n",
    "\\end{equation}\n"
   ]
  },
  {
   "cell_type": "code",
   "execution_count": 2,
   "metadata": {},
   "outputs": [],
   "source": [
    "import numpy as np\n",
    "import matplotlib.pyplot as plt\n",
    "import matplotlib as mpl\n",
    "import mpl_toolkits.mplot3d\n",
    "import scipy.sparse as sp\n",
    "import scipy.sparse.linalg \n",
    "import scipy.linalg as la\n",
    "from numpy import zeros"
   ]
  },
  {
   "cell_type": "code",
   "execution_count": 28,
   "metadata": {},
   "outputs": [
    {
     "name": "stdout",
     "output_type": "stream",
     "text": [
      "Courant: Corrigir\n",
      "Pèclet: OK\n",
      "Neumann: Corrigir\n"
     ]
    }
   ],
   "source": [
    "#===============================================================\n",
    "# Defining parameters\n",
    "#===============================================================\n",
    "\n",
    "tmin = 0.\n",
    "tmax = 100.0 # Tempo total de análise\n",
    "dt = 0.5 # Passo no tempo\n",
    "nt = int(tmax/dt) # Número de iterações no tempo\n",
    "t = np.arange(tmin, tmax, dt) # vetor tempo para plotar\n",
    "\n",
    "xmin = 0.\n",
    "xmax = 100900.0 # Distância total percorrida\n",
    "dx = 0.8 # Passo no espaço\n",
    "nx = int(xmax/dx) # Número de pontos em x, considera x=0 e x=xmax\n",
    "x = np.arange(xmin, xmax, dx)\n",
    "\n",
    "H = 4.0 # m\n",
    "c = 0.5 # Celeridade do fluxo - valor máximo em x = 1.53 m/s\n",
    "u_estrela = 0.1 * c \n",
    "D = u_estrela * H # Difusão = u* * H\n",
    "\n",
    "#===============================================================\n",
    "# Stability check\n",
    "#===============================================================\n",
    "\n",
    "courant = 1.6*dt/dx                 # Número de Courant <= 1\n",
    "if courant <= 1:\n",
    "  print('Courant: OK')\n",
    "else:\n",
    "  print('Courant: Corrigir')\n",
    "\n",
    "pe = 1.6 * dx /(0.1*1.6*H)                    # Núemro de pèclet <= 2\n",
    "if pe <= 2:\n",
    "  print('Pèclet: OK')\n",
    "else:\n",
    "  print('Pèclet: Corrigir')\n",
    "\n",
    "neumann = (0.1*1.6*H) *dt/dx**2             # Von Neumann <= 1/2\n",
    "if neumann <= 0.5:\n",
    "  print('Neumann: OK')\n",
    "else:\n",
    "  print('Neumann: Corrigir')\n",
    "\n"
   ]
  },
  {
   "cell_type": "code",
   "execution_count": 4,
   "metadata": {},
   "outputs": [],
   "source": [
    "#===============================================================\n",
    "# Definir matriz tridiagonal de solução (A)\n",
    "#===============================================================\n",
    "\n",
    "# Diagonais inferior, central e superior (k1,k2,k3)\n",
    "\n",
    "alfa  = c*dt/dx                                             # Stability condition - Udt/dx\n",
    "beta  = D*dt/(dx**2)                                        # Stability condition - Ddt/dx^2\n",
    "\n",
    "k1    =  alfa - beta                                      # Diagonal inferior \n",
    "k2    = 1 - alfa + 2*beta                                   # Diagonal meio\n",
    "k3    = - beta                                             # Diagonal superior\n",
    "\n",
    "# A = (np.eye(nx, k=-1)*k1 + np.eye(nx)*k2 + np.eye(nx, k=1)*k3) # Matriz de solução (A)\n",
    "A = (sp.eye(nx, k=-1)*k1 + sp.eye(nx)*k2 + sp.eye(nx, k=1)*k3) # Matriz de solução (A)\n",
    "A = sp.csr_matrix(A)\n",
    "A[0,0] = 1\n",
    "A[0,1] = 0\n",
    "A[nx-1,nx-1] = 1\n",
    "A[nx-1,nx-2] = 0\n",
    "\n",
    "#===============================================================\n",
    "# Definir vertor resposta (b)\n",
    "#===============================================================\n",
    "\n",
    "b = np.zeros(nx)\n",
    "\n",
    "# Aplicar condição inicial \n",
    "\n",
    "ci = 0 # c(x.t=0) = 0\n",
    "\n",
    "def CI(x):                                                 # define a condição inicial\n",
    "    if xmin <= x <= xmax:\n",
    "        return ci          \n",
    "\n",
    "for i in range(nx):                                         # monta a condição inicial\n",
    "   xi = i*dx\n",
    "   b[i] = CI(xi)\n",
    "\n",
    "# Aplicar as condições de contorno \n",
    "\n",
    "b[0] = 35.0 # c(x=1, t) = 35\n",
    "b[nx-1] =  0 # c(x=xmax, t) = 0 "
   ]
  },
  {
   "cell_type": "code",
   "execution_count": 10,
   "metadata": {},
   "outputs": [
    {
     "data": {
      "image/png": "[encoded data removed]",
      "text/plain": [
       "<Figure size 432x288 with 1 Axes>"
      ]
     },
     "metadata": {
      "needs_background": "light"
     },
     "output_type": "display_data"
    }
   ],
   "source": [
    "#===============================================================\n",
    "# Iterações no tempo e no espaço\n",
    "#===============================================================\n",
    "\n",
    "nt_resposta = np.array([0, 100, 200, 300, 400, 500, 600, 700, 800, 900])\n",
    "resposta = zeros((len(nt_resposta),nx), float)\n",
    "p = zeros((nt,nx),float)\n",
    "cont = 0\n",
    "\n",
    "for n in range(nt):\n",
    "    u = sp.linalg.spsolve(A, b)\n",
    "    if cont == 0:\n",
    "        p[n,:] = u\n",
    "    if cont == 100:\n",
    "        p[n,:] = u\n",
    "    if cont == 200:\n",
    "        p[n,:] = u\n",
    "    if cont == 300:\n",
    "        p[n,:] = u\n",
    "    if cont == 400:\n",
    "        p[n,:] = u\n",
    "    if cont == 500:\n",
    "        p[n,:] = u\n",
    "    if cont == 600:\n",
    "        p[n,:] = u\n",
    "    if cont == 700:\n",
    "        p[n,:] = u\n",
    "    if cont == 800:\n",
    "        p[n,:] = u\n",
    "    if cont == 900:\n",
    "        p[n,:] = u\n",
    "\n",
    "    b = u    \n",
    "    cont +=1\n",
    "\n",
    "for i in range(len(nt_resposta)):\n",
    "\n",
    "    resposta[i,:] = p[nt_resposta[i],:]\n",
    "\n",
    "\n",
    "for i in range(len(x)):\n",
    "    plt.plot(x, resposta[i,:])\n"
   ]
  },
  {
   "cell_type": "code",
   "execution_count": null,
   "metadata": {},
   "outputs": [],
   "source": []
  }
 ],
 "metadata": {
  "kernelspec": {
   "display_name": "Python 3.8.10 64-bit",
   "language": "python",
   "name": "python3"
  },
  "language_info": {
   "codemirror_mode": {
    "name": "ipython",
    "version": 3
   },
   "file_extension": ".py",
   "mimetype": "text/x-python",
   "name": "python",
   "nbconvert_exporter": "python",
   "pygments_lexer": "ipython3",
   "version": "3.8.10"
  },
  "orig_nbformat": 4,
  "vscode": {
   "interpreter": {
    "hash": "f544ce1a915a9875fad91c894e2c0bcad4b7a79945aa6027ef3ad27810072aa6"
   }
  }
 },
 "nbformat": 4,
 "nbformat_minor": 2
}
