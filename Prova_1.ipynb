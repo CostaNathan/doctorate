{
  "nbformat": 4,
  "nbformat_minor": 0,
  "metadata": {
    "colab": {
      "provenance": [],
      "include_colab_link": true
    },
    "kernelspec": {
      "name": "python3",
      "display_name": "Python 3"
    }
  },
  "cells": [
    {
      "cell_type": "markdown",
      "metadata": {
        "id": "view-in-github",
        "colab_type": "text"
      },
      "source": [
        "<a href=\"https://colab.research.google.com/github/CostaNathan/doctorate/blob/Introdu%C3%A7%C3%A3o_Python/Prova_1.ipynb\" target=\"_parent\"><img src=\"https://colab.research.google.com/assets/colab-badge.svg\" alt=\"Open In Colab\"/></a>"
      ]
    },
    {
      "cell_type": "markdown",
      "metadata": {
        "id": "7NZ9zx1ZdeVe"
      },
      "source": [
        "## Prova 1 - Introdução à programação em Python\n",
        "\n",
        "Ano: 2022"
      ]
    },
    {
      "cell_type": "code",
      "metadata": {
        "id": "4II3jHaTdd7Z"
      },
      "source": [
        "import pandas as pd\n",
        "import numpy as np\n",
        "import matplotlib.pyplot as plt\n",
        "import datetime\n"
      ],
      "execution_count": 1,
      "outputs": []
    },
    {
      "cell_type": "markdown",
      "metadata": {
        "id": "WKiKHzu5S6v8"
      },
      "source": [
        "**Questão 1) (10 pontos)** Escreva uma função que leia um número inteiro e determine se o número é par ou ímpar. Teste a função para ver se ela funciona, use como valores de entrada apenas números inteiros positivos.\n"
      ]
    },
    {
      "cell_type": "code",
      "metadata": {
        "id": "HTxfwDXhS54L",
        "outputId": "139ff344-c817-49c6-db8c-8932971536f2",
        "colab": {
          "base_uri": "https://localhost:8080/"
        }
      },
      "source": [
        "def par_impar(numero):\n",
        "  if numero == 0 or numero%2 == 0:\n",
        "    print('Esse número é par')\n",
        "  else:\n",
        "    print('Esse número é impar')\n",
        "\n",
        "\n",
        "par_impar(12)"
      ],
      "execution_count": 2,
      "outputs": [
        {
          "output_type": "stream",
          "name": "stdout",
          "text": [
            "Esse número é par\n"
          ]
        }
      ]
    },
    {
      "cell_type": "markdown",
      "metadata": {
        "id": "zorNeudFvl9C"
      },
      "source": [
        "**Questão 2) (10 pontos)** Escreva uma lista que contenha os elementos 100.1, 45.2, 20.5, 25353.0, 33.2, 1.43, 99.5, 2, 34, 10.1, 123, 532.1, 15.0 e em seguida imprima os números em ordem crescente. Dica: procure o help/manual da função ``sort'' do numpy. "
      ]
    },
    {
      "cell_type": "code",
      "metadata": {
        "id": "herICNyovt_8",
        "outputId": "b34f46dd-7e14-4b5e-cf48-f7141a87382f",
        "colab": {
          "base_uri": "https://localhost:8080/"
        }
      },
      "source": [
        "elementos = [100.1, 45.2, 20.5, 25353.0, 33.2, 1.43, 99.5, 2, 34, 10.1, 123, 532.1, 15.0]\n",
        "\n",
        "elementos_sort = np.array(elementos)\n",
        "elementos_sort = np.sort(elementos_sort)\n",
        "\n",
        "elementos_sort"
      ],
      "execution_count": 3,
      "outputs": [
        {
          "output_type": "execute_result",
          "data": {
            "text/plain": [
              "array([1.4300e+00, 2.0000e+00, 1.0100e+01, 1.5000e+01, 2.0500e+01,\n",
              "       3.3200e+01, 3.4000e+01, 4.5200e+01, 9.9500e+01, 1.0010e+02,\n",
              "       1.2300e+02, 5.3210e+02, 2.5353e+04])"
            ]
          },
          "metadata": {},
          "execution_count": 3
        }
      ]
    },
    {
      "cell_type": "markdown",
      "metadata": {
        "id": "0FyiegKrXgMT"
      },
      "source": [
        "**Questão 3) (10 pontos)** Imprima o resultado da expressão matemática $e^{\\pi i} + 1$, sendo $i$ o número imaginário. Formate o resultado para ser impresso com duas casas decimais, tanto para parte real quanto para a parte imaginária do número.\n",
        "\n",
        "Dica: use a função nativa do Python: ``complex(,)''."
      ]
    },
    {
      "cell_type": "code",
      "metadata": {
        "id": "yEesqmceS5zs",
        "outputId": "dce65a1f-df5a-4950-e269-3b28282bfbe3",
        "colab": {
          "base_uri": "https://localhost:8080/"
        }
      },
      "source": [
        "complexo = complex(0, np.pi)\n",
        "\n",
        "\n",
        "z = 1 + np.exp(complexo)\n",
        "\n",
        "print(z)\n",
        "print('O resultado da expressão matemática requerida com duas casas decimais é: {:.2f}' .format(z))"
      ],
      "execution_count": 4,
      "outputs": [
        {
          "output_type": "stream",
          "name": "stdout",
          "text": [
            "1.2246467991473532e-16j\n",
            "O resultado da expressão matemática requerida com duas casas decimais é: 0.00+0.00j\n"
          ]
        }
      ]
    },
    {
      "cell_type": "markdown",
      "metadata": {
        "id": "H-LZrBvHxVgd"
      },
      "source": [
        "**Questão 4) (10 pontos)** Escreva uma função que leia 3 argumentos de entrada: \n",
        "\n",
        "* Radiação solar (W/m$^2$)\n",
        "* Velocidade do vento (m/s)\n",
        "* Hora\n",
        "\n",
        "Considere que o sol nasce às 6h e se pôe as 18h.\n",
        "\n",
        "A função deve retornar o índice de estabilidade da atmosfera de Pasquill de acordo com as tabelas abaixo:"
      ]
    },
    {
      "cell_type": "markdown",
      "metadata": {
        "id": "mL54Li5ZyLjG"
      },
      "source": [
        "<img src=\"https://www.dropbox.com/s/a7i70vu4o18fba0/tabelas.png?dl=1\" width=\"50%\"/> \n",
        "\n",
        "\n",
        "Exemplo de resolução:\n",
        "* velocidade_vento = 1.5 % m/s\n",
        "* radiacao_solar =  500 % W/m2\n",
        "* horario = 12h\n",
        "\n",
        "funcao_determina_pasquil(velocidade_vento,radiacao_solar,horario)\n",
        "\n",
        "Resposta: A-B"
      ]
    },
    {
      "cell_type": "code",
      "metadata": {
        "id": "g8jeBHcJxWDS",
        "outputId": "ea151c02-0f2a-43b7-bf6d-48d7953701bf",
        "colab": {
          "base_uri": "https://localhost:8080/"
        }
      },
      "source": [
        "# vel_vento, radiacao\n",
        "def time_in_range(hora, minuto, segundo):\n",
        "    \"\"\"Returns whether current is in the range [start, end]\"\"\"\n",
        "\n",
        "    start = datetime.time(6,0,0)\n",
        "    end = datetime.time(18,0,0)\n",
        "\n",
        "    current = datetime.time(hora, minuto, segundo)\n",
        "    return start <= current <= end\n",
        "\n",
        "# time_in_range(12,0,0)\n",
        "\n",
        "def pesquil (velocidade_vento, radiacao, hora, minuto, segundo):\n",
        "\n",
        "  if time_in_range(hora,minuto,segundo):    \n",
        "    if radiacao > 700:\n",
        "      if velocidade_vento < 2:        \n",
        "        print('A')\n",
        "      if 2 <= velocidade_vento < 3:\n",
        "        print('A - B')\n",
        "      if 3 <= velocidade_vento < 5:\n",
        "        print('B')\n",
        "      if 5 <= velocidade_vento < 6:\n",
        "        print('C')\n",
        "      if velocidade_vento >= 6:\n",
        "        print('C')\n",
        "\n",
        "    if 350 < radiacao <= 700:\n",
        "      \n",
        "      if velocidade_vento < 2:\n",
        "        print('A - B')\n",
        "      if 2 <= velocidade_vento < 3:\n",
        "        print('B')\n",
        "      if 3 <=velocidade_vento < 5:\n",
        "        print('B - C')\n",
        "      if 5 <= velocidade_vento < 6:\n",
        "        print('C - D')\n",
        "      if velocidade_vento >= 6:\n",
        "        print('D')\n",
        "    \n",
        "    if radiacao <= 350:\n",
        "      \n",
        "      if velocidade_vento < 2:\n",
        "        print('B')\n",
        "      if 2 <= velocidade_vento < 3:\n",
        "        print('C')\n",
        "      if 3 <= velocidade_vento < 5:\n",
        "        print('C')\n",
        "      if 5 <= velocidade_vento < 6:\n",
        "        print('D')\n",
        "      if velocidade_vento >= 6:\n",
        "        print('D')\n",
        "\n",
        "  else:\n",
        "    if velocidade_vento < 2:\n",
        "        print('G')\n",
        "    if 2 <= velocidade_vento < 3:\n",
        "        print('F')\n",
        "    if 3 <= velocidade_vento < 5:\n",
        "        print('E')\n",
        "    if 5 <= velocidade_vento < 6:\n",
        "        print('D')\n",
        "    if velocidade_vento >= 6:\n",
        "        print('D')\n",
        "       \n",
        "\n",
        "pesquil(3, 701, 12, 0, 0)"
      ],
      "execution_count": 5,
      "outputs": [
        {
          "output_type": "stream",
          "name": "stdout",
          "text": [
            "B\n"
          ]
        }
      ]
    },
    {
      "cell_type": "markdown",
      "metadata": {
        "id": "xLsk2SqPbKBm"
      },
      "source": [
        "**Questão 5) (10 pontos)**   Faça a seguinte multiplicação de matrizes usando Python:\n",
        "\n",
        "\\begin{equation}\n",
        "\\left( \\begin{array}{cc}\n",
        "1.2 & 0.5 \\\\\n",
        "0.1 & 1.9\n",
        "\\end{array} \\right)\n",
        "%\n",
        "\\left( \\begin{array}{cc}\n",
        "2.3 & 9.1 \\\\\n",
        "20.0 & 8.2\n",
        "\\end{array} \\right)\n",
        "=\n",
        "\\left( \\begin{array}{cc}\n",
        "12.76 & 15.02 \\\\\n",
        "38.23 & 16.49\n",
        "\\end{array} \\right)\n",
        "\\end{equation}"
      ]
    },
    {
      "cell_type": "code",
      "metadata": {
        "id": "eReOUKomS5m-",
        "outputId": "b94a4496-0687-4df1-b6e3-ffe2e646d16d",
        "colab": {
          "base_uri": "https://localhost:8080/"
        }
      },
      "source": [
        "matrix1 = np.array([[1.2, 0.5],[0.1, 1.9]])\n",
        "matrix2 = np.array([[2.3, 9.1],[20.0, 8.2]])\n",
        "\n",
        "mult = np.dot(matrix1, matrix2)\n",
        "print(mult)"
      ],
      "execution_count": 6,
      "outputs": [
        {
          "output_type": "stream",
          "name": "stdout",
          "text": [
            "[[12.76 15.02]\n",
            " [38.23 16.49]]\n"
          ]
        }
      ]
    },
    {
      "cell_type": "markdown",
      "source": [
        "**Questão 6) (50 pontos)**   Considere os seguintes dados das estações meteorológicas de Curitiba (A807) e Colombo (B806):\n",
        "\n",
        "* Curitiba: https://www.dropbox.com/s/uqfnsp5m6c0pmr7/dados_A807_H_2015-01-01_2021-07-31.csv?dl=1\n",
        "\n",
        "* Colombo: https://www.dropbox.com/s/tlso4rvuhzb5jao/dados_B806_H_2016-05-31_2021-07-31.csv?dl=1\n",
        "\n",
        "Faça a leitura dos dois arquivos em dois dataframes sem alterar os arquivos originais. Para os dois conjuntos de dados considere apenas o período de tempo entre: '2015-02-01 00:00:00' e '2021-03-31 23:00:00'.\n",
        "\n",
        "A) Substitua os dados negativos de RADIACAO GLOBAL(kJ/m²) dos dois conjuntos de dados pelo valor 0 (zero).\n",
        "\n",
        "B) Faça um gráfico do perfil diário de RADIACAO GLOBAL(kJ/m²) para Curitiba após a substituição dos valores negativos (item A). Por perfil diário entende-se um gráfico em que: no eixo X são apresentadas as horas do dia e no eixo Y são apresentadas os valores médios de Radiação para cada hora durante todo o período analisado, de '2015-02-01 00:00:00' até '2021-03-31 23:00:00'.\n",
        "\n",
        "C) Calcule as médias diárias da TEMPERATURA DO PONTO DE ORVALHO(°C) para ambas as estações durante todo o período analisado, de '2015-02-01' até '2021-03-31' e apresente um gráfico com as duas séries temporais diárias (no mesmo gráfico).\n",
        "\n",
        "D) Após calcular as médias diárias de TEMPERATURA DO PONTO DE ORVALHO(°C), substitua os dados faltantes da estação de Curitiba pelos dados da estação de Colombo.\n",
        "\n",
        "E) Após a substituição dos dados faltantes da estação de Curitiba: faça um histograma contendo 30 barras (bins) da TEMPERATURA DO PONTO DE ORVALHO(°C) diária para Curitiba.\n",
        "\n",
        "F) Após a substituição dos dados faltantes da estação de Curitiba: determine a média e o desvio padrão da TEMPERATURA DO PONTO DE ORVALHO(°C) diária para Curitiba.\n",
        "\n",
        "\n"
      ],
      "metadata": {
        "id": "t7_dPxkKdiWQ"
      }
    },
    {
      "cell_type": "code",
      "source": [
        "URL =  'https://www.dropbox.com/s/uqfnsp5m6c0pmr7/dados_A807_H_2015-01-01_2021-07-31.csv?dl=1'\n",
        "curitiba = pd.read_csv(URL, skiprows = 10,sep = ';')\n",
        "URL = 'https://www.dropbox.com/s/tlso4rvuhzb5jao/dados_B806_H_2016-05-31_2021-07-31.csv?dl=1'\n",
        "colombo = pd.read_csv(URL, skiprows = 10,sep = ';')\n",
        "\n",
        "# curitiba"
      ],
      "metadata": {
        "id": "xb-e6spzdOdI"
      },
      "execution_count": 7,
      "outputs": []
    },
    {
      "cell_type": "code",
      "source": [
        "# colombo"
      ],
      "metadata": {
        "id": "Gc2kS1AedgGz"
      },
      "execution_count": 8,
      "outputs": []
    },
    {
      "cell_type": "code",
      "source": [
        "curitiba_radiacao = curitiba[['RADIACAO GLOBAL(Kj/m²)', 'Data Medicao', 'Hora Medicao']]\n",
        "curitiba_radiacao[curitiba_radiacao['RADIACAO GLOBAL(Kj/m²)'] < 0] = 0 # Substituir valores negativos por zero\n",
        "curitiba_radiacao['Hora Medicao']  = curitiba_radiacao['Hora Medicao'].div(100)\n",
        "curitiba_radiacao['Hora Medicao'] = curitiba_radiacao['Hora Medicao'].astype(int)\n",
        "curitiba_radiacao\n"
      ],
      "metadata": {
        "id": "byjlT4LAS261",
        "outputId": "fa50404a-a851-483f-839f-e841b08ef206",
        "colab": {
          "base_uri": "https://localhost:8080/",
          "height": 841
        }
      },
      "execution_count": 9,
      "outputs": [
        {
          "output_type": "stream",
          "name": "stderr",
          "text": [
            "/usr/local/lib/python3.7/dist-packages/ipykernel_launcher.py:2: SettingWithCopyWarning: \n",
            "A value is trying to be set on a copy of a slice from a DataFrame.\n",
            "Try using .loc[row_indexer,col_indexer] = value instead\n",
            "\n",
            "See the caveats in the documentation: https://pandas.pydata.org/pandas-docs/stable/user_guide/indexing.html#returning-a-view-versus-a-copy\n",
            "  \n",
            "/usr/local/lib/python3.7/dist-packages/pandas/core/indexing.py:1817: SettingWithCopyWarning: \n",
            "A value is trying to be set on a copy of a slice from a DataFrame.\n",
            "Try using .loc[row_indexer,col_indexer] = value instead\n",
            "\n",
            "See the caveats in the documentation: https://pandas.pydata.org/pandas-docs/stable/user_guide/indexing.html#returning-a-view-versus-a-copy\n",
            "  self._setitem_single_column(loc, value, pi)\n",
            "/usr/local/lib/python3.7/dist-packages/ipykernel_launcher.py:3: SettingWithCopyWarning: \n",
            "A value is trying to be set on a copy of a slice from a DataFrame.\n",
            "Try using .loc[row_indexer,col_indexer] = value instead\n",
            "\n",
            "See the caveats in the documentation: https://pandas.pydata.org/pandas-docs/stable/user_guide/indexing.html#returning-a-view-versus-a-copy\n",
            "  This is separate from the ipykernel package so we can avoid doing imports until\n",
            "/usr/local/lib/python3.7/dist-packages/ipykernel_launcher.py:4: SettingWithCopyWarning: \n",
            "A value is trying to be set on a copy of a slice from a DataFrame.\n",
            "Try using .loc[row_indexer,col_indexer] = value instead\n",
            "\n",
            "See the caveats in the documentation: https://pandas.pydata.org/pandas-docs/stable/user_guide/indexing.html#returning-a-view-versus-a-copy\n",
            "  after removing the cwd from sys.path.\n"
          ]
        },
        {
          "output_type": "execute_result",
          "data": {
            "text/plain": [
              "       RADIACAO GLOBAL(Kj/m²) Data Medicao  Hora Medicao\n",
              "0                       0.000            0             0\n",
              "1                       0.000            0             0\n",
              "2                       0.000            0             0\n",
              "3                       0.000            0             0\n",
              "4                       0.000            0             0\n",
              "...                       ...          ...           ...\n",
              "57691                 512.793   2021-07-31            19\n",
              "57692                  36.845   2021-07-31            20\n",
              "57693                   0.000            0             0\n",
              "57694                   0.000            0             0\n",
              "57695                     NaN   2021-07-31            23\n",
              "\n",
              "[57696 rows x 3 columns]"
            ],
            "text/html": [
              "\n",
              "  <div id=\"df-d9269ecc-0218-436d-85cd-f3164f3d5eb6\">\n",
              "    <div class=\"colab-df-container\">\n",
              "      <div>\n",
              "<style scoped>\n",
              "    .dataframe tbody tr th:only-of-type {\n",
              "        vertical-align: middle;\n",
              "    }\n",
              "\n",
              "    .dataframe tbody tr th {\n",
              "        vertical-align: top;\n",
              "    }\n",
              "\n",
              "    .dataframe thead th {\n",
              "        text-align: right;\n",
              "    }\n",
              "</style>\n",
              "<table border=\"1\" class=\"dataframe\">\n",
              "  <thead>\n",
              "    <tr style=\"text-align: right;\">\n",
              "      <th></th>\n",
              "      <th>RADIACAO GLOBAL(Kj/m²)</th>\n",
              "      <th>Data Medicao</th>\n",
              "      <th>Hora Medicao</th>\n",
              "    </tr>\n",
              "  </thead>\n",
              "  <tbody>\n",
              "    <tr>\n",
              "      <th>0</th>\n",
              "      <td>0.000</td>\n",
              "      <td>0</td>\n",
              "      <td>0</td>\n",
              "    </tr>\n",
              "    <tr>\n",
              "      <th>1</th>\n",
              "      <td>0.000</td>\n",
              "      <td>0</td>\n",
              "      <td>0</td>\n",
              "    </tr>\n",
              "    <tr>\n",
              "      <th>2</th>\n",
              "      <td>0.000</td>\n",
              "      <td>0</td>\n",
              "      <td>0</td>\n",
              "    </tr>\n",
              "    <tr>\n",
              "      <th>3</th>\n",
              "      <td>0.000</td>\n",
              "      <td>0</td>\n",
              "      <td>0</td>\n",
              "    </tr>\n",
              "    <tr>\n",
              "      <th>4</th>\n",
              "      <td>0.000</td>\n",
              "      <td>0</td>\n",
              "      <td>0</td>\n",
              "    </tr>\n",
              "    <tr>\n",
              "      <th>...</th>\n",
              "      <td>...</td>\n",
              "      <td>...</td>\n",
              "      <td>...</td>\n",
              "    </tr>\n",
              "    <tr>\n",
              "      <th>57691</th>\n",
              "      <td>512.793</td>\n",
              "      <td>2021-07-31</td>\n",
              "      <td>19</td>\n",
              "    </tr>\n",
              "    <tr>\n",
              "      <th>57692</th>\n",
              "      <td>36.845</td>\n",
              "      <td>2021-07-31</td>\n",
              "      <td>20</td>\n",
              "    </tr>\n",
              "    <tr>\n",
              "      <th>57693</th>\n",
              "      <td>0.000</td>\n",
              "      <td>0</td>\n",
              "      <td>0</td>\n",
              "    </tr>\n",
              "    <tr>\n",
              "      <th>57694</th>\n",
              "      <td>0.000</td>\n",
              "      <td>0</td>\n",
              "      <td>0</td>\n",
              "    </tr>\n",
              "    <tr>\n",
              "      <th>57695</th>\n",
              "      <td>NaN</td>\n",
              "      <td>2021-07-31</td>\n",
              "      <td>23</td>\n",
              "    </tr>\n",
              "  </tbody>\n",
              "</table>\n",
              "<p>57696 rows × 3 columns</p>\n",
              "</div>\n",
              "      <button class=\"colab-df-convert\" onclick=\"convertToInteractive('df-d9269ecc-0218-436d-85cd-f3164f3d5eb6')\"\n",
              "              title=\"Convert this dataframe to an interactive table.\"\n",
              "              style=\"display:none;\">\n",
              "        \n",
              "  <svg xmlns=\"http://www.w3.org/2000/svg\" height=\"24px\"viewBox=\"0 0 24 24\"\n",
              "       width=\"24px\">\n",
              "    <path d=\"M0 0h24v24H0V0z\" fill=\"none\"/>\n",
              "    <path d=\"M18.56 5.44l.94 2.06.94-2.06 2.06-.94-2.06-.94-.94-2.06-.94 2.06-2.06.94zm-11 1L8.5 8.5l.94-2.06 2.06-.94-2.06-.94L8.5 2.5l-.94 2.06-2.06.94zm10 10l.94 2.06.94-2.06 2.06-.94-2.06-.94-.94-2.06-.94 2.06-2.06.94z\"/><path d=\"M17.41 7.96l-1.37-1.37c-.4-.4-.92-.59-1.43-.59-.52 0-1.04.2-1.43.59L10.3 9.45l-7.72 7.72c-.78.78-.78 2.05 0 2.83L4 21.41c.39.39.9.59 1.41.59.51 0 1.02-.2 1.41-.59l7.78-7.78 2.81-2.81c.8-.78.8-2.07 0-2.86zM5.41 20L4 18.59l7.72-7.72 1.47 1.35L5.41 20z\"/>\n",
              "  </svg>\n",
              "      </button>\n",
              "      \n",
              "  <style>\n",
              "    .colab-df-container {\n",
              "      display:flex;\n",
              "      flex-wrap:wrap;\n",
              "      gap: 12px;\n",
              "    }\n",
              "\n",
              "    .colab-df-convert {\n",
              "      background-color: #E8F0FE;\n",
              "      border: none;\n",
              "      border-radius: 50%;\n",
              "      cursor: pointer;\n",
              "      display: none;\n",
              "      fill: #1967D2;\n",
              "      height: 32px;\n",
              "      padding: 0 0 0 0;\n",
              "      width: 32px;\n",
              "    }\n",
              "\n",
              "    .colab-df-convert:hover {\n",
              "      background-color: #E2EBFA;\n",
              "      box-shadow: 0px 1px 2px rgba(60, 64, 67, 0.3), 0px 1px 3px 1px rgba(60, 64, 67, 0.15);\n",
              "      fill: #174EA6;\n",
              "    }\n",
              "\n",
              "    [theme=dark] .colab-df-convert {\n",
              "      background-color: #3B4455;\n",
              "      fill: #D2E3FC;\n",
              "    }\n",
              "\n",
              "    [theme=dark] .colab-df-convert:hover {\n",
              "      background-color: #434B5C;\n",
              "      box-shadow: 0px 1px 3px 1px rgba(0, 0, 0, 0.15);\n",
              "      filter: drop-shadow(0px 1px 2px rgba(0, 0, 0, 0.3));\n",
              "      fill: #FFFFFF;\n",
              "    }\n",
              "  </style>\n",
              "\n",
              "      <script>\n",
              "        const buttonEl =\n",
              "          document.querySelector('#df-d9269ecc-0218-436d-85cd-f3164f3d5eb6 button.colab-df-convert');\n",
              "        buttonEl.style.display =\n",
              "          google.colab.kernel.accessAllowed ? 'block' : 'none';\n",
              "\n",
              "        async function convertToInteractive(key) {\n",
              "          const element = document.querySelector('#df-d9269ecc-0218-436d-85cd-f3164f3d5eb6');\n",
              "          const dataTable =\n",
              "            await google.colab.kernel.invokeFunction('convertToInteractive',\n",
              "                                                     [key], {});\n",
              "          if (!dataTable) return;\n",
              "\n",
              "          const docLinkHtml = 'Like what you see? Visit the ' +\n",
              "            '<a target=\"_blank\" href=https://colab.research.google.com/notebooks/data_table.ipynb>data table notebook</a>'\n",
              "            + ' to learn more about interactive tables.';\n",
              "          element.innerHTML = '';\n",
              "          dataTable['output_type'] = 'display_data';\n",
              "          await google.colab.output.renderOutput(dataTable, element);\n",
              "          const docLink = document.createElement('div');\n",
              "          docLink.innerHTML = docLinkHtml;\n",
              "          element.appendChild(docLink);\n",
              "        }\n",
              "      </script>\n",
              "    </div>\n",
              "  </div>\n",
              "  "
            ]
          },
          "metadata": {},
          "execution_count": 9
        }
      ]
    },
    {
      "cell_type": "code",
      "source": [
        "valores_medios = np.zeros(24)\n",
        "\n",
        "for i in range(0,24):\n",
        "  valores_medios[i] = curitiba_radiacao.loc[curitiba_radiacao['Hora Medicao'] == i]['RADIACAO GLOBAL(Kj/m²)'].mean()\n",
        "\n",
        "# valores_medios\n",
        "\n",
        "plt.plot(valores_medios, label = 'Radiação Global (Kj/m²)')\n",
        "plt.xlabel('Hora')\n",
        "plt.ylabel('Radiação Global (Kj/m²)')\n",
        "plt.title('Média Horaria durante todo o período da Radiação Global \\n')\n",
        "plt.grid"
      ],
      "metadata": {
        "id": "CzmXCsHuUrrW",
        "outputId": "bb6d81e3-3a4b-48b1-fc71-82b231e78927",
        "colab": {
          "base_uri": "https://localhost:8080/",
          "height": 327
        }
      },
      "execution_count": 10,
      "outputs": [
        {
          "output_type": "execute_result",
          "data": {
            "text/plain": [
              "<function matplotlib.pyplot.grid(b=None, which='major', axis='both', **kwargs)>"
            ]
          },
          "metadata": {},
          "execution_count": 10
        },
        {
          "output_type": "display_data",
          "data": {
            "text/plain": [
              "<Figure size 432x288 with 1 Axes>"
            ],
            "image/png": "[encoded data removed]"
          },
          "metadata": {
            "needs_background": "light"
          }
        }
      ]
    },
    {
      "cell_type": "code",
      "source": [
        "from datetime import datetime\n",
        "\n",
        "# curitiba\n",
        "curitiba_orvalho = curitiba[['TEMPERATURA DO PONTO DE ORVALHO(°C)', 'Data Medicao']]\n",
        "# curitiba_orvalho\n",
        "\n",
        "data_medicao = []\n",
        "for i in range (len(curitiba_orvalho['Data Medicao'])):\n",
        "  data_medicao.append(curitiba_orvalho['Data Medicao'].iloc[i])\n",
        "# data_medicao\n",
        "lista = []\n",
        "\n",
        "for i in range(len(curitiba_orvalho['Data Medicao'])):\n",
        "  lista.append(datetime.strptime(data_medicao[i], '%Y-%m-%d'))\n",
        "\n",
        "curitiba_orvalho['Data Medicao'] = lista\n",
        "curitiba_orvalho = curitiba_orvalho.set_index(curitiba_orvalho['Data Medicao'])\n",
        "curitiba_orvalho_dia = curitiba_orvalho.resample('d').mean()\n",
        "curitiba_orvalho_dia \n",
        "\n",
        "# colombo\n",
        "\n",
        "colombo_orvalho = colombo[['TEMPERATURA DO PONTO DE ORVALHO(°C)', 'Data Medicao']]\n",
        "# colombo_orvalho\n",
        "\n",
        "data_medicao = []\n",
        "for i in range (len(colombo_orvalho['Data Medicao'])):\n",
        "  data_medicao.append(colombo_orvalho['Data Medicao'].iloc[i])\n",
        "# data_medicao\n",
        "lista = []\n",
        "\n",
        "for i in range(len(colombo_orvalho['Data Medicao'])):\n",
        "  lista.append(datetime.strptime(data_medicao[i], '%Y-%m-%d'))\n",
        "\n",
        "colombo_orvalho['Data Medicao'] = lista\n",
        "colombo_orvalho = colombo_orvalho.set_index(colombo_orvalho['Data Medicao'])\n",
        "colombo_orvalho = colombo_orvalho.resample('d').mean()\n",
        "# colombo_orvalho "
      ],
      "metadata": {
        "id": "nGlgZkEkd_qQ",
        "outputId": "7be8e33b-7e7d-4dca-f684-0080d6823033",
        "colab": {
          "base_uri": "https://localhost:8080/"
        }
      },
      "execution_count": 11,
      "outputs": [
        {
          "output_type": "stream",
          "name": "stderr",
          "text": [
            "/usr/local/lib/python3.7/dist-packages/ipykernel_launcher.py:16: SettingWithCopyWarning: \n",
            "A value is trying to be set on a copy of a slice from a DataFrame.\n",
            "Try using .loc[row_indexer,col_indexer] = value instead\n",
            "\n",
            "See the caveats in the documentation: https://pandas.pydata.org/pandas-docs/stable/user_guide/indexing.html#returning-a-view-versus-a-copy\n",
            "  app.launch_new_instance()\n",
            "/usr/local/lib/python3.7/dist-packages/ipykernel_launcher.py:35: SettingWithCopyWarning: \n",
            "A value is trying to be set on a copy of a slice from a DataFrame.\n",
            "Try using .loc[row_indexer,col_indexer] = value instead\n",
            "\n",
            "See the caveats in the documentation: https://pandas.pydata.org/pandas-docs/stable/user_guide/indexing.html#returning-a-view-versus-a-copy\n"
          ]
        }
      ]
    },
    {
      "cell_type": "code",
      "source": [
        "plt.plot(colombo_orvalho)\n",
        "plt.plot(curitiba_orvalho_dia)\n",
        "plt.grid()\n"
      ],
      "metadata": {
        "id": "_IOhPC1tjIds",
        "outputId": "e188c16e-8191-4c92-8eb1-8c540d653566",
        "colab": {
          "base_uri": "https://localhost:8080/",
          "height": 265
        }
      },
      "execution_count": 12,
      "outputs": [
        {
          "output_type": "display_data",
          "data": {
            "text/plain": [
              "<Figure size 432x288 with 1 Axes>"
            ],
            "image/png": "[encoded data removed]"
          },
          "metadata": {
            "needs_background": "light"
          }
        }
      ]
    },
    {
      "cell_type": "code",
      "source": [
        "curitiba_orvalho_dia[curitiba_orvalho_dia.isnull()] = colombo_orvalho # Substitui os valores null\n",
        "\n",
        "# curitiba_orvalho_dia = curitiba_orvalho_dia.resample('d').mean()\n",
        "\n",
        "curitiba_orvalho_dia.hist(bins = 30)\n",
        "\n"
      ],
      "metadata": {
        "id": "3BImAlC_jd57",
        "outputId": "95aafec9-eb5b-4b73-f3d3-37697729dd26",
        "colab": {
          "base_uri": "https://localhost:8080/",
          "height": 316
        }
      },
      "execution_count": 31,
      "outputs": [
        {
          "output_type": "execute_result",
          "data": {
            "text/plain": [
              "array([[<matplotlib.axes._subplots.AxesSubplot object at 0x7faa90b0dd90>]],\n",
              "      dtype=object)"
            ]
          },
          "metadata": {},
          "execution_count": 31
        },
        {
          "output_type": "display_data",
          "data": {
            "text/plain": [
              "<Figure size 432x288 with 1 Axes>"
            ],
            "image/png": "[encoded data removed]"
          },
          "metadata": {
            "needs_background": "light"
          }
        }
      ]
    },
    {
      "cell_type": "code",
      "source": [
        "curitiba_orvalho_dia.describe()"
      ],
      "metadata": {
        "id": "kPgKMmJTeG7N",
        "outputId": "e63e1897-73c7-4b83-f759-423041561b07",
        "colab": {
          "base_uri": "https://localhost:8080/",
          "height": 300
        }
      },
      "execution_count": 32,
      "outputs": [
        {
          "output_type": "execute_result",
          "data": {
            "text/plain": [
              "       TEMPERATURA DO PONTO DE ORVALHO(°C)\n",
              "count                          2404.000000\n",
              "mean                             13.321230\n",
              "std                               3.753762\n",
              "min                              -5.036364\n",
              "25%                              11.051630\n",
              "50%                              13.768750\n",
              "75%                              16.321250\n",
              "max                              20.179167"
            ],
            "text/html": [
              "\n",
              "  <div id=\"df-443a9f57-8e03-4e76-863b-39782afef4cf\">\n",
              "    <div class=\"colab-df-container\">\n",
              "      <div>\n",
              "<style scoped>\n",
              "    .dataframe tbody tr th:only-of-type {\n",
              "        vertical-align: middle;\n",
              "    }\n",
              "\n",
              "    .dataframe tbody tr th {\n",
              "        vertical-align: top;\n",
              "    }\n",
              "\n",
              "    .dataframe thead th {\n",
              "        text-align: right;\n",
              "    }\n",
              "</style>\n",
              "<table border=\"1\" class=\"dataframe\">\n",
              "  <thead>\n",
              "    <tr style=\"text-align: right;\">\n",
              "      <th></th>\n",
              "      <th>TEMPERATURA DO PONTO DE ORVALHO(°C)</th>\n",
              "    </tr>\n",
              "  </thead>\n",
              "  <tbody>\n",
              "    <tr>\n",
              "      <th>count</th>\n",
              "      <td>2404.000000</td>\n",
              "    </tr>\n",
              "    <tr>\n",
              "      <th>mean</th>\n",
              "      <td>13.321230</td>\n",
              "    </tr>\n",
              "    <tr>\n",
              "      <th>std</th>\n",
              "      <td>3.753762</td>\n",
              "    </tr>\n",
              "    <tr>\n",
              "      <th>min</th>\n",
              "      <td>-5.036364</td>\n",
              "    </tr>\n",
              "    <tr>\n",
              "      <th>25%</th>\n",
              "      <td>11.051630</td>\n",
              "    </tr>\n",
              "    <tr>\n",
              "      <th>50%</th>\n",
              "      <td>13.768750</td>\n",
              "    </tr>\n",
              "    <tr>\n",
              "      <th>75%</th>\n",
              "      <td>16.321250</td>\n",
              "    </tr>\n",
              "    <tr>\n",
              "      <th>max</th>\n",
              "      <td>20.179167</td>\n",
              "    </tr>\n",
              "  </tbody>\n",
              "</table>\n",
              "</div>\n",
              "      <button class=\"colab-df-convert\" onclick=\"convertToInteractive('df-443a9f57-8e03-4e76-863b-39782afef4cf')\"\n",
              "              title=\"Convert this dataframe to an interactive table.\"\n",
              "              style=\"display:none;\">\n",
              "        \n",
              "  <svg xmlns=\"http://www.w3.org/2000/svg\" height=\"24px\"viewBox=\"0 0 24 24\"\n",
              "       width=\"24px\">\n",
              "    <path d=\"M0 0h24v24H0V0z\" fill=\"none\"/>\n",
              "    <path d=\"M18.56 5.44l.94 2.06.94-2.06 2.06-.94-2.06-.94-.94-2.06-.94 2.06-2.06.94zm-11 1L8.5 8.5l.94-2.06 2.06-.94-2.06-.94L8.5 2.5l-.94 2.06-2.06.94zm10 10l.94 2.06.94-2.06 2.06-.94-2.06-.94-.94-2.06-.94 2.06-2.06.94z\"/><path d=\"M17.41 7.96l-1.37-1.37c-.4-.4-.92-.59-1.43-.59-.52 0-1.04.2-1.43.59L10.3 9.45l-7.72 7.72c-.78.78-.78 2.05 0 2.83L4 21.41c.39.39.9.59 1.41.59.51 0 1.02-.2 1.41-.59l7.78-7.78 2.81-2.81c.8-.78.8-2.07 0-2.86zM5.41 20L4 18.59l7.72-7.72 1.47 1.35L5.41 20z\"/>\n",
              "  </svg>\n",
              "      </button>\n",
              "      \n",
              "  <style>\n",
              "    .colab-df-container {\n",
              "      display:flex;\n",
              "      flex-wrap:wrap;\n",
              "      gap: 12px;\n",
              "    }\n",
              "\n",
              "    .colab-df-convert {\n",
              "      background-color: #E8F0FE;\n",
              "      border: none;\n",
              "      border-radius: 50%;\n",
              "      cursor: pointer;\n",
              "      display: none;\n",
              "      fill: #1967D2;\n",
              "      height: 32px;\n",
              "      padding: 0 0 0 0;\n",
              "      width: 32px;\n",
              "    }\n",
              "\n",
              "    .colab-df-convert:hover {\n",
              "      background-color: #E2EBFA;\n",
              "      box-shadow: 0px 1px 2px rgba(60, 64, 67, 0.3), 0px 1px 3px 1px rgba(60, 64, 67, 0.15);\n",
              "      fill: #174EA6;\n",
              "    }\n",
              "\n",
              "    [theme=dark] .colab-df-convert {\n",
              "      background-color: #3B4455;\n",
              "      fill: #D2E3FC;\n",
              "    }\n",
              "\n",
              "    [theme=dark] .colab-df-convert:hover {\n",
              "      background-color: #434B5C;\n",
              "      box-shadow: 0px 1px 3px 1px rgba(0, 0, 0, 0.15);\n",
              "      filter: drop-shadow(0px 1px 2px rgba(0, 0, 0, 0.3));\n",
              "      fill: #FFFFFF;\n",
              "    }\n",
              "  </style>\n",
              "\n",
              "      <script>\n",
              "        const buttonEl =\n",
              "          document.querySelector('#df-443a9f57-8e03-4e76-863b-39782afef4cf button.colab-df-convert');\n",
              "        buttonEl.style.display =\n",
              "          google.colab.kernel.accessAllowed ? 'block' : 'none';\n",
              "\n",
              "        async function convertToInteractive(key) {\n",
              "          const element = document.querySelector('#df-443a9f57-8e03-4e76-863b-39782afef4cf');\n",
              "          const dataTable =\n",
              "            await google.colab.kernel.invokeFunction('convertToInteractive',\n",
              "                                                     [key], {});\n",
              "          if (!dataTable) return;\n",
              "\n",
              "          const docLinkHtml = 'Like what you see? Visit the ' +\n",
              "            '<a target=\"_blank\" href=https://colab.research.google.com/notebooks/data_table.ipynb>data table notebook</a>'\n",
              "            + ' to learn more about interactive tables.';\n",
              "          element.innerHTML = '';\n",
              "          dataTable['output_type'] = 'display_data';\n",
              "          await google.colab.output.renderOutput(dataTable, element);\n",
              "          const docLink = document.createElement('div');\n",
              "          docLink.innerHTML = docLinkHtml;\n",
              "          element.appendChild(docLink);\n",
              "        }\n",
              "      </script>\n",
              "    </div>\n",
              "  </div>\n",
              "  "
            ]
          },
          "metadata": {},
          "execution_count": 32
        }
      ]
    },
    {
      "cell_type": "code",
      "source": [],
      "metadata": {
        "id": "7V1kjEgVfLy4"
      },
      "execution_count": null,
      "outputs": []
    }
  ]
}