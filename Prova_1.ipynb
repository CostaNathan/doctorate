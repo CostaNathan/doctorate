{
  "nbformat": 4,
  "nbformat_minor": 0,
  "metadata": {
    "colab": {
      "provenance": [],
      "include_colab_link": true
    },
    "kernelspec": {
      "name": "python3",
      "display_name": "Python 3"
    }
  },
  "cells": [
    {
      "cell_type": "markdown",
      "metadata": {
        "id": "view-in-github",
        "colab_type": "text"
      },
      "source": [
        "<a href=\"https://colab.research.google.com/github/CostaNathan/doctorate/blob/Introdu%C3%A7%C3%A3o_Python/Prova_1.ipynb\" target=\"_parent\"><img src=\"https://colab.research.google.com/assets/colab-badge.svg\" alt=\"Open In Colab\"/></a>"
      ]
    },
    {
      "cell_type": "markdown",
      "metadata": {
        "id": "7NZ9zx1ZdeVe"
      },
      "source": [
        "## Prova 1 - Introdução à programação em Python\n",
        "\n",
        "Ano: 2022"
      ]
    },
    {
      "cell_type": "code",
      "metadata": {
        "id": "4II3jHaTdd7Z"
      },
      "source": [
        "import pandas as pd\n",
        "import numpy as np\n",
        "import matplotlib.pyplot as plt\n",
        "import datetime"
      ],
      "execution_count": 82,
      "outputs": []
    },
    {
      "cell_type": "markdown",
      "metadata": {
        "id": "WKiKHzu5S6v8"
      },
      "source": [
        "**Questão 1) (10 pontos)** Escreva uma função que leia um número inteiro e determine se o número é par ou ímpar. Teste a função para ver se ela funciona, use como valores de entrada apenas números inteiros positivos.\n"
      ]
    },
    {
      "cell_type": "code",
      "metadata": {
        "id": "HTxfwDXhS54L",
        "outputId": "e05be57a-5157-4cd1-9cfe-0c711474bc71",
        "colab": {
          "base_uri": "https://localhost:8080/"
        }
      },
      "source": [
        "def par_impar(numero):\n",
        "  if numero == 0 or numero%2 == 0:\n",
        "    print('Esse número é par')\n",
        "  else:\n",
        "    print('Esse número é impar')\n",
        "\n",
        "\n",
        "par_impar(12)"
      ],
      "execution_count": 4,
      "outputs": [
        {
          "output_type": "stream",
          "name": "stdout",
          "text": [
            "Esse número é par\n"
          ]
        }
      ]
    },
    {
      "cell_type": "markdown",
      "metadata": {
        "id": "zorNeudFvl9C"
      },
      "source": [
        "**Questão 2) (10 pontos)** Escreva uma lista que contenha os elementos 100.1, 45.2, 20.5, 25353.0, 33.2, 1.43, 99.5, 2, 34, 10.1, 123, 532.1, 15.0 e em seguida imprima os números em ordem crescente. Dica: procure o help/manual da função ``sort'' do numpy. "
      ]
    },
    {
      "cell_type": "code",
      "metadata": {
        "id": "herICNyovt_8",
        "outputId": "be4b58ff-b4d8-471e-ec31-ff9bdd1dd756",
        "colab": {
          "base_uri": "https://localhost:8080/"
        }
      },
      "source": [
        "elementos = [100.1, 45.2, 20.5, 25353.0, 33.2, 1.43, 99.5, 2, 34, 10.1, 123, 532.1, 15.0]\n",
        "\n",
        "elementos_sort = np.array(elementos)\n",
        "elementos_sort = np.sort(elementos_sort)\n",
        "\n",
        "elementos_sort"
      ],
      "execution_count": 11,
      "outputs": [
        {
          "output_type": "execute_result",
          "data": {
            "text/plain": [
              "array([1.4300e+00, 2.0000e+00, 1.0100e+01, 1.5000e+01, 2.0500e+01,\n",
              "       3.3200e+01, 3.4000e+01, 4.5200e+01, 9.9500e+01, 1.0010e+02,\n",
              "       1.2300e+02, 5.3210e+02, 2.5353e+04])"
            ]
          },
          "metadata": {},
          "execution_count": 11
        }
      ]
    },
    {
      "cell_type": "markdown",
      "metadata": {
        "id": "0FyiegKrXgMT"
      },
      "source": [
        "**Questão 3) (10 pontos)** Imprima o resultado da expressão matemática $e^{\\pi i} + 1$, sendo $i$ o número imaginário. Formate o resultado para ser impresso com duas casas decimais, tanto para parte real quanto para a parte imaginária do número.\n",
        "\n",
        "Dica: use a função nativa do Python: ``complex(,)''."
      ]
    },
    {
      "cell_type": "code",
      "metadata": {
        "id": "yEesqmceS5zs",
        "outputId": "efe33afb-d19c-47db-b16e-11f5f9e1fc3c",
        "colab": {
          "base_uri": "https://localhost:8080/"
        }
      },
      "source": [
        "complexo = complex(0, np.pi)\n",
        "\n",
        "\n",
        "z = 1 + np.exp(complexo)\n",
        "\n",
        "print(z)\n",
        "print('O resultado da expressão matemática requerida com duas casas decimais é: {:.2f}' .format(z))"
      ],
      "execution_count": 45,
      "outputs": [
        {
          "output_type": "stream",
          "name": "stdout",
          "text": [
            "1.2246467991473532e-16j\n",
            "O resultado da expressão matemática requerida com duas casas decimais é: 0.00+0.00j\n"
          ]
        }
      ]
    },
    {
      "cell_type": "markdown",
      "metadata": {
        "id": "H-LZrBvHxVgd"
      },
      "source": [
        "**Questão 4) (10 pontos)** Escreva uma função que leia 3 argumentos de entrada: \n",
        "\n",
        "* Radiação solar (W/m$^2$)\n",
        "* Velocidade do vento (m/s)\n",
        "* Hora\n",
        "\n",
        "Considere que o sol nasce às 6h e se pôe as 18h.\n",
        "\n",
        "A função deve retornar o índice de estabilidade da atmosfera de Pasquill de acordo com as tabelas abaixo:"
      ]
    },
    {
      "cell_type": "markdown",
      "metadata": {
        "id": "mL54Li5ZyLjG"
      },
      "source": [
        "<img src=\"https://www.dropbox.com/s/a7i70vu4o18fba0/tabelas.png?dl=1\" width=\"50%\"/> \n",
        "\n",
        "\n",
        "Exemplo de resolução:\n",
        "* velocidade_vento = 1.5 % m/s\n",
        "* radiacao_solar =  500 % W/m2\n",
        "* horario = 12h\n",
        "\n",
        "funcao_determina_pasquil(velocidade_vento,radiacao_solar,horario)\n",
        "\n",
        "Resposta: A-B"
      ]
    },
    {
      "cell_type": "code",
      "metadata": {
        "id": "g8jeBHcJxWDS",
        "outputId": "7e59bcc9-5016-4da8-a39b-b2ca34d80690",
        "colab": {
          "base_uri": "https://localhost:8080/"
        }
      },
      "source": [
        "# vel_vento, radiacao\n",
        "def time_in_range(hora, minuto, segundo):\n",
        "    \"\"\"Returns whether current is in the range [start, end]\"\"\"\n",
        "\n",
        "    start = datetime.time(6,0,0)\n",
        "    end = datetime.time(18,0,0)\n",
        "\n",
        "    current = datetime.time(hora, minuto, segundo)\n",
        "    return start <= current <= end\n",
        "\n",
        "# time_in_range(12,0,0)\n",
        "\n",
        "def pesquil (velocidade_vento, radiacao, hora, minuto, segundo):\n",
        "\n",
        "  if time_in_range(hora,minuto,segundo):    \n",
        "    if radiacao > 700:\n",
        "      if velocidade_vento < 2:        \n",
        "        print('A')\n",
        "      if 2 <= velocidade_vento < 3:\n",
        "        print('A - B')\n",
        "      if 3 <= velocidade_vento < 5:\n",
        "        print('B')\n",
        "      if 5 <= velocidade_vento < 6:\n",
        "        print('C')\n",
        "      if velocidade_vento >= 6:\n",
        "        print('C')\n",
        "\n",
        "    if 350 < radiacao <= 700:\n",
        "      \n",
        "      if velocidade_vento < 2:\n",
        "        print('A - B')\n",
        "      if 2 <= velocidade_vento < 3:\n",
        "        print('B')\n",
        "      if 3 <=velocidade_vento < 5:\n",
        "        print('B - C')\n",
        "      if 5 <= velocidade_vento < 6:\n",
        "        print('C - D')\n",
        "      if velocidade_vento >= 6:\n",
        "        print('D')\n",
        "    \n",
        "    if radiacao <= 350:\n",
        "      \n",
        "      if velocidade_vento < 2:\n",
        "        print('B')\n",
        "      if 2 <= velocidade_vento < 3:\n",
        "        print('C')\n",
        "      if 3 <= velocidade_vento < 5:\n",
        "        print('C')\n",
        "      if 5 <= velocidade_vento < 6:\n",
        "        print('D')\n",
        "      if velocidade_vento >= 6:\n",
        "        print('D')\n",
        "\n",
        "  else:\n",
        "    if velocidade_vento < 2:\n",
        "        print('G')\n",
        "    if 2 <= velocidade_vento < 3:\n",
        "        print('F')\n",
        "    if 3 <= velocidade_vento < 5:\n",
        "        print('E')\n",
        "    if 5 <= velocidade_vento < 6:\n",
        "        print('D')\n",
        "    if velocidade_vento >= 6:\n",
        "        print('D')\n",
        "       \n",
        "\n",
        "pesquil(3, 701, 12, 0, 0)"
      ],
      "execution_count": 108,
      "outputs": [
        {
          "output_type": "stream",
          "name": "stdout",
          "text": [
            "B\n"
          ]
        }
      ]
    },
    {
      "cell_type": "markdown",
      "metadata": {
        "id": "xLsk2SqPbKBm"
      },
      "source": [
        "**Questão 5) (10 pontos)**   Faça a seguinte multiplicação de matrizes usando Python:\n",
        "\n",
        "\\begin{equation}\n",
        "\\left( \\begin{array}{cc}\n",
        "1.2 & 0.5 \\\\\n",
        "0.1 & 1.9\n",
        "\\end{array} \\right)\n",
        "%\n",
        "\\left( \\begin{array}{cc}\n",
        "2.3 & 9.1 \\\\\n",
        "20.0 & 8.2\n",
        "\\end{array} \\right)\n",
        "=\n",
        "\\left( \\begin{array}{cc}\n",
        "12.76 & 15.02 \\\\\n",
        "38.23 & 16.49\n",
        "\\end{array} \\right)\n",
        "\\end{equation}"
      ]
    },
    {
      "cell_type": "code",
      "metadata": {
        "id": "eReOUKomS5m-",
        "outputId": "39a3893b-2821-40a7-df82-0b05a00f379e",
        "colab": {
          "base_uri": "https://localhost:8080/"
        }
      },
      "source": [
        "matrix1 = np.array([[1.2, 0.5],[0.1, 1.9]])\n",
        "matrix2 = np.array([[2.3, 9.1],[20.0, 8.2]])\n",
        "\n",
        "mult = np.dot(matrix1, matrix2)\n",
        "print(mult)"
      ],
      "execution_count": 94,
      "outputs": [
        {
          "output_type": "stream",
          "name": "stdout",
          "text": [
            "[[12.76 15.02]\n",
            " [38.23 16.49]]\n"
          ]
        }
      ]
    },
    {
      "cell_type": "markdown",
      "source": [
        "**Questão 6) (50 pontos)**   Considere os seguintes dados das estações meteorológicas de Curitiba (A807) e Colombo (B806):\n",
        "\n",
        "* Curitiba: https://www.dropbox.com/s/uqfnsp5m6c0pmr7/dados_A807_H_2015-01-01_2021-07-31.csv?dl=1\n",
        "\n",
        "* Colombo: https://www.dropbox.com/s/tlso4rvuhzb5jao/dados_B806_H_2016-05-31_2021-07-31.csv?dl=1\n",
        "\n",
        "Faça a leitura dos dois arquivos em dois dataframes sem alterar os arquivos originais. Para os dois conjuntos de dados considere apenas o período de tempo entre: '2015-02-01 00:00:00' e '2021-03-31 23:00:00'.\n",
        "\n",
        "A) Substitua os dados negativos de RADIACAO GLOBAL(kJ/m²) dos dois conjuntos de dados pelo valor 0 (zero).\n",
        "\n",
        "B) Faça um gráfico do perfil diário de RADIACAO GLOBAL(kJ/m²) para Curitiba após a substituição dos valores negativos (item A). Por perfil diário entende-se um gráfico em que: no eixo X são apresentadas as horas do dia e no eixo Y são apresentadas os valores médios de Radiação para cada hora durante todo o período analisado, de '2015-02-01 00:00:00' até '2021-03-31 23:00:00'.\n",
        "\n",
        "C) Calcule as médias diárias da TEMPERATURA DO PONTO DE ORVALHO(°C) para ambas as estações durante todo o período analisado, de '2015-02-01' até '2021-03-31' e apresente um gráfico com as duas séries temporais diárias (no mesmo gráfico).\n",
        "\n",
        "D) Após calcular as médias diárias de TEMPERATURA DO PONTO DE ORVALHO(°C), substitua os dados faltantes da estação de Curitiba pelos dados da estação de Colombo.\n",
        "\n",
        "E) Após a substituição dos dados faltantes da estação de Curitiba: faça um histograma contendo 30 barras (bins) da TEMPERATURA DO PONTO DE ORVALHO(°C) diária para Curitiba.\n",
        "\n",
        "F) Após a substituição dos dados faltantes da estação de Curitiba: determine a média e o desvio padrão da TEMPERATURA DO PONTO DE ORVALHO(°C) diária para Curitiba.\n",
        "\n",
        "\n"
      ],
      "metadata": {
        "id": "t7_dPxkKdiWQ"
      }
    },
    {
      "cell_type": "code",
      "source": [
        "# espaço para a resolução"
      ],
      "metadata": {
        "id": "xb-e6spzdOdI"
      },
      "execution_count": null,
      "outputs": []
    },
    {
      "cell_type": "code",
      "source": [],
      "metadata": {
        "id": "Gc2kS1AedgGz"
      },
      "execution_count": null,
      "outputs": []
    }
  ]
}