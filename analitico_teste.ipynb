{
 "cells": [
  {
   "cell_type": "code",
   "execution_count": 1,
   "metadata": {},
   "outputs": [],
   "source": [
    "from sympy import *\n",
    "import numpy as np\n",
    "import matplotlib.pyplot as plt\n",
    "import pandas as pd\n",
    "from scipy.integrate import odeint\n"
   ]
  },
  {
   "cell_type": "code",
   "execution_count": 2,
   "metadata": {},
   "outputs": [
    {
     "data": {
      "text/latex": [
       "$\\displaystyle \\frac{d}{d t} c{\\left(t \\right)} = - m c{\\left(t \\right)} + w$"
      ],
      "text/plain": [
       "Eq(Derivative(c(t), t), -m*c(t) + w)"
      ]
     },
     "metadata": {},
     "output_type": "display_data"
    },
    {
     "data": {
      "text/latex": [
       "$\\displaystyle c{\\left(t \\right)} = \\frac{\\left(c_{0} m + w e^{m t} - w\\right) e^{- m t}}{m}$"
      ],
      "text/plain": [
       "Eq(c(t), (c_0*m + w*exp(m*t) - w)*exp(-m*t)/m)"
      ]
     },
     "metadata": {},
     "output_type": "display_data"
    }
   ],
   "source": [
    "time, w, m, c_0 = symbols(\"t w m c_0\")\n",
    "c = symbols(\"c\", cls=Function)\n",
    "\n",
    "dcdt = Eq(c(time).diff(time), w - c(time) * m)\n",
    "c_eq = dsolve(dcdt, c(time), ics={c(0): c_0})\n",
    "c_eq = simplify(c_eq)\n",
    "\n",
    "display(dcdt, c_eq)\n"
   ]
  },
  {
   "cell_type": "markdown",
   "metadata": {},
   "source": [
    "### Solução analítica"
   ]
  },
  {
   "cell_type": "code",
   "execution_count": 3,
   "metadata": {},
   "outputs": [],
   "source": [
    "# solução analítica OD/DBO\n",
    "\n",
    "OD_0 = 5.8\n",
    "L_0 = 1.5\n",
    "\n",
    "OD_old = 5.8\n",
    "L_old = 1.5\n",
    "\n",
    "# Constantes da equação\n",
    "\n",
    "V = 25.6 * (10**6)  # m3\n",
    "H = 5.6  # m\n",
    "Os = 9.0  # mg/L\n",
    "v_s = 1  # m/d\n",
    "L_F4 = 1.5  # mg/L\n",
    "L_TD4 = 1.7  # mg/L\n",
    "L_TE10 = 1.3  # mg/L\n",
    "OD_F4 = 8  # mg/L\n",
    "OD_TD4 = 8  # mg/L\n",
    "OD_TE10 = 8  # mg/L\n",
    "kd = 1.5  # d-1\n",
    "ka = 0.3  # d-1\n",
    "k_sed = v_s / H\n",
    "k_ra = 0.05  # d-1\n",
    "k_n = 0.1  # d-1\n",
    "k_g = 0.15  # d-1\n",
    "r_ca = 50  # gC/mgChla\n",
    "r_oc = 2.67  # gO/gC\n",
    "r_on = 4.2  # gO/gN\n",
    "L_n = 0.157  # mg/L\n",
    "alpha = 0.0128  # mg/L\n",
    "L_part = 0.5  # adimensional\n",
    "SOD = 1  # gO2/m2\n",
    "pa = r_oc * r_ca * k_g * alpha  # mgOD/L\n",
    "\n",
    "# Balanço hidrico\n",
    "\n",
    "Q_F4 = 2.0 * 86400  # * 1000 #m3/d\n",
    "Q_TD4 = 0.3 * 86400  # * 1000#m3/d\n",
    "Q_TE10 = 0.15 * 86400  # * 1000#m3/d\n",
    "\n",
    "bal_hid = Q_F4 + Q_TD4 + Q_TE10\n",
    "\n",
    "# Cargas externas\n",
    "\n",
    "carga_L = L_F4 * Q_F4 + L_TD4 * Q_TD4 + L_TE10 * Q_TE10\n",
    "carga_OD = OD_F4 * Q_F4 + OD_TD4 * Q_TD4 + OD_TE10 * Q_TE10\n",
    "\n",
    "# Passo no tempo\n",
    "\n",
    "t = 0\n",
    "dt = 1\n",
    "tmax = 291\n",
    "tempo = np.arange(0, tmax, dt)\n",
    "\n",
    "# Equação OD - dDOdt = -kd*L + ka*(Os-OD) - r_on*k_n*L_n - r_ca*r_oc*k_ra*alpha - (SOD/H) + pa  - (OD/V)*bal_hid + carga_OD/V\n",
    "m_OD = ka + bal_hid / V\n",
    "w_OD = (\n",
    "    -kd * L_old\n",
    "    + ka * Os\n",
    "    - r_on * k_n * L_n\n",
    "    - r_ca * r_oc * k_ra * alpha\n",
    "    - (SOD / H)\n",
    "    + pa\n",
    "    + carga_OD / V\n",
    ")\n",
    "\n",
    "# Equação DBO - dLdt = - kd*L + r_ca*r_oc*k_ra*alpha - k_sed*(1-L_part)*L - (L/V)*bal_hid + carga_L/V\n",
    "m_L = kd + bal_hid / V + k_sed * (1 - L_part)\n",
    "w_L = r_ca * r_oc * k_ra * alpha + carga_L / V\n",
    "\n",
    "# Lista vazia com os resultados calculados\n",
    "\n",
    "OD_lista = []\n",
    "L_lista = []\n",
    "\n",
    "\n",
    "while t < tmax:\n",
    "\n",
    "    OD_new = ((OD_0 * m_OD + w_OD * np.exp(m_OD * t) - w_OD) * np.exp(-m_OD * t)) / m_OD\n",
    "    L_new = ((L_0 * m_L + w_L * np.exp(m_L * t) - w_L) * np.exp(-m_L * t)) / m_L\n",
    "\n",
    "    t = t + dt\n",
    "\n",
    "    OD_old = OD_new\n",
    "    L_old = L_new\n",
    "\n",
    "    w_OD = (\n",
    "        -kd * L_old\n",
    "        + ka * Os\n",
    "        - r_on * k_n * L_n\n",
    "        - r_ca * r_oc * k_ra * alpha\n",
    "        - (SOD / H)\n",
    "        + pa\n",
    "        + carga_OD / V\n",
    "    )\n",
    "\n",
    "    OD_lista.append(OD_new)\n",
    "    L_lista.append(L_new)\n"
   ]
  },
  {
   "cell_type": "code",
   "execution_count": 4,
   "metadata": {},
   "outputs": [
    {
     "data": {
      "image/png": "[encoded data removed]",
      "text/plain": [
       "<Figure size 432x288 with 1 Axes>"
      ]
     },
     "metadata": {
      "needs_background": "light"
     },
     "output_type": "display_data"
    }
   ],
   "source": [
    "fig, ax = plt.subplots() \n",
    "ax.tick_params(axis='both', labelsize=12) #increase font size for ticks\n",
    "plt.ylabel(r'Concentração (mol/m3)', fontsize=12) #y label\n",
    "plt.xlabel(r'Tempo (horas)', fontsize=12) #y label\n",
    "ax.plot(tempo, OD_lista, label='OD') \n",
    "ax.plot(tempo, L_lista, label='DBO') \n",
    "ax.legend()\n",
    "#plt.savefig('concentracoes.png', dpi = 300)\n",
    "plt.show()"
   ]
  },
  {
   "cell_type": "markdown",
   "metadata": {},
   "source": [
    "### Solução numérica"
   ]
  },
  {
   "cell_type": "code",
   "execution_count": 5,
   "metadata": {},
   "outputs": [],
   "source": [
    "# solução numérica OD/DBO\n",
    "\n",
    "\n",
    "def funcao_reacao_parcial(z, t):\n",
    "\n",
    "    L, OD = z  # Definir as variaveis\n",
    "\n",
    "    # Constantes da reação\n",
    "\n",
    "    V = 25.6 * (10**6)  # m3\n",
    "    H = 5.6  # m\n",
    "    Os = 9.0  # mg/L\n",
    "    v_s = 1  # m/d\n",
    "    L_F4 = 1.5  # mg/L\n",
    "    L_TD4 = 1.7  # mg/L\n",
    "    L_TE10 = 1.3  # mg/L\n",
    "    OD_F4 = 8  # mg/L\n",
    "    OD_TD4 = 8  # mg/L\n",
    "    OD_TE10 = 8  # mg/L\n",
    "    kd = 1.5  # d-1\n",
    "    ka = 0.3  # d-1\n",
    "    k_sed = v_s / H\n",
    "    k_ra = 0.05  # d-1\n",
    "    k_n = 0.1  # d-1\n",
    "    k_g = 0.15  # d-1\n",
    "    r_ca = 50  # gC/mgChla\n",
    "    r_oc = 2.67  # gO/gC\n",
    "    r_on = 4.2  # gO/gN\n",
    "    L_n = 0.157  # mg/L\n",
    "    alpha = 0.0128  # mg/L\n",
    "    L_part = 0.5  # adimensional\n",
    "    SOD = 1  # gO2/m2\n",
    "    pa = r_oc * r_ca * k_g * alpha  # mgOD/L\n",
    "\n",
    "    # Balanço hidrico\n",
    "\n",
    "    Q_F4 = 2.0 * 86400  # * 1000 #m3/d\n",
    "    Q_TD4 = 0.3 * 86400  # * 1000#m3/d\n",
    "    Q_TE10 = 0.15 * 86400  # * 1000#m3/d\n",
    "\n",
    "    bal_hid = Q_F4 + Q_TD4 + Q_TE10\n",
    "\n",
    "    # Cargas externas\n",
    "\n",
    "    carga_L = L_F4 * Q_F4 + L_TD4 * Q_TD4 + L_TE10 * Q_TE10\n",
    "    carga_OD = OD_F4 * Q_F4 + OD_TD4 * Q_TD4 + OD_TE10 * Q_TE10\n",
    "\n",
    "    # Definir as funções\n",
    "\n",
    "    dLdt = (\n",
    "        -kd * L\n",
    "        + r_ca * r_oc * k_ra * alpha\n",
    "        - k_sed * (1 - L_part) * L\n",
    "        - (L / V) * bal_hid\n",
    "        + carga_L / V\n",
    "    )\n",
    "\n",
    "    dODdt = (\n",
    "        -kd * L\n",
    "        + ka * (Os - OD)\n",
    "        - r_on * k_n * L_n\n",
    "        - r_ca * r_oc * k_ra * alpha\n",
    "        - (SOD / H)\n",
    "        + pa\n",
    "        - (OD / V) * bal_hid\n",
    "        + carga_OD / V\n",
    "    )\n",
    "\n",
    "    return dLdt, dODdt\n",
    "\n",
    "\n",
    "# Condições iniciais\n",
    "\n",
    "L0_1 = 1.5  # mg/L\n",
    "OD0_1 = 5.8  # mg/L\n",
    "z0_1 = L0_1, OD0_1\n",
    "\n",
    "# Passo no tempo\n",
    "t1 = np.linspace(0, 291, 291)\n"
   ]
  },
  {
   "cell_type": "code",
   "execution_count": 6,
   "metadata": {},
   "outputs": [
    {
     "data": {
      "image/png": "[encoded data removed]",
      "text/plain": [
       "<Figure size 1800x1200 with 1 Axes>"
      ]
     },
     "metadata": {
      "needs_background": "light"
     },
     "output_type": "display_data"
    }
   ],
   "source": [
    "# Integrar as equações com odeint\n",
    "\n",
    "funcao_teste = odeint(funcao_reacao_parcial, z0_1, t1)\n",
    "L1, OD1 = funcao_teste.T\n",
    "\n",
    "# plt.plot(t1, L1, 'r', label = 'DBO')\n",
    "# plt.plot(t1, OD1, 'b', label = 'OD numérico')\n",
    "# plt.plot(tempo, OD_lista, 'purble', label = \"OD analitico\" )\n",
    "# plt.plot(tempo, L_lista,'black', label='DBO analitico')\n",
    "\n",
    "fig1, ax1 = plt.subplots(dpi = 300)\n",
    "ax1.tick_params(axis=\"both\", labelsize=12)  # increase font size for ticks\n",
    "plt.ylabel(r\"Concentração (mol/m3)\", fontsize=12)  # y label\n",
    "plt.xlabel(r\"Tempo (horas)\", fontsize=12)  # y label\n",
    "ax1.plot(tempo, OD_lista, \"black\", label=\"OD\")\n",
    "ax1.plot(t1, OD1, \"b\", label=\"OD numérico\")\n",
    "ax1.plot(tempo, L_lista, \"purple\", label=\"DBO\")\n",
    "ax1.plot(t1, L1, \"r\", label=\"DBO numerico\")\n",
    "ax1.legend()\n",
    "# plt.savefig('concentracoes.png', dpi = 300)\n",
    "plt.show()\n"
   ]
  },
  {
   "cell_type": "code",
   "execution_count": 7,
   "metadata": {},
   "outputs": [
    {
     "data": {
      "text/plain": [
       "[<matplotlib.lines.Line2D at 0x30373130>]"
      ]
     },
     "execution_count": 7,
     "metadata": {},
     "output_type": "execute_result"
    },
    {
     "data": {
      "image/png": "[encoded data removed]",
      "text/plain": [
       "<Figure size 432x288 with 1 Axes>"
      ]
     },
     "metadata": {
      "needs_background": "light"
     },
     "output_type": "display_data"
    }
   ],
   "source": [
    "# solução analítica OD/DBO + nitrogenio\n",
    "\n",
    "OD_0 = 5.8\n",
    "L_0 = 1.5\n",
    "No_0 = 0.2\n",
    "Na_0 = 0.2\n",
    "Nn_0 = 0.038\n",
    "\n",
    "OD_old = 5.8\n",
    "L_old = 1.5\n",
    "No_old = 0.2 \n",
    "Na_old = 0.2\n",
    "Nn_old = 0.038\n",
    "\n",
    "# Constantes da equação\n",
    "\n",
    "V = 25.6 * (10**6)  # m3\n",
    "H = 5.6  # m\n",
    "Os = 9.0  # mg/L\n",
    "v_s = 1  # m/d\n",
    "\n",
    "L_F4 = 1.5  # mg/L\n",
    "L_TD4 = 1.7  # mg/L\n",
    "L_TE10 = 1.3  # mg/L\n",
    "OD_F4 = 8  # mg/L\n",
    "OD_TD4 = 8  # mg/L\n",
    "OD_TE10 = 8  # mg/L\n",
    "No_F4= 0.1 #mg/L\n",
    "No_TD4 = 0.2 #mg/L\n",
    "No_TE10 = 0.15 #mg/L\n",
    "Na_F4 = 0.3 #mg/L\n",
    "Na_TD4 = 0.35 #mg/L\n",
    "Na_TE10 = 0.35 #mg/L\n",
    "Nn_F4 = 0.3 #mg/L\n",
    "Nn_TD4 = 0.3 #mg/L\n",
    "Nn_TE10 = 0.3 #mg/L\n",
    "\n",
    "kd = 1.5  # d-1\n",
    "ka = 0.3  # d-1\n",
    "k_sed = v_s / H\n",
    "k_ra = 0.05  # d-1\n",
    "k_n = 0.1  # d-1\n",
    "k_g = 0.15  # d-1\n",
    "kn = 0.09\n",
    "k_ea = 0.17\n",
    "k_dn = 0.04\n",
    "k_oa = 0.013\n",
    "\n",
    "r_ca = 50  # gC/mgChla\n",
    "r_oc = 2.67  # gO/gC\n",
    "r_on = 4.2  # gO/gN\n",
    "r_na = 7 #gN/gChla [7 a 15]\n",
    "\n",
    "f_nod = 1\n",
    "f_on = 0.2 #adimensional\n",
    "L_n = 0.157  # mg/L\n",
    "alpha = 0.0128  # mg/L\n",
    "L_part = 0.5  # adimensional\n",
    "SOD = 1  # gO2/m2\n",
    "pa = r_oc * r_ca * k_g * alpha  # mgOD/L\n",
    "\n",
    "# Balanço hidrico\n",
    "\n",
    "Q_F4 = 2.0 * 86400  # * 1000 #m3/d\n",
    "Q_TD4 = 0.3 * 86400  # * 1000#m3/d\n",
    "Q_TE10 = 0.15 * 86400  # * 1000#m3/d\n",
    "\n",
    "bal_hid = Q_F4 + Q_TD4 + Q_TE10\n",
    "\n",
    "# Cargas externas\n",
    "\n",
    "carga_L = L_F4 * Q_F4 + L_TD4 * Q_TD4 + L_TE10 * Q_TE10\n",
    "carga_OD = OD_F4 * Q_F4 + OD_TD4 * Q_TD4 + OD_TE10 * Q_TE10\n",
    "carga_No = No_F4*Q_F4 + No_TD4*Q_TD4 + No_TE10*Q_TE10\n",
    "carga_Na = Na_F4*Q_F4 + Na_TD4*Q_TD4 + Na_TE10*Q_TE10\n",
    "carga_Nn = Nn_F4*Q_F4 + Nn_TD4*Q_TD4 + Nn_TE10*Q_TE10\n",
    "\n",
    "# Passo no tempo\n",
    "\n",
    "t = 0\n",
    "dt = 1\n",
    "tmax = 291\n",
    "tempo = np.arange(0, tmax, dt)\n",
    "\n",
    "# Equação OD - dDOdt = -kd*L + ka*(Os-OD) - r_on*k_n*L_n - r_ca*r_oc*k_ra*alpha - (SOD/H) + pa  - (OD/V)*bal_hid + carga_OD/V\n",
    "m_OD = ka + bal_hid / V\n",
    "w_OD = (-kd * L_old + ka * Os - r_on * k_n * L_n - r_ca * r_oc * k_ra * alpha - (SOD / H) + pa + carga_OD / V)\n",
    "\n",
    "# Equação DBO - dLdt = - kd*L + r_ca*r_oc*k_ra*alpha - k_sed*(1-L_part)*L - (L/V)*bal_hid + carga_L/V\n",
    "m_L = kd + bal_hid / V + k_sed * (1 - L_part)\n",
    "w_L = r_ca * r_oc * k_ra * alpha + carga_L / V\n",
    "\n",
    "# Equação No - dNodt = -k_oa_var*No - k_sed*(1-f_nod)*No + r_na*k_ra_var*f_on*alpha + r_na*k_ea*f_on*alpha + carga_No_var/V - (No/V)*bal_hid_var\n",
    "m_No = k_oa + k_sed*(1-f_nod) + bal_hid/V\n",
    "w_No = r_na*k_ra*f_on*alpha + r_na*k_ea*f_on*alpha + carga_No/V \n",
    "\n",
    "# Equação Na - dNadt = k_oa_var*No - kn_var*Na + r_na*k_ra_var*(1-f_on)*alpha + r_na*k_ea*(1-f_on)*alpha + carga_Na_var/V - (Na/V)*bal_hid_var - Na*r_na*k_g*alpha # (da amonia negativa)\n",
    "m_Na = kn + bal_hid/V + r_na*k_g*alpha\n",
    "w_Na = k_oa*No_old + r_na*k_ra*(1-f_on)*alpha + r_na*k_ea*(1-f_on)*alpha + carga_Na/V\n",
    "\n",
    "# Equação Nn - dNndt = kn_var*Na - k_dn_var*Nn + carga_Nn_var/V - (Nn/V)*bal_hid_var #-(1-Na)*r_na*k_g*alpha\n",
    "m_Nn = k_dn + bal_hid/V\n",
    "w_Nn = kn*Na_old + carga_Nn/V\n",
    "    \n",
    "# Lista vazia com os resultados calculados\n",
    "\n",
    "OD_lista = []\n",
    "L_lista = []\n",
    "No_lista = []\n",
    "Na_lista = []\n",
    "Nn_lista = []\n",
    "\n",
    "while t < tmax:\n",
    "\n",
    "    OD_new = ((OD_0 * m_OD + w_OD * np.exp(m_OD * t) - w_OD) * np.exp(-m_OD * t)) / m_OD\n",
    "    \n",
    "    L_new = ((L_0 * m_L + w_L * np.exp(m_L * t) - w_L) * np.exp(-m_L * t)) / m_L\n",
    "\n",
    "    No_new = ((No_0 * m_No + w_No * np.exp(m_No * t) - w_No) * np.exp(-m_No * t)) / m_No\n",
    "\n",
    "    Na_new = ((Na_0 * m_Na + w_Na * np.exp(m_Na * t) - w_Na) * np.exp(-m_Na * t)) / m_Na\n",
    "\n",
    "    Nn_new = ((Nn_0 * m_Nn + w_Nn * np.exp(m_Nn * t) - w_Nn) * np.exp(-m_Nn * t)) / m_Nn\n",
    "\n",
    "    t = t + dt\n",
    "\n",
    "    OD_old = OD_new\n",
    "    L_old = L_new\n",
    "    No_old = No_new\n",
    "    Na_old = Na_new\n",
    "    Nn_old = Nn_new\n",
    "\n",
    "    w_OD = (-kd * L_old + ka * Os - r_on * k_n * L_n - r_ca * r_oc * k_ra * alpha - (SOD / H) + pa + carga_OD / V)\n",
    "\n",
    "    w_Na = k_oa*No_old + r_na*k_ra*(1-f_on)*alpha + r_na*k_ea*(1-f_on)*alpha + carga_Na/V\n",
    "\n",
    "    w_Nn = kn*Na_old + carga_Nn/V    \n",
    "\n",
    "    OD_lista.append(OD_new)\n",
    "    L_lista.append(L_new)\n",
    "    No_lista.append(No_new)\n",
    "    Na_lista.append(Na_new)\n",
    "    Nn_lista.append(Nn_new)\n",
    "\n",
    "plt.plot(tempo, No_lista, label = 'No')\n",
    "plt.plot(tempo, Na_lista, label = 'Na')\n",
    "plt.plot(tempo, Nn_lista, label = 'Nn')"
   ]
  },
  {
   "cell_type": "code",
   "execution_count": 8,
   "metadata": {},
   "outputs": [],
   "source": [
    "# Solução numérica OD/DBO + nitrogenio\n",
    "\n",
    "def funcao_nitro_num (z, t):\n",
    "\n",
    "    OD = z[0]\n",
    "    L = z[1]\n",
    "    No = z[2]\n",
    "    Na = z[3]\n",
    "    Nn = z[4]\n",
    "\n",
    "    # Constantes da equação\n",
    "\n",
    "    V = 25.6 * (10**6)  # m3\n",
    "    H = 5.6  # m\n",
    "    Os = 9.0  # mg/L\n",
    "    v_s = 1  # m/d\n",
    "\n",
    "    L_F4 = 1.5  # mg/L\n",
    "    L_TD4 = 1.7  # mg/L\n",
    "    L_TE10 = 1.3  # mg/L\n",
    "    OD_F4 = 8  # mg/L\n",
    "    OD_TD4 = 8  # mg/L\n",
    "    OD_TE10 = 8  # mg/L\n",
    "    No_F4= 0.1 #mg/L\n",
    "    No_TD4 = 0.2 #mg/L\n",
    "    No_TE10 = 0.15 #mg/L\n",
    "    Na_F4 = 0.3 #mg/L\n",
    "    Na_TD4 = 0.35 #mg/L\n",
    "    Na_TE10 = 0.35 #mg/L\n",
    "    Nn_F4 = 0.3 #mg/L\n",
    "    Nn_TD4 = 0.3 #mg/L\n",
    "    Nn_TE10 = 0.3 #mg/L\n",
    "\n",
    "    kd = 1.5  # d-1\n",
    "    ka = 0.3  # d-1\n",
    "    k_sed = v_s / H\n",
    "    k_ra = 0.05  # d-1\n",
    "    k_n = 0.1  # d-1\n",
    "    k_g = 0.15  # d-1\n",
    "    kn = 0.09\n",
    "    k_ea = 0.17\n",
    "    k_dn = 0.04\n",
    "    k_oa = 0.013\n",
    "\n",
    "    r_ca = 50  # gC/mgChla\n",
    "    r_oc = 2.67  # gO/gC\n",
    "    r_on = 4.2  # gO/gN\n",
    "    r_na = 7 #gN/gChla [7 a 15]\n",
    "\n",
    "    f_nod = 1\n",
    "    f_on = 0.2 #adimensional\n",
    "    L_n = 0.157  # mg/L\n",
    "    alpha = 0.0128  # mg/L\n",
    "    L_part = 0.5  # adimensional\n",
    "    SOD = 1  # gO2/m2\n",
    "    pa = r_oc * r_ca * k_g * alpha  # mgOD/L\n",
    "\n",
    "    # Balanço hidrico\n",
    "\n",
    "    Q_F4 = 2.0 * 86400  # * 1000 #m3/d\n",
    "    Q_TD4 = 0.3 * 86400  # * 1000#m3/d\n",
    "    Q_TE10 = 0.15 * 86400  # * 1000#m3/d\n",
    "\n",
    "    bal_hid = Q_F4 + Q_TD4 + Q_TE10\n",
    "\n",
    "    # Cargas externas\n",
    "\n",
    "    carga_L = L_F4 * Q_F4 + L_TD4 * Q_TD4 + L_TE10 * Q_TE10\n",
    "    carga_OD = OD_F4 * Q_F4 + OD_TD4 * Q_TD4 + OD_TE10 * Q_TE10\n",
    "    carga_No = No_F4*Q_F4 + No_TD4*Q_TD4 + No_TE10*Q_TE10\n",
    "    carga_Na = Na_F4*Q_F4 + Na_TD4*Q_TD4 + Na_TE10*Q_TE10\n",
    "    carga_Nn = Nn_F4*Q_F4 + Nn_TD4*Q_TD4 + Nn_TE10*Q_TE10\n",
    "\n",
    "    dODdt = -kd*L + ka*(Os-OD) - r_on*k_n*L_n - r_ca*r_oc*k_ra*alpha - (SOD/H) + pa  - (OD/V)*bal_hid + carga_OD/V\n",
    "\n",
    "    dLdt = - kd*L + r_ca*r_oc*k_ra*alpha - k_sed*(1-L_part)*L - (L/V)*bal_hid + carga_L/V\n",
    "\n",
    "    dNodt = -k_oa*No - k_sed*(1-f_nod)*No + r_na*k_ra*f_on*alpha + r_na*k_ea*f_on*alpha + carga_No/V - (No/V)*bal_hid\n",
    "    \n",
    "    dNadt = k_oa*No - kn*Na + r_na*k_ra*(1-f_on)*alpha + r_na*k_ea*(1-f_on)*alpha + carga_Na/V - (Na/V)*bal_hid - Na*r_na*k_g*alpha # (da amonia negativa)\n",
    "    \n",
    "    dNndt = kn*Na - k_dn*Nn + carga_Nn/V - (Nn/V)*bal_hid #-(1-Na)*r_na*k_g*alpha\n",
    "\n",
    "    return dODdt, dLdt, dNodt, dNadt, dNndt\n",
    "\n",
    "# Condições iniciais\n",
    "\n",
    "z0 = [5.8, 1.5, 0.2, 0.2, 0.038]\n",
    "\n",
    "# Passo no tempo\n",
    "\n",
    "tempo = np.arange(0, tmax, dt)"
   ]
  },
  {
   "cell_type": "code",
   "execution_count": 9,
   "metadata": {},
   "outputs": [
    {
     "data": {
      "text/plain": [
       "[<matplotlib.lines.Line2D at 0x303b9310>]"
      ]
     },
     "execution_count": 9,
     "metadata": {},
     "output_type": "execute_result"
    },
    {
     "data": {
      "image/png": "[encoded data removed]",
      "text/plain": [
       "<Figure size 432x288 with 1 Axes>"
      ]
     },
     "metadata": {
      "needs_background": "light"
     },
     "output_type": "display_data"
    }
   ],
   "source": [
    "funcao_nitro = odeint(funcao_nitro_num, z0, tempo)\n",
    "OD_nitro, L_nitro, No_nitro, Na_nitro, Nn_nitro = funcao_nitro.T\n",
    "\n",
    "# plt.plot(tempo, OD_nitro, label = 'OD')\n",
    "# plt.plot(tempo, L_nitro, label = 'L')\n",
    "plt.plot(tempo, No_nitro, label = 'No')\n",
    "plt.plot(tempo, Na_nitro, label = 'Na')\n",
    "plt.plot(tempo, Nn_nitro, label = 'Nn')"
   ]
  },
  {
   "cell_type": "code",
   "execution_count": 10,
   "metadata": {},
   "outputs": [
    {
     "data": {
      "text/plain": [
       "[<matplotlib.lines.Line2D at 0x30431460>]"
      ]
     },
     "execution_count": 10,
     "metadata": {},
     "output_type": "execute_result"
    },
    {
     "data": {
      "image/png": "[encoded data removed]",
      "text/plain": [
       "<Figure size 432x288 with 1 Axes>"
      ]
     },
     "metadata": {
      "needs_background": "light"
     },
     "output_type": "display_data"
    }
   ],
   "source": [
    "plt.plot(tempo, No_nitro, label = 'No')\n",
    "plt.plot(tempo, Na_nitro, label = 'Na')\n",
    "plt.plot(tempo, Nn_nitro, label = 'Nn')\n",
    "plt.plot(tempo, No_lista, label = 'No')\n",
    "plt.plot(tempo, Na_lista, label = 'Na')\n",
    "plt.plot(tempo, Nn_lista, label = 'Nn')"
   ]
  },
  {
   "cell_type": "code",
   "execution_count": 11,
   "metadata": {},
   "outputs": [],
   "source": [
    "# Solução analítica fósforo\n",
    "\n",
    "P_org_0 = 0.021\n",
    "P_inorg_0 = 0.0039\n",
    "\n",
    "P_org_old = 0.021\n",
    "P_inorg_old = 0.0039\n",
    "\n",
    "# Constantes da equação\n",
    "\n",
    "V = 25.6 * (10**6)  # m3\n",
    "H = 5.6  # m\n",
    "Os = 9.0  # mg/L\n",
    "v_s = 1  # m/d\n",
    "\n",
    "k_sed = v_s / H\n",
    "k_mineral = 0.1\n",
    "k_ra = 0.05\n",
    "k_ea = 0.17\n",
    "\n",
    "r_pa = 0.5 # gP/gChla [0.5 a 1]\n",
    "f_op = 0.1 #adimensional [0.1 a 0.9]\n",
    "alpha = 0.0128\n",
    "\n",
    "P_org_F4 = 0.02 #mg/L\n",
    "P_org_TD4 = 0.015 #mg/L\n",
    "P_org_TE10 = 0.02 #mg/L\n",
    "P_in_F4 = 0.01 #mg/L\n",
    "P_in_TD4 = 0.015 #mg/L\n",
    "P_in_TE10 = 0.01 #mg/L\n",
    "\n",
    "# Balanço hidrico\n",
    "\n",
    "Q_F4 = 2.0 * 86400  # * 1000 #m3/d\n",
    "Q_TD4 = 0.3 * 86400  # * 1000#m3/d\n",
    "Q_TE10 = 0.15 * 86400  # * 1000#m3/d\n",
    "\n",
    "bal_hid = Q_F4 + Q_TD4 + Q_TE10\n",
    "\n",
    "# Cargas externas\n",
    "\n",
    "carga_P_org = P_org_F4*Q_F4 + P_org_TD4*Q_TD4 + P_org_TE10*Q_TE10\n",
    "carga_P_in = P_in_F4*Q_F4 + P_in_TD4*Q_TD4 + P_in_TE10*Q_TE10\n",
    "\n",
    "# Passo no tempo\n",
    "\n",
    "t = 0\n",
    "dt = 1\n",
    "tmax = 291\n",
    "tempo = np.arange(0, tmax, dt)\n",
    "\n",
    "# Equação P_org - dP_orgdt = -k_mineral_var*P_org + r_pa*k_ra_var*f_op*alpha + r_pa*k_ea*f_op*alpha + carga_P_org_var/V - (P_org/V)*bal_hid_var\n",
    "m_P_org = k_mineral + bal_hid/V\n",
    "w_P_org = r_pa*k_ra*f_op*alpha + r_pa*k_ea*f_op*alpha + carga_P_org/V\n",
    "\n",
    "# Equação P_inorg - dP_indt = k_mineral_var*P_org - k_sed*P_in +r_pa*k_ra_var*(1-f_op)*alpha + r_pa*k_ea*(1-f_op)*alpha + carga_P_in_var/V - (P_in/V)*bal_hid_var\n",
    "m_P_inorg = k_sed + bal_hid/V\n",
    "w_P_inorg = k_mineral*P_org_old +r_pa*k_ra*(1-f_op)*alpha + r_pa*k_ea*(1-f_op)*alpha + carga_P_in/V\n",
    "\n",
    "#Lista vazia com os resultados\n",
    "\n",
    "P_org_lista = []\n",
    "P_inorg_lista = []\n",
    "\n",
    "while t < tmax:\n",
    "\n",
    "    P_org_new = ((P_org_0 * m_P_org + w_P_org * np.exp(m_P_org * t) - w_P_org) * np.exp(-m_P_org * t)) / m_P_org\n",
    "\n",
    "    P_inorg_new = ((P_inorg_0 * m_P_inorg + w_P_inorg * np.exp(m_P_inorg * t) - w_P_inorg) * np.exp(-m_P_inorg * t)) / m_P_inorg\n",
    "\n",
    "    t = t + dt\n",
    "\n",
    "    P_org_old = P_org_new\n",
    "    P_inorg_old = P_inorg_new\n",
    "\n",
    "    w_P_inorg = k_mineral*P_org_old +r_pa*k_ra*(1-f_op)*alpha + r_pa*k_ea*(1-f_op)*alpha + carga_P_in/V\n",
    "\n",
    "    P_org_lista.append(P_org_new)\n",
    "    P_inorg_lista.append(P_inorg_new)"
   ]
  },
  {
   "cell_type": "code",
   "execution_count": 12,
   "metadata": {},
   "outputs": [
    {
     "data": {
      "text/plain": [
       "[<matplotlib.lines.Line2D at 0x304a2250>]"
      ]
     },
     "execution_count": 12,
     "metadata": {},
     "output_type": "execute_result"
    },
    {
     "data": {
      "image/png": "[encoded data removed]",
      "text/plain": [
       "<Figure size 432x288 with 1 Axes>"
      ]
     },
     "metadata": {
      "needs_background": "light"
     },
     "output_type": "display_data"
    }
   ],
   "source": [
    "plt.plot(tempo, P_org_lista)\n",
    "plt.plot(tempo, P_inorg_lista)"
   ]
  },
  {
   "cell_type": "code",
   "execution_count": 13,
   "metadata": {},
   "outputs": [],
   "source": [
    "# Solução numérica fósforo\n",
    "\n",
    "def reacao_fosforo (z, t):\n",
    "    \n",
    "    P_org = z[0]\n",
    "    P_inorg = z[1]\n",
    "    # Constantes da equação\n",
    "\n",
    "    V = 25.6 * (10**6)  # m3\n",
    "    H = 5.6  # m\n",
    "    Os = 9.0  # mg/L\n",
    "    v_s = 1  # m/d\n",
    "\n",
    "    k_sed = v_s / H\n",
    "    k_mineral = 0.1\n",
    "    k_ra = 0.05\n",
    "    k_ea = 0.17\n",
    "\n",
    "    r_pa = 0.5 # gP/gChla [0.5 a 1]\n",
    "    f_op = 0.1 #adimensional [0.1 a 0.9]\n",
    "    alpha = 0.0128\n",
    "\n",
    "    P_org_F4 = 0.02 #mg/L\n",
    "    P_org_TD4 = 0.015 #mg/L\n",
    "    P_org_TE10 = 0.02 #mg/L\n",
    "    P_in_F4 = 0.01 #mg/L\n",
    "    P_in_TD4 = 0.015 #mg/L\n",
    "    P_in_TE10 = 0.01 #mg/L\n",
    "\n",
    "    # Balanço hidrico\n",
    "\n",
    "    Q_F4 = 2.0 * 86400  # * 1000 #m3/d\n",
    "    Q_TD4 = 0.3 * 86400  # * 1000#m3/d\n",
    "    Q_TE10 = 0.15 * 86400  # * 1000#m3/d\n",
    "\n",
    "    bal_hid = Q_F4 + Q_TD4 + Q_TE10\n",
    "\n",
    "    # Cargas externas\n",
    "\n",
    "    carga_P_org = P_org_F4*Q_F4 + P_org_TD4*Q_TD4 + P_org_TE10*Q_TE10\n",
    "    carga_P_inorg = P_in_F4*Q_F4 + P_in_TD4*Q_TD4 + P_in_TE10*Q_TE10\n",
    "\n",
    "    dP_orgdt = -k_mineral*P_org + r_pa*k_ra*f_op*alpha + r_pa*k_ea*f_op*alpha + carga_P_org/V - (P_org/V)*bal_hid\n",
    "\n",
    "    dP_inorgdt = k_mineral*P_org - k_sed*P_inorg +r_pa*k_ra*(1-f_op)*alpha + r_pa*k_ea*(1-f_op)*alpha + carga_P_inorg/V - (P_inorg/V)*bal_hid\n",
    "\n",
    "    return dP_orgdt, dP_inorgdt\n",
    "\n",
    "tempo = np.arange(0, tmax, dt)\n",
    "\n",
    "z0_fosf = [0.021, 0.0039]\n",
    "    "
   ]
  },
  {
   "cell_type": "code",
   "execution_count": 14,
   "metadata": {},
   "outputs": [
    {
     "data": {
      "text/plain": [
       "[<matplotlib.lines.Line2D at 0x3071c9a0>]"
      ]
     },
     "execution_count": 14,
     "metadata": {},
     "output_type": "execute_result"
    },
    {
     "data": {
      "image/png": "[encoded data removed]",
      "text/plain": [
       "<Figure size 432x288 with 1 Axes>"
      ]
     },
     "metadata": {
      "needs_background": "light"
     },
     "output_type": "display_data"
    }
   ],
   "source": [
    "funcao_fosf = odeint(reacao_fosforo, z0_fosf, tempo)\n",
    "P_org, P_inorg = funcao_fosf.T\n",
    "\n",
    "plt.plot(tempo, P_org)\n",
    "plt.plot(tempo, P_inorg)"
   ]
  },
  {
   "cell_type": "code",
   "execution_count": 15,
   "metadata": {},
   "outputs": [
    {
     "data": {
      "text/plain": [
       "[<matplotlib.lines.Line2D at 0x307913a0>]"
      ]
     },
     "execution_count": 15,
     "metadata": {},
     "output_type": "execute_result"
    },
    {
     "data": {
      "image/png": "[encoded data removed]",
      "text/plain": [
       "<Figure size 432x288 with 1 Axes>"
      ]
     },
     "metadata": {
      "needs_background": "light"
     },
     "output_type": "display_data"
    }
   ],
   "source": [
    "plt.plot(tempo, P_org_lista)\n",
    "plt.plot(tempo, P_inorg_lista)\n",
    "plt.plot(tempo, P_org)\n",
    "plt.plot(tempo, P_inorg)"
   ]
  },
  {
   "cell_type": "markdown",
   "metadata": {},
   "source": [
    "#### R², erro médio quadrado e erro relativo\n"
   ]
  },
  {
   "cell_type": "code",
   "execution_count": 19,
   "metadata": {},
   "outputs": [
    {
     "name": "stdout",
     "output_type": "stream",
     "text": [
      "0.9411341114565018 0.9999985948417348 0.9999999999999097 0.987479134087467 0.9998760625321332 0.9999999999995702 0.766857201132388\n"
     ]
    }
   ],
   "source": [
    "# R2\n",
    "from sklearn.metrics import r2_score\n",
    "\n",
    "print(r2_score(OD_lista, OD1),\n",
    "r2_score(L_lista, L1),\n",
    "r2_score(No_lista, No_nitro),\n",
    "r2_score(Na_lista, Na_nitro),\n",
    "r2_score(Nn_lista, Nn_nitro),\n",
    "r2_score(P_org_lista, P_org),\n",
    "r2_score(P_inorg_lista, P_inorg))\n"
   ]
  },
  {
   "cell_type": "code",
   "execution_count": 27,
   "metadata": {},
   "outputs": [
    {
     "name": "stdout",
     "output_type": "stream",
     "text": [
      "Erro medio quadrado OD: \n",
      "0.005651811426718707\n",
      "Erro medio quadrado No: \n",
      "4.6009434916184695e-18\n",
      "Erro medio quadrado Na: \n",
      "1.5825434937741163e-08\n",
      "Erro medio quadrado Nn: \n",
      "5.388063710913941e-07\n",
      "Erro medio quadrado P_org: \n",
      "2.3576932518849076e-18\n",
      "Erro medio quadrado P_inorg: \n",
      "7.552397024785941e-08\n"
     ]
    }
   ],
   "source": [
    "# Erro médio quadrado\n",
    "\n",
    "#OD\n",
    "OD_array = np.array(OD_lista)\n",
    "\n",
    "diferenca_OD = OD_array - OD1\n",
    "quadrado_diferenca_OD = diferenca_OD **2\n",
    "soma_OD = quadrado_diferenca_OD.sum()\n",
    "erro_medio_quadrado_OD = soma_OD/len(quadrado_diferenca_OD)\n",
    "print(f'Erro medio quadrado OD: \\n{erro_medio_quadrado_OD}')\n",
    "\n",
    "#No\n",
    "No_array = np.array(No_lista)\n",
    "\n",
    "diferenca_No = No_array - No_nitro\n",
    "quadrado_diferenca_No = diferenca_No **2\n",
    "soma_No = quadrado_diferenca_No.sum()\n",
    "erro_medio_quadrado_No = soma_No/len(quadrado_diferenca_No)\n",
    "print(f'Erro medio quadrado No: \\n{erro_medio_quadrado_No}')\n",
    "\n",
    "#Na\n",
    "Na_array = np.array(Na_lista)\n",
    "\n",
    "diferenca_Na = Na_array - Na_nitro\n",
    "quadrado_diferenca_Na = diferenca_Na **2\n",
    "soma_Na = quadrado_diferenca_Na.sum()\n",
    "erro_medio_quadrado_Na = soma_Na/len(quadrado_diferenca_Na)\n",
    "print(f'Erro medio quadrado Na: \\n{erro_medio_quadrado_Na}')\n",
    "\n",
    "#Nn\n",
    "Nn_array = np.array(Nn_lista)\n",
    "\n",
    "diferenca_Nn = Nn_array - Nn_nitro\n",
    "quadrado_diferenca_Nn = diferenca_Nn **2\n",
    "soma_Nn = quadrado_diferenca_Nn.sum()\n",
    "erro_medio_quadrado_Nn = soma_Nn/len(quadrado_diferenca_Nn)\n",
    "print(f'Erro medio quadrado Nn: \\n{erro_medio_quadrado_Nn}')\n",
    "\n",
    "#P_org\n",
    "P_org_array = np.array(P_org_lista)\n",
    "\n",
    "diferenca_P_org = P_org_array - P_org\n",
    "quadrado_diferenca_P_org = diferenca_P_org **2\n",
    "soma_P_org = quadrado_diferenca_P_org.sum()\n",
    "erro_medio_quadrado_P_org = soma_P_org/len(quadrado_diferenca_P_org)\n",
    "print(f'Erro medio quadrado P_org: \\n{erro_medio_quadrado_P_org}')\n",
    "\n",
    "\n",
    "#P_inorg\n",
    "P_inorg_array = np.array(P_inorg_lista)\n",
    "\n",
    "diferenca_P_inorg = P_inorg_array - P_inorg\n",
    "quadrado_diferenca_P_inorg = diferenca_P_inorg **2\n",
    "soma_P_inorg = quadrado_diferenca_P_inorg.sum()\n",
    "erro_medio_quadrado_P_inorg = soma_P_inorg/len(quadrado_diferenca_P_inorg)\n",
    "print(f'Erro medio quadrado P_inorg: \\n{erro_medio_quadrado_P_inorg}')\n",
    "\n"
   ]
  },
  {
   "cell_type": "code",
   "execution_count": null,
   "metadata": {},
   "outputs": [],
   "source": [
    "# Erro relativo  = (valor medido - valor modelado)/valor medido\n",
    "\n",
    "\n",
    "\n"
   ]
  }
 ],
 "metadata": {
  "kernelspec": {
   "display_name": "Python 3.8.10 64-bit",
   "language": "python",
   "name": "python3"
  },
  "language_info": {
   "codemirror_mode": {
    "name": "ipython",
    "version": 3
   },
   "file_extension": ".py",
   "mimetype": "text/x-python",
   "name": "python",
   "nbconvert_exporter": "python",
   "pygments_lexer": "ipython3",
   "version": "3.8.10"
  },
  "orig_nbformat": 4,
  "vscode": {
   "interpreter": {
    "hash": "f544ce1a915a9875fad91c894e2c0bcad4b7a79945aa6027ef3ad27810072aa6"
   }
  }
 },
 "nbformat": 4,
 "nbformat_minor": 2
}
