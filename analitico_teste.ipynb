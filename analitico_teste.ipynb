{
 "cells": [
  {
   "cell_type": "code",
   "execution_count": 22,
   "metadata": {},
   "outputs": [
    {
     "data": {
      "text/latex": [
       "$\\displaystyle \\frac{d}{d t} c{\\left(t \\right)} = - m c{\\left(t \\right)} + w$"
      ],
      "text/plain": [
       "Eq(Derivative(c(t), t), -m*c(t) + w)"
      ]
     },
     "metadata": {},
     "output_type": "display_data"
    },
    {
     "data": {
      "text/latex": [
       "$\\displaystyle c{\\left(t \\right)} = \\frac{\\left(c_{0} m + w e^{m t} - w\\right) e^{- m t}}{m}$"
      ],
      "text/plain": [
       "Eq(c(t), (c_0*m + w*exp(m*t) - w)*exp(-m*t)/m)"
      ]
     },
     "metadata": {},
     "output_type": "display_data"
    }
   ],
   "source": [
    "from sympy import *\n",
    "import numpy as np\n",
    "import matplotlib.pyplot as plt\n",
    "import pandas as pd\n",
    "from scipy.integrate import odeint\n",
    "\n",
    "t, w, m, c_0 = symbols('t w m c_0')\n",
    "c = symbols('c', cls=Function)\n",
    "\n",
    "dcdt = Eq(c(t).diff(t), w - c(t) * m)\n",
    "c_eq = dsolve(dcdt, c(t), ics={c(0): c_0})\n",
    "c_eq = simplify(c_eq)\n",
    "\n",
    "display(dcdt, c_eq)"
   ]
  },
  {
   "cell_type": "markdown",
   "metadata": {},
   "source": [
    "### Solução analítica"
   ]
  },
  {
   "cell_type": "code",
   "execution_count": 20,
   "metadata": {},
   "outputs": [],
   "source": [
    "# solução analítica OD/DBO\n",
    "\n",
    "OD_0 = 5.8\n",
    "L_0 = 1.5\n",
    "\n",
    "OD_old = 5.8\n",
    "L_old = 1.5\n",
    "\n",
    "# Constantes da equação\n",
    "\n",
    "V = 25.6 * (10**6) #m3\n",
    "H = 5.6 #m\n",
    "Os = 9.0 #mg/L\n",
    "v_s = 1 #m/d\n",
    "L_F4 = 1.5 #mg/L\n",
    "L_TD4 = 1.7 #mg/L\n",
    "L_TE10 = 1.3 #mg/L\n",
    "OD_F4 = 8 #mg/L\n",
    "OD_TD4 = 8 #mg/L\n",
    "OD_TE10 = 8 #mg/L\n",
    "kd = 1.5 #d-1\n",
    "ka = 0.3 #d-1\n",
    "k_sed = v_s/H\n",
    "k_ra = 0.05 #d-1\n",
    "k_n = 0.1 #d-1\n",
    "k_g = 0.15 #d-1\n",
    "r_ca = 50 #gC/mgChla\n",
    "r_oc = 2.67 #gO/gC\n",
    "r_on = 4.2 #gO/gN\n",
    "L_n = 0.157 #mg/L\n",
    "alpha = 0.0128 #mg/L\n",
    "L_part = 0.5 #adimensional\n",
    "SOD = 1 #gO2/m2\n",
    "pa = r_oc*r_ca*k_g*alpha #mgOD/L\n",
    "\n",
    "# Balanço hidrico\n",
    "\n",
    "Q_F4 = 2.0  * 86400 #* 1000 #m3/d\n",
    "Q_TD4 = 0.3 * 86400 #* 1000#m3/d\n",
    "Q_TE10 = 0.15  * 86400# * 1000#m3/d\n",
    "       \n",
    "bal_hid = Q_F4 + Q_TD4 + Q_TE10  \n",
    "   \n",
    "#Cargas externas\n",
    "\n",
    "carga_L = L_F4*Q_F4 + L_TD4*Q_TD4 + L_TE10*Q_TE10\n",
    "carga_OD = OD_F4*Q_F4 + OD_TD4*Q_TD4 + OD_TE10*Q_TE10\n",
    "\n",
    "# Passo no tempo \n",
    "\n",
    "t = 0\n",
    "dt = 1\n",
    "tmax = 291\n",
    "tempo = np.arange(0,tmax,dt)\n",
    "\n",
    "\n",
    "# Equação OD - dDOdt = -kd*L + ka*(Os-OD) - r_on*k_n*L_n - r_ca*r_oc*k_ra*alpha - (SOD/H) + pa  - (OD/V)*bal_hid + carga_OD/V\n",
    "\n",
    "m_OD = ka + bal_hid/V\n",
    "w_OD = -kd*L_old + ka*Os - r_on*k_n*L_n - r_ca*r_oc*k_ra*alpha - (SOD/H) + pa + carga_OD/V\n",
    "\n",
    "# Equação DBO - dLdt = - kd*L + r_ca*r_oc*k_ra*alpha - k_sed*(1-L_part)*L - (L/V)*bal_hid + carga_L/V \n",
    "\n",
    "m_L = kd + bal_hid/V + k_sed*(1-L_part)\n",
    "w_L = r_ca*r_oc*k_ra*alpha + carga_L/V\n",
    "\n",
    "# Lista vazia com os resultados calculados\n",
    "\n",
    "OD_lista = []\n",
    "L_lista = []\n",
    "\n",
    "\n",
    "while t < tmax:\n",
    "\n",
    "    OD_new = ((OD_0*m_OD + w_OD*np.exp(m_OD*t) - w_OD)*np.exp(-m_OD*t))/m_OD\n",
    "    L_new = ((L_0*m_L + w_L*np.exp(m_L*t) -w_L)*np.exp(-m_L*t))/m_L\n",
    "\n",
    "    t = t + dt\n",
    "\n",
    "    OD_old = OD_new\n",
    "    L_old = L_new \n",
    "\n",
    "    w_OD = -kd*L_old + ka*Os - r_on*k_n*L_n - r_ca*r_oc*k_ra*alpha - (SOD/H) + pa + carga_OD/V\n",
    "\n",
    "    OD_lista.append(OD_new)\n",
    "    L_lista.append(L_new)\n"
   ]
  },
  {
   "cell_type": "code",
   "execution_count": 21,
   "metadata": {},
   "outputs": [
    {
     "data": {
      "image/png": "[encoded data removed]",
      "text/plain": [
       "<Figure size 432x288 with 1 Axes>"
      ]
     },
     "metadata": {
      "needs_background": "light"
     },
     "output_type": "display_data"
    }
   ],
   "source": [
    "fig, ax = plt.subplots() \n",
    "ax.tick_params(axis='both', labelsize=12) #increase font size for ticks\n",
    "plt.ylabel(r'Concentração (mol/m3)', fontsize=12) #y label\n",
    "plt.xlabel(r'Tempo (horas)', fontsize=12) #y label\n",
    "ax.plot(tempo, OD_lista, label='OD') \n",
    "ax.plot(tempo, L_lista, label='DBO') \n",
    "ax.legend()\n",
    "#plt.savefig('concentracoes.png', dpi = 300)\n",
    "plt.show()"
   ]
  },
  {
   "cell_type": "markdown",
   "metadata": {},
   "source": [
    "### Solução numérica"
   ]
  },
  {
   "cell_type": "code",
   "execution_count": 28,
   "metadata": {},
   "outputs": [],
   "source": [
    "# solução numérica OD/DBO\n",
    "\n",
    "def funcao_reacao_parcial (z, t):\n",
    "    \n",
    "    L, OD = z # Definir as variaveis\n",
    "    \n",
    "    # Constantes da reação\n",
    "\n",
    "    V = 25.6 * (10**6) #m3\n",
    "    H = 5.6 #m\n",
    "    Os = 9.0 #mg/L\n",
    "    v_s = 1 #m/d\n",
    "    L_F4 = 1.5 #mg/L\n",
    "    L_TD4 = 1.7 #mg/L\n",
    "    L_TE10 = 1.3 #mg/L\n",
    "    OD_F4 = 8 #mg/L\n",
    "    OD_TD4 = 8 #mg/L\n",
    "    OD_TE10 = 8 #mg/L\n",
    "    kd = 1.5 #d-1\n",
    "    ka = 0.3 #d-1\n",
    "    k_sed = v_s/H\n",
    "    k_ra = 0.05 #d-1\n",
    "    k_n = 0.1 #d-1\n",
    "    k_g = 0.15 #d-1\n",
    "    r_ca = 50 #gC/mgChla\n",
    "    r_oc = 2.67 #gO/gC\n",
    "    r_on = 4.2 #gO/gN\n",
    "    L_n = 0.157 #mg/L\n",
    "    alpha = 0.0128 #mg/L\n",
    "    L_part = 0.5 #adimensional\n",
    "    SOD = 1 #gO2/m2\n",
    "    pa = r_oc*r_ca*k_g*alpha #mgOD/L\n",
    "\n",
    "    # Balanço hidrico\n",
    "\n",
    "    Q_F4 = 2.0  * 86400 #* 1000 #m3/d\n",
    "    Q_TD4 = 0.3 * 86400 #* 1000#m3/d\n",
    "    Q_TE10 = 0.15  * 86400# * 1000#m3/d\n",
    "       \n",
    "    bal_hid = Q_F4 + Q_TD4 + Q_TE10  \n",
    "   \n",
    "    #Cargas externas\n",
    "\n",
    "    carga_L = L_F4*Q_F4 + L_TD4*Q_TD4 + L_TE10*Q_TE10\n",
    "    carga_OD = OD_F4*Q_F4 + OD_TD4*Q_TD4 + OD_TE10*Q_TE10\n",
    "   \n",
    "    # Definir as funções\n",
    "    \n",
    "    dLdt = - kd*L + r_ca*r_oc*k_ra*alpha - k_sed*(1-L_part)*L - (L/V)*bal_hid + carga_L/V   \n",
    "    \n",
    "    dODdt = -kd*L + ka*(Os-OD) - r_on*k_n*L_n - r_ca*r_oc*k_ra*alpha - (SOD/H) + pa  - (OD/V)*bal_hid + carga_OD/V  \n",
    "\n",
    "    return dLdt, dODdt\n",
    "\n",
    "# Condições iniciais\n",
    "\n",
    "L0_1 = 1.5 #mg/L\n",
    "OD0_1 = 5.8 #mg/L\n",
    "z0_1 = L0_1, OD0_1\n",
    "\n",
    "# Passo no tempo\n",
    "t1 = np.linspace(0,291,291)"
   ]
  },
  {
   "cell_type": "code",
   "execution_count": 37,
   "metadata": {},
   "outputs": [
    {
     "data": {
      "image/png": "[encoded data removed]",
      "text/plain": [
       "<Figure size 432x288 with 1 Axes>"
      ]
     },
     "metadata": {
      "needs_background": "light"
     },
     "output_type": "display_data"
    }
   ],
   "source": [
    "# Integrar as equações com odeint\n",
    "\n",
    "funcao_teste = odeint(funcao_reacao_parcial, z0_1, t1)\n",
    "L1, OD1 = funcao_teste.T\n",
    "\n",
    "# plt.plot(t1, L1, 'r', label = 'DBO')\n",
    "# plt.plot(t1, OD1, 'b', label = 'OD numérico')\n",
    "# plt.plot(tempo, OD_lista, 'purble', label = \"OD analitico\" ) \n",
    "# plt.plot(tempo, L_lista,'black', label='DBO analitico')\n",
    "\n",
    "fig1, ax1 = plt.subplots() \n",
    "ax1.tick_params(axis='both', labelsize=12) #increase font size for ticks\n",
    "plt.ylabel(r'Concentração (mol/m3)', fontsize=12) #y label\n",
    "plt.xlabel(r'Tempo (horas)', fontsize=12) #y label\n",
    "ax1.plot(tempo, OD_lista,'black', label='OD') \n",
    "ax1.plot(tempo, L_lista,'purple', label='DBO') \n",
    "ax1.plot(t1, L1, 'r', label = 'DBO numerico')\n",
    "ax1.plot(t1, OD1, 'b', label = 'OD numérico')\n",
    "ax1.legend()\n",
    "#plt.savefig('concentracoes.png', dpi = 300)\n",
    "plt.show()\n"
   ]
  },
  {
   "cell_type": "code",
   "execution_count": null,
   "metadata": {},
   "outputs": [],
   "source": []
  }
 ],
 "metadata": {
  "kernelspec": {
   "display_name": "Python 3.8.10 64-bit",
   "language": "python",
   "name": "python3"
  },
  "language_info": {
   "codemirror_mode": {
    "name": "ipython",
    "version": 3
   },
   "file_extension": ".py",
   "mimetype": "text/x-python",
   "name": "python",
   "nbconvert_exporter": "python",
   "pygments_lexer": "ipython3",
   "version": "3.8.10"
  },
  "orig_nbformat": 4,
  "vscode": {
   "interpreter": {
    "hash": "f544ce1a915a9875fad91c894e2c0bcad4b7a79945aa6027ef3ad27810072aa6"
   }
  }
 },
 "nbformat": 4,
 "nbformat_minor": 2
}
