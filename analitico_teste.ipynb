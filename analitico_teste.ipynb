{
 "cells": [
  {
   "cell_type": "code",
   "execution_count": 11,
   "metadata": {},
   "outputs": [],
   "source": [
    "from sympy import *\n",
    "import numpy as np\n",
    "import matplotlib.pyplot as plt\n",
    "import pandas as pd\n",
    "from scipy.integrate import odeint\n"
   ]
  },
  {
   "cell_type": "code",
   "execution_count": 12,
   "metadata": {},
   "outputs": [
    {
     "data": {
      "text/latex": [
       "$\\displaystyle \\frac{d}{d t} c{\\left(t \\right)} = - m c{\\left(t \\right)} + w$"
      ],
      "text/plain": [
       "Eq(Derivative(c(t), t), -m*c(t) + w)"
      ]
     },
     "metadata": {},
     "output_type": "display_data"
    },
    {
     "data": {
      "text/latex": [
       "$\\displaystyle c{\\left(t \\right)} = \\frac{\\left(c_{0} m + w e^{m t} - w\\right) e^{- m t}}{m}$"
      ],
      "text/plain": [
       "Eq(c(t), (c_0*m + w*exp(m*t) - w)*exp(-m*t)/m)"
      ]
     },
     "metadata": {},
     "output_type": "display_data"
    }
   ],
   "source": [
    "time, w, m, c_0 = symbols(\"t w m c_0\")\n",
    "c = symbols(\"c\", cls=Function)\n",
    "\n",
    "dcdt = Eq(c(time).diff(time), w - c(time) * m)\n",
    "c_eq = dsolve(dcdt, c(time), ics={c(0): c_0})\n",
    "c_eq = simplify(c_eq)\n",
    "\n",
    "display(dcdt, c_eq)\n"
   ]
  },
  {
   "cell_type": "markdown",
   "metadata": {},
   "source": [
    "### Solução analítica"
   ]
  },
  {
   "cell_type": "code",
   "execution_count": 13,
   "metadata": {},
   "outputs": [],
   "source": [
    "# solução analítica OD/DBO\n",
    "\n",
    "OD_0 = 5.8\n",
    "L_0 = 1.5\n",
    "\n",
    "OD_old = 5.8\n",
    "L_old = 1.5\n",
    "\n",
    "# Constantes da equação\n",
    "\n",
    "V = 25.6 * (10**6)  # m3\n",
    "H = 5.6  # m\n",
    "Os = 9.0  # mg/L\n",
    "v_s = 1  # m/d\n",
    "L_F4 = 1.5  # mg/L\n",
    "L_TD4 = 1.7  # mg/L\n",
    "L_TE10 = 1.3  # mg/L\n",
    "OD_F4 = 8  # mg/L\n",
    "OD_TD4 = 8  # mg/L\n",
    "OD_TE10 = 8  # mg/L\n",
    "kd = 1.5  # d-1\n",
    "ka = 0.3  # d-1\n",
    "k_sed = v_s / H\n",
    "k_ra = 0.05  # d-1\n",
    "k_n = 0.1  # d-1\n",
    "k_g = 0.15  # d-1\n",
    "r_ca = 50  # gC/mgChla\n",
    "r_oc = 2.67  # gO/gC\n",
    "r_on = 4.2  # gO/gN\n",
    "L_n = 0.157  # mg/L\n",
    "alpha = 0.0128  # mg/L\n",
    "L_part = 0.5  # adimensional\n",
    "SOD = 1  # gO2/m2\n",
    "pa = r_oc * r_ca * k_g * alpha  # mgOD/L\n",
    "\n",
    "# Balanço hidrico\n",
    "\n",
    "Q_F4 = 2.0 * 86400  # * 1000 #m3/d\n",
    "Q_TD4 = 0.3 * 86400  # * 1000#m3/d\n",
    "Q_TE10 = 0.15 * 86400  # * 1000#m3/d\n",
    "\n",
    "bal_hid = Q_F4 + Q_TD4 + Q_TE10\n",
    "\n",
    "# Cargas externas\n",
    "\n",
    "carga_L = L_F4 * Q_F4 + L_TD4 * Q_TD4 + L_TE10 * Q_TE10\n",
    "carga_OD = OD_F4 * Q_F4 + OD_TD4 * Q_TD4 + OD_TE10 * Q_TE10\n",
    "\n",
    "# Passo no tempo\n",
    "\n",
    "t = 0\n",
    "dt = 1\n",
    "tmax = 291\n",
    "tempo = np.arange(0, tmax, dt)\n",
    "\n",
    "# Equação OD - dDOdt = -kd*L + ka*(Os-OD) - r_on*k_n*L_n - r_ca*r_oc*k_ra*alpha - (SOD/H) + pa  - (OD/V)*bal_hid + carga_OD/V\n",
    "m_OD = ka + bal_hid / V\n",
    "w_OD = (\n",
    "    -kd * L_old\n",
    "    + ka * Os\n",
    "    - r_on * k_n * L_n\n",
    "    - r_ca * r_oc * k_ra * alpha\n",
    "    - (SOD / H)\n",
    "    + pa\n",
    "    + carga_OD / V\n",
    ")\n",
    "\n",
    "# Equação DBO - dLdt = - kd*L + r_ca*r_oc*k_ra*alpha - k_sed*(1-L_part)*L - (L/V)*bal_hid + carga_L/V\n",
    "m_L = kd + bal_hid / V + k_sed * (1 - L_part)\n",
    "w_L = r_ca * r_oc * k_ra * alpha + carga_L / V\n",
    "\n",
    "# Lista vazia com os resultados calculados\n",
    "\n",
    "OD_lista = []\n",
    "L_lista = []\n",
    "\n",
    "\n",
    "while t < tmax:\n",
    "\n",
    "    OD_new = ((OD_0 * m_OD + w_OD * np.exp(m_OD * t) - w_OD) * np.exp(-m_OD * t)) / m_OD\n",
    "    L_new = ((L_0 * m_L + w_L * np.exp(m_L * t) - w_L) * np.exp(-m_L * t)) / m_L\n",
    "\n",
    "    t = t + dt\n",
    "\n",
    "    OD_old = OD_new\n",
    "    L_old = L_new\n",
    "\n",
    "    w_OD = (\n",
    "        -kd * L_old\n",
    "        + ka * Os\n",
    "        - r_on * k_n * L_n\n",
    "        - r_ca * r_oc * k_ra * alpha\n",
    "        - (SOD / H)\n",
    "        + pa\n",
    "        + carga_OD / V\n",
    "    )\n",
    "\n",
    "    OD_lista.append(OD_new)\n",
    "    L_lista.append(L_new)\n"
   ]
  },
  {
   "cell_type": "code",
   "execution_count": 14,
   "metadata": {},
   "outputs": [
    {
     "data": {
      "image/png": "[encoded data removed]",
      "text/plain": [
       "<Figure size 432x288 with 1 Axes>"
      ]
     },
     "metadata": {
      "needs_background": "light"
     },
     "output_type": "display_data"
    }
   ],
   "source": [
    "fig, ax = plt.subplots() \n",
    "ax.tick_params(axis='both', labelsize=12) #increase font size for ticks\n",
    "plt.ylabel(r'Concentração (mol/m3)', fontsize=12) #y label\n",
    "plt.xlabel(r'Tempo (horas)', fontsize=12) #y label\n",
    "ax.plot(tempo, OD_lista, label='OD') \n",
    "ax.plot(tempo, L_lista, label='DBO') \n",
    "ax.legend()\n",
    "#plt.savefig('concentracoes.png', dpi = 300)\n",
    "plt.show()"
   ]
  },
  {
   "cell_type": "markdown",
   "metadata": {},
   "source": [
    "### Solução numérica"
   ]
  },
  {
   "cell_type": "code",
   "execution_count": 15,
   "metadata": {},
   "outputs": [],
   "source": [
    "# solução numérica OD/DBO\n",
    "\n",
    "\n",
    "def funcao_reacao_parcial(z, t):\n",
    "\n",
    "    L, OD = z  # Definir as variaveis\n",
    "\n",
    "    # Constantes da reação\n",
    "\n",
    "    V = 25.6 * (10**6)  # m3\n",
    "    H = 5.6  # m\n",
    "    Os = 9.0  # mg/L\n",
    "    v_s = 1  # m/d\n",
    "    L_F4 = 1.5  # mg/L\n",
    "    L_TD4 = 1.7  # mg/L\n",
    "    L_TE10 = 1.3  # mg/L\n",
    "    OD_F4 = 8  # mg/L\n",
    "    OD_TD4 = 8  # mg/L\n",
    "    OD_TE10 = 8  # mg/L\n",
    "    kd = 1.5  # d-1\n",
    "    ka = 0.3  # d-1\n",
    "    k_sed = v_s / H\n",
    "    k_ra = 0.05  # d-1\n",
    "    k_n = 0.1  # d-1\n",
    "    k_g = 0.15  # d-1\n",
    "    r_ca = 50  # gC/mgChla\n",
    "    r_oc = 2.67  # gO/gC\n",
    "    r_on = 4.2  # gO/gN\n",
    "    L_n = 0.157  # mg/L\n",
    "    alpha = 0.0128  # mg/L\n",
    "    L_part = 0.5  # adimensional\n",
    "    SOD = 1  # gO2/m2\n",
    "    pa = r_oc * r_ca * k_g * alpha  # mgOD/L\n",
    "\n",
    "    # Balanço hidrico\n",
    "\n",
    "    Q_F4 = 2.0 * 86400  # * 1000 #m3/d\n",
    "    Q_TD4 = 0.3 * 86400  # * 1000#m3/d\n",
    "    Q_TE10 = 0.15 * 86400  # * 1000#m3/d\n",
    "\n",
    "    bal_hid = Q_F4 + Q_TD4 + Q_TE10\n",
    "\n",
    "    # Cargas externas\n",
    "\n",
    "    carga_L = L_F4 * Q_F4 + L_TD4 * Q_TD4 + L_TE10 * Q_TE10\n",
    "    carga_OD = OD_F4 * Q_F4 + OD_TD4 * Q_TD4 + OD_TE10 * Q_TE10\n",
    "\n",
    "    # Definir as funções\n",
    "\n",
    "    dLdt = (\n",
    "        -kd * L\n",
    "        + r_ca * r_oc * k_ra * alpha\n",
    "        - k_sed * (1 - L_part) * L\n",
    "        - (L / V) * bal_hid\n",
    "        + carga_L / V\n",
    "    )\n",
    "\n",
    "    dODdt = (\n",
    "        -kd * L\n",
    "        + ka * (Os - OD)\n",
    "        - r_on * k_n * L_n\n",
    "        - r_ca * r_oc * k_ra * alpha\n",
    "        - (SOD / H)\n",
    "        + pa\n",
    "        - (OD / V) * bal_hid\n",
    "        + carga_OD / V\n",
    "    )\n",
    "\n",
    "    return dLdt, dODdt\n",
    "\n",
    "\n",
    "# Condições iniciais\n",
    "\n",
    "L0_1 = 1.5  # mg/L\n",
    "OD0_1 = 5.8  # mg/L\n",
    "z0_1 = L0_1, OD0_1\n",
    "\n",
    "# Passo no tempo\n",
    "t1 = np.linspace(0, 291, 291)\n"
   ]
  },
  {
   "cell_type": "code",
   "execution_count": 16,
   "metadata": {},
   "outputs": [
    {
     "data": {
      "image/png": "[encoded data removed]",
      "text/plain": [
       "<Figure size 432x288 with 1 Axes>"
      ]
     },
     "metadata": {
      "needs_background": "light"
     },
     "output_type": "display_data"
    }
   ],
   "source": [
    "# Integrar as equações com odeint\n",
    "\n",
    "funcao_teste = odeint(funcao_reacao_parcial, z0_1, t1)\n",
    "L1, OD1 = funcao_teste.T\n",
    "\n",
    "# plt.plot(t1, L1, 'r', label = 'DBO')\n",
    "# plt.plot(t1, OD1, 'b', label = 'OD numérico')\n",
    "# plt.plot(tempo, OD_lista, 'purble', label = \"OD analitico\" )\n",
    "# plt.plot(tempo, L_lista,'black', label='DBO analitico')\n",
    "\n",
    "fig1, ax1 = plt.subplots()\n",
    "ax1.tick_params(axis=\"both\", labelsize=12)  # increase font size for ticks\n",
    "plt.ylabel(r\"Concentração (mol/m3)\", fontsize=12)  # y label\n",
    "plt.xlabel(r\"Tempo (horas)\", fontsize=12)  # y label\n",
    "ax1.plot(tempo, OD_lista, \"black\", label=\"OD\")\n",
    "ax1.plot(t1, OD1, \"b\", label=\"OD numérico\")\n",
    "ax1.plot(tempo, L_lista, \"purple\", label=\"DBO\")\n",
    "ax1.plot(t1, L1, \"r\", label=\"DBO numerico\")\n",
    "ax1.legend()\n",
    "# plt.savefig('concentracoes.png', dpi = 300)\n",
    "plt.show()\n"
   ]
  },
  {
   "cell_type": "code",
   "execution_count": 17,
   "metadata": {},
   "outputs": [],
   "source": [
    "# solução analítica OD/DBO\n",
    "\n",
    "OD_0 = 5.8\n",
    "L_0 = 1.5\n",
    "\n",
    "OD_old = 5.8\n",
    "L_old = 1.5\n",
    "\n",
    "# Constantes da equação\n",
    "\n",
    "V = 25.6 * (10**6)  # m3\n",
    "H = 5.6  # m\n",
    "Os = 9.0  # mg/L\n",
    "v_s = 1  # m/d\n",
    "L_F4 = 1.5  # mg/L\n",
    "L_TD4 = 1.7  # mg/L\n",
    "L_TE10 = 1.3  # mg/L\n",
    "OD_F4 = 8  # mg/L\n",
    "OD_TD4 = 8  # mg/L\n",
    "OD_TE10 = 8  # mg/L\n",
    "kd = 1.5  # d-1\n",
    "ka = 0.3  # d-1\n",
    "k_sed = v_s / H\n",
    "k_ra = 0.05  # d-1\n",
    "k_n = 0.1  # d-1\n",
    "k_g = 0.15  # d-1\n",
    "r_ca = 50  # gC/mgChla\n",
    "r_oc = 2.67  # gO/gC\n",
    "r_on = 4.2  # gO/gN\n",
    "L_n = 0.157  # mg/L\n",
    "alpha = 0.0128  # mg/L\n",
    "L_part = 0.5  # adimensional\n",
    "SOD = 1  # gO2/m2\n",
    "pa = r_oc * r_ca * k_g * alpha  # mgOD/L\n",
    "\n",
    "# Balanço hidrico\n",
    "\n",
    "Q_F4 = 2.0 * 86400  # * 1000 #m3/d\n",
    "Q_TD4 = 0.3 * 86400  # * 1000#m3/d\n",
    "Q_TE10 = 0.15 * 86400  # * 1000#m3/d\n",
    "\n",
    "bal_hid = Q_F4 + Q_TD4 + Q_TE10\n",
    "\n",
    "# Cargas externas\n",
    "\n",
    "carga_L = L_F4 * Q_F4 + L_TD4 * Q_TD4 + L_TE10 * Q_TE10\n",
    "carga_OD = OD_F4 * Q_F4 + OD_TD4 * Q_TD4 + OD_TE10 * Q_TE10\n",
    "\n",
    "# Passo no tempo\n",
    "\n",
    "t = 0\n",
    "dt = 1\n",
    "tmax = 291\n",
    "tempo = np.arange(0, tmax, dt)\n",
    "\n",
    "# Equação OD - dDOdt = -kd*L + ka*(Os-OD) - r_on*k_n*L_n - r_ca*r_oc*k_ra*alpha - (SOD/H) + pa  - (OD/V)*bal_hid + carga_OD/V\n",
    "m_OD = ka + bal_hid / V\n",
    "w_OD = (\n",
    "    -kd * L_old\n",
    "    + ka * Os\n",
    "    - r_on * k_n * L_n\n",
    "    - r_ca * r_oc * k_ra * alpha\n",
    "    - (SOD / H)\n",
    "    + pa\n",
    "    + carga_OD / V\n",
    ")\n",
    "\n",
    "# Equação DBO - dLdt = - kd*L + r_ca*r_oc*k_ra*alpha - k_sed*(1-L_part)*L - (L/V)*bal_hid + carga_L/V\n",
    "m_L = kd + bal_hid / V + k_sed * (1 - L_part)\n",
    "w_L = r_ca * r_oc * k_ra * alpha + carga_L / V\n",
    "\n",
    "# Lista vazia com os resultados calculados\n",
    "\n",
    "OD_lista = []\n",
    "L_lista = []\n",
    "\n",
    "\n",
    "while t < tmax:\n",
    "\n",
    "    OD_new = ((OD_0 * m_OD + w_OD * np.exp(m_OD * t) - w_OD) * np.exp(-m_OD * t)) / m_OD\n",
    "    L_new = ((L_0 * m_L + w_L * np.exp(m_L * t) - w_L) * np.exp(-m_L * t)) / m_L\n",
    "\n",
    "    t = t + dt\n",
    "\n",
    "    OD_old = OD_new\n",
    "    L_old = L_new\n",
    "\n",
    "    w_OD = (\n",
    "        -kd * L_old\n",
    "        + ka * Os\n",
    "        - r_on * k_n * L_n\n",
    "        - r_ca * r_oc * k_ra * alpha\n",
    "        - (SOD / H)\n",
    "        + pa\n",
    "        + carga_OD / V\n",
    "    )\n",
    "\n",
    "    OD_lista.append(OD_new)\n",
    "    L_lista.append(L_new)\n"
   ]
  },
  {
   "cell_type": "code",
   "execution_count": 18,
   "metadata": {},
   "outputs": [
    {
     "data": {
      "image/png": "[encoded data removed]",
      "text/plain": [
       "<Figure size 720x480 with 1 Axes>"
      ]
     },
     "metadata": {
      "needs_background": "light"
     },
     "output_type": "display_data"
    }
   ],
   "source": [
    "plt.figure(1, dpi=120)\n",
    "plt.plot(tempo, OD_lista, label=\"Analítico\")\n",
    "plt.plot(tempo, OD1, label=\"Numérico\")\n",
    "plt.legend()\n",
    "plt.show()\n",
    "\n",
    "\n"
   ]
  },
  {
   "cell_type": "code",
   "execution_count": 19,
   "metadata": {},
   "outputs": [],
   "source": [
    "# from sklearn.metrics import r2_score\n",
    "\n",
    "# r2_score(OD_lista, OD1)\n",
    "# r2_score(L_lista, L1)"
   ]
  },
  {
   "cell_type": "code",
   "execution_count": 20,
   "metadata": {},
   "outputs": [],
   "source": [
    "P_org_0 = 0.021\n",
    "P_in_0 = 0.0039\n",
    "\n",
    "P_org_old = 0.021\n",
    "P_in_old = 0.0039\n",
    "\n",
    "# Constantes da eq\n",
    "\n",
    "\n",
    "V = 25.6 * (10**6)  # m3\n",
    "H = 5.6  # m\n",
    "Os = 9.0  # mg/L\n",
    "v_s = 1  # m/d\n",
    "k_mineral = 0.1 #d-1 \n",
    "k_ra = 0.05 #d-1\n",
    "k_sed = v_s/H\n",
    "k_ea = 0.17 #d-1 [0.003 a 0.17]\n",
    "\n",
    "\n",
    "P_org_F4 = 0.02 #mg/L\n",
    "P_org_TD4 = 0.015 #mg/L\n",
    "P_org_TE10 = 0.02 #mg/L\n",
    "P_in_F4 = 0.01 #mg/L\n",
    "P_in_TD4 = 0.015 #mg/L\n",
    "P_in_TE10 = 0.01 #mg/L\n",
    "\n",
    "r_pa = 0.5 # gP/gChla [0.5 a 1]\n",
    "f_op = 0.1 #adimensional [0.1 a 0.9]\n",
    "\n",
    "\n",
    "Q_F4 = 2.0  * 86400 #* 1000 #m3/d\n",
    "Q_TD4 = 0.3 * 86400 #* 1000#m3/d\n",
    "Q_TE10 = 0.15  * 86400# * 1000#m3/d\n",
    "\n",
    "bal_hid = Q_F4 + Q_TD4 + Q_TE10 \n",
    "\n",
    "carga_P_org = P_org_F4*Q_F4 + P_org_TD4*Q_TD4 + P_org_TE10*Q_TE10\n",
    "carga_P_in = P_in_F4*Q_F4 + P_in_TD4*Q_TD4 + P_in_TE10*Q_TE10\n",
    "\n",
    "# Passo no tempo\n",
    "\n",
    "t = 0\n",
    "dt = 1\n",
    "tmax = 291\n",
    "tempo = np.arange(0, tmax, dt)\n",
    "\n",
    "# Equação P_org - dP_orgdt = -k_mineral_var*P_org + r_pa*k_ra_var*f_op*alpha + r_pa*k_ea*f_op*alpha + carga_P_org_var/V - (P_org/V)*bal_hid_var\n",
    "\n",
    "m_P_org = k_mineral + bal_hid/V\n",
    "w_P_org = r_pa*k_ra*f_op*alpha + r_pa*k_ea*f_op*alpha + carga_P_org/V\n",
    "\n",
    "# Equação P_in - dP_indt = k_mineral_var*P_org - k_sed*P_in +r_pa*k_ra_var*(1-f_op)*alpha + r_pa*k_ea*(1-f_op)*alpha + carga_P_in_var/V - (P_in/V)*bal_hid_var\n",
    "\n",
    "m_P_in = k_sed + bal_hid/V\n",
    "w_P_in = k_mineral*P_org_old + r_pa*k_ra*(1-f_op)*alpha + r_pa*k_ea*(1-f_op)*alpha + carga_P_in/V\n",
    "\n",
    "# Lista vazia\n",
    "\n",
    "P_org_lista = []\n",
    "P_in_lista = []\n",
    "\n",
    "\n",
    "while t < tmax:\n",
    "\n",
    "    P_org_new = ((P_org_0 * m_P_org + w_P_org * np.exp(m_P_org * t) - w_P_org) * np.exp(-m_P_org * t)) / m_P_org\n",
    "    P_in_new = ((P_in_0 * m_P_in + w_P_in * np.exp(m_P_in * t) - w_P_in) * np.exp(-m_P_in * t)) / m_P_in\n",
    "\n",
    "    t = t + dt\n",
    "\n",
    "    P_org_old = P_org_new\n",
    "    P_in_old = P_in_new\n",
    "\n",
    "    w_P_in = (k_mineral*P_org_old + r_pa*k_ra*(1-f_op)*alpha + r_pa*k_ea*(1-f_op)*alpha + carga_P_in/V)\n",
    "    \n",
    "    P_org_lista.append(P_org_new)\n",
    "    P_in_lista.append(P_in_new)\n",
    "\n",
    "\n"
   ]
  },
  {
   "cell_type": "code",
   "execution_count": 21,
   "metadata": {},
   "outputs": [
    {
     "data": {
      "text/plain": [
       "[<matplotlib.lines.Line2D at 0x2010fc43e80>]"
      ]
     },
     "execution_count": 21,
     "metadata": {},
     "output_type": "execute_result"
    },
    {
     "data": {
      "image/png": "[encoded data removed]",
      "text/plain": [
       "<Figure size 432x288 with 1 Axes>"
      ]
     },
     "metadata": {
      "needs_background": "light"
     },
     "output_type": "display_data"
    }
   ],
   "source": [
    "plt.plot(tempo, P_org_lista, label = 'P_org')\n",
    "plt.plot(tempo, P_in_lista, label = 'P_in')"
   ]
  },
  {
   "cell_type": "code",
   "execution_count": 27,
   "metadata": {},
   "outputs": [
    {
     "data": {
      "text/plain": [
       "[<matplotlib.lines.Line2D at 0x20110c5a4f0>]"
      ]
     },
     "execution_count": 27,
     "metadata": {},
     "output_type": "execute_result"
    },
    {
     "data": {
      "image/png": "[encoded data removed]",
      "text/plain": [
       "<Figure size 432x288 with 1 Axes>"
      ]
     },
     "metadata": {
      "needs_background": "light"
     },
     "output_type": "display_data"
    }
   ],
   "source": [
    "def funcao_fosforo(z, t):\n",
    "    \n",
    "    \n",
    "    P_org = z[0]\n",
    "    P_in = z[1]\n",
    "    \n",
    "    # Constantes da eq\n",
    "\n",
    "\n",
    "    V = 25.6 * (10**6)  # m3\n",
    "    H = 5.6  # m\n",
    "    Os = 9.0  # mg/L\n",
    "    v_s = 1  # m/d\n",
    "    k_mineral = 0.1 #d-1 \n",
    "    k_ra = 0.05 #d-1\n",
    "    k_sed = v_s/H\n",
    "    k_ea = 0.17 #d-1 [0.003 a 0.17]\n",
    "\n",
    "\n",
    "    P_org_F4 = 0.02 #mg/L\n",
    "    P_org_TD4 = 0.015 #mg/L\n",
    "    P_org_TE10 = 0.02 #mg/L\n",
    "    P_in_F4 = 0.01 #mg/L\n",
    "    P_in_TD4 = 0.015 #mg/L\n",
    "    P_in_TE10 = 0.01 #mg/L\n",
    "\n",
    "    r_pa = 0.5 # gP/gChla [0.5 a 1]\n",
    "    f_op = 0.1 #adimensional [0.1 a 0.9]\n",
    "\n",
    "\n",
    "    Q_F4 = 2.0  * 86400 #* 1000 #m3/d\n",
    "    Q_TD4 = 0.3 * 86400 #* 1000#m3/d\n",
    "    Q_TE10 = 0.15  * 86400# * 1000#m3/d\n",
    "\n",
    "    bal_hid = Q_F4 + Q_TD4 + Q_TE10 \n",
    "\n",
    "    carga_P_org = P_org_F4*Q_F4 + P_org_TD4*Q_TD4 + P_org_TE10*Q_TE10\n",
    "    carga_P_in = P_in_F4*Q_F4 + P_in_TD4*Q_TD4 + P_in_TE10*Q_TE10\n",
    "    \n",
    "    dP_orgdt = -k_mineral*P_org + r_pa*k_ra*f_op*alpha + r_pa*k_ea*f_op*alpha + carga_P_org/V - (P_org/V)*bal_hid\n",
    "\n",
    "    dP_indt = k_mineral*P_org - k_sed*P_in +r_pa*k_ra*(1-f_op)*alpha + r_pa*k_ea*(1-f_op)*alpha + carga_P_in/V - (P_in/V)*bal_hid \n",
    "    \n",
    "    return dP_orgdt, dP_indt\n",
    "\n",
    "# Passo no tempo\n",
    "\n",
    "n = 291\n",
    "t = np.linspace(0,291,n)\n",
    "\n",
    "\n",
    "z0_1 = [0.021, 0.0039]\n",
    "\n",
    "funcao_teste = odeint(funcao_fosforo, z0_1, t)\n",
    "P_org = funcao_teste[:, 0]\n",
    "P_in = funcao_teste[:, 1]\n",
    "\n",
    "\n",
    "plt.plot (t, P_org, label = ' p_org')\n",
    "plt.plot (t, P_in, label = ' p_in')\n"
   ]
  },
  {
   "cell_type": "code",
   "execution_count": 28,
   "metadata": {},
   "outputs": [
    {
     "data": {
      "text/plain": [
       "[<matplotlib.lines.Line2D at 0x20110caeac0>]"
      ]
     },
     "execution_count": 28,
     "metadata": {},
     "output_type": "execute_result"
    },
    {
     "data": {
      "image/png": "[encoded data removed]",
      "text/plain": [
       "<Figure size 900x600 with 1 Axes>"
      ]
     },
     "metadata": {
      "needs_background": "light"
     },
     "output_type": "display_data"
    }
   ],
   "source": [
    "plt.figure(dpi = 150)\n",
    "#plt.plot(tempo, P_org_lista, label = 'P_org_anal')\n",
    "plt.plot(tempo, P_in_lista, label = 'P_in_anal')\n",
    "# plt.plot (t, P_org, label = ' P_org')\n",
    "plt.plot (t, P_in, label = ' P_in')"
   ]
  },
  {
   "cell_type": "code",
   "execution_count": 25,
   "metadata": {},
   "outputs": [
    {
     "data": {
      "text/plain": [
       "0.7699466833577201"
      ]
     },
     "execution_count": 25,
     "metadata": {},
     "output_type": "execute_result"
    }
   ],
   "source": [
    "from sklearn.metrics import r2_score\n",
    "\n",
    "r2_score(OD_lista, OD1)\n",
    "r2_score(L_lista, L1)\n",
    "r2_score(P_org_lista, P_org)\n",
    "r2_score(P_in_lista, P_in)"
   ]
  },
  {
   "cell_type": "code",
   "execution_count": null,
   "metadata": {},
   "outputs": [],
   "source": []
  }
 ],
 "metadata": {
  "kernelspec": {
   "display_name": "Python 3.9.10 64-bit",
   "language": "python",
   "name": "python3"
  },
  "language_info": {
   "codemirror_mode": {
    "name": "ipython",
    "version": 3
   },
   "file_extension": ".py",
   "mimetype": "text/x-python",
   "name": "python",
   "nbconvert_exporter": "python",
   "pygments_lexer": "ipython3",
   "version": "3.9.10"
  },
  "orig_nbformat": 4,
  "vscode": {
   "interpreter": {
    "hash": "e6188657b764ebd2e2049ca165f00f1f1826e7e744e1718aa90a1b75ebf0a7c8"
   }
  }
 },
 "nbformat": 4,
 "nbformat_minor": 2
}
