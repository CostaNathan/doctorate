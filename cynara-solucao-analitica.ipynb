{
 "cells": [
  {
   "cell_type": "code",
   "execution_count": 3,
   "id": "9ebe2025",
   "metadata": {},
   "outputs": [],
   "source": [
    "from __future__ import division\n",
    "from sympy import *\n",
    "x, y, z, t = symbols('x y z t')\n",
    "k, m, n = symbols('k m n', integer=True)\n",
    "f, g, h = symbols('f g h', cls=Function)"
   ]
  },
  {
   "cell_type": "code",
   "execution_count": 4,
   "id": "e93f450d",
   "metadata": {},
   "outputs": [
    {
     "data": {
      "text/latex": [
       "$\\displaystyle \\frac{d}{d t} f{\\left(t \\right)} = - 2 t f{\\left(t \\right)}$"
      ],
      "text/plain": [
       "Eq(Derivative(f(t), t), -2*t*f(t))"
      ]
     },
     "metadata": {},
     "output_type": "display_data"
    },
    {
     "data": {
      "text/latex": [
       "$\\displaystyle f{\\left(t \\right)} = e^{- t^{2}}$"
      ],
      "text/plain": [
       "Eq(f(t), exp(-t**2))"
      ]
     },
     "metadata": {},
     "output_type": "display_data"
    }
   ],
   "source": [
    "eq = Eq(f(t).diff(t), -2 * t * f(t))\n",
    "display(eq)\n",
    "\n",
    "eq_sol = dsolve(eq, ics={f(0): 1})\n",
    "display(eq_sol)"
   ]
  },
  {
   "cell_type": "code",
   "execution_count": 5,
   "id": "66556176",
   "metadata": {},
   "outputs": [
    {
     "data": {
      "text/plain": [
       "array([1.00000000e+00, 3.67879441e-01, 1.83156389e-02, 1.23409804e-04,\n",
       "       1.12535175e-07, 1.38879439e-11, 2.31952283e-16, 5.24288566e-22,\n",
       "       1.60381089e-28, 6.63967720e-36, 3.72007598e-44])"
      ]
     },
     "execution_count": 5,
     "metadata": {},
     "output_type": "execute_result"
    }
   ],
   "source": [
    "import numpy as np\n",
    "\n",
    "n = np.arange(0, 11, 1)\n",
    "# n = np.linspace(0, 100, 1000)\n",
    "\n",
    "eq_array = np.zeros(len(n))\n",
    "\n",
    "for i in range(len(n)):\n",
    "#     eq_array[i] = solve(eq_sol, f(t))[0].subs({t: i})\n",
    "    eq_array[i] = eq_sol.rhs.subs({t: i})\n",
    "\n",
    "eq_array"
   ]
  },
  {
   "cell_type": "code",
   "execution_count": 6,
   "id": "0e3b8a5a",
   "metadata": {},
   "outputs": [
    {
     "data": {
      "image/png": "[encoded data removed]",
      "text/plain": [
       "<Figure size 432x288 with 1 Axes>"
      ]
     },
     "metadata": {
      "needs_background": "light"
     },
     "output_type": "display_data"
    }
   ],
   "source": [
    "import matplotlib.pyplot as plt\n",
    "\n",
    "plt.plot(n, eq_array)\n",
    "plt.show()"
   ]
  },
  {
   "cell_type": "markdown",
   "id": "47c29abb",
   "metadata": {},
   "source": [
    "# Equação diferencial e solução analítica"
   ]
  },
  {
   "cell_type": "code",
   "execution_count": 7,
   "id": "d6f3840c",
   "metadata": {},
   "outputs": [
    {
     "data": {
      "text/plain": [
       "'Equação diferencial:'"
      ]
     },
     "metadata": {},
     "output_type": "display_data"
    },
    {
     "data": {
      "text/latex": [
       "$\\displaystyle \\frac{d}{d t} y{\\left(t \\right)} = - k y{\\left(t \\right)}$"
      ],
      "text/plain": [
       "Eq(Derivative(y(t), t), -k*y(t))"
      ]
     },
     "metadata": {},
     "output_type": "display_data"
    },
    {
     "data": {
      "text/plain": [
       "'Solução analítica:'"
      ]
     },
     "metadata": {},
     "output_type": "display_data"
    },
    {
     "data": {
      "text/latex": [
       "$\\displaystyle y{\\left(t \\right)} = y_{0} e^{- k t}$"
      ],
      "text/plain": [
       "Eq(y(t), y_0*exp(-k*t))"
      ]
     },
     "metadata": {},
     "output_type": "display_data"
    }
   ],
   "source": [
    "k, t, y0 = symbols('k t y_0')\n",
    "y = symbols('y', cls=Function)\n",
    "\n",
    "eq_ex = Eq(y(t).diff(t), - k * y(t))\n",
    "display('Equação diferencial:', eq_ex)\n",
    "\n",
    "eq_ex_sol = dsolve(eq_ex, ics={y(0): y0})\n",
    "display('Solução analítica:', eq_ex_sol)"
   ]
  },
  {
   "cell_type": "code",
   "execution_count": 12,
   "id": "0bf4ef4e",
   "metadata": {},
   "outputs": [
    {
     "data": {
      "text/latex": [
       "$\\displaystyle 5 e^{- 0.3 t}$"
      ],
      "text/plain": [
       "5*exp(-0.3*t)"
      ]
     },
     "metadata": {},
     "output_type": "display_data"
    },
    {
     "data": {
      "image/png": "[encoded data removed]",
      "text/plain": [
       "<Figure size 432x288 with 1 Axes>"
      ]
     },
     "metadata": {
      "needs_background": "light"
     },
     "output_type": "display_data"
    }
   ],
   "source": [
    "eq_ex_sol_constants = eq_ex_sol.rhs.subs({y0: 5, k: 0.3})\n",
    "display(eq_ex_sol_constants)\n",
    "\n",
    "func = lambdify(t, eq_ex_sol_constants, 'numpy')\n",
    "xvals = np.arange(0, 10, .1)\n",
    "# xvals = np.linspace(0, 20)\n",
    "yvals = func(xvals)\n",
    "\n",
    "# make figure\n",
    "fig, ax = plt.subplots(1,1,subplot_kw=dict(aspect='equal'))     \n",
    "ax.plot(xvals, yvals)\n",
    "ax.set_xlabel('t')\n",
    "ax.set_ylabel('y(t)')\n",
    "plt.show()"
   ]
  }
 ],
 "metadata": {
  "kernelspec": {
   "display_name": "Python 3 (ipykernel)",
   "language": "python",
   "name": "python3"
  },
  "language_info": {
   "codemirror_mode": {
    "name": "ipython",
    "version": 3
   },
   "file_extension": ".py",
   "mimetype": "text/x-python",
   "name": "python",
   "nbconvert_exporter": "python",
   "pygments_lexer": "ipython3",
   "version": "3.9.1"
  },
  "latex_envs": {
   "LaTeX_envs_menu_present": true,
   "autoclose": true,
   "autocomplete": true,
   "bibliofile": "biblio.bib",
   "cite_by": "apalike",
   "current_citInitial": 1,
   "eqLabelWithNumbers": true,
   "eqNumInitial": 1,
   "hotkeys": {
    "equation": "Ctrl-E",
    "itemize": "Ctrl-I"
   },
   "labels_anchors": false,
   "latex_user_defs": false,
   "report_style_numbering": false,
   "user_envs_cfg": false
  },
  "toc": {
   "base_numbering": 1,
   "nav_menu": {},
   "number_sections": true,
   "sideBar": true,
   "skip_h1_title": false,
   "title_cell": "Table of Contents",
   "title_sidebar": "Contents",
   "toc_cell": false,
   "toc_position": {},
   "toc_section_display": true,
   "toc_window_display": false
  },
  "varInspector": {
   "cols": {
    "lenName": 16,
    "lenType": 16,
    "lenVar": 40
   },
   "kernels_config": {
    "python": {
     "delete_cmd_postfix": "",
     "delete_cmd_prefix": "del ",
     "library": "var_list.py",
     "varRefreshCmd": "print(var_dic_list())"
    },
    "r": {
     "delete_cmd_postfix": ") ",
     "delete_cmd_prefix": "rm(",
     "library": "var_list.r",
     "varRefreshCmd": "cat(var_dic_list()) "
    }
   },
   "types_to_exclude": [
    "module",
    "function",
    "builtin_function_or_method",
    "instance",
    "_Feature"
   ],
   "window_display": false
  }
 },
 "nbformat": 4,
 "nbformat_minor": 5
}
