{
  "nbformat": 4,
  "nbformat_minor": 0,
  "metadata": {
    "colab": {
      "provenance": [],
      "authorship_tag": "ABX9TyPwUUFrNgwST7bLg9yZYmJs",
      "include_colab_link": true
    },
    "kernelspec": {
      "name": "python3",
      "display_name": "Python 3"
    },
    "language_info": {
      "name": "python"
    }
  },
  "cells": [
    {
      "cell_type": "markdown",
      "metadata": {
        "id": "view-in-github",
        "colab_type": "text"
      },
      "source": [
        "<a href=\"https://colab.research.google.com/github/CostaNathan/doctorate/blob/Introdu%C3%A7%C3%A3o_Python/Aula_1_pt2.ipynb\" target=\"_parent\"><img src=\"https://colab.research.google.com/assets/colab-badge.svg\" alt=\"Open In Colab\"/></a>"
      ]
    },
    {
      "cell_type": "markdown",
      "source": [
        "### Operações matemáticas utilizando np e lista\n",
        "\n"
      ],
      "metadata": {
        "id": "GWe7KpMcvhNX"
      }
    },
    {
      "cell_type": "code",
      "source": [
        "import numpy as np\n"
      ],
      "metadata": {
        "id": "OMhV8A0ovzh9"
      },
      "execution_count": 2,
      "outputs": []
    },
    {
      "cell_type": "code",
      "execution_count": 3,
      "metadata": {
        "id": "cbvD6Hclvdhg"
      },
      "outputs": [],
      "source": [
        "a = [1, 2, 3]\n",
        "b = np.array([1, 2, 3])"
      ]
    },
    {
      "cell_type": "code",
      "source": [
        "c = a + a # lista + lista = concatenação de listas\n",
        "c"
      ],
      "metadata": {
        "colab": {
          "base_uri": "https://localhost:8080/"
        },
        "id": "_Tn9qmLzvyXQ",
        "outputId": "50ad9444-47bf-483d-8247-34410fa02e88"
      },
      "execution_count": 4,
      "outputs": [
        {
          "output_type": "execute_result",
          "data": {
            "text/plain": [
              "[1, 2, 3, 1, 2, 3]"
            ]
          },
          "metadata": {},
          "execution_count": 4
        }
      ]
    },
    {
      "cell_type": "code",
      "source": [
        "d = b + b # array + array = soma os termos de cada posição\n",
        "d"
      ],
      "metadata": {
        "colab": {
          "base_uri": "https://localhost:8080/"
        },
        "id": "e0m1qVrPv9QG",
        "outputId": "d869fffe-bb71-4961-aacd-e2d82c0bfd5f"
      },
      "execution_count": 5,
      "outputs": [
        {
          "output_type": "execute_result",
          "data": {
            "text/plain": [
              "array([2, 4, 6])"
            ]
          },
          "metadata": {},
          "execution_count": 5
        }
      ]
    },
    {
      "cell_type": "code",
      "source": [
        "b = np.arange(0, 10, 2)\n",
        "print(b) # printa um array\n",
        "print(len(b))"
      ],
      "metadata": {
        "colab": {
          "base_uri": "https://localhost:8080/"
        },
        "id": "mJzKrEydwHSw",
        "outputId": "8817d7b1-134e-45dd-8994-5e892972d407"
      },
      "execution_count": 16,
      "outputs": [
        {
          "output_type": "stream",
          "name": "stdout",
          "text": [
            "[0 2 4 6 8]\n",
            "5\n"
          ]
        }
      ]
    },
    {
      "cell_type": "code",
      "source": [
        "for x, y in zip(a, a):\n",
        "  aa = [x + y]\n",
        "  print(aa)\n",
        "\n",
        "aa = [x + y for x,y in zip (a,a)]\n",
        "print(aa)"
      ],
      "metadata": {
        "colab": {
          "base_uri": "https://localhost:8080/"
        },
        "id": "do31cyd6w6Mw",
        "outputId": "045c9625-f015-4245-b81f-85088d355d92"
      },
      "execution_count": 20,
      "outputs": [
        {
          "output_type": "stream",
          "name": "stdout",
          "text": [
            "[2]\n",
            "[4]\n",
            "[6]\n",
            "[2, 4, 6]\n"
          ]
        }
      ]
    },
    {
      "cell_type": "code",
      "source": [
        "timeit [x + y for x,y in zip (a,a)]\n",
        " "
      ],
      "metadata": {
        "colab": {
          "base_uri": "https://localhost:8080/",
          "height": 131
        },
        "id": "3y1yD9hWzbVM",
        "outputId": "bed10d79-4041-40f9-b253-fc30de23a875"
      },
      "execution_count": 27,
      "outputs": [
        {
          "output_type": "error",
          "ename": "SyntaxError",
          "evalue": "ignored",
          "traceback": [
            "\u001b[0;36m  File \u001b[0;32m\"<ipython-input-27-cc79e9967064>\"\u001b[0;36m, line \u001b[0;32m1\u001b[0m\n\u001b[0;31m    timeit [x + y for x,y in zip (a,a)]\u001b[0m\n\u001b[0m                    ^\u001b[0m\n\u001b[0;31mSyntaxError\u001b[0m\u001b[0;31m:\u001b[0m invalid syntax\n"
          ]
        }
      ]
    },
    {
      "cell_type": "markdown",
      "source": [
        "### Criando função em python\n",
        "\n",
        "\n",
        "1.   Um nome\n",
        "2.   Parâmetros (argumentos)\n",
        "3.   Instruções\n",
        "4.   Retorno\n",
        "\n",
        "\n"
      ],
      "metadata": {
        "id": "0dyDug-U06wV"
      }
    },
    {
      "cell_type": "code",
      "source": [
        "def whatsup(x):\n",
        "  '''Função que printa uma str e um argumento'''\n",
        "\n",
        "  print('Whats up', x) # Fazer a ação diretamente\n",
        "\n",
        "def whatsup_2 (x):\n",
        "  \n",
        "  ''' Função que concatena duas str'''\n",
        "\n",
        "  return 'Whats up ' + x # Concatenar str"
      ],
      "metadata": {
        "id": "tUI6FS0jy7tT"
      },
      "execution_count": 40,
      "outputs": []
    },
    {
      "cell_type": "code",
      "source": [
        "whatsup('Victoria')\n",
        "whatsup_2('Victoria')"
      ],
      "metadata": {
        "colab": {
          "base_uri": "https://localhost:8080/",
          "height": 53
        },
        "id": "-Nel5UNF1c7e",
        "outputId": "bbc9bb93-e878-4edc-b4c8-aee41f453b47"
      },
      "execution_count": 41,
      "outputs": [
        {
          "output_type": "stream",
          "name": "stdout",
          "text": [
            "Whats up Victoria\n"
          ]
        },
        {
          "output_type": "execute_result",
          "data": {
            "text/plain": [
              "'Whats up Victoria'"
            ],
            "application/vnd.google.colaboratory.intrinsic+json": {
              "type": "string"
            }
          },
          "metadata": {},
          "execution_count": 41
        }
      ]
    },
    {
      "cell_type": "code",
      "source": [
        "# whatsup?\n",
        "whatsup_2?"
      ],
      "metadata": {
        "id": "ujaphKmc1lum"
      },
      "execution_count": 39,
      "outputs": []
    },
    {
      "cell_type": "code",
      "source": [],
      "metadata": {
        "id": "qMVuIdGA2hjL"
      },
      "execution_count": null,
      "outputs": []
    }
  ]
}