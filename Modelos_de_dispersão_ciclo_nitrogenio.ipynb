{
  "nbformat": 4,
  "nbformat_minor": 0,
  "metadata": {
    "colab": {
      "name": "Modelos_de_dispersão_ciclo_nitrogenio.ipynb",
      "provenance": [],
      "authorship_tag": "ABX9TyMbQPJ20CLiVEqACJaZpx/8",
      "include_colab_link": true
    },
    "kernelspec": {
      "name": "python3",
      "display_name": "Python 3"
    },
    "language_info": {
      "name": "python"
    }
  },
  "cells": [
    {
      "cell_type": "markdown",
      "metadata": {
        "id": "view-in-github",
        "colab_type": "text"
      },
      "source": [
        "<a href=\"https://colab.research.google.com/github/CostaNathan/doctorate/blob/Modelos-de-dispers%C3%A3o-e-qualidade-da-%C3%A1gua/Modelos_de_dispers%C3%A3o_ciclo_nitrogenio.ipynb\" target=\"_parent\"><img src=\"https://colab.research.google.com/assets/colab-badge.svg\" alt=\"Open In Colab\"/></a>"
      ]
    },
    {
      "cell_type": "markdown",
      "source": [
        "## Ciclo do nitrogênio \n",
        "Sendo assim, o processo de nitrificação pode ser modelado conforme uma série de reações de primeira ordem:\n",
        "\n",
        "\\begin{equation}\n",
        "\\frac{dN_{o}}{dt} = -k_{oa}N_{o}\n",
        "\\end{equation}\n",
        "\n",
        "\\begin{equation}\n",
        "\\frac{dN_{a}}{dt} = k_{oa}N_{o} - k_{ai}N_{a}\n",
        "\\end{equation}\n",
        "\n",
        "\\begin{equation}\n",
        "\\frac{dN_{i}}{dt} = k_{ai}N_{a} - k_{in}N_{i}\n",
        "\\end{equation}\n",
        "\n",
        "\\begin{equation}\n",
        "\\frac{dN_{n}}{dt} = k_{in}N_{i}\n",
        "\\end{equation}\n",
        "\n",
        "Onde os subscritos o, a, i e n denotam organico, ammonia, nitrito e nitrato respectivamente. Essas variáveis utilizidas durante o processo de nitrificação podem variar por conta da temperatura, e a concentração de outros componentes como o OD. Sendo assim, elas podem ser descritas como:\n",
        "\n",
        "\\begin{equation}\n",
        "\n",
        "### Definir as variaveis $k_{o,a,i,n}$\n",
        "### Definir as outras variáveis que contribuem para a formação de nitrogênio orgânico, amônia e nitrato\n",
        "\n",
        "O deficit de oxigênio pode ser escrito como:\n",
        "\n",
        "\\begin{equation}\n",
        "\\frac{dD}{dt} = r_{oa}k_{ai}N_{a}+r_{oi}k_{in}N_{i}-k_{a}D\n",
        "\\end{equation}\n",
        "\n",
        "\n",
        "As soluções analíticas para o sistema estão descritas no Chapra,1997 pg 426\n"
      ],
      "metadata": {
        "id": "6p-ZT7jydC8J"
      }
    },
    {
      "cell_type": "markdown",
      "source": [
        "Typically modelers simulate nitrification by first order kinetics,\n",
        "either the single stage or two stage approach.\n",
        "Most nitrification rate data\n",
        "have been collected in streams and rivers, where the rates can be quite\n",
        "variable due to bottom effects.\n",
        "\n"
      ],
      "metadata": {
        "id": "Cp_U6LzqOEv4"
      }
    },
    {
      "cell_type": "code",
      "source": [
        ""
      ],
      "metadata": {
        "id": "n0hUWYhYdBVK"
      },
      "execution_count": null,
      "outputs": []
    }
  ]
}