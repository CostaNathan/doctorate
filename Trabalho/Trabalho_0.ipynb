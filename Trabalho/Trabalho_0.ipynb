{
  "cells": [
    {
      "cell_type": "markdown",
      "metadata": {
        "colab_type": "text",
        "id": "view-in-github"
      },
      "source": [
        "<a href=\"https://colab.research.google.com/github/CostaNathan/doctorate/blob/Introdu%C3%A7%C3%A3o_Python/Trabalho_0.ipynb\" target=\"_parent\"><img src=\"https://colab.research.google.com/assets/colab-badge.svg\" alt=\"Open In Colab\"/></a>"
      ]
    },
    {
      "cell_type": "code",
      "execution_count": 3,
      "metadata": {
        "colab": {
          "base_uri": "https://localhost:8080/"
        },
        "id": "MM342nPWb4PN",
        "outputId": "65717db6-d0d2-4415-ccbc-82eccbdbfe82"
      },
      "outputs": [
        {
          "name": "stdout",
          "output_type": "stream",
          "text": [
            "1\n",
            "2\n",
            "3\n",
            "4\n",
            "5\n",
            "6\n",
            "7\n",
            "8\n",
            "9\n",
            "10\n",
            "[1, 2, 3, 4, 5, 6, 7, 8, 9, 10]\n"
          ]
        }
      ],
      "source": [
        "# Exercício 1 - Imprima na tela os números de 1 a 10. Use uma lista para armazenar os números.\n",
        "\n",
        "def caixa():\n",
        "\n",
        "  a = []\n",
        "  for i in range (11):\n",
        "    if i > 0:\n",
        "      print(i)\n",
        "      a.append(i)\n",
        "  print(a)\n",
        "\n",
        "caixa()\n",
        "\n"
      ]
    },
    {
      "cell_type": "code",
      "execution_count": 4,
      "metadata": {
        "colab": {
          "base_uri": "https://localhost:8080/"
        },
        "id": "4zWs3WHWeMPy",
        "outputId": "9e804d7f-d85d-4ad5-b044-3a3017f01434"
      },
      "outputs": [
        {
          "name": "stdout",
          "output_type": "stream",
          "text": [
            "[1, 'João', 4.5, 'e', 5]\n"
          ]
        }
      ],
      "source": [
        "# Exercício 2 - Crie uma lista de 5 objetos e imprima na tela\n",
        "\n",
        "def lista_5(a,b,c,d,e):\n",
        "\n",
        "  k = [a, b, c, d, e]\n",
        "  print(k)\n",
        "\n",
        "lista_5(1, 'João', 4.5, 'e', 10-5)\n",
        "\n"
      ]
    },
    {
      "cell_type": "code",
      "execution_count": 6,
      "metadata": {
        "colab": {
          "base_uri": "https://localhost:8080/"
        },
        "id": "Hxnwcas_fuqh",
        "outputId": "5df2c4ea-a5f9-438d-bc7a-3e280da6b88e"
      },
      "outputs": [
        {
          "name": "stdout",
          "output_type": "stream",
          "text": [
            "Julia perdeu a aula\n"
          ]
        }
      ],
      "source": [
        "# Exercício 3 - Crie duas strings e concatene as duas em uma terceira string\n",
        "\n",
        "def concat_str (a, b):\n",
        "  print(a + ' ' + b)\n",
        "\n",
        "concat_str('Julia', 'perdeu a aula')"
      ]
    },
    {
      "cell_type": "code",
      "execution_count": 9,
      "metadata": {
        "colab": {
          "base_uri": "https://localhost:8080/"
        },
        "id": "MDUdpE6Ag4rI",
        "outputId": "38cdee82-0db9-4b49-98b8-d1b44df294ae"
      },
      "outputs": [
        {
          "name": "stdout",
          "output_type": "stream",
          "text": [
            "3\n"
          ]
        }
      ],
      "source": [
        "# Exercício 4 - Crie uma tupla com os seguintes elementos: 1, 2, 2, 3, 4, 4, 4, 5 e depois utilize a função count do \n",
        "# objeto tupla para verificar quantas vezes o número 4 aparece na tupla\n",
        "\n",
        "def tup ():\n",
        "\n",
        "  a = [1, 2, 2, 3, 4, 4, 4, 5]\n",
        "  b = tuple(a)\n",
        "\n",
        "  print(b.count(4))\n",
        "\n",
        "tup()\n"
      ]
    },
    {
      "cell_type": "code",
      "execution_count": 10,
      "metadata": {
        "colab": {
          "base_uri": "https://localhost:8080/"
        },
        "id": "KUEspQAVkCQS",
        "outputId": "64397d34-8fe5-4ef8-89e1-6dc5e5b22db4"
      },
      "outputs": [
        {
          "name": "stdout",
          "output_type": "stream",
          "text": [
            "{}\n"
          ]
        }
      ],
      "source": [
        "# Exercício 5 - Crie um dicionário vazio e imprima na tela\n",
        "\n",
        "def dicionario ():\n",
        "  \n",
        "  a = dict()\n",
        "  print(a)\n",
        "\n",
        "dicionario()"
      ]
    },
    {
      "cell_type": "code",
      "execution_count": 22,
      "metadata": {
        "colab": {
          "base_uri": "https://localhost:8080/"
        },
        "id": "zijafPKVko92",
        "outputId": "3dbdc137-d398-4806-dac4-998122a1e96a"
      },
      "outputs": [
        {
          "name": "stdout",
          "output_type": "stream",
          "text": [
            "{'Nome': 'Jorge', 'Idade': 54, 'Altura': 1.72}\n"
          ]
        }
      ],
      "source": [
        "# Exercício 6 - Crie um dicionário com 3 chaves e 3 valores e imprima na tela\n",
        "\n",
        "def dicionario_iteravel(nome, idade, altura):\n",
        "\n",
        "  k = dict(Nome = [nome], Idade = [idade], Altura = [altura])\n",
        "  print(k)\n",
        "\n",
        "dicionario_iteravel(\"Jorge\", 54, 1.72)"
      ]
    },
    {
      "cell_type": "code",
      "execution_count": 27,
      "metadata": {
        "colab": {
          "base_uri": "https://localhost:8080/"
        },
        "id": "uo7_Tqo0lzOx",
        "outputId": "26e65e28-36f0-4423-925a-a01d61ec10d1"
      },
      "outputs": [
        {
          "data": {
            "text/plain": [
              "{'Nome': 'Jorge', 'Idade': 54, 'Altura': 1.72, 'Ano': 1996}"
            ]
          },
          "execution_count": 27,
          "metadata": {},
          "output_type": "execute_result"
        }
      ],
      "source": [
        "# Exercício 7 - Adicione mais um elemento ao dicionário criado no exercício anterior e imprima na tela\n",
        "\n",
        "k = dict(Nome = \"Jorge\", Idade = 54, Altura = 1.72)\n",
        "k['Ano'] = 1996\n",
        "k\n"
      ]
    },
    {
      "cell_type": "code",
      "execution_count": 25,
      "metadata": {
        "colab": {
          "base_uri": "https://localhost:8080/"
        },
        "id": "FyYdw-uRoZd8",
        "outputId": "a2e9ed5b-7590-4dc6-8667-c0e5897d7858"
      },
      "outputs": [
        {
          "name": "stdout",
          "output_type": "stream",
          "text": [
            "{'Nome': [['Jorge', 'Matheus']], 'Idade': [[54, 32]], 'Altura': [[1.72, 1.8]]}\n"
          ]
        }
      ],
      "source": [
        "# Exercício 8 - Crie um dicionário com 3 chaves e 3 valores. Um dos valores deve ser uma lista de 2 elementos numéricos. \n",
        "# Imprima o dicionário na tela.\n",
        "\n",
        "def dicionario_iteravel(nome, idade, altura):\n",
        "\n",
        "  k = dict(Nome = [nome], Idade = [idade], Altura = [altura])\n",
        "  print(k)\n",
        "\n",
        "dicionario_iteravel([\"Jorge\", 'Matheus'], [54, 32], [1.72, 1.80])"
      ]
    },
    {
      "cell_type": "code",
      "execution_count": 29,
      "metadata": {
        "colab": {
          "base_uri": "https://localhost:8080/"
        },
        "id": "PBLGUVr6ty8x",
        "outputId": "0295d290-1d2c-4a4c-8888-95060076a25e"
      },
      "outputs": [
        {
          "name": "stdout",
          "output_type": "stream",
          "text": [
            "['Paulo', (1, 2), {'Nome': 'Jorge', 'Idade': 54}, 1.5]\n"
          ]
        }
      ],
      "source": [
        "# Exercício 9 - Crie uma lista de 4 elementos. O primeiro elemento deve ser uma string,\n",
        "# o segundo uma tupla de 2 elementos, o terceiro um dcionário com 2 chaves e 2 valores e \n",
        "# o quarto elemento um valor do tipo float.\n",
        "# Imprima a lista na tela.\n",
        "\n",
        "def lista_4_elem (a, b, c, d):\n",
        "\n",
        "  k = [a, b, c, d]\n",
        "  print(k)\n",
        "\n",
        "a = 'Paulo'\n",
        "b = (1,2)\n",
        "c =  dict(Nome = \"Jorge\", Idade = 54)\n",
        "d = 1.5\n",
        "\n",
        "lista_4_elem(a,b,c,d)"
      ]
    },
    {
      "cell_type": "code",
      "execution_count": 7,
      "metadata": {
        "colab": {
          "base_uri": "https://localhost:8080/"
        },
        "id": "aW2EgvazwKpQ",
        "outputId": "61837397-058d-42f7-fc15-716d2941bb46"
      },
      "outputs": [
        {
          "name": "stdout",
          "output_type": "stream",
          "text": [
            "i\n",
            "e\n",
            "n\n",
            "t\n",
            "i\n",
            "s\n",
            "t\n",
            "a\n",
            " \n",
            "d\n",
            "e\n",
            " \n",
            "D\n",
            "a\n",
            "d\n",
            "o\n",
            "s\n",
            " \n"
          ]
        }
      ],
      "source": [
        "# Exercício 10 - Considere a string abaixo. Imprima na tela apenas os caracteres da posição 1 a 18.\n",
        "frase = 'Cientista de Dados é o profissional mais sexy do século XXI'\n",
        "\n",
        "def string (frase):\n",
        "  \n",
        "  for i in range (len(frase)):\n",
        "    if i == 0 or i > 18:\n",
        "      continue\n",
        "    else:\n",
        "      print(frase[i])\n",
        "      \n",
        "string(frase)"
      ]
    },
    {
      "cell_type": "code",
      "execution_count": null,
      "metadata": {
        "id": "ABKrVU1P4byL"
      },
      "outputs": [],
      "source": []
    }
  ],
  "metadata": {
    "colab": {
      "authorship_tag": "ABX9TyNgLfy8quIK/Yeo3xIsYdRn",
      "include_colab_link": true,
      "provenance": []
    },
    "kernelspec": {
      "display_name": "Python 3.9.10 64-bit",
      "language": "python",
      "name": "python3"
    },
    "language_info": {
      "codemirror_mode": {
        "name": "ipython",
        "version": 3
      },
      "file_extension": ".py",
      "mimetype": "text/x-python",
      "name": "python",
      "nbconvert_exporter": "python",
      "pygments_lexer": "ipython3",
      "version": "3.9.10"
    },
    "vscode": {
      "interpreter": {
        "hash": "e6188657b764ebd2e2049ca165f00f1f1826e7e744e1718aa90a1b75ebf0a7c8"
      }
    }
  },
  "nbformat": 4,
  "nbformat_minor": 0
}
