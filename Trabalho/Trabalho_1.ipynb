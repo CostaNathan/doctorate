{
 "cells": [
  {
   "cell_type": "code",
   "execution_count": 16,
   "metadata": {},
   "outputs": [
    {
     "data": {
      "text/plain": [
       "array([0., 0., 0., ..., 0., 0., 0.])"
      ]
     },
     "execution_count": 16,
     "metadata": {},
     "output_type": "execute_result"
    }
   ],
   "source": [
    "# Exercicio 1 - Escreva um programa em Python para encontrar os números que são divisíveis por 7 e múltiplos de 5, entre 1500 e 2700 (ambos incluídos)\n",
    "\n",
    "import numpy as np\n",
    "\n",
    "def div7mult5 ():\n",
    "    \n",
    "    x = np.arange(1500,2701,1)\n",
    "    x_div = np.zeros(len(x))\n",
    "    \n",
    "    for i in range (len(x)):\n",
    "        if x[i] % 7 == 0 and x[i] % 5 == 0:\n",
    "            x_div[i] = x[i]\n",
    "    \n",
    "    return x_div\n",
    "            \n",
    "div7mult5()\n",
    "    \n",
    "    "
   ]
  },
  {
   "cell_type": "code",
   "execution_count": 21,
   "metadata": {},
   "outputs": [
    {
     "name": "stdout",
     "output_type": "stream",
     "text": [
      "As temperaturas em fahrenheit e celsius, respectivamente, são: 89.6 e 32.22222222222222\n"
     ]
    }
   ],
   "source": [
    "# Exercicio 2 - Escreva um programa em Python para converter temperaturas de e para celsius, fahrenheit.\n",
    "\n",
    "def fahrenheit (celsius, fahren):\n",
    "    \n",
    "    F = (9*celsius + (32*5))/5\n",
    "    C = (5*(fahren-32))/9\n",
    "    return print('As temperaturas em fahrenheit e celsius, respectivamente, são: ' + str(F) + ' e ' + str(C))\n",
    "\n",
    "\n",
    "fahrenheit(32,90)"
   ]
  },
  {
   "cell_type": "code",
   "execution_count": null,
   "metadata": {},
   "outputs": [],
   "source": [
    "# Exercicio 3 - Escreva um programa em Python para adivinhar um número entre 1 e 9.\n",
    "\n",
    "# Nota: O usuário é solicitado a inserir uma estimativa. Se o usuário adivinha errado, em seguida, o prompt aparece novamente até que o palpite esteja correto\n",
    "# , no palpite de sucesso, o usuário receberá um \"Bem adivinhado!\" mensagem e o programa será encerrado."
   ]
  }
 ],
 "metadata": {
  "kernelspec": {
   "display_name": "Python 3.9.10 64-bit",
   "language": "python",
   "name": "python3"
  },
  "language_info": {
   "codemirror_mode": {
    "name": "ipython",
    "version": 3
   },
   "file_extension": ".py",
   "mimetype": "text/x-python",
   "name": "python",
   "nbconvert_exporter": "python",
   "pygments_lexer": "ipython3",
   "version": "3.9.10"
  },
  "orig_nbformat": 4,
  "vscode": {
   "interpreter": {
    "hash": "e6188657b764ebd2e2049ca165f00f1f1826e7e744e1718aa90a1b75ebf0a7c8"
   }
  }
 },
 "nbformat": 4,
 "nbformat_minor": 2
}
