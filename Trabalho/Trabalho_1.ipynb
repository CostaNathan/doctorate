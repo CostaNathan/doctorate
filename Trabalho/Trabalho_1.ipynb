{
 "cells": [
  {
   "cell_type": "code",
   "execution_count": 9,
   "metadata": {},
   "outputs": [],
   "source": [
    "import matplotlib.pyplot as plt\n",
    "import numpy as np\n",
    "import random"
   ]
  },
  {
   "cell_type": "code",
   "execution_count": 12,
   "metadata": {},
   "outputs": [
    {
     "name": "stdout",
     "output_type": "stream",
     "text": [
      "1505\n",
      "1540\n",
      "1575\n",
      "1610\n",
      "1645\n",
      "1680\n",
      "1715\n",
      "1750\n",
      "1785\n",
      "1820\n",
      "1855\n",
      "1890\n",
      "1925\n",
      "1960\n",
      "1995\n",
      "2030\n",
      "2065\n",
      "2100\n",
      "2135\n",
      "2170\n",
      "2205\n",
      "2240\n",
      "2275\n",
      "2310\n",
      "2345\n",
      "2380\n",
      "2415\n",
      "2450\n",
      "2485\n",
      "2520\n",
      "2555\n",
      "2590\n",
      "2625\n",
      "2660\n",
      "2695\n"
     ]
    }
   ],
   "source": [
    "# Exercicio 1 - Escreva um programa em Python para encontrar os números que são divisíveis por 7 e múltiplos de 5, entre 1500 e 2700 (ambos incluídos)\n",
    "\n",
    "\n",
    "def div7mult5 ():\n",
    "    \n",
    "    x = np.arange(1500,2701,1)\n",
    "    x_div = np.zeros(len(x))\n",
    "    \n",
    "    for i in range (len(x)):\n",
    "        if x[i] % 7 == 0 and x[i] % 5 == 0:\n",
    "            print(x[i])\n",
    "    \n",
    "div7mult5()\n",
    "    \n",
    "    "
   ]
  },
  {
   "cell_type": "code",
   "execution_count": 21,
   "metadata": {},
   "outputs": [
    {
     "name": "stdout",
     "output_type": "stream",
     "text": [
      "As temperaturas em fahrenheit e celsius, respectivamente, são: 89.6 e 32.22222222222222\n"
     ]
    }
   ],
   "source": [
    "# Exercicio 2 - Escreva um programa em Python para converter temperaturas de e para celsius, fahrenheit.\n",
    "\n",
    "def fahrenheit (celsius, fahren):\n",
    "    \n",
    "    F = (9*celsius + (32*5))/5\n",
    "    C = (5*(fahren-32))/9\n",
    "    return print('As temperaturas em fahrenheit e celsius, respectivamente, são: ' + str(F) + ' e ' + str(C))\n",
    "\n",
    "\n",
    "fahrenheit(32,90)"
   ]
  },
  {
   "cell_type": "code",
   "execution_count": 30,
   "metadata": {},
   "outputs": [
    {
     "name": "stdout",
     "output_type": "stream",
     "text": [
      "Tente de novo\n",
      "Tente de novo\n",
      "Tente de novo\n",
      "Tente de novo\n",
      "Tente de novo\n",
      "Tente de novo\n",
      "Tente de novo\n",
      "Tente de novo\n",
      "Bem adivinhado!\n",
      "O número aleatório foi:  8\n"
     ]
    }
   ],
   "source": [
    "# Exercicio 3 - Escreva um programa em Python para adivinhar um número entre 1 e 9.\n",
    "\n",
    "# Nota: O usuário é solicitado a inserir uma estimativa. Se o usuário adivinha errado, em seguida, o prompt aparece novamente até que o palpite esteja correto\n",
    "# , no palpite de sucesso, o usuário receberá um \"Bem adivinhado!\" mensagem e o programa será encerrado.\n",
    "\n",
    "def guessing_game ():\n",
    "\n",
    "    chute = None\n",
    "    random_num = random.randint(1,9)\n",
    "\n",
    "    while chute != random_num:\n",
    "        chute = input('Especifique um valor de 1 a 9: ')\n",
    "        chute = int(chute)\n",
    "\n",
    "        if chute == random_num:\n",
    "            print('Bem adivinhado!')\n",
    "            break\n",
    "        else: \n",
    "            print(\"Tente de novo\")\n",
    "    print('O número aleatório foi: ', random_num)\n",
    "\n",
    "    \n",
    "\n",
    "guessing_game()"
   ]
  },
  {
   "cell_type": "markdown",
   "metadata": {},
   "source": [
    "##### Escreva um programa em Python para construir o seguinte padrão, usando um loop for aninhado.\n",
    "\n",
    "<img src=\"https://www.dropbox.com/s/g6ifz455pcqr4f2/python-conditional-image-exercise-4.png?dl=1\" width=\"200\">"
   ]
  },
  {
   "cell_type": "code",
   "execution_count": 6,
   "metadata": {},
   "outputs": [
    {
     "name": "stdout",
     "output_type": "stream",
     "text": [
      "\n",
      "*\n",
      "**\n",
      "***\n",
      "****\n",
      "*****\n",
      "****\n",
      "***\n",
      "**\n",
      "*\n"
     ]
    }
   ],
   "source": [
    "# Exercicio 4 - \n",
    "\n",
    "def padrao_for ():\n",
    "    \n",
    "    cont = 10\n",
    "\n",
    "    for i in range (10):\n",
    "        if i < 6:\n",
    "            print(i*'*')\n",
    "        else:\n",
    "            print(cont*'*' )\n",
    "        cont -= 1\n",
    "\n",
    "padrao_for()"
   ]
  },
  {
   "cell_type": "code",
   "execution_count": 7,
   "metadata": {},
   "outputs": [
    {
     "data": {
      "text/plain": [
       "'asac'"
      ]
     },
     "execution_count": 7,
     "metadata": {},
     "output_type": "execute_result"
    }
   ],
   "source": [
    "# Exercício 5 - Escreva um programa em Python que aceite uma palavra do usuário e inverta-a.\n",
    "\n",
    "def palavra_invertida ():\n",
    "\n",
    "    palavra = input('Insira a palavra a ser invertida: ')\n",
    "    palavra_invertida = palavra[::-1]\n",
    "\n",
    "    return palavra_invertida\n",
    "\n",
    "palavra_invertida()\n"
   ]
  },
  {
   "cell_type": "code",
   "execution_count": 12,
   "metadata": {},
   "outputs": [
    {
     "name": "stdout",
     "output_type": "stream",
     "text": [
      "Na série de números propostos 500 são pares e 500 são impares.\n"
     ]
    }
   ],
   "source": [
    "# Exercicio 6 - Escreva um programa em Python para contar o número de números pares e ímpares de uma série de números.\n",
    "\n",
    "serie = np. arange(0,1000, 1)\n",
    "\n",
    "def pares_impares(serie):\n",
    "    cont_par = 0\n",
    "    cont_impar = 0\n",
    "\n",
    "    for i in range(len(serie)):\n",
    "        if serie[i]%2 == 0:\n",
    "            cont_par += 1\n",
    "        else:\n",
    "            cont_impar += 1\n",
    "    \n",
    "    return print('Na série de números propostos ' + str(cont_par) + ' são pares e ' + str(cont_impar) + ' são impares.')\n",
    "\n",
    "pares_impares(serie)"
   ]
  },
  {
   "cell_type": "code",
   "execution_count": 17,
   "metadata": {},
   "outputs": [
    {
     "name": "stdout",
     "output_type": "stream",
     "text": [
      "O elemento na posição 0 é um Int\n",
      "O elemento na posição 1 é um Float\n",
      "O elemento na posição 2 é um Complex\n",
      "O elemento na posição 3 é um Int\n",
      "O elemento na posição 4 é um Str\n",
      "O elemento na posição 5 é uma Tuple\n",
      "O elemento na posição 6 é uma List\n",
      "O elemento na posição 7 é um Dict\n"
     ]
    }
   ],
   "source": [
    "# Exercício 7 - Escreva um programa em Python que imprima cada item e seu tipo correspondente na lista a seguir:\n",
    "\n",
    "from xmlrpc.client import boolean\n",
    "\n",
    "\n",
    "datalist = [1452, 11.23, 1+2j, True, 'w3resource', (0, -1), [5, 12], {\"class\":'V', \"section\":'A'}]\n",
    "# datalist\n",
    "\n",
    "def tipo_elemento (elemento):\n",
    "\n",
    "    for i in range (len(elemento)):\n",
    "\n",
    "        if isinstance(elemento[i], (float)) == True:\n",
    "            print('O elemento na posição ' + str(i) + ' é um Float')\n",
    "        elif  isinstance(elemento[i], (int)) == True: # boolean is a subclass of int, thus it is also considered in this line of code\n",
    "            print('O elemento na posição ' + str(i) + ' é um Int')\n",
    "        elif  isinstance(elemento[i], (str)) == True:\n",
    "            print('O elemento na posição ' + str(i) + ' é um Str')\n",
    "        elif  isinstance(elemento[i], (list)) == True:\n",
    "            print('O elemento na posição ' + str(i) + ' é uma List')\n",
    "        elif  isinstance(elemento[i], (dict)) == True:\n",
    "            print('O elemento na posição ' + str(i) + ' é um Dict')\n",
    "        elif  isinstance(elemento[i], (tuple)) == True:\n",
    "            print('O elemento na posição ' + str(i) + ' é uma Tuple') \n",
    "        elif  isinstance(elemento[i], (complex)) == True:\n",
    "            print('O elemento na posição ' + str(i) + ' é um Complex')\n",
    "\n",
    "tipo_elemento(datalist)           "
   ]
  },
  {
   "cell_type": "code",
   "execution_count": 20,
   "metadata": {},
   "outputs": [
    {
     "name": "stdout",
     "output_type": "stream",
     "text": [
      "0\n",
      "1\n",
      "2\n",
      "4\n",
      "5\n"
     ]
    }
   ],
   "source": [
    "# Exercício 8 - Escreva um programa em Python que imprima todos os números de 0 a 6, exceto 3 e 6. \n",
    "# Nota: Use a instrução 'continue'. Produção esperada: 0 1 2 4 5\n",
    "\n",
    "def numeros ():\n",
    "\n",
    "    numeros = np.arange(0, 7, 1)\n",
    "\n",
    "    for i in range (len(numeros)):\n",
    "        if numeros[i] == 3 or numeros[i] == 6:\n",
    "            continue\n",
    "        else:\n",
    "            print (numeros[i])\n",
    "\n",
    "numeros()"
   ]
  },
  {
   "cell_type": "code",
   "execution_count": 28,
   "metadata": {},
   "outputs": [
    {
     "name": "stdout",
     "output_type": "stream",
     "text": [
      "0.0\n",
      "1.0\n",
      "1.0\n",
      "2.0\n",
      "3.0\n",
      "5.0\n",
      "8.0\n",
      "13.0\n",
      "21.0\n",
      "34.0\n",
      "55.0\n",
      "89.0\n",
      "144.0\n",
      "233.0\n",
      "377.0\n",
      "610.0\n",
      "987.0\n",
      "1597.0\n",
      "2584.0\n",
      "4181.0\n",
      "6765.0\n",
      "10946.0\n",
      "17711.0\n",
      "28657.0\n",
      "46368.0\n",
      "75025.0\n",
      "121393.0\n",
      "196418.0\n",
      "317811.0\n",
      "514229.0\n",
      "832040.0\n",
      "1346269.0\n",
      "2178309.0\n",
      "3524578.0\n",
      "5702887.0\n",
      "9227465.0\n",
      "14930352.0\n",
      "24157817.0\n",
      "39088169.0\n",
      "63245986.0\n",
      "102334155.0\n",
      "165580141.0\n",
      "267914296.0\n",
      "433494437.0\n",
      "701408733.0\n",
      "1134903170.0\n",
      "1836311903.0\n",
      "2971215073.0\n",
      "4807526976.0\n",
      "7778742049.0\n"
     ]
    }
   ],
   "source": [
    "# Exercício 9 - Escreva um programa em Python para obter a série Fibonacci entre 0 e 50.\n",
    "# Nota: A sequência de Fibonacci é a série de números: 0, 1, 1, 2, 3, 5, 8, 13, 21, .... Cada próximo número é encontrado somando os dois números anteriores.\n",
    "# Fn=Fn−1+Fn−2 ; Resultado esperada: 1 1 2 3 5 8 13 21 34\n",
    "\n",
    "def fibonacci ():\n",
    "\n",
    "    serie = np.arange(0,50, 1)\n",
    "    x = np.zeros(len(serie))\n",
    "\n",
    "    for i in range (len(serie)):\n",
    "        if i == 0:\n",
    "            x[i] = serie[i]\n",
    "            \n",
    "        elif i == 1:\n",
    "            x[i] = serie[i]\n",
    "\n",
    "        elif i >= 2:\n",
    "            x[i] = x[i-1] + x[i-2]\n",
    "    \n",
    "    for i in range (len(x)):\n",
    "        print(x[i])\n",
    "\n",
    "fibonacci()   \n",
    "\n"
   ]
  },
  {
   "cell_type": "code",
   "execution_count": null,
   "metadata": {},
   "outputs": [],
   "source": []
  }
 ],
 "metadata": {
  "kernelspec": {
   "display_name": "Python 3.8.10 64-bit",
   "language": "python",
   "name": "python3"
  },
  "language_info": {
   "codemirror_mode": {
    "name": "ipython",
    "version": 3
   },
   "file_extension": ".py",
   "mimetype": "text/x-python",
   "name": "python",
   "nbconvert_exporter": "python",
   "pygments_lexer": "ipython3",
   "version": "3.8.10"
  },
  "orig_nbformat": 4,
  "vscode": {
   "interpreter": {
    "hash": "f544ce1a915a9875fad91c894e2c0bcad4b7a79945aa6027ef3ad27810072aa6"
   }
  }
 },
 "nbformat": 4,
 "nbformat_minor": 2
}
