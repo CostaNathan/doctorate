{
 "cells": [
  {
   "cell_type": "code",
   "execution_count": 9,
   "metadata": {},
   "outputs": [],
   "source": [
    "import matplotlib.pyplot as plt\n",
    "import numpy as np\n",
    "import random"
   ]
  },
  {
   "cell_type": "code",
   "execution_count": 12,
   "metadata": {},
   "outputs": [
    {
     "name": "stdout",
     "output_type": "stream",
     "text": [
      "1505\n",
      "1540\n",
      "1575\n",
      "1610\n",
      "1645\n",
      "1680\n",
      "1715\n",
      "1750\n",
      "1785\n",
      "1820\n",
      "1855\n",
      "1890\n",
      "1925\n",
      "1960\n",
      "1995\n",
      "2030\n",
      "2065\n",
      "2100\n",
      "2135\n",
      "2170\n",
      "2205\n",
      "2240\n",
      "2275\n",
      "2310\n",
      "2345\n",
      "2380\n",
      "2415\n",
      "2450\n",
      "2485\n",
      "2520\n",
      "2555\n",
      "2590\n",
      "2625\n",
      "2660\n",
      "2695\n"
     ]
    }
   ],
   "source": [
    "# Exercicio 1 - Escreva um programa em Python para encontrar os números que são divisíveis por 7 e múltiplos de 5, entre 1500 e 2700 (ambos incluídos)\n",
    "\n",
    "\n",
    "def div7mult5 ():\n",
    "    \n",
    "    x = np.arange(1500,2701,1)\n",
    "    x_div = np.zeros(len(x))\n",
    "    \n",
    "    for i in range (len(x)):\n",
    "        if x[i] % 7 == 0 and x[i] % 5 == 0:\n",
    "            print(x[i])\n",
    "    \n",
    "div7mult5()\n",
    "    \n",
    "    "
   ]
  },
  {
   "cell_type": "code",
   "execution_count": 21,
   "metadata": {},
   "outputs": [
    {
     "name": "stdout",
     "output_type": "stream",
     "text": [
      "As temperaturas em fahrenheit e celsius, respectivamente, são: 89.6 e 32.22222222222222\n"
     ]
    }
   ],
   "source": [
    "# Exercicio 2 - Escreva um programa em Python para converter temperaturas de e para celsius, fahrenheit.\n",
    "\n",
    "def fahrenheit (celsius, fahren):\n",
    "    \n",
    "    F = (9*celsius + (32*5))/5\n",
    "    C = (5*(fahren-32))/9\n",
    "    return print('As temperaturas em fahrenheit e celsius, respectivamente, são: ' + str(F) + ' e ' + str(C))\n",
    "\n",
    "\n",
    "fahrenheit(32,90)"
   ]
  },
  {
   "cell_type": "code",
   "execution_count": 30,
   "metadata": {},
   "outputs": [
    {
     "name": "stdout",
     "output_type": "stream",
     "text": [
      "Tente de novo\n",
      "Tente de novo\n",
      "Tente de novo\n",
      "Tente de novo\n",
      "Tente de novo\n",
      "Tente de novo\n",
      "Tente de novo\n",
      "Tente de novo\n",
      "Bem adivinhado!\n",
      "O número aleatório foi:  8\n"
     ]
    }
   ],
   "source": [
    "# Exercicio 3 - Escreva um programa em Python para adivinhar um número entre 1 e 9.\n",
    "\n",
    "# Nota: O usuário é solicitado a inserir uma estimativa. Se o usuário adivinha errado, em seguida, o prompt aparece novamente até que o palpite esteja correto\n",
    "# , no palpite de sucesso, o usuário receberá um \"Bem adivinhado!\" mensagem e o programa será encerrado.\n",
    "\n",
    "def guessing_game ():\n",
    "\n",
    "    chute = None\n",
    "    random_num = random.randint(1,9)\n",
    "\n",
    "    while chute != random_num:\n",
    "        chute = input('Especifique um valor de 1 a 9: ')\n",
    "        chute = int(chute)\n",
    "\n",
    "        if chute == random_num:\n",
    "            print('Bem adivinhado!')\n",
    "            break\n",
    "        else: \n",
    "            print(\"Tente de novo\")\n",
    "    print('O número aleatório foi: ', random_num)\n",
    "\n",
    "    \n",
    "\n",
    "guessing_game()"
   ]
  },
  {
   "cell_type": "markdown",
   "metadata": {},
   "source": [
    "##### Escreva um programa em Python para construir o seguinte padrão, usando um loop for aninhado.\n",
    "\n",
    "<img src=\"https://www.dropbox.com/s/g6ifz455pcqr4f2/python-conditional-image-exercise-4.png?dl=1\" width=\"200\">"
   ]
  },
  {
   "cell_type": "code",
   "execution_count": 13,
   "metadata": {},
   "outputs": [
    {
     "ename": "SyntaxError",
     "evalue": "invalid syntax (Temp/ipykernel_9856/1900936456.py, line 2)",
     "output_type": "error",
     "traceback": [
      "\u001b[1;36m  File \u001b[1;32m\"C:\\Users\\User\\AppData\\Local\\Temp/ipykernel_9856/1900936456.py\"\u001b[1;36m, line \u001b[1;32m2\u001b[0m\n\u001b[1;33m    <img src=\"https://www.dropbox.com/s/g6ifz455pcqr4f2/python-conditional-image-exercise-4.png?dl=1\" width=\"200\">\u001b[0m\n\u001b[1;37m    ^\u001b[0m\n\u001b[1;31mSyntaxError\u001b[0m\u001b[1;31m:\u001b[0m invalid syntax\n"
     ]
    }
   ],
   "source": [
    "# Exercicio 4 - \n",
    "\n",
    "def padrao_for ():\n",
    "    \n",
    "    "
   ]
  },
  {
   "cell_type": "code",
   "execution_count": null,
   "metadata": {},
   "outputs": [],
   "source": []
  },
  {
   "cell_type": "code",
   "execution_count": null,
   "metadata": {},
   "outputs": [],
   "source": []
  }
 ],
 "metadata": {
  "kernelspec": {
   "display_name": "Python 3.8.10 64-bit",
   "language": "python",
   "name": "python3"
  },
  "language_info": {
   "codemirror_mode": {
    "name": "ipython",
    "version": 3
   },
   "file_extension": ".py",
   "mimetype": "text/x-python",
   "name": "python",
   "nbconvert_exporter": "python",
   "pygments_lexer": "ipython3",
   "version": "3.8.10"
  },
  "orig_nbformat": 4,
  "vscode": {
   "interpreter": {
    "hash": "f544ce1a915a9875fad91c894e2c0bcad4b7a79945aa6027ef3ad27810072aa6"
   }
  }
 },
 "nbformat": 4,
 "nbformat_minor": 2
}
